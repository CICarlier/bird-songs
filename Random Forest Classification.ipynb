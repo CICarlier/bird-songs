{
 "cells": [
  {
   "cell_type": "code",
   "execution_count": 66,
   "metadata": {},
   "outputs": [],
   "source": [
    "# importing the libraries\n",
    "import pandas as pd\n",
    "import numpy as np\n",
    "\n",
    "# for reading and displaying images\n",
    "from skimage.io import imread\n",
    "import matplotlib.pyplot as plt\n",
    "%matplotlib inline\n",
    "\n",
    "# for creating validation set\n",
    "from sklearn.model_selection import train_test_split\n",
    "\n",
    "# for evaluating the model\n",
    "from sklearn.metrics import accuracy_score, f1_score, confusion_matrix, ConfusionMatrixDisplay\n",
    "from tqdm import tqdm"
   ]
  },
  {
   "cell_type": "code",
   "execution_count": 2,
   "metadata": {},
   "outputs": [
    {
     "data": {
      "text/html": [
       "<div>\n",
       "<style scoped>\n",
       "    .dataframe tbody tr th:only-of-type {\n",
       "        vertical-align: middle;\n",
       "    }\n",
       "\n",
       "    .dataframe tbody tr th {\n",
       "        vertical-align: top;\n",
       "    }\n",
       "\n",
       "    .dataframe thead th {\n",
       "        text-align: right;\n",
       "    }\n",
       "</style>\n",
       "<table border=\"1\" class=\"dataframe\">\n",
       "  <thead>\n",
       "    <tr style=\"text-align: right;\">\n",
       "      <th></th>\n",
       "      <th>id</th>\n",
       "      <th>gen</th>\n",
       "      <th>sp</th>\n",
       "      <th>ssp</th>\n",
       "      <th>en</th>\n",
       "      <th>cnt</th>\n",
       "      <th>loc</th>\n",
       "      <th>type</th>\n",
       "      <th>q</th>\n",
       "      <th>length</th>\n",
       "      <th>bird-seen</th>\n",
       "    </tr>\n",
       "  </thead>\n",
       "  <tbody>\n",
       "    <tr>\n",
       "      <th>0</th>\n",
       "      <td>418340</td>\n",
       "      <td>Branta</td>\n",
       "      <td>canadensis</td>\n",
       "      <td>NaN</td>\n",
       "      <td>Canada Goose</td>\n",
       "      <td>United States</td>\n",
       "      <td>Au Sable SF - Big Creek Rd, Michigan</td>\n",
       "      <td>song</td>\n",
       "      <td>A</td>\n",
       "      <td>0:14</td>\n",
       "      <td>yes</td>\n",
       "    </tr>\n",
       "    <tr>\n",
       "      <th>1</th>\n",
       "      <td>417786</td>\n",
       "      <td>Branta</td>\n",
       "      <td>canadensis</td>\n",
       "      <td>NaN</td>\n",
       "      <td>Canada Goose</td>\n",
       "      <td>United States</td>\n",
       "      <td>Drayton Plains Nature Center, Oakland County, ...</td>\n",
       "      <td>Hissing, peeping</td>\n",
       "      <td>A</td>\n",
       "      <td>1:04</td>\n",
       "      <td>unknown</td>\n",
       "    </tr>\n",
       "    <tr>\n",
       "      <th>2</th>\n",
       "      <td>409020</td>\n",
       "      <td>Branta</td>\n",
       "      <td>canadensis</td>\n",
       "      <td>NaN</td>\n",
       "      <td>Canada Goose</td>\n",
       "      <td>United States</td>\n",
       "      <td>Watkins Lake State Park, Jackson County, Michigan</td>\n",
       "      <td>call, flight call</td>\n",
       "      <td>A</td>\n",
       "      <td>0:49</td>\n",
       "      <td>yes</td>\n",
       "    </tr>\n",
       "    <tr>\n",
       "      <th>3</th>\n",
       "      <td>388771</td>\n",
       "      <td>Branta</td>\n",
       "      <td>canadensis</td>\n",
       "      <td>NaN</td>\n",
       "      <td>Canada Goose</td>\n",
       "      <td>United States</td>\n",
       "      <td>Cranberry Lake Park, Oakland County, Michigan</td>\n",
       "      <td>call</td>\n",
       "      <td>B</td>\n",
       "      <td>0:15</td>\n",
       "      <td>no</td>\n",
       "    </tr>\n",
       "    <tr>\n",
       "      <th>4</th>\n",
       "      <td>11837</td>\n",
       "      <td>Branta</td>\n",
       "      <td>canadensis</td>\n",
       "      <td>maxima</td>\n",
       "      <td>Canada Goose</td>\n",
       "      <td>United States</td>\n",
       "      <td>Michigan, Pte. Mouillee SGA</td>\n",
       "      <td>call</td>\n",
       "      <td>B</td>\n",
       "      <td>0:19</td>\n",
       "      <td>unknown</td>\n",
       "    </tr>\n",
       "  </tbody>\n",
       "</table>\n",
       "</div>"
      ],
      "text/plain": [
       "       id     gen          sp     ssp            en            cnt  \\\n",
       "0  418340  Branta  canadensis     NaN  Canada Goose  United States   \n",
       "1  417786  Branta  canadensis     NaN  Canada Goose  United States   \n",
       "2  409020  Branta  canadensis     NaN  Canada Goose  United States   \n",
       "3  388771  Branta  canadensis     NaN  Canada Goose  United States   \n",
       "4   11837  Branta  canadensis  maxima  Canada Goose  United States   \n",
       "\n",
       "                                                 loc               type  q  \\\n",
       "0               Au Sable SF - Big Creek Rd, Michigan               song  A   \n",
       "1  Drayton Plains Nature Center, Oakland County, ...   Hissing, peeping  A   \n",
       "2  Watkins Lake State Park, Jackson County, Michigan  call, flight call  A   \n",
       "3      Cranberry Lake Park, Oakland County, Michigan               call  B   \n",
       "4                        Michigan, Pte. Mouillee SGA               call  B   \n",
       "\n",
       "  length bird-seen  \n",
       "0   0:14       yes  \n",
       "1   1:04   unknown  \n",
       "2   0:49       yes  \n",
       "3   0:15        no  \n",
       "4   0:19   unknown  "
      ]
     },
     "execution_count": 2,
     "metadata": {},
     "output_type": "execute_result"
    }
   ],
   "source": [
    "features = pd.read_csv('features.csv', header=None, encoding='latin')\n",
    "features.columns= ['id', 'gen', 'sp', 'ssp', 'en', 'cnt', 'loc', 'type', 'q', 'length', 'bird-seen']\n",
    "features.head()"
   ]
  },
  {
   "cell_type": "code",
   "execution_count": 3,
   "metadata": {},
   "outputs": [
    {
     "name": "stdout",
     "output_type": "stream",
     "text": [
      "2    37\n",
      "4    30\n",
      "1    29\n",
      "3    27\n",
      "0    17\n",
      "Name: label, dtype: int64\n",
      "\n",
      "0    11\n",
      "4     7\n",
      "1     7\n",
      "3     6\n",
      "2     5\n",
      "Name: label, dtype: int64\n"
     ]
    }
   ],
   "source": [
    "# These are the top species we selected for our analysis\n",
    "selected_species = [\"Kirtland's Warbler\",\n",
    "                    'Common Yellowthroat',\n",
    "                    'Red-winged Blackbird',\n",
    "                    'Grey Catbird',\n",
    "                    'American Redstart']\n",
    "# We only need the id and the labels for our CNN.\n",
    "dataset = features[features.en.isin(selected_species)][['id', 'en']]\n",
    "# Now we need to change our labels into integers as torch does not support string format for labels.\n",
    "labels = {\"Kirtland's Warbler\": 0, 'Common Yellowthroat': 1, 'Red-winged Blackbird': 2, 'Grey Catbird': 3,\n",
    "          'American Redstart': 4}\n",
    "dataset['label'] = dataset.apply(lambda row: labels[row.en], axis=1)\n",
    "dataset.drop('en', axis=1, inplace=True)\n",
    "\n",
    "# Taking 20% of the dataset off for testing\n",
    "train, test = train_test_split(dataset, test_size=0.2)\n",
    "\n",
    "print(train.label.value_counts())\n",
    "print('')\n",
    "print(test.label.value_counts())"
   ]
  },
  {
   "cell_type": "code",
   "execution_count": 28,
   "metadata": {},
   "outputs": [],
   "source": [
    "def load_images(dataset, dimensions='2D', gray=True):\n",
    "    img_df = []\n",
    "    for img_name in tqdm(dataset['id']):\n",
    "        # defining the image path\n",
    "        image_path = 'images/mel_spectrograms_8sec/' + str(img_name) + '.jpg'\n",
    "        # reading the image\n",
    "        img = imread(image_path, as_gray=gray)\n",
    "        # normalizing the pixel values\n",
    "        img /= 255.0\n",
    "        # converting the type of pixel to float 32\n",
    "        img = img.astype('float32')\n",
    "        # appending the image into the list\n",
    "        if dimensions == '1D':\n",
    "            img_df.append(img.flatten())\n",
    "        else:\n",
    "            img_df.append(img)\n",
    "    \n",
    "    # converting the list to numpy array\n",
    "    return np.array(img_df)\n",
    "\n",
    "def visualizing_images(dataset):\n",
    "    # Only works for 2D arrays\n",
    "    i = 0\n",
    "    plt.figure(figsize=(10,10))\n",
    "    plt.subplot(221), plt.imshow(dataset[i], cmap='gray')\n",
    "    plt.subplot(222), plt.imshow(dataset[i+25], cmap='gray')\n",
    "    plt.subplot(223), plt.imshow(dataset[i+50], cmap='gray')\n",
    "    plt.subplot(224), plt.imshow(dataset[i+75], cmap='gray')"
   ]
  },
  {
   "cell_type": "markdown",
   "metadata": {},
   "source": [
    "# Random Forest "
   ]
  },
  {
   "cell_type": "code",
   "execution_count": 26,
   "metadata": {},
   "outputs": [
    {
     "name": "stderr",
     "output_type": "stream",
     "text": [
      "100%|███████████████████████████████████████████████████████████████████████████████| 140/140 [00:01<00:00, 115.42it/s]\n"
     ]
    },
    {
     "data": {
      "text/plain": [
       "(140, 435456)"
      ]
     },
     "execution_count": 26,
     "metadata": {},
     "output_type": "execute_result"
    }
   ],
   "source": [
    "X_train, y_train = load_images(train, dimensions='1D', gray=True), train['label'].values\n",
    "X_train.shape"
   ]
  },
  {
   "cell_type": "code",
   "execution_count": 27,
   "metadata": {},
   "outputs": [
    {
     "name": "stderr",
     "output_type": "stream",
     "text": [
      "100%|█████████████████████████████████████████████████████████████████████████████████| 36/36 [00:00<00:00, 117.65it/s]\n"
     ]
    },
    {
     "data": {
      "text/plain": [
       "(36, 435456)"
      ]
     },
     "execution_count": 27,
     "metadata": {},
     "output_type": "execute_result"
    }
   ],
   "source": [
    "X_test, y_test = load_images(test, dimensions='1D', gray=True), test['label'].values\n",
    "X_test.shape"
   ]
  },
  {
   "cell_type": "code",
   "execution_count": 14,
   "metadata": {},
   "outputs": [
    {
     "data": {
      "text/plain": [
       "(140, 435456)"
      ]
     },
     "execution_count": 14,
     "metadata": {},
     "output_type": "execute_result"
    }
   ],
   "source": [
    "train_x.shape"
   ]
  },
  {
   "cell_type": "code",
   "execution_count": 42,
   "metadata": {},
   "outputs": [],
   "source": [
    "#Import Random Forest Model\n",
    "from sklearn.ensemble import RandomForestClassifier\n",
    "\n",
    "#Create a Gaussian Classifier\n",
    "clf=RandomForestClassifier(n_estimators=100)\n",
    "\n",
    "#Train the model using the training sets y_pred=clf.predict(X_test)\n",
    "clf.fit(X_train,y_train)\n",
    "\n",
    "y_pred=clf.predict(X_test)"
   ]
  },
  {
   "cell_type": "code",
   "execution_count": 43,
   "metadata": {},
   "outputs": [
    {
     "name": "stdout",
     "output_type": "stream",
     "text": [
      "Accuracy: 0.4166666666666667\n"
     ]
    }
   ],
   "source": [
    "#Import scikit-learn metrics module for accuracy calculation\n",
    "from sklearn import metrics\n",
    "# Model Accuracy, how often is the classifier correct?\n",
    "print(\"Accuracy:\",metrics.accuracy_score(y_test, y_pred))"
   ]
  },
  {
   "cell_type": "code",
   "execution_count": 47,
   "metadata": {},
   "outputs": [
    {
     "name": "stdout",
     "output_type": "stream",
     "text": [
      "F1 score:  0.4166666666666667\n",
      "F1 score:  0.4138077565709145\n"
     ]
    }
   ],
   "source": [
    "from sklearn.metrics import f1_score\n",
    "print(\"F1 score: \", f1_score(y_test, y_pred, average='micro'))\n",
    "print(\"F1 score: \", f1_score(y_test, y_pred, average='weighted'))"
   ]
  },
  {
   "cell_type": "code",
   "execution_count": 103,
   "metadata": {},
   "outputs": [
    {
     "data": {
      "text/plain": [
       "<sklearn.metrics._plot.confusion_matrix.ConfusionMatrixDisplay at 0x11bb1d7b5c8>"
      ]
     },
     "execution_count": 103,
     "metadata": {},
     "output_type": "execute_result"
    },
    {
     "data": {
      "image/png": "[encoded data removed]",
      "text/plain": [
       "<Figure size 720x720 with 2 Axes>"
      ]
     },
     "metadata": {
      "needs_background": "light"
     },
     "output_type": "display_data"
    }
   ],
   "source": [
    "from sklearn.metrics import confusion_matrix\n",
    "cm = confusion_matrix(y_test, y_pred)\n",
    "disp = ConfusionMatrixDisplay(cm, display_labels=selected_species)\n",
    "fig, ax = plt.subplots(figsize=(10,10))\n",
    "ax.set_xlabel('Predicted labels')\n",
    "ax.tick_params(axis = \"both\", which = \"both\", bottom = False, left=False)\n",
    "ax.set_ylabel('True labels')\n",
    "ax.set_title('Confusion Matrix')\n",
    "disp.plot(ax=ax, xticks_rotation=45, cmap='magma')"
   ]
  }
 ],
 "metadata": {
  "kernelspec": {
   "display_name": "Python 3",
   "language": "python",
   "name": "python3"
  },
  "language_info": {
   "codemirror_mode": {
    "name": "ipython",
    "version": 3
   },
   "file_extension": ".py",
   "mimetype": "text/x-python",
   "name": "python",
   "nbconvert_exporter": "python",
   "pygments_lexer": "ipython3",
   "version": "3.7.9"
  }
 },
 "nbformat": 4,
 "nbformat_minor": 4
}
