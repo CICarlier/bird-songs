{
 "cells": [
  {
   "cell_type": "code",
   "execution_count": 1,
   "metadata": {},
   "outputs": [],
   "source": [
    "# importing the libraries\n",
    "import pandas as pd\n",
    "import numpy as np\n",
    "\n",
    "# for reading and displaying images\n",
    "from skimage.io import imread\n",
    "import matplotlib.pyplot as plt\n",
    "%matplotlib inline\n",
    "\n",
    "# for creating validation set\n",
    "from sklearn.model_selection import train_test_split\n",
    "\n",
    "# for evaluating the model\n",
    "from sklearn.metrics import accuracy_score, f1_score, confusion_matrix, ConfusionMatrixDisplay\n",
    "from tqdm import tqdm"
   ]
  },
  {
   "cell_type": "code",
   "execution_count": 7,
   "metadata": {},
   "outputs": [
    {
     "data": {
      "text/html": [
       "<div>\n",
       "<style scoped>\n",
       "    .dataframe tbody tr th:only-of-type {\n",
       "        vertical-align: middle;\n",
       "    }\n",
       "\n",
       "    .dataframe tbody tr th {\n",
       "        vertical-align: top;\n",
       "    }\n",
       "\n",
       "    .dataframe thead th {\n",
       "        text-align: right;\n",
       "    }\n",
       "</style>\n",
       "<table border=\"1\" class=\"dataframe\">\n",
       "  <thead>\n",
       "    <tr style=\"text-align: right;\">\n",
       "      <th></th>\n",
       "      <th>id</th>\n",
       "      <th>gen</th>\n",
       "      <th>sp</th>\n",
       "      <th>ssp</th>\n",
       "      <th>en</th>\n",
       "      <th>cnt</th>\n",
       "      <th>loc</th>\n",
       "      <th>type</th>\n",
       "      <th>q</th>\n",
       "      <th>length</th>\n",
       "      <th>bird-seen</th>\n",
       "      <th>file</th>\n",
       "    </tr>\n",
       "  </thead>\n",
       "  <tbody>\n",
       "    <tr>\n",
       "      <th>0</th>\n",
       "      <td>564895</td>\n",
       "      <td>Thryothorus</td>\n",
       "      <td>ludovicianus</td>\n",
       "      <td>NaN</td>\n",
       "      <td>Carolina Wren</td>\n",
       "      <td>United States</td>\n",
       "      <td>Lyons Township (near  Willow Springs), Cook Co...</td>\n",
       "      <td>adult, sex uncertain, song</td>\n",
       "      <td>no score</td>\n",
       "      <td>0:16</td>\n",
       "      <td>no</td>\n",
       "      <td>//www.xeno-canto.org/564895/download</td>\n",
       "    </tr>\n",
       "    <tr>\n",
       "      <th>1</th>\n",
       "      <td>545775</td>\n",
       "      <td>Thryothorus</td>\n",
       "      <td>ludovicianus</td>\n",
       "      <td>NaN</td>\n",
       "      <td>Carolina Wren</td>\n",
       "      <td>United States</td>\n",
       "      <td>Valley Forge National Historical Park, Montgom...</td>\n",
       "      <td>call</td>\n",
       "      <td>no score</td>\n",
       "      <td>0:17</td>\n",
       "      <td>yes</td>\n",
       "      <td>//www.xeno-canto.org/545775/download</td>\n",
       "    </tr>\n",
       "    <tr>\n",
       "      <th>2</th>\n",
       "      <td>540857</td>\n",
       "      <td>Thryothorus</td>\n",
       "      <td>ludovicianus</td>\n",
       "      <td>NaN</td>\n",
       "      <td>Carolina Wren</td>\n",
       "      <td>United States</td>\n",
       "      <td>Slaterville Rd @ Honness (near  Ithaca), Tompk...</td>\n",
       "      <td>song</td>\n",
       "      <td>no score</td>\n",
       "      <td>0:32</td>\n",
       "      <td>unknown</td>\n",
       "      <td>//www.xeno-canto.org/540857/download</td>\n",
       "    </tr>\n",
       "    <tr>\n",
       "      <th>3</th>\n",
       "      <td>540855</td>\n",
       "      <td>Thryothorus</td>\n",
       "      <td>ludovicianus</td>\n",
       "      <td>NaN</td>\n",
       "      <td>Carolina Wren</td>\n",
       "      <td>United States</td>\n",
       "      <td>Slaterville Rd @ Honness (near  Ithaca), Tompk...</td>\n",
       "      <td>song</td>\n",
       "      <td>no score</td>\n",
       "      <td>0:52</td>\n",
       "      <td>unknown</td>\n",
       "      <td>//www.xeno-canto.org/540855/download</td>\n",
       "    </tr>\n",
       "    <tr>\n",
       "      <th>4</th>\n",
       "      <td>539275</td>\n",
       "      <td>Thryothorus</td>\n",
       "      <td>ludovicianus</td>\n",
       "      <td>NaN</td>\n",
       "      <td>Carolina Wren</td>\n",
       "      <td>United States</td>\n",
       "      <td>Upper St. Clair Township (near  Upper Saint Cl...</td>\n",
       "      <td>call, song</td>\n",
       "      <td>no score</td>\n",
       "      <td>1:12</td>\n",
       "      <td>yes</td>\n",
       "      <td>//www.xeno-canto.org/539275/download</td>\n",
       "    </tr>\n",
       "  </tbody>\n",
       "</table>\n",
       "</div>"
      ],
      "text/plain": [
       "       id          gen            sp  ssp             en            cnt  \\\n",
       "0  564895  Thryothorus  ludovicianus  NaN  Carolina Wren  United States   \n",
       "1  545775  Thryothorus  ludovicianus  NaN  Carolina Wren  United States   \n",
       "2  540857  Thryothorus  ludovicianus  NaN  Carolina Wren  United States   \n",
       "3  540855  Thryothorus  ludovicianus  NaN  Carolina Wren  United States   \n",
       "4  539275  Thryothorus  ludovicianus  NaN  Carolina Wren  United States   \n",
       "\n",
       "                                                 loc  \\\n",
       "0  Lyons Township (near  Willow Springs), Cook Co...   \n",
       "1  Valley Forge National Historical Park, Montgom...   \n",
       "2  Slaterville Rd @ Honness (near  Ithaca), Tompk...   \n",
       "3  Slaterville Rd @ Honness (near  Ithaca), Tompk...   \n",
       "4  Upper St. Clair Township (near  Upper Saint Cl...   \n",
       "\n",
       "                         type         q length bird-seen  \\\n",
       "0  adult, sex uncertain, song  no score   0:16        no   \n",
       "1                        call  no score   0:17       yes   \n",
       "2                        song  no score   0:32   unknown   \n",
       "3                        song  no score   0:52   unknown   \n",
       "4                  call, song  no score   1:12       yes   \n",
       "\n",
       "                                   file  \n",
       "0  //www.xeno-canto.org/564895/download  \n",
       "1  //www.xeno-canto.org/545775/download  \n",
       "2  //www.xeno-canto.org/540857/download  \n",
       "3  //www.xeno-canto.org/540855/download  \n",
       "4  //www.xeno-canto.org/539275/download  "
      ]
     },
     "execution_count": 7,
     "metadata": {},
     "output_type": "execute_result"
    }
   ],
   "source": [
    "features = pd.read_csv('features_filtered.csv', encoding='latin')\n",
    "features.head()"
   ]
  },
  {
   "cell_type": "code",
   "execution_count": 8,
   "metadata": {},
   "outputs": [
    {
     "name": "stdout",
     "output_type": "stream",
     "text": [
      "5    394\n",
      "2    348\n",
      "0    336\n",
      "4    321\n",
      "3    320\n",
      "1    293\n",
      "Name: label, dtype: int64\n",
      "\n",
      "5    112\n",
      "0    100\n",
      "2     86\n",
      "3     82\n",
      "4     63\n",
      "1     61\n",
      "Name: label, dtype: int64\n"
     ]
    }
   ],
   "source": [
    "# These are the top species we selected for our analysis\n",
    "selected_species = ['Red-winged Blackbird', \n",
    "                    'Common Yellowthroat', \n",
    "                    'Northern Cardinal', \n",
    "                    'Carolina Wren', \n",
    "                    'Red Crossbill', \n",
    "                    'Spotted Towhee']\n",
    "# We only need the id and the labels for our CNN.\n",
    "dataset = features[features.en.isin(selected_species)][['id', 'en']]\n",
    "# Now we need to change our labels into integers as torch does not support string format for labels.\n",
    "labels = {\"Red-winged Blackbird\": 0, 'Common Yellowthroat': 1, 'Northern Cardinal': 2, 'Carolina Wren': 3,\n",
    "          'Red Crossbill': 4, 'Spotted Towhee': 5}\n",
    "dataset['label'] = dataset.apply(lambda row: labels[row.en], axis=1)\n",
    "dataset.drop('en', axis=1, inplace=True)\n",
    "\n",
    "# Taking 20% of the dataset off for testing\n",
    "train, test = train_test_split(dataset, test_size=0.2)\n",
    "\n",
    "print(train.label.value_counts())\n",
    "print('')\n",
    "print(test.label.value_counts())"
   ]
  },
  {
   "cell_type": "code",
   "execution_count": 9,
   "metadata": {},
   "outputs": [],
   "source": [
    "def load_images(dataset, dimensions='2D', gray=True):\n",
    "    img_df = []\n",
    "    for img_name in tqdm(dataset['id']):\n",
    "        # defining the image path\n",
    "        image_path = 'images/mel_spectrograms_8sec/' + str(img_name) + '.jpg'\n",
    "        # reading the image\n",
    "        img = imread(image_path, as_gray=gray)\n",
    "        # normalizing the pixel values\n",
    "        img /= 255.0\n",
    "        # converting the type of pixel to float 32\n",
    "        img = img.astype('float32')\n",
    "        # appending the image into the list\n",
    "        if dimensions == '1D':\n",
    "            img_df.append(img.flatten())\n",
    "        else:\n",
    "            img_df.append(img)\n",
    "    \n",
    "    # converting the list to numpy array\n",
    "    return np.array(img_df)\n",
    "\n",
    "def visualizing_images(dataset):\n",
    "    # Only works for 2D arrays\n",
    "    i = 0\n",
    "    plt.figure(figsize=(10,10))\n",
    "    plt.subplot(221), plt.imshow(dataset[i], cmap='gray')\n",
    "    plt.subplot(222), plt.imshow(dataset[i+25], cmap='gray')\n",
    "    plt.subplot(223), plt.imshow(dataset[i+50], cmap='gray')\n",
    "    plt.subplot(224), plt.imshow(dataset[i+75], cmap='gray')"
   ]
  },
  {
   "cell_type": "markdown",
   "metadata": {},
   "source": [
    "# Random Forest "
   ]
  },
  {
   "cell_type": "code",
   "execution_count": 10,
   "metadata": {},
   "outputs": [
    {
     "name": "stderr",
     "output_type": "stream",
     "text": [
      "100%|█████████████████████████████████████████████████████████████████████████████| 2012/2012 [00:17<00:00, 115.92it/s]\n"
     ]
    },
    {
     "data": {
      "text/plain": [
       "(2012, 435456)"
      ]
     },
     "execution_count": 10,
     "metadata": {},
     "output_type": "execute_result"
    }
   ],
   "source": [
    "X_train, y_train = load_images(train, dimensions='1D', gray=True), train['label'].values\n",
    "X_train.shape"
   ]
  },
  {
   "cell_type": "code",
   "execution_count": 11,
   "metadata": {},
   "outputs": [
    {
     "name": "stderr",
     "output_type": "stream",
     "text": [
      "100%|███████████████████████████████████████████████████████████████████████████████| 504/504 [00:04<00:00, 116.68it/s]\n"
     ]
    },
    {
     "data": {
      "text/plain": [
       "(504, 435456)"
      ]
     },
     "execution_count": 11,
     "metadata": {},
     "output_type": "execute_result"
    }
   ],
   "source": [
    "X_test, y_test = load_images(test, dimensions='1D', gray=True), test['label'].values\n",
    "X_test.shape"
   ]
  },
  {
   "cell_type": "code",
   "execution_count": 13,
   "metadata": {},
   "outputs": [
    {
     "data": {
      "text/plain": [
       "(2012, 435456)"
      ]
     },
     "execution_count": 13,
     "metadata": {},
     "output_type": "execute_result"
    }
   ],
   "source": [
    "X_train.shape"
   ]
  },
  {
   "cell_type": "code",
   "execution_count": 14,
   "metadata": {},
   "outputs": [],
   "source": [
    "#Import Random Forest Model\n",
    "from sklearn.ensemble import RandomForestClassifier\n",
    "\n",
    "#Create a Random Forest Classifier\n",
    "clf=RandomForestClassifier(n_estimators=100)\n",
    "\n",
    "#Train the model using the training sets y_pred=clf.predict(X_test)\n",
    "clf.fit(X_train,y_train)\n",
    "\n",
    "y_pred=clf.predict(X_test)"
   ]
  },
  {
   "cell_type": "code",
   "execution_count": 15,
   "metadata": {},
   "outputs": [
    {
     "name": "stdout",
     "output_type": "stream",
     "text": [
      "Accuracy: 0.47619047619047616\n"
     ]
    }
   ],
   "source": [
    "#Import scikit-learn metrics module for accuracy calculation\n",
    "from sklearn import metrics\n",
    "# Model Accuracy, how often is the classifier correct?\n",
    "print(\"Accuracy:\",metrics.accuracy_score(y_test, y_pred))"
   ]
  },
  {
   "cell_type": "code",
   "execution_count": 16,
   "metadata": {},
   "outputs": [
    {
     "name": "stdout",
     "output_type": "stream",
     "text": [
      "F1 score:  0.47619047619047616\n",
      "F1 score:  0.4699259512263259\n"
     ]
    }
   ],
   "source": [
    "from sklearn.metrics import f1_score\n",
    "print(\"F1 score: \", f1_score(y_test, y_pred, average='micro'))\n",
    "print(\"F1 score: \", f1_score(y_test, y_pred, average='weighted'))"
   ]
  },
  {
   "cell_type": "code",
   "execution_count": 17,
   "metadata": {},
   "outputs": [
    {
     "data": {
      "text/plain": [
       "<sklearn.metrics._plot.confusion_matrix.ConfusionMatrixDisplay at 0x28b80327148>"
      ]
     },
     "execution_count": 17,
     "metadata": {},
     "output_type": "execute_result"
    },
    {
     "data": {
      "image/png": "[encoded data removed]",
      "text/plain": [
       "<Figure size 720x720 with 2 Axes>"
      ]
     },
     "metadata": {
      "needs_background": "light"
     },
     "output_type": "display_data"
    }
   ],
   "source": [
    "from sklearn.metrics import confusion_matrix\n",
    "cm = confusion_matrix(y_test, y_pred)\n",
    "disp = ConfusionMatrixDisplay(cm, display_labels=selected_species)\n",
    "fig, ax = plt.subplots(figsize=(10,10))\n",
    "ax.set_xlabel('Predicted labels')\n",
    "ax.tick_params(axis = \"both\", which = \"both\", bottom = False, left=False)\n",
    "ax.set_ylabel('True labels')\n",
    "ax.set_title('Confusion Matrix')\n",
    "disp.plot(ax=ax, xticks_rotation=45, cmap='magma')"
   ]
  }
 ],
 "metadata": {
  "kernelspec": {
   "display_name": "Python 3",
   "language": "python",
   "name": "python3"
  },
  "language_info": {
   "codemirror_mode": {
    "name": "ipython",
    "version": 3
   },
   "file_extension": ".py",
   "mimetype": "text/x-python",
   "name": "python",
   "nbconvert_exporter": "python",
   "pygments_lexer": "ipython3",
   "version": "3.7.9"
  }
 },
 "nbformat": 4,
 "nbformat_minor": 4
}
