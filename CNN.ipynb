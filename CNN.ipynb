{
  "nbformat": 4,
  "nbformat_minor": 0,
  "metadata": {
    "kernelspec": {
      "display_name": "Python 3",
      "language": "python",
      "name": "python3"
    },
    "language_info": {
      "codemirror_mode": {
        "name": "ipython",
        "version": 3
      },
      "file_extension": ".py",
      "mimetype": "text/x-python",
      "name": "python",
      "nbconvert_exporter": "python",
      "pygments_lexer": "ipython3",
      "version": "3.7.9"
    },
    "colab": {
      "name": "CNN.ipynb",
      "provenance": [],
      "collapsed_sections": [
        "R9kLyX5bcgKx"
      ]
    },
    "accelerator": "GPU"
  },
  "cells": [
    {
      "cell_type": "markdown",
      "metadata": {
        "id": "cxIFJRqdcgKp"
      },
      "source": [
        "# CNN Classification of Mel Spectrograms\n",
        "\n",
        "Tried and follow\n",
        "https://www.analyticsvidhya.com/blog/2019/10/building-image-classification-models-cnn-pytorch/"
      ]
    },
    {
      "cell_type": "code",
      "metadata": {
        "colab": {
          "base_uri": "https://localhost:8080/"
        },
        "id": "j82LYP7cchTT",
        "outputId": "7623c946-3ef3-4ec5-a26f-db3759b1b4a3"
      },
      "source": [
        "# For Colab only\n",
        "# 4/1AY0e-g6CTocvBK45PWlJu2ycBuOMTgu36b-VZgpnCXitW_Vy3ckpGGBzur8\n",
        "from google.colab import drive\n",
        "drive.mount('content/')\n",
        "# /content/drive/MyDrive/bird-songs"
      ],
      "execution_count": 1,
      "outputs": [
        {
          "output_type": "stream",
          "text": [
            "Drive already mounted at content/; to attempt to forcibly remount, call drive.mount(\"content/\", force_remount=True).\n"
          ],
          "name": "stdout"
        }
      ]
    },
    {
      "cell_type": "markdown",
      "metadata": {
        "id": "M5mJj0D7cgKr"
      },
      "source": [
        "## Training a model"
      ]
    },
    {
      "cell_type": "code",
      "metadata": {
        "id": "-q2q6CHhcgKr"
      },
      "source": [
        "# importing the libraries\n",
        "import pandas as pd\n",
        "import numpy as np\n",
        "\n",
        "# for reading and displaying images\n",
        "from skimage.io import imread\n",
        "import matplotlib.pyplot as plt\n",
        "%matplotlib inline\n",
        "import os.path\n",
        "\n",
        "# for creating validation set\n",
        "from sklearn.model_selection import train_test_split\n",
        "\n",
        "# for evaluating the model\n",
        "from sklearn.metrics import accuracy_score\n",
        "from tqdm import tqdm\n",
        "\n",
        "# PyTorch libraries and modules\n",
        "import torch\n",
        "from torch.autograd import Variable\n",
        "import torch.nn as nn\n",
        "import torch.nn.functional as F\n",
        "# from torch.nn import init\n",
        "# from torch.nn import Linear, ReLU, CrossEntropyLoss, Sequential, Conv2d, MaxPool2d, Module, Softmax, BatchNorm2d, Dropout, functional\n",
        "from torch.optim import Adam"
      ],
      "execution_count": 2,
      "outputs": []
    },
    {
      "cell_type": "code",
      "metadata": {
        "colab": {
          "base_uri": "https://localhost:8080/",
          "height": 306
        },
        "id": "lwnNAY8_cgKs",
        "outputId": "fc895629-4f04-4631-b5e1-749d30793e9a"
      },
      "source": [
        "# Check whether google drive mounted\n",
        "path = '/content/content/MyDrive/bird-songs'\n",
        "if os.path.isdir(path) == True:\n",
        "    run_on_colab = True\n",
        "else:\n",
        "    run_on_colab = False\n",
        "\n",
        "\n",
        "if run_on_colab ==True:\n",
        "    features = pd.read_csv('/content/content/MyDrive/bird-songs/features.csv', header=None, encoding='latin')\n",
        "else:\n",
        "    features = pd.read_csv('features.csv', header=None, encoding='latin')\n",
        "features.columns= ['id', 'gen', 'sp', 'ssp', 'en', 'cnt', 'loc','type', 'q', 'length', 'bird-seen']\n",
        "features.head()"
      ],
      "execution_count": 3,
      "outputs": [
        {
          "output_type": "execute_result",
          "data": {
            "text/html": [
              "<div>\n",
              "<style scoped>\n",
              "    .dataframe tbody tr th:only-of-type {\n",
              "        vertical-align: middle;\n",
              "    }\n",
              "\n",
              "    .dataframe tbody tr th {\n",
              "        vertical-align: top;\n",
              "    }\n",
              "\n",
              "    .dataframe thead th {\n",
              "        text-align: right;\n",
              "    }\n",
              "</style>\n",
              "<table border=\"1\" class=\"dataframe\">\n",
              "  <thead>\n",
              "    <tr style=\"text-align: right;\">\n",
              "      <th></th>\n",
              "      <th>id</th>\n",
              "      <th>gen</th>\n",
              "      <th>sp</th>\n",
              "      <th>ssp</th>\n",
              "      <th>en</th>\n",
              "      <th>cnt</th>\n",
              "      <th>loc</th>\n",
              "      <th>type</th>\n",
              "      <th>q</th>\n",
              "      <th>length</th>\n",
              "      <th>bird-seen</th>\n",
              "    </tr>\n",
              "  </thead>\n",
              "  <tbody>\n",
              "    <tr>\n",
              "      <th>0</th>\n",
              "      <td>418340</td>\n",
              "      <td>Branta</td>\n",
              "      <td>canadensis</td>\n",
              "      <td>NaN</td>\n",
              "      <td>Canada Goose</td>\n",
              "      <td>United States</td>\n",
              "      <td>Au Sable SF - Big Creek Rd, Michigan</td>\n",
              "      <td>song</td>\n",
              "      <td>A</td>\n",
              "      <td>0:14</td>\n",
              "      <td>yes</td>\n",
              "    </tr>\n",
              "    <tr>\n",
              "      <th>1</th>\n",
              "      <td>417786</td>\n",
              "      <td>Branta</td>\n",
              "      <td>canadensis</td>\n",
              "      <td>NaN</td>\n",
              "      <td>Canada Goose</td>\n",
              "      <td>United States</td>\n",
              "      <td>Drayton Plains Nature Center, Oakland County, ...</td>\n",
              "      <td>Hissing, peeping</td>\n",
              "      <td>A</td>\n",
              "      <td>1:04</td>\n",
              "      <td>unknown</td>\n",
              "    </tr>\n",
              "    <tr>\n",
              "      <th>2</th>\n",
              "      <td>409020</td>\n",
              "      <td>Branta</td>\n",
              "      <td>canadensis</td>\n",
              "      <td>NaN</td>\n",
              "      <td>Canada Goose</td>\n",
              "      <td>United States</td>\n",
              "      <td>Watkins Lake State Park, Jackson County, Michigan</td>\n",
              "      <td>call, flight call</td>\n",
              "      <td>A</td>\n",
              "      <td>0:49</td>\n",
              "      <td>yes</td>\n",
              "    </tr>\n",
              "    <tr>\n",
              "      <th>3</th>\n",
              "      <td>388771</td>\n",
              "      <td>Branta</td>\n",
              "      <td>canadensis</td>\n",
              "      <td>NaN</td>\n",
              "      <td>Canada Goose</td>\n",
              "      <td>United States</td>\n",
              "      <td>Cranberry Lake Park, Oakland County, Michigan</td>\n",
              "      <td>call</td>\n",
              "      <td>B</td>\n",
              "      <td>0:15</td>\n",
              "      <td>no</td>\n",
              "    </tr>\n",
              "    <tr>\n",
              "      <th>4</th>\n",
              "      <td>11837</td>\n",
              "      <td>Branta</td>\n",
              "      <td>canadensis</td>\n",
              "      <td>maxima</td>\n",
              "      <td>Canada Goose</td>\n",
              "      <td>United States</td>\n",
              "      <td>Michigan, Pte. Mouillee SGA</td>\n",
              "      <td>call</td>\n",
              "      <td>B</td>\n",
              "      <td>0:19</td>\n",
              "      <td>unknown</td>\n",
              "    </tr>\n",
              "  </tbody>\n",
              "</table>\n",
              "</div>"
            ],
            "text/plain": [
              "       id     gen          sp     ssp  ...               type  q length bird-seen\n",
              "0  418340  Branta  canadensis     NaN  ...               song  A   0:14       yes\n",
              "1  417786  Branta  canadensis     NaN  ...   Hissing, peeping  A   1:04   unknown\n",
              "2  409020  Branta  canadensis     NaN  ...  call, flight call  A   0:49       yes\n",
              "3  388771  Branta  canadensis     NaN  ...               call  B   0:15        no\n",
              "4   11837  Branta  canadensis  maxima  ...               call  B   0:19   unknown\n",
              "\n",
              "[5 rows x 11 columns]"
            ]
          },
          "metadata": {
            "tags": []
          },
          "execution_count": 3
        }
      ]
    },
    {
      "cell_type": "code",
      "metadata": {
        "colab": {
          "base_uri": "https://localhost:8080/"
        },
        "id": "giCNt5XlcgKs",
        "outputId": "21999f30-3aae-4fe4-acee-bf17eddb4974"
      },
      "source": [
        "# These are the top species we selected for our analysis\n",
        "selected_species = [\"Kirtland's Warbler\",\n",
        "                    'Common Yellowthroat',\n",
        "                    'Red-winged Blackbird',\n",
        "                    'Grey Catbird',\n",
        "                    'American Redstart']\n",
        "# We only need the id and the labels for our CNN.\n",
        "dataset = features[features.en.isin(selected_species)][['id', 'en']]\n",
        "# Now we need to change our labels into integers as torch does not support string format for labels.\n",
        "labels = {\"Kirtland's Warbler\": 0, 'Common Yellowthroat': 1, 'Red-winged Blackbird': 2, 'Grey Catbird': 3,\n",
        "          'American Redstart': 4}\n",
        "dataset['label'] = dataset.apply(lambda row: labels[row.en], axis=1)\n",
        "dataset.drop('en', axis=1, inplace=True)\n",
        "\n",
        "# Taking 20% of the dataset off for testing\n",
        "train, test = train_test_split(dataset, test_size=0.2)\n",
        "\n",
        "print(train.label.value_counts())\n",
        "print('')\n",
        "print(test.label.value_counts())"
      ],
      "execution_count": 4,
      "outputs": [
        {
          "output_type": "stream",
          "text": [
            "2    35\n",
            "4    31\n",
            "3    28\n",
            "1    27\n",
            "0    19\n",
            "Name: label, dtype: int64\n",
            "\n",
            "1    9\n",
            "0    9\n",
            "2    7\n",
            "4    6\n",
            "3    5\n",
            "Name: label, dtype: int64\n"
          ],
          "name": "stdout"
        }
      ]
    },
    {
      "cell_type": "code",
      "metadata": {
        "colab": {
          "base_uri": "https://localhost:8080/"
        },
        "id": "YUfIoWbgcgKt",
        "outputId": "947cb6ee-f2cd-4b09-fb72-3dd4d161c079"
      },
      "source": [
        "# loading training images\n",
        "train_img = []\n",
        "maxmin=[]\n",
        "for img_name in tqdm(train['id']):\n",
        "    # defining the image path\n",
        "    if run_on_colab == True:\n",
        "        image_path = '/content/content/MyDrive/bird-songs/images/mel_spectrograms_8sec/' + str(img_name) + '.jpg' \n",
        "    else:\n",
        "        image_path = 'images/mel_spectrograms_8sec/' + str(img_name) + '.jpg'\n",
        "    # reading the image\n",
        "    img = imread(image_path, as_gray=True)\n",
        "    \n",
        "    # normalizing the pixel values\n",
        "    # img /= 255.0\n",
        "    img = 2 * img - 1\n",
        "    # converting the type of pixel to float 32\n",
        "    img = img.astype('float32')\n",
        "    # appending the image into the list\n",
        "    train_img.append(img)\n",
        "    maxmin.append((np.max(img), np.min(img)))\n",
        "    \n",
        "\n",
        "# converting the list to numpy array\n",
        "train_x = np.array(train_img)\n",
        "# defining the target\n",
        "train_y = train['label'].values\n",
        "train_x.shape"
      ],
      "execution_count": 5,
      "outputs": [
        {
          "output_type": "stream",
          "text": [
            "100%|██████████| 140/140 [00:01<00:00, 72.95it/s]\n"
          ],
          "name": "stderr"
        },
        {
          "output_type": "execute_result",
          "data": {
            "text/plain": [
              "(140, 432, 1008)"
            ]
          },
          "metadata": {
            "tags": []
          },
          "execution_count": 5
        }
      ]
    },
    {
      "cell_type": "code",
      "metadata": {
        "colab": {
          "base_uri": "https://localhost:8080/"
        },
        "id": "wLBaihxicgKu",
        "outputId": "f9a4712a-2f57-44ba-e2d4-8c569606ab55"
      },
      "source": [
        "# loading training images\n",
        "test_img = []\n",
        "for img_name in tqdm(test['id']):\n",
        "    # defining the image path\n",
        "    if run_on_colab == True:\n",
        "        image_path = '/content/content/MyDrive/bird-songs/images/mel_spectrograms_8sec/' + str(img_name) + '.jpg'\n",
        "    else:\n",
        "        image_path = 'images/mel_spectrograms_8sec/' + str(img_name) + '.jpg'\n",
        "    # reading the image\n",
        "    img = imread(image_path, as_gray=True)\n",
        "    # normalizing the pixel values\n",
        "    # img /= 255.0\n",
        "    img = 2 * img - 1\n",
        "    # converting the type of pixel to float 32\n",
        "    img = img.astype('float32')\n",
        "    # appending the image into the list\n",
        "    test_img.append(img)\n",
        "\n",
        "# converting the list to numpy array\n",
        "test_x = np.array(test_img)\n",
        "# defining the target\n",
        "test_y = test['label'].values\n",
        "test_x.shape"
      ],
      "execution_count": 6,
      "outputs": [
        {
          "output_type": "stream",
          "text": [
            "100%|██████████| 36/36 [00:00<00:00, 75.38it/s]\n"
          ],
          "name": "stderr"
        },
        {
          "output_type": "execute_result",
          "data": {
            "text/plain": [
              "(36, 432, 1008)"
            ]
          },
          "metadata": {
            "tags": []
          },
          "execution_count": 6
        }
      ]
    },
    {
      "cell_type": "code",
      "metadata": {
        "id": "xEUUmhZPOIur"
      },
      "source": [
        "# for row in train_x[49]:\n",
        "#     print(np.min(row))\n"
      ],
      "execution_count": 7,
      "outputs": []
    },
    {
      "cell_type": "code",
      "metadata": {
        "colab": {
          "base_uri": "https://localhost:8080/",
          "height": 491
        },
        "id": "ceeQIO7RcgKu",
        "outputId": "d8258aa3-3541-40b4-8cae-cca069eeb2d5"
      },
      "source": [
        "# visualizing images\n",
        "i = 0\n",
        "plt.figure(figsize=(10,10))\n",
        "plt.subplot(221), plt.imshow(train_x[i], cmap='gray')\n",
        "plt.subplot(222), plt.imshow(train_x[i+25], cmap='gray')\n",
        "plt.subplot(223), plt.imshow(train_x[i+50], cmap='gray')\n",
        "plt.subplot(224), plt.imshow(train_x[i+75], cmap='gray')"
      ],
      "execution_count": 8,
      "outputs": [
        {
          "output_type": "execute_result",
          "data": {
            "text/plain": [
              "(<matplotlib.axes._subplots.AxesSubplot at 0x7f488003ead0>,\n",
              " <matplotlib.image.AxesImage at 0x7f487ffb4f90>)"
            ]
          },
          "metadata": {
            "tags": []
          },
          "execution_count": 8
        },
        {
          "output_type": "display_data",
          "data": {
            "image/png": "[encoded data removed]",
            "text/plain": [
              "<Figure size 720x720 with 4 Axes>"
            ]
          },
          "metadata": {
            "tags": [],
            "needs_background": "light"
          }
        }
      ]
    },
    {
      "cell_type": "markdown",
      "metadata": {
        "id": "PgYLkum8mtkc"
      },
      "source": [
        "## CNN"
      ]
    },
    {
      "cell_type": "code",
      "metadata": {
        "id": "sAYtJXtKmuGc"
      },
      "source": [
        "device = torch.device(\"cuda:0\" if torch.cuda.is_available() else \"cpu\")"
      ],
      "execution_count": 82,
      "outputs": []
    },
    {
      "cell_type": "code",
      "metadata": {
        "colab": {
          "base_uri": "https://localhost:8080/"
        },
        "id": "kOnoh5c7cgKv",
        "outputId": "feb6f1c2-1c7b-468f-e39d-8976be63beb6"
      },
      "source": [
        "train_x[0].reshape(-1, 1).shape\n",
        "np.expand_dims(train_x[0], axis=0).shape"
      ],
      "execution_count": 83,
      "outputs": [
        {
          "output_type": "execute_result",
          "data": {
            "text/plain": [
              "(1, 432, 1008)"
            ]
          },
          "metadata": {
            "tags": []
          },
          "execution_count": 83
        }
      ]
    },
    {
      "cell_type": "code",
      "metadata": {
        "id": "zqtJ_AXNcgKv"
      },
      "source": [
        "train_data = []\n",
        "for i in range(len(train_x)):\n",
        "    train_data.append([np.expand_dims(train_x[i], axis=0), train_y[i]]) #Conv2d layers expect input with the shape (n_samples, channels, height, width)\n",
        "\n",
        "test_data = []\n",
        "for i in range(len(test_x)):\n",
        "    test_data.append([np.expand_dims(test_x[i], axis=0), test_y[i]])"
      ],
      "execution_count": 84,
      "outputs": []
    },
    {
      "cell_type": "code",
      "metadata": {
        "id": "IqJguy_gcgKv"
      },
      "source": [
        "batch_size=50\n",
        "train_dl = torch.utils.data.DataLoader(train_data, batch_size=batch_size, shuffle=True)\n",
        "test_dl = torch.utils.data.DataLoader(test_data, batch_size=batch_size, shuffle=True)"
      ],
      "execution_count": 85,
      "outputs": []
    },
    {
      "cell_type": "code",
      "metadata": {
        "colab": {
          "base_uri": "https://localhost:8080/"
        },
        "id": "QPoOs-9coNvj",
        "outputId": "b269fe31-e9e4-41e4-b56e-0b70d0958ffd"
      },
      "source": [
        "dataiter = iter(train_dl)\n",
        "images, labels = dataiter.next()\n",
        "\n",
        "print (images[0].shape)"
      ],
      "execution_count": 86,
      "outputs": [
        {
          "output_type": "stream",
          "text": [
            "torch.Size([1, 432, 1008])\n"
          ],
          "name": "stdout"
        }
      ]
    },
    {
      "cell_type": "code",
      "metadata": {
        "id": "wIQd8-oRpYlL"
      },
      "source": [
        "# simple_model = nn.Sequential(\n",
        "#     nn.Conv2d(1, 16, kernel_size=5, stride=2, padding=2),\n",
        "#     nn.ReLU(),\n",
        "#     nn.MaxPool2d(2),\n",
        "#     nn.Conv2d(16, 32, kernel_size=5, stride=2, padding=2),\n",
        "#     nn.ReLU(),\n",
        "#     nn.MaxPool2d(2),\n",
        "\n",
        "#     nn.Conv2d(32, 64, kernel_size=3, stride=1, padding=1),\n",
        "#     nn.ReLU(),\n",
        "#     nn.MaxPool2d(2),\n",
        "#     nn.Conv2d(64, 128, kernel_size=3, stride=1, padding=1),\n",
        "#     nn.ReLU(),\n",
        "#     nn.MaxPool2d(2),\n",
        "#     nn.Conv2d(128, 256, kernel_size=3, stride=1, padding=1),\n",
        "#     nn.ReLU(),\n",
        "#     nn.MaxPool2d(2),\n",
        "\n",
        "#     nn.Flatten(), \n",
        "#     nn.Linear(256*3*7, 1024),\n",
        "#     nn.ReLU(),\n",
        "#     nn.Linear(1024, 5)\n",
        "# )"
      ],
      "execution_count": 87,
      "outputs": []
    },
    {
      "cell_type": "code",
      "metadata": {
        "id": "du2ACQInpSVi"
      },
      "source": [
        "# for images, labels in train_dl:\n",
        "#     print('images.shape:', images.shape)\n",
        "#     out = simple_model(images)\n",
        "#     print('out.shape:', out.shape)\n",
        "#     break"
      ],
      "execution_count": 88,
      "outputs": []
    },
    {
      "cell_type": "code",
      "metadata": {
        "id": "SchJyIMpzlvy"
      },
      "source": [
        "class ImageClassificationBase(nn.Module):\n",
        "    def training_step(self, batch):\n",
        "        images, labels = batch \n",
        "        out = self(images)                  # Generate predictions\n",
        "        loss = F.cross_entropy(out, labels) # Calculate loss\n",
        "        return loss\n",
        "    \n",
        "    def validation_step(self, batch):\n",
        "        images, labels = batch \n",
        "        out = self(images)                    # Generate predictions\n",
        "        loss = F.cross_entropy(out, labels)   # Calculate loss\n",
        "        acc = accuracy(out, labels)           # Calculate accuracy\n",
        "        return {'val_loss': loss.detach(), 'val_acc': acc}\n",
        "        \n",
        "    def validation_epoch_end(self, outputs):\n",
        "        batch_losses = [x['val_loss'] for x in outputs]\n",
        "        epoch_loss = torch.stack(batch_losses).mean()   # Combine losses\n",
        "        batch_accs = [x['val_acc'] for x in outputs]\n",
        "        epoch_acc = torch.stack(batch_accs).mean()      # Combine accuracies\n",
        "        return {'val_loss': epoch_loss.item(), 'val_acc': epoch_acc.item()}\n",
        "    \n",
        "    def epoch_end(self, epoch, result):\n",
        "        print(\"Epoch [{}], train_loss: {:.4f}, val_loss: {:.4f}, val_acc: {:.4f}\".format(\n",
        "            epoch, result['train_loss'], result['val_loss'], result['val_acc']))\n",
        "        \n",
        "def accuracy(outputs, labels):\n",
        "    _, preds = torch.max(outputs, dim=1)\n",
        "    return torch.tensor(torch.sum(preds == labels).item() / len(preds))"
      ],
      "execution_count": 89,
      "outputs": []
    },
    {
      "cell_type": "code",
      "metadata": {
        "id": "1SQYTVAvcgKw"
      },
      "source": [
        "class Net(ImageClassificationBase):\n",
        "    def __init__(self):\n",
        "        super().__init__()\n",
        "        \n",
        "        conv_layers = []\n",
        "\n",
        "        self.conv1 = nn.Conv2d(1, 16, kernel_size=(5, 5), stride=(2, 2), padding=(2, 2))\n",
        "        self.relu1 = nn.ReLU()\n",
        "        self.bn1 = nn.BatchNorm2d(16)\n",
        "        nn.init.kaiming_normal_(self.conv1.weight, a=0.1)\n",
        "        self.pool1 = nn.MaxPool2d(2)\n",
        "        conv_layers += [self.conv1, self.relu1, self.bn1, self.pool1]\n",
        "\n",
        "        self.conv2 = nn.Conv2d(16, 32, kernel_size=(5, 5), stride=(2, 2), padding=(2, 2))\n",
        "        self.relu2 = nn.ReLU()\n",
        "        self.bn2 = nn.BatchNorm2d(32)\n",
        "        nn.init.kaiming_normal_(self.conv2.weight, a=0.1)\n",
        "        self.pool2 = nn.MaxPool2d(2)\n",
        "        conv_layers += [self.conv2, self.relu2, self.bn2, self.pool2]\n",
        "        \n",
        "        self.conv3 = nn.Conv2d(32, 64, kernel_size=(3, 3), stride=(1, 1), padding=(1, 1))\n",
        "        self.relu3 = nn.ReLU()\n",
        "        nn.init.kaiming_normal_(self.conv3.weight, a=0.1)\n",
        "        self.pool3 = nn.MaxPool2d(2)\n",
        "        conv_layers += [self.conv3, self.relu3, self.pool3]\n",
        "\n",
        "        self.conv4 = nn.Conv2d(64, 128, kernel_size=(3, 3), stride=(1, 1), padding=(1, 1))\n",
        "        self.relu4 = nn.ReLU()\n",
        "        nn.init.kaiming_normal_(self.conv4.weight, a=0.1)\n",
        "        self.pool4 = nn.MaxPool2d(2)\n",
        "        conv_layers += [self.conv4, self.relu4, self.pool4]\n",
        "        \n",
        "        self.conv5 = nn.Conv2d(128, 256, kernel_size=(3, 3), stride=(1, 1), padding=(1, 1))\n",
        "        self.relu5 = nn.ReLU()\n",
        "        nn.init.kaiming_normal_(self.conv5.weight, a=0.1)\n",
        "        self.pool5 = nn.MaxPool2d(2)\n",
        "        conv_layers += [self.conv5, self.relu5, self.pool5]\n",
        "        \n",
        "        self.flatten = nn.Flatten()\n",
        "        self.linear1 = nn.Linear(256*3*7, 512)\n",
        "        self.relufc1 = nn.ReLU()\n",
        "        self.dropout = nn.Dropout(0.25)\n",
        "        self.linear2 = nn.Linear(512, 96)\n",
        "        self.relufc2 = nn.ReLU()\n",
        "        self.linear3 = nn.Linear(96, 5)\n",
        "        conv_layers += [self.flatten, self.linear1, self.relufc1, self.dropout,\n",
        "                        self.linear2, self.relufc2, self.linear3]\n",
        "        \n",
        "        self.network = nn.Sequential(*conv_layers)\n",
        "        print(conv_layers)\n",
        "    def forward(self, x):\n",
        "        return self.network(x)\n",
        "\n"
      ],
      "execution_count": 90,
      "outputs": []
    },
    {
      "cell_type": "code",
      "metadata": {
        "colab": {
          "base_uri": "https://localhost:8080/"
        },
        "id": "wvY63PUyu4KS",
        "outputId": "ae634b9c-7e42-4ef8-adb3-c3ea017df9a5"
      },
      "source": [
        "model = Net()\n",
        "\n",
        "criterion = nn.CrossEntropyLoss()\n",
        "optimizer = torch.optim.Adam(model.parameters(), lr = 0.001)\n",
        "print(model)"
      ],
      "execution_count": 91,
      "outputs": [
        {
          "output_type": "stream",
          "text": [
            "[Conv2d(1, 16, kernel_size=(5, 5), stride=(2, 2), padding=(2, 2)), ReLU(), BatchNorm2d(16, eps=1e-05, momentum=0.1, affine=True, track_running_stats=True), MaxPool2d(kernel_size=2, stride=2, padding=0, dilation=1, ceil_mode=False), Conv2d(16, 32, kernel_size=(5, 5), stride=(2, 2), padding=(2, 2)), ReLU(), BatchNorm2d(32, eps=1e-05, momentum=0.1, affine=True, track_running_stats=True), MaxPool2d(kernel_size=2, stride=2, padding=0, dilation=1, ceil_mode=False), Conv2d(32, 64, kernel_size=(3, 3), stride=(1, 1), padding=(1, 1)), ReLU(), MaxPool2d(kernel_size=2, stride=2, padding=0, dilation=1, ceil_mode=False), Conv2d(64, 128, kernel_size=(3, 3), stride=(1, 1), padding=(1, 1)), ReLU(), MaxPool2d(kernel_size=2, stride=2, padding=0, dilation=1, ceil_mode=False), Conv2d(128, 256, kernel_size=(3, 3), stride=(1, 1), padding=(1, 1)), ReLU(), MaxPool2d(kernel_size=2, stride=2, padding=0, dilation=1, ceil_mode=False), Flatten(start_dim=1, end_dim=-1), Linear(in_features=5376, out_features=512, bias=True), ReLU(), Dropout(p=0.25, inplace=False), Linear(in_features=512, out_features=96, bias=True), ReLU(), Linear(in_features=96, out_features=5, bias=True)]\n",
            "Net(\n",
            "  (conv1): Conv2d(1, 16, kernel_size=(5, 5), stride=(2, 2), padding=(2, 2))\n",
            "  (relu1): ReLU()\n",
            "  (bn1): BatchNorm2d(16, eps=1e-05, momentum=0.1, affine=True, track_running_stats=True)\n",
            "  (pool1): MaxPool2d(kernel_size=2, stride=2, padding=0, dilation=1, ceil_mode=False)\n",
            "  (conv2): Conv2d(16, 32, kernel_size=(5, 5), stride=(2, 2), padding=(2, 2))\n",
            "  (relu2): ReLU()\n",
            "  (bn2): BatchNorm2d(32, eps=1e-05, momentum=0.1, affine=True, track_running_stats=True)\n",
            "  (pool2): MaxPool2d(kernel_size=2, stride=2, padding=0, dilation=1, ceil_mode=False)\n",
            "  (conv3): Conv2d(32, 64, kernel_size=(3, 3), stride=(1, 1), padding=(1, 1))\n",
            "  (relu3): ReLU()\n",
            "  (pool3): MaxPool2d(kernel_size=2, stride=2, padding=0, dilation=1, ceil_mode=False)\n",
            "  (conv4): Conv2d(64, 128, kernel_size=(3, 3), stride=(1, 1), padding=(1, 1))\n",
            "  (relu4): ReLU()\n",
            "  (pool4): MaxPool2d(kernel_size=2, stride=2, padding=0, dilation=1, ceil_mode=False)\n",
            "  (conv5): Conv2d(128, 256, kernel_size=(3, 3), stride=(1, 1), padding=(1, 1))\n",
            "  (relu5): ReLU()\n",
            "  (pool5): MaxPool2d(kernel_size=2, stride=2, padding=0, dilation=1, ceil_mode=False)\n",
            "  (flatten): Flatten(start_dim=1, end_dim=-1)\n",
            "  (linear1): Linear(in_features=5376, out_features=512, bias=True)\n",
            "  (relufc1): ReLU()\n",
            "  (dropout): Dropout(p=0.25, inplace=False)\n",
            "  (linear2): Linear(in_features=512, out_features=96, bias=True)\n",
            "  (relufc2): ReLU()\n",
            "  (linear3): Linear(in_features=96, out_features=5, bias=True)\n",
            "  (network): Sequential(\n",
            "    (0): Conv2d(1, 16, kernel_size=(5, 5), stride=(2, 2), padding=(2, 2))\n",
            "    (1): ReLU()\n",
            "    (2): BatchNorm2d(16, eps=1e-05, momentum=0.1, affine=True, track_running_stats=True)\n",
            "    (3): MaxPool2d(kernel_size=2, stride=2, padding=0, dilation=1, ceil_mode=False)\n",
            "    (4): Conv2d(16, 32, kernel_size=(5, 5), stride=(2, 2), padding=(2, 2))\n",
            "    (5): ReLU()\n",
            "    (6): BatchNorm2d(32, eps=1e-05, momentum=0.1, affine=True, track_running_stats=True)\n",
            "    (7): MaxPool2d(kernel_size=2, stride=2, padding=0, dilation=1, ceil_mode=False)\n",
            "    (8): Conv2d(32, 64, kernel_size=(3, 3), stride=(1, 1), padding=(1, 1))\n",
            "    (9): ReLU()\n",
            "    (10): MaxPool2d(kernel_size=2, stride=2, padding=0, dilation=1, ceil_mode=False)\n",
            "    (11): Conv2d(64, 128, kernel_size=(3, 3), stride=(1, 1), padding=(1, 1))\n",
            "    (12): ReLU()\n",
            "    (13): MaxPool2d(kernel_size=2, stride=2, padding=0, dilation=1, ceil_mode=False)\n",
            "    (14): Conv2d(128, 256, kernel_size=(3, 3), stride=(1, 1), padding=(1, 1))\n",
            "    (15): ReLU()\n",
            "    (16): MaxPool2d(kernel_size=2, stride=2, padding=0, dilation=1, ceil_mode=False)\n",
            "    (17): Flatten(start_dim=1, end_dim=-1)\n",
            "    (18): Linear(in_features=5376, out_features=512, bias=True)\n",
            "    (19): ReLU()\n",
            "    (20): Dropout(p=0.25, inplace=False)\n",
            "    (21): Linear(in_features=512, out_features=96, bias=True)\n",
            "    (22): ReLU()\n",
            "    (23): Linear(in_features=96, out_features=5, bias=True)\n",
            "  )\n",
            ")\n"
          ],
          "name": "stdout"
        }
      ]
    },
    {
      "cell_type": "code",
      "metadata": {
        "id": "rkklragaxGWm"
      },
      "source": [
        "# # Test the model on the first batch from the training dataloader\n",
        "# for images, labels in train_dl:\n",
        "#     print('images.shape:', images.shape)\n",
        "#     out = model(images)\n",
        "#     print('out.shape:', out.shape)\n",
        "#     print('out[0]:', out[0])\n",
        "#     break"
      ],
      "execution_count": 92,
      "outputs": []
    },
    {
      "cell_type": "code",
      "metadata": {
        "id": "P8Z2E9Jvxi70"
      },
      "source": [
        "def get_default_device():\n",
        "    \"\"\"Pick GPU if available, else CPU\"\"\"\n",
        "    if torch.cuda.is_available():\n",
        "        return torch.device('cuda')\n",
        "    else:\n",
        "        return torch.device('cpu')\n",
        "    \n",
        "def to_device(data, device):\n",
        "    \"\"\"Move tensor(s) to chosen device\"\"\"\n",
        "    if isinstance(data, (list,tuple)):\n",
        "        return [to_device(x, device) for x in data]\n",
        "    return data.to(device, non_blocking=True)\n",
        "\n",
        "class DeviceDataLoader():\n",
        "    \"\"\"Wrap a dataloader to move data to a device\"\"\"\n",
        "    def __init__(self, dl, device):\n",
        "        self.dl = dl\n",
        "        self.device = device\n",
        "        \n",
        "    def __iter__(self):\n",
        "        \"\"\"Yield a batch of data after moving it to device\"\"\"\n",
        "        for b in self.dl: \n",
        "            yield to_device(b, self.device)\n",
        "\n",
        "    def __len__(self):\n",
        "        \"\"\"Number of batches\"\"\"\n",
        "        return len(self.dl)"
      ],
      "execution_count": 93,
      "outputs": []
    },
    {
      "cell_type": "code",
      "metadata": {
        "colab": {
          "base_uri": "https://localhost:8080/"
        },
        "id": "Oc7nWbiSxke3",
        "outputId": "cf905fb2-23b3-4f53-95b4-f337cda3bc04"
      },
      "source": [
        "device = get_default_device()\n",
        "device"
      ],
      "execution_count": 94,
      "outputs": [
        {
          "output_type": "execute_result",
          "data": {
            "text/plain": [
              "device(type='cuda')"
            ]
          },
          "metadata": {
            "tags": []
          },
          "execution_count": 94
        }
      ]
    },
    {
      "cell_type": "code",
      "metadata": {
        "id": "YEaomX8txkkN"
      },
      "source": [
        "# Wrap training and test data loaders using `DeviceDataLoader` for automatically\n",
        "# transferring batches of data to the GPU (if available), and use `to_device` \n",
        "# to move our model to the GPU (if available).\n",
        "train_dl = DeviceDataLoader(train_dl, device)\n",
        "test_dl = DeviceDataLoader(test_dl, device)\n",
        "to_device(model, device);"
      ],
      "execution_count": 95,
      "outputs": []
    },
    {
      "cell_type": "code",
      "metadata": {
        "id": "4eDMbjkAxkql"
      },
      "source": [
        "@torch.no_grad()\n",
        "def evaluate(model, val_loader):\n",
        "    model.eval()\n",
        "    outputs = [model.validation_step(batch) for batch in val_loader]\n",
        "    return model.validation_epoch_end(outputs)\n",
        "\n",
        "def fit(epochs, lr, model, train_loader, val_loader, opt_func=torch.optim.SGD):\n",
        "    history = []\n",
        "    optimizer = opt_func(model.parameters(), lr)\n",
        "    for epoch in range(epochs):\n",
        "        # Training Phase \n",
        "        model.train()\n",
        "        train_losses = []\n",
        "        for batch in train_loader:\n",
        "            loss = model.training_step(batch)\n",
        "            train_losses.append(loss)\n",
        "            loss.backward()\n",
        "            optimizer.step()\n",
        "            optimizer.zero_grad()\n",
        "        # Validation phase\n",
        "        result = evaluate(model, val_loader)\n",
        "        result['train_loss'] = torch.stack(train_losses).mean().item()\n",
        "        model.epoch_end(epoch, result)\n",
        "        history.append(result)\n",
        "    return history"
      ],
      "execution_count": 96,
      "outputs": []
    },
    {
      "cell_type": "code",
      "metadata": {
        "colab": {
          "base_uri": "https://localhost:8080/"
        },
        "id": "hOa27DYRxkw7",
        "outputId": "2839b67a-452b-4590-db03-490a4105832c"
      },
      "source": [
        "model = to_device(Net(), device)"
      ],
      "execution_count": 97,
      "outputs": [
        {
          "output_type": "stream",
          "text": [
            "[Conv2d(1, 16, kernel_size=(5, 5), stride=(2, 2), padding=(2, 2)), ReLU(), BatchNorm2d(16, eps=1e-05, momentum=0.1, affine=True, track_running_stats=True), MaxPool2d(kernel_size=2, stride=2, padding=0, dilation=1, ceil_mode=False), Conv2d(16, 32, kernel_size=(5, 5), stride=(2, 2), padding=(2, 2)), ReLU(), BatchNorm2d(32, eps=1e-05, momentum=0.1, affine=True, track_running_stats=True), MaxPool2d(kernel_size=2, stride=2, padding=0, dilation=1, ceil_mode=False), Conv2d(32, 64, kernel_size=(3, 3), stride=(1, 1), padding=(1, 1)), ReLU(), MaxPool2d(kernel_size=2, stride=2, padding=0, dilation=1, ceil_mode=False), Conv2d(64, 128, kernel_size=(3, 3), stride=(1, 1), padding=(1, 1)), ReLU(), MaxPool2d(kernel_size=2, stride=2, padding=0, dilation=1, ceil_mode=False), Conv2d(128, 256, kernel_size=(3, 3), stride=(1, 1), padding=(1, 1)), ReLU(), MaxPool2d(kernel_size=2, stride=2, padding=0, dilation=1, ceil_mode=False), Flatten(start_dim=1, end_dim=-1), Linear(in_features=5376, out_features=512, bias=True), ReLU(), Dropout(p=0.25, inplace=False), Linear(in_features=512, out_features=96, bias=True), ReLU(), Linear(in_features=96, out_features=5, bias=True)]\n"
          ],
          "name": "stdout"
        }
      ]
    },
    {
      "cell_type": "code",
      "metadata": {
        "id": "uSO7zOWaxk2x"
      },
      "source": [
        "# evaluate(model, test_dl)"
      ],
      "execution_count": 98,
      "outputs": []
    },
    {
      "cell_type": "code",
      "metadata": {
        "id": "OtT070h_0K-M"
      },
      "source": [
        "num_epochs = 100\n",
        "opt_func = torch.optim.Adam\n",
        "lr = 0.00005"
      ],
      "execution_count": 99,
      "outputs": []
    },
    {
      "cell_type": "code",
      "metadata": {
        "colab": {
          "base_uri": "https://localhost:8080/"
        },
        "id": "le5h03Fl0LFA",
        "outputId": "716d8a91-101e-43ac-b206-6e1cca942f5f"
      },
      "source": [
        "history = fit(num_epochs, lr, model, train_dl, test_dl, opt_func)"
      ],
      "execution_count": 100,
      "outputs": [
        {
          "output_type": "stream",
          "text": [
            "Epoch [0], train_loss: 1.6335, val_loss: 1.6525, val_acc: 0.1389\n",
            "Epoch [1], train_loss: 1.5759, val_loss: 1.6352, val_acc: 0.3333\n",
            "Epoch [2], train_loss: 1.5490, val_loss: 1.6099, val_acc: 0.3611\n",
            "Epoch [3], train_loss: 1.5103, val_loss: 1.6000, val_acc: 0.2222\n",
            "Epoch [4], train_loss: 1.4517, val_loss: 1.5961, val_acc: 0.2500\n",
            "Epoch [5], train_loss: 1.4498, val_loss: 1.5973, val_acc: 0.3056\n",
            "Epoch [6], train_loss: 1.4037, val_loss: 1.5997, val_acc: 0.2778\n",
            "Epoch [7], train_loss: 1.4010, val_loss: 1.5754, val_acc: 0.2778\n",
            "Epoch [8], train_loss: 1.3296, val_loss: 1.5624, val_acc: 0.1944\n",
            "Epoch [9], train_loss: 1.2924, val_loss: 1.5451, val_acc: 0.2778\n",
            "Epoch [10], train_loss: 1.2148, val_loss: 1.5381, val_acc: 0.3611\n",
            "Epoch [11], train_loss: 1.2358, val_loss: 1.5723, val_acc: 0.2778\n",
            "Epoch [12], train_loss: 1.1322, val_loss: 1.5303, val_acc: 0.2222\n",
            "Epoch [13], train_loss: 1.0880, val_loss: 1.5081, val_acc: 0.2778\n",
            "Epoch [14], train_loss: 1.0624, val_loss: 1.5255, val_acc: 0.3056\n",
            "Epoch [15], train_loss: 1.0298, val_loss: 1.5663, val_acc: 0.3611\n",
            "Epoch [16], train_loss: 0.9784, val_loss: 1.4905, val_acc: 0.3333\n",
            "Epoch [17], train_loss: 0.9507, val_loss: 1.5153, val_acc: 0.3056\n",
            "Epoch [18], train_loss: 0.8678, val_loss: 1.5824, val_acc: 0.3333\n",
            "Epoch [19], train_loss: 0.8420, val_loss: 1.5957, val_acc: 0.3333\n",
            "Epoch [20], train_loss: 0.7798, val_loss: 1.4433, val_acc: 0.3889\n",
            "Epoch [21], train_loss: 0.7556, val_loss: 1.4995, val_acc: 0.3889\n",
            "Epoch [22], train_loss: 0.6656, val_loss: 1.6296, val_acc: 0.3333\n",
            "Epoch [23], train_loss: 0.6673, val_loss: 1.4715, val_acc: 0.3889\n",
            "Epoch [24], train_loss: 0.6174, val_loss: 1.4595, val_acc: 0.3333\n",
            "Epoch [25], train_loss: 0.5320, val_loss: 1.5754, val_acc: 0.3611\n",
            "Epoch [26], train_loss: 0.5578, val_loss: 1.4632, val_acc: 0.3889\n",
            "Epoch [27], train_loss: 0.4536, val_loss: 1.4499, val_acc: 0.3333\n",
            "Epoch [28], train_loss: 0.4257, val_loss: 1.4667, val_acc: 0.4167\n",
            "Epoch [29], train_loss: 0.3935, val_loss: 1.4952, val_acc: 0.3333\n",
            "Epoch [30], train_loss: 0.3756, val_loss: 1.4234, val_acc: 0.3889\n",
            "Epoch [31], train_loss: 0.3631, val_loss: 1.4695, val_acc: 0.4167\n",
            "Epoch [32], train_loss: 0.3346, val_loss: 1.4878, val_acc: 0.3611\n",
            "Epoch [33], train_loss: 0.2945, val_loss: 1.4003, val_acc: 0.4167\n",
            "Epoch [34], train_loss: 0.2624, val_loss: 1.4171, val_acc: 0.4444\n",
            "Epoch [35], train_loss: 0.2865, val_loss: 1.5685, val_acc: 0.3333\n",
            "Epoch [36], train_loss: 0.2271, val_loss: 1.4077, val_acc: 0.3889\n",
            "Epoch [37], train_loss: 0.1943, val_loss: 1.3725, val_acc: 0.3889\n",
            "Epoch [38], train_loss: 0.1747, val_loss: 1.4758, val_acc: 0.4167\n",
            "Epoch [39], train_loss: 0.1794, val_loss: 1.4648, val_acc: 0.4444\n",
            "Epoch [40], train_loss: 0.1672, val_loss: 1.3786, val_acc: 0.3889\n",
            "Epoch [41], train_loss: 0.1367, val_loss: 1.4864, val_acc: 0.4167\n",
            "Epoch [42], train_loss: 0.1280, val_loss: 1.4418, val_acc: 0.4444\n",
            "Epoch [43], train_loss: 0.1134, val_loss: 1.3866, val_acc: 0.3889\n",
            "Epoch [44], train_loss: 0.0955, val_loss: 1.4045, val_acc: 0.4444\n",
            "Epoch [45], train_loss: 0.0945, val_loss: 1.5153, val_acc: 0.3889\n",
            "Epoch [46], train_loss: 0.0803, val_loss: 1.5084, val_acc: 0.3611\n",
            "Epoch [47], train_loss: 0.0781, val_loss: 1.4110, val_acc: 0.3889\n",
            "Epoch [48], train_loss: 0.0734, val_loss: 1.4224, val_acc: 0.4444\n",
            "Epoch [49], train_loss: 0.0645, val_loss: 1.4605, val_acc: 0.4444\n",
            "Epoch [50], train_loss: 0.0615, val_loss: 1.4480, val_acc: 0.3611\n",
            "Epoch [51], train_loss: 0.0609, val_loss: 1.4536, val_acc: 0.3889\n",
            "Epoch [52], train_loss: 0.0493, val_loss: 1.4669, val_acc: 0.4167\n",
            "Epoch [53], train_loss: 0.0519, val_loss: 1.4379, val_acc: 0.4167\n",
            "Epoch [54], train_loss: 0.0485, val_loss: 1.4145, val_acc: 0.4167\n",
            "Epoch [55], train_loss: 0.0418, val_loss: 1.4002, val_acc: 0.4722\n",
            "Epoch [56], train_loss: 0.0465, val_loss: 1.4421, val_acc: 0.4444\n",
            "Epoch [57], train_loss: 0.0337, val_loss: 1.4053, val_acc: 0.4167\n",
            "Epoch [58], train_loss: 0.0370, val_loss: 1.4523, val_acc: 0.4444\n",
            "Epoch [59], train_loss: 0.0337, val_loss: 1.4908, val_acc: 0.4444\n",
            "Epoch [60], train_loss: 0.0374, val_loss: 1.4767, val_acc: 0.3889\n",
            "Epoch [61], train_loss: 0.0296, val_loss: 1.4548, val_acc: 0.3889\n",
            "Epoch [62], train_loss: 0.0282, val_loss: 1.4683, val_acc: 0.4444\n",
            "Epoch [63], train_loss: 0.0230, val_loss: 1.4836, val_acc: 0.4444\n",
            "Epoch [64], train_loss: 0.0272, val_loss: 1.4648, val_acc: 0.4444\n",
            "Epoch [65], train_loss: 0.0284, val_loss: 1.4998, val_acc: 0.4167\n",
            "Epoch [66], train_loss: 0.0262, val_loss: 1.5088, val_acc: 0.3611\n",
            "Epoch [67], train_loss: 0.0231, val_loss: 1.5364, val_acc: 0.4444\n",
            "Epoch [68], train_loss: 0.0198, val_loss: 1.4903, val_acc: 0.4444\n",
            "Epoch [69], train_loss: 0.0217, val_loss: 1.4374, val_acc: 0.4444\n",
            "Epoch [70], train_loss: 0.0183, val_loss: 1.4562, val_acc: 0.4167\n",
            "Epoch [71], train_loss: 0.0207, val_loss: 1.4897, val_acc: 0.5000\n",
            "Epoch [72], train_loss: 0.0194, val_loss: 1.5574, val_acc: 0.5000\n",
            "Epoch [73], train_loss: 0.0185, val_loss: 1.4778, val_acc: 0.3889\n",
            "Epoch [74], train_loss: 0.0172, val_loss: 1.5161, val_acc: 0.4167\n",
            "Epoch [75], train_loss: 0.0160, val_loss: 1.5256, val_acc: 0.4722\n",
            "Epoch [76], train_loss: 0.0160, val_loss: 1.5168, val_acc: 0.4444\n",
            "Epoch [77], train_loss: 0.0131, val_loss: 1.4609, val_acc: 0.4167\n",
            "Epoch [78], train_loss: 0.0153, val_loss: 1.4405, val_acc: 0.3889\n",
            "Epoch [79], train_loss: 0.0152, val_loss: 1.4915, val_acc: 0.4167\n",
            "Epoch [80], train_loss: 0.0119, val_loss: 1.5378, val_acc: 0.4722\n",
            "Epoch [81], train_loss: 0.0143, val_loss: 1.5185, val_acc: 0.4722\n",
            "Epoch [82], train_loss: 0.0118, val_loss: 1.4955, val_acc: 0.4444\n",
            "Epoch [83], train_loss: 0.0108, val_loss: 1.4774, val_acc: 0.3889\n",
            "Epoch [84], train_loss: 0.0116, val_loss: 1.4739, val_acc: 0.4444\n",
            "Epoch [85], train_loss: 0.0138, val_loss: 1.5302, val_acc: 0.4722\n",
            "Epoch [86], train_loss: 0.0116, val_loss: 1.5562, val_acc: 0.4722\n",
            "Epoch [87], train_loss: 0.0091, val_loss: 1.5991, val_acc: 0.4444\n",
            "Epoch [88], train_loss: 0.0102, val_loss: 1.5830, val_acc: 0.4722\n",
            "Epoch [89], train_loss: 0.0101, val_loss: 1.5634, val_acc: 0.4722\n",
            "Epoch [90], train_loss: 0.0108, val_loss: 1.5305, val_acc: 0.4444\n",
            "Epoch [91], train_loss: 0.0097, val_loss: 1.4673, val_acc: 0.4444\n",
            "Epoch [92], train_loss: 0.0086, val_loss: 1.5113, val_acc: 0.4444\n",
            "Epoch [93], train_loss: 0.0076, val_loss: 1.5771, val_acc: 0.5000\n",
            "Epoch [94], train_loss: 0.0081, val_loss: 1.5773, val_acc: 0.4444\n",
            "Epoch [95], train_loss: 0.0084, val_loss: 1.5296, val_acc: 0.5000\n",
            "Epoch [96], train_loss: 0.0093, val_loss: 1.5276, val_acc: 0.4444\n",
            "Epoch [97], train_loss: 0.0097, val_loss: 1.4873, val_acc: 0.4444\n",
            "Epoch [98], train_loss: 0.0098, val_loss: 1.5352, val_acc: 0.4444\n",
            "Epoch [99], train_loss: 0.0084, val_loss: 1.6118, val_acc: 0.5000\n"
          ],
          "name": "stdout"
        }
      ]
    },
    {
      "cell_type": "code",
      "metadata": {
        "id": "wm8LrMMf0LMk"
      },
      "source": [
        "def plot_accuracies(history):\n",
        "    accuracies = [x['val_acc'] for x in history]\n",
        "    plt.plot(accuracies, '-x')\n",
        "    plt.xlabel('epoch')\n",
        "    plt.ylabel('accuracy')\n",
        "    plt.title('Accuracy vs. No. of epochs');"
      ],
      "execution_count": 101,
      "outputs": []
    },
    {
      "cell_type": "code",
      "metadata": {
        "colab": {
          "base_uri": "https://localhost:8080/",
          "height": 295
        },
        "id": "KIuhdAcS0u7S",
        "outputId": "65ecafe1-d0b8-4231-8f14-4162326f0c63"
      },
      "source": [
        "plot_accuracies(history)"
      ],
      "execution_count": 102,
      "outputs": [
        {
          "output_type": "display_data",
          "data": {
            "image/png": "[encoded data removed]",
            "text/plain": [
              "<Figure size 432x288 with 1 Axes>"
            ]
          },
          "metadata": {
            "tags": [],
            "needs_background": "light"
          }
        }
      ]
    },
    {
      "cell_type": "code",
      "metadata": {
        "cellView": "form",
        "id": "6LSzeINtcgKw"
      },
      "source": [
        "#@title\n",
        "# for epoch in range(2):  # loop over the dataset multiple times\n",
        "\n",
        "#     running_loss = 0.0\n",
        "#     for i, data in enumerate(train_dl):\n",
        "#         # get the inputs; data is a list of [inputs, labels]\n",
        "#         inputs, labels = data\n",
        "\n",
        "#         # zero the parameter gradients\n",
        "#         optimizer.zero_grad()\n",
        "\n",
        "#         # forward + backward + optimize\n",
        "#         outputs = net(inputs)\n",
        "#         loss = criterion(outputs, labels)\n",
        "#         loss.backward()\n",
        "#         optimizer.step()\n",
        "\n",
        "#         # print statistics\n",
        "#         running_loss += loss.item()\n",
        "#         if i % 2000 == 1999:    # print every 2000 mini-batches\n",
        "#             print('[%d, %5d] loss: %.3f' %\n",
        "#                   (epoch + 1, i + 1, running_loss / 2000))\n",
        "#             running_loss = 0.0\n",
        "\n",
        "# print('Finished Training')"
      ],
      "execution_count": 103,
      "outputs": []
    },
    {
      "cell_type": "code",
      "metadata": {
        "cellView": "form",
        "id": "sz9oPlbDcgKw"
      },
      "source": [
        "#@title\n",
        "# # plotting the training and validation loss\n",
        "# plt.plot(train_losses, label='Training loss')\n",
        "# plt.plot(val_losses, label='Validation loss')\n",
        "# plt.legend()\n",
        "# plt.show()"
      ],
      "execution_count": 31,
      "outputs": []
    },
    {
      "cell_type": "code",
      "metadata": {
        "cellView": "form",
        "id": "jhlxzG6scgKx"
      },
      "source": [
        "#@title\n",
        "# # prediction for training set\n",
        "# with torch.no_grad():\n",
        "#     output = model(train_x.cuda())\n",
        "    \n",
        "# softmax = torch.exp(output).cpu()\n",
        "# prob = list(softmax.numpy())\n",
        "# predictions = np.argmax(prob, axis=1)\n",
        "\n",
        "# # accuracy on training set\n",
        "# accuracy_score(train_y, predictions)"
      ],
      "execution_count": 32,
      "outputs": []
    },
    {
      "cell_type": "code",
      "metadata": {
        "cellView": "form",
        "id": "o4D9mxEfcgKx"
      },
      "source": [
        "#@title\n",
        "# # prediction for validation set\n",
        "# with torch.no_grad():\n",
        "#     output = model(val_x.cuda())\n",
        "\n",
        "# softmax = torch.exp(output).cpu()\n",
        "# prob = list(softmax.numpy())\n",
        "# predictions = np.argmax(prob, axis=1)\n",
        "\n",
        "# # accuracy on validation set\n",
        "# accuracy_score(val_y, predictions)"
      ],
      "execution_count": 33,
      "outputs": []
    },
    {
      "cell_type": "markdown",
      "metadata": {
        "id": "R9kLyX5bcgKx"
      },
      "source": [
        "## Approach number 2 -- still in progress"
      ]
    },
    {
      "cell_type": "code",
      "metadata": {
        "id": "cTg9pCgpcgKy"
      },
      "source": [
        "# import torch\n",
        "# import torch.nn as nn\n",
        "# import torch.optim as optim\n",
        "# from torch.optim import lr_scheduler\n",
        "# import numpy as np\n",
        "# import torchvision\n",
        "# from torchvision import datasets, models, transforms\n",
        "# import matplotlib.pyplot as plt\n",
        "# import time\n",
        "# import os\n",
        "# import copy"
      ],
      "execution_count": 34,
      "outputs": []
    },
    {
      "cell_type": "code",
      "metadata": {
        "id": "gaiuS71mcgKy"
      },
      "source": [
        "# device = torch.device(\"cuda:0\" if torch.cuda.is_available() else \"cpu\")"
      ],
      "execution_count": 35,
      "outputs": []
    },
    {
      "cell_type": "code",
      "metadata": {
        "id": "cGQzfgY1cgKy"
      },
      "source": [
        "# def train_model(model, criterion, optimizer, scheduler, num_epochs=25):\n",
        "#     since = time.time()\n",
        "\n",
        "#     best_model_wts = copy.deepcopy(model.state_dict())\n",
        "#     best_acc = 0.0\n",
        "\n",
        "#     for epoch in range(num_epochs):\n",
        "#         print('Epoch {}/{}'.format(epoch, num_epochs - 1))\n",
        "#         print('-' * 10)\n",
        "\n",
        "#         # Each epoch has a training and validation phase\n",
        "#         for phase in ['train', 'val']:\n",
        "#             if phase == 'train':\n",
        "#                 model.train()  # Set model to training mode\n",
        "#             else:\n",
        "#                 model.eval()   # Set model to evaluate mode\n",
        "\n",
        "#             running_loss = 0.0\n",
        "#             running_corrects = 0\n",
        "\n",
        "#             # Iterate over data.\n",
        "#             for inputs, labels in dataloaders[phase]:\n",
        "#                 inputs = inputs.to(device)\n",
        "#                 labels = labels.to(device)\n",
        "\n",
        "#                 # zero the parameter gradients\n",
        "#                 optimizer.zero_grad()\n",
        "\n",
        "#                 # forward\n",
        "#                 # track history if only in train\n",
        "#                 with torch.set_grad_enabled(phase == 'train'):\n",
        "#                     outputs = model(inputs)\n",
        "#                     _, preds = torch.max(outputs, 1)\n",
        "#                     loss = criterion(outputs, labels)\n",
        "\n",
        "#                     # backward + optimize only if in training phase\n",
        "#                     if phase == 'train':\n",
        "#                         loss.backward()\n",
        "#                         optimizer.step()\n",
        "\n",
        "#                 # statistics\n",
        "#                 running_loss += loss.item() * inputs.size(0)\n",
        "#                 running_corrects += torch.sum(preds == labels.data)\n",
        "#             if phase == 'train':\n",
        "#                 scheduler.step()\n",
        "\n",
        "#             epoch_loss = running_loss / dataset_sizes[phase]\n",
        "#             epoch_acc = running_corrects.double() / dataset_sizes[phase]\n",
        "\n",
        "#             print('{} Loss: {:.4f} Acc: {:.4f}'.format(\n",
        "#                 phase, epoch_loss, epoch_acc))\n",
        "\n",
        "#             # deep copy the model\n",
        "#             if phase == 'val' and epoch_acc > best_acc:\n",
        "#                 best_acc = epoch_acc\n",
        "#                 best_model_wts = copy.deepcopy(model.state_dict())\n",
        "\n",
        "#         print()\n",
        "\n",
        "#     time_elapsed = time.time() - since\n",
        "#     print('Training complete in {:.0f}m {:.0f}s'.format(\n",
        "#         time_elapsed // 60, time_elapsed % 60))\n",
        "#     print('Best val Acc: {:4f}'.format(best_acc))\n",
        "\n",
        "#     # load best model weights\n",
        "#     model.load_state_dict(best_model_wts)\n",
        "#     return model"
      ],
      "execution_count": 36,
      "outputs": []
    },
    {
      "cell_type": "code",
      "metadata": {
        "id": "b6hfGhZicgKz"
      },
      "source": [
        "# def visualize_model(model, num_images=6):\n",
        "#     was_training = model.training\n",
        "#     model.eval()\n",
        "#     images_so_far = 0\n",
        "#     fig = plt.figure()\n",
        "\n",
        "#     with torch.no_grad():\n",
        "#         for i, (inputs, labels) in enumerate(dataloaders['val']):\n",
        "#             inputs = inputs.to(device)\n",
        "#             labels = labels.to(device)\n",
        "\n",
        "#             outputs = model(inputs)\n",
        "#             _, preds = torch.max(outputs, 1)\n",
        "\n",
        "#             for j in range(inputs.size()[0]):\n",
        "#                 images_so_far += 1\n",
        "#                 ax = plt.subplot(num_images//2, 2, images_so_far)\n",
        "#                 ax.axis('off')\n",
        "#                 ax.set_title('predicted: {}'.format(class_names[preds[j]]))\n",
        "#                 imshow(inputs.cpu().data[j])\n",
        "\n",
        "#                 if images_so_far == num_images:\n",
        "#                     model.train(mode=was_training)\n",
        "#                     return\n",
        "#         model.train(mode=was_training)"
      ],
      "execution_count": 37,
      "outputs": []
    },
    {
      "cell_type": "code",
      "metadata": {
        "id": "QShqnvZZcgKz"
      },
      "source": [
        "# model_ft = models.resnet18(pretrained=True)\n",
        "# num_ftrs = model_ft.fc.in_features\n",
        "# # Here the size of each output sample is set to 2.\n",
        "# # Alternatively, it can be generalized to nn.Linear(num_ftrs, len(class_names)).\n",
        "# model_ft.fc = nn.Linear(num_ftrs, 2)\n",
        "\n",
        "# model_ft = model_ft.to(device)\n",
        "\n",
        "# criterion = nn.CrossEntropyLoss()\n",
        "\n",
        "# # Observe that all parameters are being optimized\n",
        "# optimizer_ft = optim.SGD(model_ft.parameters(), lr=0.001, momentum=0.9)\n",
        "\n",
        "# # Decay LR by a factor of 0.1 every 7 epochs\n",
        "# exp_lr_scheduler = lr_scheduler.StepLR(optimizer_ft, step_size=7, gamma=0.1)"
      ],
      "execution_count": 38,
      "outputs": []
    },
    {
      "cell_type": "code",
      "metadata": {
        "id": "4sfO0DENcgKz"
      },
      "source": [
        "# model_ft = train_model(model_ft, criterion, optimizer_ft, exp_lr_scheduler,\n",
        "#                        num_epochs=25)"
      ],
      "execution_count": 39,
      "outputs": []
    }
  ]
}