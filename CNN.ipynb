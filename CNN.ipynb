{
 "cells": [
  {
   "cell_type": "markdown",
   "metadata": {
    "id": "cxIFJRqdcgKp"
   },
   "source": [
    "# CNN Classification of Mel Spectrograms\n",
    "\n",
    "Tried and follow\n",
    "https://www.analyticsvidhya.com/blog/2019/10/building-image-classification-models-cnn-pytorch/"
   ]
  },
  {
   "cell_type": "code",
   "execution_count": 1,
   "metadata": {
    "colab": {
     "base_uri": "https://localhost:8080/"
    },
    "id": "j82LYP7cchTT",
    "outputId": "7623c946-3ef3-4ec5-a26f-db3759b1b4a3"
   },
   "outputs": [],
   "source": [
    "# For Colab only\n",
    "# 4/1AY0e-g6CTocvBK45PWlJu2ycBuOMTgu36b-VZgpnCXitW_Vy3ckpGGBzur8\n",
    "# from google.colab import drive\n",
    "# drive.mount('content/')\n",
    "# /content/drive/MyDrive/bird-songs"
   ]
  },
  {
   "cell_type": "markdown",
   "metadata": {
    "id": "M5mJj0D7cgKr"
   },
   "source": [
    "## Training a model"
   ]
  },
  {
   "cell_type": "code",
   "execution_count": 1,
   "metadata": {
    "id": "-q2q6CHhcgKr"
   },
   "outputs": [],
   "source": [
    "# importing the libraries\n",
    "import pandas as pd\n",
    "import numpy as np\n",
    "\n",
    "# for reading and displaying images\n",
    "from skimage.io import imread\n",
    "import matplotlib.pyplot as plt\n",
    "%matplotlib inline\n",
    "import os.path\n",
    "\n",
    "# for creating validation set\n",
    "from sklearn.model_selection import train_test_split\n",
    "\n",
    "# for evaluating the model\n",
    "from sklearn.metrics import accuracy_score\n",
    "from tqdm import tqdm\n",
    "\n",
    "# PyTorch libraries and modules\n",
    "import torch\n",
    "from torch.autograd import Variable\n",
    "import torch.nn as nn\n",
    "import torch.nn.functional as F\n",
    "# from torch.nn import init\n",
    "# from torch.nn import Linear, ReLU, CrossEntropyLoss, Sequential, Conv2d, MaxPool2d, Module, Softmax, BatchNorm2d, Dropout, functional\n",
    "from torch.optim import Adam"
   ]
  },
  {
   "cell_type": "code",
   "execution_count": 2,
   "metadata": {
    "colab": {
     "base_uri": "https://localhost:8080/",
     "height": 306
    },
    "id": "lwnNAY8_cgKs",
    "outputId": "fc895629-4f04-4631-b5e1-749d30793e9a"
   },
   "outputs": [
    {
     "data": {
      "text/html": [
       "<div>\n",
       "<style scoped>\n",
       "    .dataframe tbody tr th:only-of-type {\n",
       "        vertical-align: middle;\n",
       "    }\n",
       "\n",
       "    .dataframe tbody tr th {\n",
       "        vertical-align: top;\n",
       "    }\n",
       "\n",
       "    .dataframe thead th {\n",
       "        text-align: right;\n",
       "    }\n",
       "</style>\n",
       "<table border=\"1\" class=\"dataframe\">\n",
       "  <thead>\n",
       "    <tr style=\"text-align: right;\">\n",
       "      <th></th>\n",
       "      <th>id</th>\n",
       "      <th>gen</th>\n",
       "      <th>sp</th>\n",
       "      <th>ssp</th>\n",
       "      <th>en</th>\n",
       "      <th>cnt</th>\n",
       "      <th>loc</th>\n",
       "      <th>type</th>\n",
       "      <th>q</th>\n",
       "      <th>length</th>\n",
       "      <th>bird-seen</th>\n",
       "      <th>file</th>\n",
       "    </tr>\n",
       "  </thead>\n",
       "  <tbody>\n",
       "    <tr>\n",
       "      <th>0</th>\n",
       "      <td>564895</td>\n",
       "      <td>Thryothorus</td>\n",
       "      <td>ludovicianus</td>\n",
       "      <td>NaN</td>\n",
       "      <td>Carolina Wren</td>\n",
       "      <td>United States</td>\n",
       "      <td>Lyons Township (near  Willow Springs), Cook Co...</td>\n",
       "      <td>adult, sex uncertain, song</td>\n",
       "      <td>no score</td>\n",
       "      <td>0:16</td>\n",
       "      <td>no</td>\n",
       "      <td>//www.xeno-canto.org/564895/download</td>\n",
       "    </tr>\n",
       "    <tr>\n",
       "      <th>1</th>\n",
       "      <td>545775</td>\n",
       "      <td>Thryothorus</td>\n",
       "      <td>ludovicianus</td>\n",
       "      <td>NaN</td>\n",
       "      <td>Carolina Wren</td>\n",
       "      <td>United States</td>\n",
       "      <td>Valley Forge National Historical Park, Montgom...</td>\n",
       "      <td>call</td>\n",
       "      <td>no score</td>\n",
       "      <td>0:17</td>\n",
       "      <td>yes</td>\n",
       "      <td>//www.xeno-canto.org/545775/download</td>\n",
       "    </tr>\n",
       "    <tr>\n",
       "      <th>2</th>\n",
       "      <td>540857</td>\n",
       "      <td>Thryothorus</td>\n",
       "      <td>ludovicianus</td>\n",
       "      <td>NaN</td>\n",
       "      <td>Carolina Wren</td>\n",
       "      <td>United States</td>\n",
       "      <td>Slaterville Rd @ Honness (near  Ithaca), Tompk...</td>\n",
       "      <td>song</td>\n",
       "      <td>no score</td>\n",
       "      <td>0:32</td>\n",
       "      <td>unknown</td>\n",
       "      <td>//www.xeno-canto.org/540857/download</td>\n",
       "    </tr>\n",
       "    <tr>\n",
       "      <th>3</th>\n",
       "      <td>540855</td>\n",
       "      <td>Thryothorus</td>\n",
       "      <td>ludovicianus</td>\n",
       "      <td>NaN</td>\n",
       "      <td>Carolina Wren</td>\n",
       "      <td>United States</td>\n",
       "      <td>Slaterville Rd @ Honness (near  Ithaca), Tompk...</td>\n",
       "      <td>song</td>\n",
       "      <td>no score</td>\n",
       "      <td>0:52</td>\n",
       "      <td>unknown</td>\n",
       "      <td>//www.xeno-canto.org/540855/download</td>\n",
       "    </tr>\n",
       "    <tr>\n",
       "      <th>4</th>\n",
       "      <td>539275</td>\n",
       "      <td>Thryothorus</td>\n",
       "      <td>ludovicianus</td>\n",
       "      <td>NaN</td>\n",
       "      <td>Carolina Wren</td>\n",
       "      <td>United States</td>\n",
       "      <td>Upper St. Clair Township (near  Upper Saint Cl...</td>\n",
       "      <td>call, song</td>\n",
       "      <td>no score</td>\n",
       "      <td>1:12</td>\n",
       "      <td>yes</td>\n",
       "      <td>//www.xeno-canto.org/539275/download</td>\n",
       "    </tr>\n",
       "  </tbody>\n",
       "</table>\n",
       "</div>"
      ],
      "text/plain": [
       "       id          gen            sp  ssp             en            cnt  \\\n",
       "0  564895  Thryothorus  ludovicianus  NaN  Carolina Wren  United States   \n",
       "1  545775  Thryothorus  ludovicianus  NaN  Carolina Wren  United States   \n",
       "2  540857  Thryothorus  ludovicianus  NaN  Carolina Wren  United States   \n",
       "3  540855  Thryothorus  ludovicianus  NaN  Carolina Wren  United States   \n",
       "4  539275  Thryothorus  ludovicianus  NaN  Carolina Wren  United States   \n",
       "\n",
       "                                                 loc  \\\n",
       "0  Lyons Township (near  Willow Springs), Cook Co...   \n",
       "1  Valley Forge National Historical Park, Montgom...   \n",
       "2  Slaterville Rd @ Honness (near  Ithaca), Tompk...   \n",
       "3  Slaterville Rd @ Honness (near  Ithaca), Tompk...   \n",
       "4  Upper St. Clair Township (near  Upper Saint Cl...   \n",
       "\n",
       "                         type         q length bird-seen  \\\n",
       "0  adult, sex uncertain, song  no score   0:16        no   \n",
       "1                        call  no score   0:17       yes   \n",
       "2                        song  no score   0:32   unknown   \n",
       "3                        song  no score   0:52   unknown   \n",
       "4                  call, song  no score   1:12       yes   \n",
       "\n",
       "                                   file  \n",
       "0  //www.xeno-canto.org/564895/download  \n",
       "1  //www.xeno-canto.org/545775/download  \n",
       "2  //www.xeno-canto.org/540857/download  \n",
       "3  //www.xeno-canto.org/540855/download  \n",
       "4  //www.xeno-canto.org/539275/download  "
      ]
     },
     "execution_count": 2,
     "metadata": {},
     "output_type": "execute_result"
    }
   ],
   "source": [
    "# Check whether google drive mounted\n",
    "path = '/content/content/MyDrive/bird-songs'\n",
    "if os.path.isdir(path) == True:\n",
    "    run_on_colab = True\n",
    "else:\n",
    "    run_on_colab = False\n",
    "\n",
    "\n",
    "if run_on_colab ==True:\n",
    "    features = pd.read_csv('/content/content/MyDrive/bird-songs/features.csv', header=None, encoding='latin')\n",
    "else:\n",
    "    features = pd.read_csv('features_filtered.csv', encoding='latin')\n",
    "# features.columns= ['id', 'gen', 'sp', 'ssp', 'en', 'cnt', 'loc','type', 'q', 'length', 'bird-seen']\n",
    "features.head()"
   ]
  },
  {
   "cell_type": "code",
   "execution_count": 3,
   "metadata": {
    "colab": {
     "base_uri": "https://localhost:8080/"
    },
    "id": "giCNt5XlcgKs",
    "outputId": "21999f30-3aae-4fe4-acee-bf17eddb4974"
   },
   "outputs": [],
   "source": [
    "# These are the top species we selected for our analysis\n",
    "selected_species = ['Red-winged Blackbird', \n",
    "                    'Common Yellowthroat', \n",
    "                    'Northern Cardinal', \n",
    "                    'Carolina Wren', \n",
    "                    'Red Crossbill', \n",
    "                    'Spotted Towhee']\n",
    "# We only need the id and the labels for our CNN.\n",
    "dataset = features[features.en.isin(selected_species)][['id', 'en']]\n",
    "# Now we need to change our labels into integers as torch does not support string format for labels.\n",
    "labels = {\"Red-winged Blackbird\": 0, 'Common Yellowthroat': 1, 'Northern Cardinal': 2, 'Carolina Wren': 3,\n",
    "          'Red Crossbill': 4, 'Spotted Towhee': 5}\n",
    "dataset['label'] = dataset.apply(lambda row: labels[row.en], axis=1)\n",
    "dataset.drop('en', axis=1, inplace=True)"
   ]
  },
  {
   "cell_type": "code",
   "execution_count": 4,
   "metadata": {},
   "outputs": [],
   "source": [
    "def load_images(dataset):\n",
    "    img_df = []\n",
    "    for img_name in tqdm(dataset['id']):\n",
    "        # defining the image path\n",
    "        if run_on_colab == True:\n",
    "            image_path = '/content/content/MyDrive/bird-songs/images/mel_spectrograms_8sec/' + str(img_name) + '.jpg' \n",
    "        else:\n",
    "            image_path = 'images/mel_spectrograms_8sec/' + str(img_name) + '.jpg'\n",
    "        # reading the image\n",
    "        img = imread(image_path, as_gray=True)\n",
    "         # normalizing the pixel values\n",
    "        img = 2 * img - 1\n",
    "        # converting the type of pixel to float 32\n",
    "        img = img.astype('float32')\n",
    "        # appending the image into the list\n",
    "        img_df.append(img)\n",
    "    \n",
    "    # converting the list to numpy array\n",
    "    return np.array(img_df)"
   ]
  },
  {
   "cell_type": "code",
   "execution_count": 5,
   "metadata": {},
   "outputs": [
    {
     "name": "stderr",
     "output_type": "stream",
     "text": [
      "100%|█████████████████████████████████████████████████████████████████████████████| 2516/2516 [00:03<00:00, 645.05it/s]\n"
     ]
    },
    {
     "data": {
      "text/plain": [
       "((2516, 128, 345), (2516,))"
      ]
     },
     "execution_count": 5,
     "metadata": {},
     "output_type": "execute_result"
    }
   ],
   "source": [
    "X, y = load_images(dataset), dataset['label'].values\n",
    "X.shape, y.shape"
   ]
  },
  {
   "cell_type": "code",
   "execution_count": 6,
   "metadata": {},
   "outputs": [
    {
     "data": {
      "text/plain": [
       "<matplotlib.image.AxesImage at 0x210b0a955b0>"
      ]
     },
     "execution_count": 6,
     "metadata": {},
     "output_type": "execute_result"
    },
    {
     "data": {
      "image/png": "[encoded data removed]",
      "text/plain": [
       "<Figure size 432x288 with 1 Axes>"
      ]
     },
     "metadata": {
      "needs_background": "light"
     },
     "output_type": "display_data"
    }
   ],
   "source": [
    "img = X[0]\n",
    "plt.imshow(img, cmap='bwr')"
   ]
  },
  {
   "cell_type": "code",
   "execution_count": 7,
   "metadata": {
    "id": "xEUUmhZPOIur"
   },
   "outputs": [
    {
     "name": "stdout",
     "output_type": "stream",
     "text": [
      "(2012, 128, 345)\n",
      "\n",
      "(504, 128, 345)\n"
     ]
    }
   ],
   "source": [
    "X_train, X_test, y_train, y_test = train_test_split(X, y, test_size=0.20, random_state=42)\n",
    "\n",
    "print(X_train.shape)\n",
    "print('')\n",
    "print(X_test.shape)"
   ]
  },
  {
   "cell_type": "markdown",
   "metadata": {
    "id": "PgYLkum8mtkc"
   },
   "source": [
    "## CNN\n",
    "\n",
    "If you have compatible GPU technology on your computer, you can run the CNN on it instead of CPU. \n",
    "If you are using anaconda, either create a new environment or uninstall pytorch in your current environment (if already installed) then install PyTorch with cuda:\n",
    "\n",
    "`conda install pytorch torchvision cudatoolkit=10.2 -c pytorch`\n",
    "\n",
    "Running this CNN on CPU takes about 17 minutes on a Dell XPS 15 9500 with 1TB SSD and 32GB RAM (2x16GB) with Windows 10. Switching to using the NVIDIA GeForce GTX 1650 it takes less than 5minutes. "
   ]
  },
  {
   "cell_type": "code",
   "execution_count": 15,
   "metadata": {
    "id": "sAYtJXtKmuGc"
   },
   "outputs": [],
   "source": [
    "device = torch.device(\"cuda:0\" if torch.cuda.is_available() else \"cpu\")"
   ]
  },
  {
   "cell_type": "code",
   "execution_count": 16,
   "metadata": {
    "id": "zqtJ_AXNcgKv"
   },
   "outputs": [],
   "source": [
    "train_data = []\n",
    "for i in range(len(X_train)):\n",
    "    train_data.append([np.expand_dims(X_train[i], axis=0), y_train[i]]) #Conv2d layers expect input with the shape (n_samples, channels, height, width)\n",
    "\n",
    "test_data = []\n",
    "for i in range(len(X_test)):\n",
    "    test_data.append([np.expand_dims(X_test[i], axis=0), y_test[i]])"
   ]
  },
  {
   "cell_type": "code",
   "execution_count": 17,
   "metadata": {},
   "outputs": [
    {
     "data": {
      "text/plain": [
       "(1, 128, 345)"
      ]
     },
     "execution_count": 17,
     "metadata": {},
     "output_type": "execute_result"
    }
   ],
   "source": [
    "train_data[0][0].shape"
   ]
  },
  {
   "cell_type": "code",
   "execution_count": 18,
   "metadata": {
    "id": "IqJguy_gcgKv"
   },
   "outputs": [],
   "source": [
    "batch_size=50\n",
    "train_dl = torch.utils.data.DataLoader(train_data, batch_size=batch_size, shuffle=True)\n",
    "test_dl = torch.utils.data.DataLoader(test_data, batch_size=batch_size, shuffle=True)"
   ]
  },
  {
   "cell_type": "code",
   "execution_count": 19,
   "metadata": {
    "colab": {
     "base_uri": "https://localhost:8080/"
    },
    "id": "QPoOs-9coNvj",
    "outputId": "b269fe31-e9e4-41e4-b56e-0b70d0958ffd"
   },
   "outputs": [
    {
     "name": "stdout",
     "output_type": "stream",
     "text": [
      "torch.Size([1, 128, 345])\n"
     ]
    }
   ],
   "source": [
    "dataiter = iter(train_dl)\n",
    "images, labels = dataiter.next()\n",
    "\n",
    "print (images[0].shape)"
   ]
  },
  {
   "cell_type": "code",
   "execution_count": 20,
   "metadata": {},
   "outputs": [],
   "source": [
    "# Test image size\n",
    "# simple_model = nn.Sequential(\n",
    "#     nn.Conv2d(1, 32, kernel_size=5, stride=2, padding=2),\n",
    "#     nn.ReLU(),\n",
    "#     nn.MaxPool2d(2),\n",
    "#     nn.Conv2d(32, 64, kernel_size=5, stride=2, padding=2),\n",
    "#     nn.ReLU(),\n",
    "#     nn.MaxPool2d(2),\n",
    "\n",
    "#     nn.Conv2d(64, 128, kernel_size=3, stride=1, padding=1),\n",
    "#     nn.ReLU(),\n",
    "#     nn.MaxPool2d(2),\n",
    "#     nn.Conv2d(128, 256, kernel_size=2, stride=1, padding=0),\n",
    "#     nn.ReLU(),\n",
    "#     nn.MaxPool2d(2),\n",
    "\n",
    "#     nn.Flatten(), \n",
    "#     nn.Linear(256*3*7, 1024),\n",
    "#     nn.ReLU(),\n",
    "#     nn.Linear(1024, 5)\n",
    "# )\n",
    "# for images, labels in train_dl:\n",
    "#     print('images.shape:', images.shape)\n",
    "#     out = simple_model(images)\n",
    "#     print('out.shape:', out.shape)\n",
    "#     break"
   ]
  },
  {
   "cell_type": "code",
   "execution_count": 21,
   "metadata": {
    "id": "SchJyIMpzlvy"
   },
   "outputs": [],
   "source": [
    "class ImageClassificationBase(nn.Module):\n",
    "    def training_step(self, batch):\n",
    "        images, labels = batch \n",
    "        out = self(images)                  # Generate predictions\n",
    "        loss = F.cross_entropy(out, labels) # Calculate loss\n",
    "        return loss\n",
    "    \n",
    "    def validation_step(self, batch):\n",
    "        images, labels = batch \n",
    "        out = self(images)                    # Generate predictions\n",
    "        loss = F.cross_entropy(out, labels)   # Calculate loss\n",
    "        acc = accuracy(out, labels)           # Calculate accuracy\n",
    "        return {'val_loss': loss.detach(), 'val_acc': acc}\n",
    "        \n",
    "    def validation_epoch_end(self, outputs):\n",
    "        batch_losses = [x['val_loss'] for x in outputs]\n",
    "        epoch_loss = torch.stack(batch_losses).mean()   # Combine losses\n",
    "        batch_accs = [x['val_acc'] for x in outputs]\n",
    "        epoch_acc = torch.stack(batch_accs).mean()      # Combine accuracies\n",
    "        return {'val_loss': epoch_loss.item(), 'val_acc': epoch_acc.item()}\n",
    "    \n",
    "    def epoch_end(self, epoch, result):\n",
    "        print(\"Epoch [{}], train_loss: {:.4f}, val_loss: {:.4f}, val_acc: {:.4f}\".format(\n",
    "            epoch, result['train_loss'], result['val_loss'], result['val_acc']))\n",
    "        \n",
    "def accuracy(outputs, labels):\n",
    "    _, preds = torch.max(outputs, dim=1)\n",
    "    return torch.tensor(torch.sum(preds == labels).item() / len(preds))"
   ]
  },
  {
   "cell_type": "code",
   "execution_count": 22,
   "metadata": {
    "id": "1SQYTVAvcgKw"
   },
   "outputs": [],
   "source": [
    "class Net(ImageClassificationBase):\n",
    "    def __init__(self):\n",
    "        super().__init__()\n",
    "        \n",
    "        conv_layers = []\n",
    "\n",
    "        self.conv1 = nn.Conv2d(1, 32, kernel_size=(5, 5), stride=(2, 2), padding=(2, 2))\n",
    "        self.relu1 = nn.ReLU()\n",
    "        self.bn1 = nn.GroupNorm(2, 32)\n",
    "        nn.init.kaiming_normal_(self.conv1.weight, a=0.1)\n",
    "        self.pool1 = nn.MaxPool2d(2)\n",
    "        conv_layers += [self.conv1, self.relu1, self.bn1, self.pool1]\n",
    "\n",
    "        self.conv2 = nn.Conv2d(32, 64, kernel_size=(5, 5), stride=(2, 2), padding=(2, 2))\n",
    "        self.relu2 = nn.ReLU()\n",
    "        self.bn2 = nn.GroupNorm(4, 64)\n",
    "        nn.init.kaiming_normal_(self.conv2.weight, a=0.1)\n",
    "        self.pool2 = nn.MaxPool2d(2)\n",
    "        conv_layers += [self.conv2, self.relu2, self.bn2, self.pool2]\n",
    "        \n",
    "        self.conv3 = nn.Conv2d(64, 128, kernel_size=(3, 3), stride=(1, 1), padding=(1, 1))\n",
    "        self.relu3 = nn.ReLU()\n",
    "        nn.init.kaiming_normal_(self.conv3.weight, a=0.1)\n",
    "        self.pool3 = nn.MaxPool2d(2)\n",
    "        conv_layers += [self.conv3, self.relu3, self.pool3]\n",
    "\n",
    "        self.conv4 = nn.Conv2d(128, 256, kernel_size=(3, 3), stride=(1, 1), padding=(1, 1))\n",
    "        self.relu4 = nn.ReLU()\n",
    "        nn.init.kaiming_normal_(self.conv4.weight, a=0.1)\n",
    "        self.pool4 = nn.MaxPool2d(2)\n",
    "        conv_layers += [self.conv4, self.relu4, self.pool4]\n",
    "        \n",
    "        self.flatten = nn.Flatten()\n",
    "        self.linear1 = nn.Linear(256*2*5, 50)\n",
    "        self.relufc1 = nn.ReLU()\n",
    "        self.dropout = nn.Dropout(0.5)\n",
    "        self.linear2 = nn.Linear(50, 10)\n",
    "        self.relufc2 = nn.ReLU()\n",
    "        self.linear3 = nn.Linear(10, 6)\n",
    "        conv_layers += [self.flatten, self.linear1, self.relufc1, self.dropout,\n",
    "                        self.linear2, self.relufc2, self.linear3]\n",
    "        \n",
    "        self.network = nn.Sequential(*conv_layers)\n",
    "        print(conv_layers)\n",
    "    def forward(self, x):\n",
    "        return self.network(x)\n",
    "\n"
   ]
  },
  {
   "cell_type": "code",
   "execution_count": 23,
   "metadata": {
    "colab": {
     "base_uri": "https://localhost:8080/"
    },
    "id": "wvY63PUyu4KS",
    "outputId": "ae634b9c-7e42-4ef8-adb3-c3ea017df9a5"
   },
   "outputs": [
    {
     "name": "stdout",
     "output_type": "stream",
     "text": [
      "[Conv2d(1, 32, kernel_size=(5, 5), stride=(2, 2), padding=(2, 2)), ReLU(), GroupNorm(2, 32, eps=1e-05, affine=True), MaxPool2d(kernel_size=2, stride=2, padding=0, dilation=1, ceil_mode=False), Conv2d(32, 64, kernel_size=(5, 5), stride=(2, 2), padding=(2, 2)), ReLU(), GroupNorm(4, 64, eps=1e-05, affine=True), MaxPool2d(kernel_size=2, stride=2, padding=0, dilation=1, ceil_mode=False), Conv2d(64, 128, kernel_size=(3, 3), stride=(1, 1), padding=(1, 1)), ReLU(), MaxPool2d(kernel_size=2, stride=2, padding=0, dilation=1, ceil_mode=False), Conv2d(128, 256, kernel_size=(3, 3), stride=(1, 1), padding=(1, 1)), ReLU(), MaxPool2d(kernel_size=2, stride=2, padding=0, dilation=1, ceil_mode=False), Flatten(start_dim=1, end_dim=-1), Linear(in_features=2560, out_features=50, bias=True), ReLU(), Dropout(p=0.5, inplace=False), Linear(in_features=50, out_features=10, bias=True), ReLU(), Linear(in_features=10, out_features=6, bias=True)]\n",
      "Net(\n",
      "  (conv1): Conv2d(1, 32, kernel_size=(5, 5), stride=(2, 2), padding=(2, 2))\n",
      "  (relu1): ReLU()\n",
      "  (bn1): GroupNorm(2, 32, eps=1e-05, affine=True)\n",
      "  (pool1): MaxPool2d(kernel_size=2, stride=2, padding=0, dilation=1, ceil_mode=False)\n",
      "  (conv2): Conv2d(32, 64, kernel_size=(5, 5), stride=(2, 2), padding=(2, 2))\n",
      "  (relu2): ReLU()\n",
      "  (bn2): GroupNorm(4, 64, eps=1e-05, affine=True)\n",
      "  (pool2): MaxPool2d(kernel_size=2, stride=2, padding=0, dilation=1, ceil_mode=False)\n",
      "  (conv3): Conv2d(64, 128, kernel_size=(3, 3), stride=(1, 1), padding=(1, 1))\n",
      "  (relu3): ReLU()\n",
      "  (pool3): MaxPool2d(kernel_size=2, stride=2, padding=0, dilation=1, ceil_mode=False)\n",
      "  (conv4): Conv2d(128, 256, kernel_size=(3, 3), stride=(1, 1), padding=(1, 1))\n",
      "  (relu4): ReLU()\n",
      "  (pool4): MaxPool2d(kernel_size=2, stride=2, padding=0, dilation=1, ceil_mode=False)\n",
      "  (flatten): Flatten(start_dim=1, end_dim=-1)\n",
      "  (linear1): Linear(in_features=2560, out_features=50, bias=True)\n",
      "  (relufc1): ReLU()\n",
      "  (dropout): Dropout(p=0.5, inplace=False)\n",
      "  (linear2): Linear(in_features=50, out_features=10, bias=True)\n",
      "  (relufc2): ReLU()\n",
      "  (linear3): Linear(in_features=10, out_features=6, bias=True)\n",
      "  (network): Sequential(\n",
      "    (0): Conv2d(1, 32, kernel_size=(5, 5), stride=(2, 2), padding=(2, 2))\n",
      "    (1): ReLU()\n",
      "    (2): GroupNorm(2, 32, eps=1e-05, affine=True)\n",
      "    (3): MaxPool2d(kernel_size=2, stride=2, padding=0, dilation=1, ceil_mode=False)\n",
      "    (4): Conv2d(32, 64, kernel_size=(5, 5), stride=(2, 2), padding=(2, 2))\n",
      "    (5): ReLU()\n",
      "    (6): GroupNorm(4, 64, eps=1e-05, affine=True)\n",
      "    (7): MaxPool2d(kernel_size=2, stride=2, padding=0, dilation=1, ceil_mode=False)\n",
      "    (8): Conv2d(64, 128, kernel_size=(3, 3), stride=(1, 1), padding=(1, 1))\n",
      "    (9): ReLU()\n",
      "    (10): MaxPool2d(kernel_size=2, stride=2, padding=0, dilation=1, ceil_mode=False)\n",
      "    (11): Conv2d(128, 256, kernel_size=(3, 3), stride=(1, 1), padding=(1, 1))\n",
      "    (12): ReLU()\n",
      "    (13): MaxPool2d(kernel_size=2, stride=2, padding=0, dilation=1, ceil_mode=False)\n",
      "    (14): Flatten(start_dim=1, end_dim=-1)\n",
      "    (15): Linear(in_features=2560, out_features=50, bias=True)\n",
      "    (16): ReLU()\n",
      "    (17): Dropout(p=0.5, inplace=False)\n",
      "    (18): Linear(in_features=50, out_features=10, bias=True)\n",
      "    (19): ReLU()\n",
      "    (20): Linear(in_features=10, out_features=6, bias=True)\n",
      "  )\n",
      ")\n"
     ]
    }
   ],
   "source": [
    "model = Net()\n",
    "print(model)"
   ]
  },
  {
   "cell_type": "code",
   "execution_count": 376,
   "metadata": {
    "id": "rkklragaxGWm"
   },
   "outputs": [
    {
     "name": "stdout",
     "output_type": "stream",
     "text": [
      "images.shape: torch.Size([50, 1, 128, 345])\n",
      "out.shape: torch.Size([50, 6])\n",
      "out[0]: tensor([ 0.3137,  0.2302,  0.0529, -0.2673,  0.2048,  0.0260],\n",
      "       grad_fn=<SelectBackward>)\n"
     ]
    }
   ],
   "source": [
    "# Test the model on the first batch from the training dataloader\n",
    "for images, labels in train_dl:\n",
    "    print('images.shape:', images.shape)\n",
    "    out = model(images)\n",
    "    print('out.shape:', out.shape)\n",
    "    print('out[0]:', out[0])\n",
    "    break"
   ]
  },
  {
   "cell_type": "code",
   "execution_count": 377,
   "metadata": {
    "id": "P8Z2E9Jvxi70"
   },
   "outputs": [],
   "source": [
    "def get_default_device():\n",
    "    \"\"\"Pick GPU if available, else CPU\"\"\"\n",
    "    if torch.cuda.is_available():\n",
    "        return torch.device('cuda')\n",
    "    else:\n",
    "        return torch.device('cpu')\n",
    "    \n",
    "def to_device(data, device):\n",
    "    \"\"\"Move tensor(s) to chosen device\"\"\"\n",
    "    if isinstance(data, (list,tuple)):\n",
    "        return [to_device(x, device) for x in data]\n",
    "    return data.to(device, non_blocking=True)\n",
    "\n",
    "class DeviceDataLoader():\n",
    "    \"\"\"Wrap a dataloader to move data to a device\"\"\"\n",
    "    def __init__(self, dl, device):\n",
    "        self.dl = dl\n",
    "        self.device = device\n",
    "        \n",
    "    def __iter__(self):\n",
    "        \"\"\"Yield a batch of data after moving it to device\"\"\"\n",
    "        for b in self.dl: \n",
    "            yield to_device(b, self.device)\n",
    "\n",
    "    def __len__(self):\n",
    "        \"\"\"Number of batches\"\"\"\n",
    "        return len(self.dl)"
   ]
  },
  {
   "cell_type": "code",
   "execution_count": 378,
   "metadata": {
    "colab": {
     "base_uri": "https://localhost:8080/"
    },
    "id": "Oc7nWbiSxke3",
    "outputId": "cf905fb2-23b3-4f53-95b4-f337cda3bc04"
   },
   "outputs": [
    {
     "data": {
      "text/plain": [
       "device(type='cuda')"
      ]
     },
     "execution_count": 378,
     "metadata": {},
     "output_type": "execute_result"
    }
   ],
   "source": [
    "device = get_default_device()\n",
    "device"
   ]
  },
  {
   "cell_type": "code",
   "execution_count": 379,
   "metadata": {
    "id": "YEaomX8txkkN"
   },
   "outputs": [],
   "source": [
    "# Wrap training and test data loaders using `DeviceDataLoader` for automatically\n",
    "# transferring batches of data to the GPU (if available), and use `to_device` \n",
    "# to move our model to the GPU (if available).\n",
    "train_dl = DeviceDataLoader(train_dl, device)\n",
    "test_dl = DeviceDataLoader(test_dl, device)\n",
    "to_device(model, device);"
   ]
  },
  {
   "cell_type": "code",
   "execution_count": 380,
   "metadata": {
    "id": "4eDMbjkAxkql"
   },
   "outputs": [],
   "source": [
    "@torch.no_grad()\n",
    "def evaluate(model, val_loader):\n",
    "    model.eval()\n",
    "    outputs = [model.validation_step(batch) for batch in val_loader]\n",
    "    return model.validation_epoch_end(outputs)\n",
    "\n",
    "def fit(epochs, lr, model, train_loader, val_loader, opt_func=torch.optim.SGD):\n",
    "    history = []\n",
    "    optimizer = opt_func(model.parameters(), lr)\n",
    "    for epoch in range(epochs):\n",
    "        # Training Phase \n",
    "        model.train()\n",
    "        train_losses = []\n",
    "        for batch in train_loader:\n",
    "            loss = model.training_step(batch)\n",
    "            train_losses.append(loss)\n",
    "            loss.backward()\n",
    "            optimizer.step()\n",
    "            optimizer.zero_grad()\n",
    "        # Validation phase\n",
    "        result = evaluate(model, val_loader)\n",
    "        result['train_loss'] = torch.stack(train_losses).mean().item()\n",
    "        model.epoch_end(epoch, result)\n",
    "        history.append(result)\n",
    "    return history"
   ]
  },
  {
   "cell_type": "code",
   "execution_count": 381,
   "metadata": {
    "colab": {
     "base_uri": "https://localhost:8080/"
    },
    "id": "hOa27DYRxkw7",
    "outputId": "2839b67a-452b-4590-db03-490a4105832c"
   },
   "outputs": [
    {
     "name": "stdout",
     "output_type": "stream",
     "text": [
      "[Conv2d(1, 32, kernel_size=(5, 5), stride=(2, 2), padding=(2, 2)), ReLU(), GroupNorm(2, 32, eps=1e-05, affine=True), MaxPool2d(kernel_size=2, stride=2, padding=0, dilation=1, ceil_mode=False), Conv2d(32, 64, kernel_size=(5, 5), stride=(2, 2), padding=(2, 2)), ReLU(), GroupNorm(4, 64, eps=1e-05, affine=True), MaxPool2d(kernel_size=2, stride=2, padding=0, dilation=1, ceil_mode=False), Conv2d(64, 128, kernel_size=(3, 3), stride=(1, 1), padding=(1, 1)), ReLU(), MaxPool2d(kernel_size=2, stride=2, padding=0, dilation=1, ceil_mode=False), Conv2d(128, 256, kernel_size=(3, 3), stride=(1, 1), padding=(1, 1)), ReLU(), MaxPool2d(kernel_size=2, stride=2, padding=0, dilation=1, ceil_mode=False), Flatten(start_dim=1, end_dim=-1), Linear(in_features=2560, out_features=50, bias=True), ReLU(), Dropout(p=0.5, inplace=False), Linear(in_features=50, out_features=10, bias=True), ReLU(), Linear(in_features=10, out_features=6, bias=True)]\n"
     ]
    }
   ],
   "source": [
    "model = to_device(Net(), device)"
   ]
  },
  {
   "cell_type": "code",
   "execution_count": 382,
   "metadata": {
    "id": "uSO7zOWaxk2x"
   },
   "outputs": [],
   "source": [
    "# evaluate(model, test_dl)"
   ]
  },
  {
   "cell_type": "code",
   "execution_count": 383,
   "metadata": {
    "id": "OtT070h_0K-M"
   },
   "outputs": [],
   "source": [
    "num_epochs = 100\n",
    "opt_func = torch.optim.Adam\n",
    "lr = 0.00005"
   ]
  },
  {
   "cell_type": "code",
   "execution_count": 384,
   "metadata": {
    "colab": {
     "base_uri": "https://localhost:8080/"
    },
    "id": "le5h03Fl0LFA",
    "outputId": "716d8a91-101e-43ac-b206-6e1cca942f5f"
   },
   "outputs": [
    {
     "name": "stdout",
     "output_type": "stream",
     "text": [
      "Epoch [0], train_loss: 1.8086, val_loss: 1.7847, val_acc: 0.2045\n",
      "Epoch [1], train_loss: 1.7854, val_loss: 1.7883, val_acc: 0.2209\n",
      "Epoch [2], train_loss: 1.7841, val_loss: 1.7540, val_acc: 0.2600\n",
      "Epoch [3], train_loss: 1.7680, val_loss: 1.7575, val_acc: 0.2264\n",
      "Epoch [4], train_loss: 1.7509, val_loss: 1.7208, val_acc: 0.2991\n",
      "Epoch [5], train_loss: 1.7247, val_loss: 1.6778, val_acc: 0.3109\n",
      "Epoch [6], train_loss: 1.6925, val_loss: 1.6340, val_acc: 0.3591\n",
      "Epoch [7], train_loss: 1.6535, val_loss: 1.6310, val_acc: 0.3264\n",
      "Epoch [8], train_loss: 1.6059, val_loss: 1.5381, val_acc: 0.4018\n",
      "Epoch [9], train_loss: 1.5865, val_loss: 1.5181, val_acc: 0.4018\n",
      "Epoch [10], train_loss: 1.5021, val_loss: 1.4701, val_acc: 0.4209\n",
      "Epoch [11], train_loss: 1.4458, val_loss: 1.3925, val_acc: 0.4918\n",
      "Epoch [12], train_loss: 1.4072, val_loss: 1.3805, val_acc: 0.4536\n",
      "Epoch [13], train_loss: 1.3516, val_loss: 1.3593, val_acc: 0.4909\n",
      "Epoch [14], train_loss: 1.3112, val_loss: 1.2472, val_acc: 0.5400\n",
      "Epoch [15], train_loss: 1.2538, val_loss: 1.2548, val_acc: 0.4664\n",
      "Epoch [16], train_loss: 1.2442, val_loss: 1.2503, val_acc: 0.5073\n",
      "Epoch [17], train_loss: 1.2033, val_loss: 1.2324, val_acc: 0.5218\n",
      "Epoch [18], train_loss: 1.1680, val_loss: 1.2308, val_acc: 0.5209\n",
      "Epoch [19], train_loss: 1.1453, val_loss: 1.2030, val_acc: 0.5336\n",
      "Epoch [20], train_loss: 1.1071, val_loss: 1.1446, val_acc: 0.5664\n",
      "Epoch [21], train_loss: 1.0791, val_loss: 1.1359, val_acc: 0.5918\n",
      "Epoch [22], train_loss: 1.0563, val_loss: 1.1429, val_acc: 0.5636\n",
      "Epoch [23], train_loss: 1.0096, val_loss: 1.1026, val_acc: 0.5636\n",
      "Epoch [24], train_loss: 0.9991, val_loss: 1.1252, val_acc: 0.6082\n",
      "Epoch [25], train_loss: 0.9720, val_loss: 1.0892, val_acc: 0.5918\n",
      "Epoch [26], train_loss: 0.9593, val_loss: 1.0660, val_acc: 0.5855\n",
      "Epoch [27], train_loss: 0.9297, val_loss: 1.1032, val_acc: 0.5855\n",
      "Epoch [28], train_loss: 0.9078, val_loss: 1.0243, val_acc: 0.6227\n",
      "Epoch [29], train_loss: 0.8701, val_loss: 1.0693, val_acc: 0.6064\n",
      "Epoch [30], train_loss: 0.8684, val_loss: 1.0543, val_acc: 0.5927\n",
      "Epoch [31], train_loss: 0.8247, val_loss: 1.0391, val_acc: 0.6355\n",
      "Epoch [32], train_loss: 0.8322, val_loss: 1.0548, val_acc: 0.5945\n",
      "Epoch [33], train_loss: 0.8253, val_loss: 1.0772, val_acc: 0.6118\n",
      "Epoch [34], train_loss: 0.7753, val_loss: 1.0413, val_acc: 0.6082\n",
      "Epoch [35], train_loss: 0.7447, val_loss: 0.9350, val_acc: 0.6764\n",
      "Epoch [36], train_loss: 0.7145, val_loss: 1.0953, val_acc: 0.6064\n",
      "Epoch [37], train_loss: 0.7234, val_loss: 0.9692, val_acc: 0.6636\n",
      "Epoch [38], train_loss: 0.6760, val_loss: 0.9510, val_acc: 0.6482\n",
      "Epoch [39], train_loss: 0.6777, val_loss: 1.0146, val_acc: 0.6555\n",
      "Epoch [40], train_loss: 0.6685, val_loss: 0.9997, val_acc: 0.6400\n",
      "Epoch [41], train_loss: 0.6258, val_loss: 1.0001, val_acc: 0.6364\n",
      "Epoch [42], train_loss: 0.6055, val_loss: 0.9778, val_acc: 0.6564\n",
      "Epoch [43], train_loss: 0.5982, val_loss: 0.9759, val_acc: 0.6264\n",
      "Epoch [44], train_loss: 0.5535, val_loss: 1.0019, val_acc: 0.6509\n",
      "Epoch [45], train_loss: 0.5487, val_loss: 0.9574, val_acc: 0.6782\n",
      "Epoch [46], train_loss: 0.5424, val_loss: 0.9052, val_acc: 0.6855\n",
      "Epoch [47], train_loss: 0.5262, val_loss: 0.8990, val_acc: 0.6873\n",
      "Epoch [48], train_loss: 0.5186, val_loss: 0.9862, val_acc: 0.6236\n",
      "Epoch [49], train_loss: 0.4969, val_loss: 0.9180, val_acc: 0.6945\n",
      "Epoch [50], train_loss: 0.4856, val_loss: 1.0016, val_acc: 0.6527\n",
      "Epoch [51], train_loss: 0.4609, val_loss: 0.9306, val_acc: 0.6718\n",
      "Epoch [52], train_loss: 0.4815, val_loss: 1.0283, val_acc: 0.6364\n",
      "Epoch [53], train_loss: 0.4455, val_loss: 0.9267, val_acc: 0.6945\n",
      "Epoch [54], train_loss: 0.4136, val_loss: 0.9927, val_acc: 0.6609\n",
      "Epoch [55], train_loss: 0.4056, val_loss: 0.9565, val_acc: 0.6736\n",
      "Epoch [56], train_loss: 0.3941, val_loss: 0.9139, val_acc: 0.6982\n",
      "Epoch [57], train_loss: 0.3828, val_loss: 0.9358, val_acc: 0.6800\n",
      "Epoch [58], train_loss: 0.3664, val_loss: 0.9649, val_acc: 0.6591\n",
      "Epoch [59], train_loss: 0.3539, val_loss: 0.9623, val_acc: 0.6755\n",
      "Epoch [60], train_loss: 0.3329, val_loss: 1.0645, val_acc: 0.6564\n",
      "Epoch [61], train_loss: 0.3488, val_loss: 1.0253, val_acc: 0.6582\n",
      "Epoch [62], train_loss: 0.3145, val_loss: 1.1795, val_acc: 0.6336\n",
      "Epoch [63], train_loss: 0.3084, val_loss: 0.9565, val_acc: 0.6773\n",
      "Epoch [64], train_loss: 0.3146, val_loss: 1.1734, val_acc: 0.6318\n",
      "Epoch [65], train_loss: 0.2990, val_loss: 0.9088, val_acc: 0.7145\n",
      "Epoch [66], train_loss: 0.2900, val_loss: 0.9763, val_acc: 0.6864\n",
      "Epoch [67], train_loss: 0.2812, val_loss: 1.1246, val_acc: 0.6600\n",
      "Epoch [68], train_loss: 0.2630, val_loss: 1.0722, val_acc: 0.6336\n",
      "Epoch [69], train_loss: 0.2637, val_loss: 0.9528, val_acc: 0.7073\n",
      "Epoch [70], train_loss: 0.2632, val_loss: 0.9837, val_acc: 0.6509\n",
      "Epoch [71], train_loss: 0.2499, val_loss: 0.9716, val_acc: 0.7036\n",
      "Epoch [72], train_loss: 0.2336, val_loss: 1.1559, val_acc: 0.6618\n",
      "Epoch [73], train_loss: 0.2404, val_loss: 1.0359, val_acc: 0.6636\n",
      "Epoch [74], train_loss: 0.2131, val_loss: 1.0666, val_acc: 0.6809\n",
      "Epoch [75], train_loss: 0.2104, val_loss: 0.9687, val_acc: 0.6982\n",
      "Epoch [76], train_loss: 0.2032, val_loss: 1.0189, val_acc: 0.6782\n",
      "Epoch [77], train_loss: 0.1996, val_loss: 1.0760, val_acc: 0.6673\n",
      "Epoch [78], train_loss: 0.1955, val_loss: 1.1260, val_acc: 0.6618\n",
      "Epoch [79], train_loss: 0.1918, val_loss: 0.9921, val_acc: 0.7109\n",
      "Epoch [80], train_loss: 0.1879, val_loss: 1.1600, val_acc: 0.6582\n",
      "Epoch [81], train_loss: 0.1738, val_loss: 1.2080, val_acc: 0.6418\n",
      "Epoch [82], train_loss: 0.1764, val_loss: 1.0899, val_acc: 0.6809\n",
      "Epoch [83], train_loss: 0.1677, val_loss: 1.0369, val_acc: 0.6755\n",
      "Epoch [84], train_loss: 0.1631, val_loss: 1.0408, val_acc: 0.7073\n",
      "Epoch [85], train_loss: 0.1727, val_loss: 1.2104, val_acc: 0.6445\n",
      "Epoch [86], train_loss: 0.1554, val_loss: 1.1241, val_acc: 0.6545\n",
      "Epoch [87], train_loss: 0.1505, val_loss: 1.0903, val_acc: 0.6618\n",
      "Epoch [88], train_loss: 0.1521, val_loss: 1.0768, val_acc: 0.6918\n",
      "Epoch [89], train_loss: 0.1518, val_loss: 1.0279, val_acc: 0.7018\n",
      "Epoch [90], train_loss: 0.1493, val_loss: 1.0095, val_acc: 0.7000\n",
      "Epoch [91], train_loss: 0.1348, val_loss: 1.0938, val_acc: 0.6827\n",
      "Epoch [92], train_loss: 0.1241, val_loss: 1.2264, val_acc: 0.6727\n",
      "Epoch [93], train_loss: 0.1335, val_loss: 1.1160, val_acc: 0.7091\n",
      "Epoch [94], train_loss: 0.1309, val_loss: 1.0712, val_acc: 0.7091\n",
      "Epoch [95], train_loss: 0.1329, val_loss: 1.0731, val_acc: 0.7055\n",
      "Epoch [96], train_loss: 0.1149, val_loss: 1.2281, val_acc: 0.6764\n",
      "Epoch [97], train_loss: 0.1097, val_loss: 1.1479, val_acc: 0.6791\n",
      "Epoch [98], train_loss: 0.1163, val_loss: 1.1186, val_acc: 0.6809\n",
      "Epoch [99], train_loss: 0.1106, val_loss: 1.2792, val_acc: 0.6500\n"
     ]
    }
   ],
   "source": [
    "history = fit(num_epochs, lr, model, train_dl, test_dl, opt_func)"
   ]
  },
  {
   "cell_type": "code",
   "execution_count": 385,
   "metadata": {
    "id": "wm8LrMMf0LMk"
   },
   "outputs": [],
   "source": [
    "def plot_accuracies(history):\n",
    "    accuracies = [x['val_acc'] for x in history]\n",
    "    plt.plot(accuracies, '-x')\n",
    "    plt.xlabel('epoch')\n",
    "    plt.ylabel('accuracy')\n",
    "    plt.title('Accuracy vs. No. of epochs');"
   ]
  },
  {
   "cell_type": "code",
   "execution_count": 386,
   "metadata": {
    "colab": {
     "base_uri": "https://localhost:8080/",
     "height": 295
    },
    "id": "KIuhdAcS0u7S",
    "outputId": "65ecafe1-d0b8-4231-8f14-4162326f0c63"
   },
   "outputs": [
    {
     "data": {
      "image/png": "[encoded data removed]",
      "text/plain": [
       "<Figure size 432x288 with 1 Axes>"
      ]
     },
     "metadata": {
      "needs_background": "light"
     },
     "output_type": "display_data"
    }
   ],
   "source": [
    "plot_accuracies(history)"
   ]
  },
  {
   "cell_type": "markdown",
   "metadata": {},
   "source": [
    "Runs:\n",
    "- Run1: dropout = 0.25 + 3 linear layers => accuracy = 0.6301\n",
    "- Run 2: dropout = 0.25 + 2 linear layers => accuracy = 0.6127\n",
    "- Run 3: dropout = 0.5 + 3 linear layers => accuracy = 0.6373\n",
    "- Run 4: dropout = 0.5 + 2 linear layers => accuracy = 0.6227\n",
    "- Run 5: dropout = 0.5 + 3 linear layers + dropping the last convolutional layer => accuracy = 0.6491 (plus went up to 0.70!)\n",
    "- Run 6: dropout = 0.5 + 2 linear layers + dropping the last convolutional layer => accuracy = 0.6445 (not up to 0.70)\n",
    "- Run 7: dropout = 0.5 + 3 linear layers + dropping the last convolutional layer + last kernel at 2 with 0 padding => accuracy = 0.6073\n",
    "- Run 8: dropout = 0.5 + 3 linear layers + dropping the last convolutional layer + BatchNorm2d momentum set to None (for cumulative moving average) => accuracy = 0.5464\n",
    "- Run 9: dropout = 0.5 + 3 linear layers + dropping the last convolutional layer + InstanceNorm2d instead of BatchNorm2 as the normalization layer => accuracy = 0.6418\n",
    "- Run 10: dropout = 0.5 + 3 linear layers + dropping the last convolutional layer + GroupNorm(8, n_channels) instead of BatchNorm2 as the normalization layer => accuracy = 0.6455\n",
    "- Run 11: dropout = 0.5 + 3 linear layers + dropping the last convolutional layer + GroupNorm(8, 32) then (16, 64)  instead of BatchNorm2 as the normalization layer => accuracy = 0.6373\n",
    "- Run 12: dropout = 0.5 + 3 linear layers + dropping the last convolutional layer + GroupNorm(4, 32) then (8, 64)  instead of BatchNorm2 as the normalization layer => accuracy = 0.6582\n",
    "- Run 13: dropout = 0.5 + 3 linear layers + dropping the last convolutional layer + GroupNorm(4, 32) then (4, 64)  instead of BatchNorm2 as the normalization layer => accuracy = 0.6591\n",
    "- Run 14: dropout = 0.5 + 3 linear layers + dropping the last convolutional layer + GroupNorm(2, 32) then (4, 64)  instead of BatchNorm2 as the normalization layer => accuracy = 0.6645\n",
    "- Run 15: dropout = 0.5 + 3 linear layers + dropping the last convolutional layer + GroupNorm(2, 32) then (2, 64)  instead of BatchNorm2 as the normalization layer => accuracy = 0.6336\n",
    "- Run 16: dropout = 0.5 + 3 linear layers + dropping the last convolutional layer + GroupNorm(2, 32) then (4, 64)  instead of BatchNorm2 as the normalization layer + PoissonNLLoss instead of CrossEntropyLoss as loss function => accuracy = 0.6655 (actually loss function not implemented so same as run 14)\n",
    "- Run 17: dropout = 0.5 + 3 linear layers + dropping the last convolutional layer + GroupNorm(2, 32) then (4, 64)  instead of BatchNorm2 as the normalization layer + AdamW instead of Adam as optimizer function => accuracy = 0.6418\n",
    "- Run 18: dropout = 0.5 + 3 linear layers + dropping the last convolutional layer + GroupNorm(2, 32) then (4, 64)  instead of BatchNorm2 as the normalization layer + Adamax instead of Adam as optimizer function => accuracy = 0.5409\n",
    "\n",
    "note: AdaDelta gave very low score\n",
    "\n",
    "Best run: Run 16"
   ]
  }
 ],
 "metadata": {
  "accelerator": "GPU",
  "colab": {
   "collapsed_sections": [
    "R9kLyX5bcgKx"
   ],
   "name": "CNN.ipynb",
   "provenance": []
  },
  "kernelspec": {
   "display_name": "Python 3",
   "language": "python",
   "name": "python3"
  },
  "language_info": {
   "codemirror_mode": {
    "name": "ipython",
    "version": 3
   },
   "file_extension": ".py",
   "mimetype": "text/x-python",
   "name": "python",
   "nbconvert_exporter": "python",
   "pygments_lexer": "ipython3",
   "version": "3.8.8"
  }
 },
 "nbformat": 4,
 "nbformat_minor": 1
}
