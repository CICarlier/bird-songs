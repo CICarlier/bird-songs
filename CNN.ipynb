{
  "nbformat": 4,
  "nbformat_minor": 0,
  "metadata": {
    "accelerator": "GPU",
    "colab": {
      "name": "CNN.ipynb",
      "provenance": [],
      "collapsed_sections": [],
      "toc_visible": true
    },
    "kernelspec": {
      "display_name": "Python 3",
      "language": "python",
      "name": "python3"
    },
    "language_info": {
      "codemirror_mode": {
        "name": "ipython",
        "version": 3
      },
      "file_extension": ".py",
      "mimetype": "text/x-python",
      "name": "python",
      "nbconvert_exporter": "python",
      "pygments_lexer": "ipython3",
      "version": "3.8.8"
    }
  },
  "cells": [
    {
      "cell_type": "markdown",
      "metadata": {
        "id": "cxIFJRqdcgKp"
      },
      "source": [
        "# CNN Classification of Mel Spectrograms\n",
        "\n",
        "Tried and follow\n",
        "https://www.analyticsvidhya.com/blog/2019/10/building-image-classification-models-cnn-pytorch/"
      ]
    },
    {
      "cell_type": "code",
      "metadata": {
        "colab": {
          "base_uri": "https://localhost:8080/"
        },
        "id": "j82LYP7cchTT",
        "outputId": "8351265b-6599-48fe-d622-6ba694919d5b"
      },
      "source": [
        "# For Colab only\n",
        "from google.colab import drive\n",
        "drive.mount('content/') # /content/drive/MyDrive/bird-songs"
      ],
      "execution_count": null,
      "outputs": [
        {
          "output_type": "stream",
          "text": [
            "Mounted at content/\n"
          ],
          "name": "stdout"
        }
      ]
    },
    {
      "cell_type": "markdown",
      "metadata": {
        "id": "M5mJj0D7cgKr"
      },
      "source": [
        "## Training a model"
      ]
    },
    {
      "cell_type": "code",
      "metadata": {
        "id": "-q2q6CHhcgKr"
      },
      "source": [
        "# importing the libraries\n",
        "import pandas as pd\n",
        "import numpy as np\n",
        "from tqdm import tqdm\n",
        "\n",
        "# for reading and displaying images\n",
        "from skimage.io import imread\n",
        "import os.path\n",
        "import matplotlib.pyplot as plt\n",
        "%matplotlib inline\n",
        "\n",
        "# for creating validation set\n",
        "from sklearn.model_selection import train_test_split\n",
        "\n",
        "# for evaluating the model\n",
        "from sklearn.metrics import accuracy_score\n",
        "\n",
        "# PyTorch libraries and modules\n",
        "import torch\n",
        "import torch.nn as nn\n",
        "import torch.nn.functional as F\n",
        "from torch.autograd import Variable\n",
        "from torch.optim import Adam\n",
        "from torch.utils.data.dataloader import DataLoader, Dataset\n"
      ],
      "execution_count": null,
      "outputs": []
    },
    {
      "cell_type": "code",
      "metadata": {
        "colab": {
          "base_uri": "https://localhost:8080/",
          "height": 306
        },
        "id": "lwnNAY8_cgKs",
        "outputId": "c5ba1cb8-5154-4b73-bed1-f62418be725b"
      },
      "source": [
        "# Check whether google drive mounted\n",
        "path = '/content/content/MyDrive/bird-songs'\n",
        "if os.path.isdir(path) == True:\n",
        "    run_on_colab = True\n",
        "else:\n",
        "    run_on_colab = False\n",
        "\n",
        "\n",
        "\n",
        "if run_on_colab ==True:\n",
        "    features = pd.read_csv('/content/content/MyDrive/bird-songs/features.csv', header=None, encoding='latin')\n",
        "else:\n",
        "    features = pd.read_csv('features.csv', encoding='latin')\n",
        "features.columns= ['id', 'gen', 'sp', 'ssp', 'en', 'cnt', 'loc','type', 'q', 'length', 'bird-seen', 'link']\n",
        "features.head()"
      ],
      "execution_count": null,
      "outputs": [
        {
          "output_type": "execute_result",
          "data": {
            "text/html": [
              "<div>\n",
              "<style scoped>\n",
              "    .dataframe tbody tr th:only-of-type {\n",
              "        vertical-align: middle;\n",
              "    }\n",
              "\n",
              "    .dataframe tbody tr th {\n",
              "        vertical-align: top;\n",
              "    }\n",
              "\n",
              "    .dataframe thead th {\n",
              "        text-align: right;\n",
              "    }\n",
              "</style>\n",
              "<table border=\"1\" class=\"dataframe\">\n",
              "  <thead>\n",
              "    <tr style=\"text-align: right;\">\n",
              "      <th></th>\n",
              "      <th>id</th>\n",
              "      <th>gen</th>\n",
              "      <th>sp</th>\n",
              "      <th>ssp</th>\n",
              "      <th>en</th>\n",
              "      <th>cnt</th>\n",
              "      <th>loc</th>\n",
              "      <th>type</th>\n",
              "      <th>q</th>\n",
              "      <th>length</th>\n",
              "      <th>bird-seen</th>\n",
              "      <th>link</th>\n",
              "    </tr>\n",
              "  </thead>\n",
              "  <tbody>\n",
              "    <tr>\n",
              "      <th>0</th>\n",
              "      <td>527379</td>\n",
              "      <td>Dendrocygna</td>\n",
              "      <td>autumnalis</td>\n",
              "      <td>NaN</td>\n",
              "      <td>Black-bellied Whistling Duck</td>\n",
              "      <td>United States</td>\n",
              "      <td>Circle B Bar Reserve, Lakeland, Polk County, F...</td>\n",
              "      <td>call</td>\n",
              "      <td>no score</td>\n",
              "      <td>0:35</td>\n",
              "      <td>yes</td>\n",
              "      <td>//www.xeno-canto.org/527379/download</td>\n",
              "    </tr>\n",
              "    <tr>\n",
              "      <th>1</th>\n",
              "      <td>480387</td>\n",
              "      <td>Dendrocygna</td>\n",
              "      <td>autumnalis</td>\n",
              "      <td>NaN</td>\n",
              "      <td>Black-bellied Whistling Duck</td>\n",
              "      <td>United States</td>\n",
              "      <td>Savannah, Chatham County, Georgia</td>\n",
              "      <td>call</td>\n",
              "      <td>A</td>\n",
              "      <td>0:35</td>\n",
              "      <td>yes</td>\n",
              "      <td>//www.xeno-canto.org/480387/download</td>\n",
              "    </tr>\n",
              "    <tr>\n",
              "      <th>2</th>\n",
              "      <td>316537</td>\n",
              "      <td>Dendrocygna</td>\n",
              "      <td>autumnalis</td>\n",
              "      <td>NaN</td>\n",
              "      <td>Black-bellied Whistling Duck</td>\n",
              "      <td>United States</td>\n",
              "      <td>Chalkley Road, Cameron Parish, Louisiana</td>\n",
              "      <td>call</td>\n",
              "      <td>A</td>\n",
              "      <td>0:07</td>\n",
              "      <td>yes</td>\n",
              "      <td>//www.xeno-canto.org/316537/download</td>\n",
              "    </tr>\n",
              "    <tr>\n",
              "      <th>3</th>\n",
              "      <td>192058</td>\n",
              "      <td>Dendrocygna</td>\n",
              "      <td>autumnalis</td>\n",
              "      <td>NaN</td>\n",
              "      <td>Black-bellied Whistling Duck</td>\n",
              "      <td>United States</td>\n",
              "      <td>Orlando Wetlands, Christmas, Orange County, Fl...</td>\n",
              "      <td>flight call</td>\n",
              "      <td>A</td>\n",
              "      <td>0:19</td>\n",
              "      <td>yes</td>\n",
              "      <td>//www.xeno-canto.org/192058/download</td>\n",
              "    </tr>\n",
              "    <tr>\n",
              "      <th>4</th>\n",
              "      <td>172910</td>\n",
              "      <td>Dendrocygna</td>\n",
              "      <td>autumnalis</td>\n",
              "      <td>NaN</td>\n",
              "      <td>Black-bellied Whistling Duck</td>\n",
              "      <td>United States</td>\n",
              "      <td>Orlando Wetlands, Christmas, Orange County, Fl...</td>\n",
              "      <td>call</td>\n",
              "      <td>A</td>\n",
              "      <td>1:18</td>\n",
              "      <td>yes</td>\n",
              "      <td>//www.xeno-canto.org/172910/download</td>\n",
              "    </tr>\n",
              "  </tbody>\n",
              "</table>\n",
              "</div>"
            ],
            "text/plain": [
              "       id          gen  ... bird-seen                                  link\n",
              "0  527379  Dendrocygna  ...       yes  //www.xeno-canto.org/527379/download\n",
              "1  480387  Dendrocygna  ...       yes  //www.xeno-canto.org/480387/download\n",
              "2  316537  Dendrocygna  ...       yes  //www.xeno-canto.org/316537/download\n",
              "3  192058  Dendrocygna  ...       yes  //www.xeno-canto.org/192058/download\n",
              "4  172910  Dendrocygna  ...       yes  //www.xeno-canto.org/172910/download\n",
              "\n",
              "[5 rows x 12 columns]"
            ]
          },
          "metadata": {
            "tags": []
          },
          "execution_count": 7
        }
      ]
    },
    {
      "cell_type": "code",
      "metadata": {
        "id": "giCNt5XlcgKs"
      },
      "source": [
        "# These are the top species we selected for our analysis\n",
        "selected_species = ['Red-winged Blackbird', \n",
        "                    'Common Yellowthroat', \n",
        "                    'Northern Cardinal', \n",
        "                    'Carolina Wren', \n",
        "                    'Red Crossbill', \n",
        "                    'Spotted Towhee']\n",
        "# We only need the id and the labels for our CNN.\n",
        "dataset = features[features.en.isin(selected_species)][['id', 'en']]\n",
        "# Now we need to change our labels into integers as torch does not support string format for labels.\n",
        "labels = {\"Red-winged Blackbird\": 0, 'Common Yellowthroat': 1, 'Northern Cardinal': 2, 'Carolina Wren': 3,\n",
        "          'Red Crossbill': 4, 'Spotted Towhee': 5}\n",
        "dataset['label'] = dataset.apply(lambda row: labels[row.en], axis=1)\n",
        "dataset.drop('en', axis=1, inplace=True)"
      ],
      "execution_count": null,
      "outputs": []
    },
    {
      "cell_type": "code",
      "metadata": {
        "id": "2-4TZV1iyX8k"
      },
      "source": [
        "def load_images(dataset):\n",
        "    img_df = []\n",
        "    for img_name in tqdm(dataset['id']):\n",
        "        # defining the image path\n",
        "        if run_on_colab == True:\n",
        "            image_path = '/content/content/MyDrive/bird-songs/images/mel_spectrograms_8sec/' + str(img_name) + '.jpg' \n",
        "        else:\n",
        "            image_path = 'images/mel_spectrograms_8sec/' + str(img_name) + '.jpg'\n",
        "        # reading the image\n",
        "        img = imread(image_path, as_gray=True)\n",
        "         # normalizing the pixel values\n",
        "        img = 2 * img - 1\n",
        "        # converting the type of pixel to float 32\n",
        "        img = img.astype('float32')\n",
        "        # appending the image into the list\n",
        "        img_df.append(img)\n",
        "    \n",
        "    # converting the list to numpy array\n",
        "    return np.array(img_df)"
      ],
      "execution_count": null,
      "outputs": []
    },
    {
      "cell_type": "code",
      "metadata": {
        "colab": {
          "base_uri": "https://localhost:8080/"
        },
        "id": "4QwsogdqyX8l",
        "outputId": "292d3c8a-b5a8-4142-f065-9f1910ffafc3"
      },
      "source": [
        "X, y = load_images(dataset), dataset['label'].values\n",
        "X.shape, y.shape"
      ],
      "execution_count": null,
      "outputs": [
        {
          "output_type": "stream",
          "text": [
            "100%|██████████| 2516/2516 [11:28<00:00,  3.65it/s]\n"
          ],
          "name": "stderr"
        },
        {
          "output_type": "execute_result",
          "data": {
            "text/plain": [
              "((2516, 128, 345), (2516,))"
            ]
          },
          "metadata": {
            "tags": []
          },
          "execution_count": 10
        }
      ]
    },
    {
      "cell_type": "code",
      "metadata": {
        "id": "xEUUmhZPOIur",
        "colab": {
          "base_uri": "https://localhost:8080/"
        },
        "outputId": "11db1597-69fb-46de-db7f-d1a0c63945b6"
      },
      "source": [
        "X_train, X_test, y_train, y_test = train_test_split(X, y, test_size=0.20, random_state=42)\n",
        "\n",
        "print(X_train.shape)\n",
        "print(X_test.shape)\n"
      ],
      "execution_count": null,
      "outputs": [
        {
          "output_type": "stream",
          "text": [
            "(2012, 128, 345)\n",
            "(504, 128, 345)\n"
          ],
          "name": "stdout"
        }
      ]
    },
    {
      "cell_type": "markdown",
      "metadata": {
        "id": "PgYLkum8mtkc"
      },
      "source": [
        "## CNN\n",
        "\n",
        "If you have compatible GPU technology on your computer, you can run the CNN on it instead of CPU. \n",
        "If you are using anaconda, either create a new environment or uninstall pytorch in your current environment (if already installed) then install PyTorch with cuda:\n",
        "\n",
        "`conda install pytorch torchvision cudatoolkit=10.2 -c pytorch`\n",
        "\n",
        "Running this CNN on CPU takes about 17 minutes on a Dell XPS 15 9500 with 1TB SSD and 32GB RAM (2x16GB) with Windows 10. Switching to using the NVIDIA GeForce GTX 1650 it takes less than 5minutes. "
      ]
    },
    {
      "cell_type": "code",
      "metadata": {
        "id": "F6q4bNfqMd0o"
      },
      "source": [
        "class BirdSongDataset(Dataset):\n",
        "    def __init__(self):\n",
        "       pass "
      ],
      "execution_count": null,
      "outputs": []
    },
    {
      "cell_type": "code",
      "metadata": {
        "id": "zqtJ_AXNcgKv"
      },
      "source": [
        "train_data = []\n",
        "# Note: Conv2d layers expect input with the shape (n_samples, channels, height, width)\n",
        "for i in range(len(X_train)):\n",
        "    train_data.append([np.expand_dims(X_train[i], axis=0), y_train[i]]) \n",
        "test_data = []\n",
        "for i in range(len(X_test)):\n",
        "    test_data.append([np.expand_dims(X_test[i], axis=0), y_test[i]])"
      ],
      "execution_count": null,
      "outputs": []
    },
    {
      "cell_type": "code",
      "metadata": {
        "id": "IqJguy_gcgKv",
        "colab": {
          "base_uri": "https://localhost:8080/"
        },
        "outputId": "ad73f195-d375-4d7c-de88-aa996e47d3ad"
      },
      "source": [
        "batch_size=50\n",
        "train_dl = DataLoader(train_data, batch_size=batch_size, shuffle=True, drop_last=True)\n",
        "test_dl = DataLoader(test_data, batch_size=batch_size, shuffle=True, drop_last=True)\n",
        "i = 0\n",
        "for x, y in test_dl:\n",
        "    print (x.size())\n",
        "    i+=1\n",
        "print(i)"
      ],
      "execution_count": null,
      "outputs": [
        {
          "output_type": "stream",
          "text": [
            "torch.Size([50, 1, 128, 345])\n",
            "torch.Size([50, 1, 128, 345])\n",
            "torch.Size([50, 1, 128, 345])\n",
            "torch.Size([50, 1, 128, 345])\n",
            "torch.Size([50, 1, 128, 345])\n",
            "torch.Size([50, 1, 128, 345])\n",
            "torch.Size([50, 1, 128, 345])\n",
            "torch.Size([50, 1, 128, 345])\n",
            "torch.Size([50, 1, 128, 345])\n",
            "torch.Size([50, 1, 128, 345])\n",
            "10\n"
          ],
          "name": "stdout"
        }
      ]
    },
    {
      "cell_type": "code",
      "metadata": {
        "id": "SchJyIMpzlvy"
      },
      "source": [
        "class ImageClassifierBase(nn.Module):\n",
        "    def training_step(self, batch):\n",
        "        images, labels = batch \n",
        "        out = self(images)                  # Generate predictions\n",
        "        loss = F.cross_entropy(out, labels) # Calculate loss\n",
        "        acc = accuracy(out, labels)         # Calculate accuracy\n",
        "        return loss, acc\n",
        "    \n",
        "    def validation_step(self, batch):\n",
        "        images, labels = batch \n",
        "        out = self(images)                    # Generate predictions\n",
        "        loss = F.cross_entropy(out, labels)   # Calculate loss\n",
        "        acc = accuracy(out, labels)           # Calculate accuracy\n",
        "        return {'val_loss': loss.detach(), 'val_acc': acc}\n",
        "        \n",
        "    def validation_epoch_end(self, outputs):\n",
        "        batch_losses = [x['val_loss'] for x in outputs]\n",
        "        epoch_loss = torch.stack(batch_losses).mean()   # Combine losses\n",
        "        batch_accs = [x['val_acc'] for x in outputs]\n",
        "        epoch_acc = torch.stack(batch_accs).mean()      # Combine accuracies\n",
        "        return {'val_loss': epoch_loss.item(), 'val_acc': epoch_acc.item()}\n",
        "    \n",
        "    def epoch_end(self, epoch, result):\n",
        "        print(\"Epoch [{}], train_loss: {:.4f}, train_acc: {:.4f}, val_loss: {:.4f}, val_acc: {:.4f}\".format(\n",
        "            epoch, result['train_loss'], result['train_acc'], result['val_loss'], result['val_acc']))\n",
        "        \n",
        "def accuracy(outputs, labels):\n",
        "    _, preds = torch.max(outputs, dim=1)\n",
        "    return torch.tensor(torch.sum(preds == labels).item() / len(preds))"
      ],
      "execution_count": null,
      "outputs": []
    },
    {
      "cell_type": "code",
      "metadata": {
        "id": "1SQYTVAvcgKw"
      },
      "source": [
        "class BirdSongModel(ImageClassifierBase):\n",
        "    def __init__(self):\n",
        "        super().__init__()\n",
        "        \n",
        "        conv_layers = []\n",
        "\n",
        "        self.conv1 = nn.Conv2d(1, 32, kernel_size=(5, 5), stride=(2, 2), padding=(2, 2))\n",
        "        self.relu1 = nn.ReLU()\n",
        "        self.bn1 = nn.GroupNorm(2, 32)\n",
        "        nn.init.kaiming_normal_(self.conv1.weight, a=0.1)\n",
        "        self.pool1 = nn.MaxPool2d(2)\n",
        "        conv_layers += [self.conv1, self.relu1, self.bn1, self.pool1]\n",
        "\n",
        "        self.conv2 = nn.Conv2d(32, 64, kernel_size=(5, 5), stride=(2, 2), padding=(2, 2))\n",
        "        self.relu2 = nn.ReLU()\n",
        "        self.bn2 = nn.GroupNorm(4, 64)\n",
        "        nn.init.kaiming_normal_(self.conv2.weight, a=0.1)\n",
        "        self.pool2 = nn.MaxPool2d(2)\n",
        "        conv_layers += [self.conv2, self.relu2, self.bn2, self.pool2]\n",
        "        \n",
        "        self.conv3 = nn.Conv2d(64, 128, kernel_size=(3, 3), stride=(1, 1), padding=(1, 1))\n",
        "        self.relu3 = nn.ReLU()\n",
        "        nn.init.kaiming_normal_(self.conv3.weight, a=0.1)\n",
        "        self.pool3 = nn.MaxPool2d(2)\n",
        "        conv_layers += [self.conv3, self.relu3, self.pool3]\n",
        "\n",
        "        self.conv4 = nn.Conv2d(128, 256, kernel_size=(3, 3), stride=(1, 1), padding=(1, 1))\n",
        "        self.relu4 = nn.ReLU()\n",
        "        nn.init.kaiming_normal_(self.conv4.weight, a=0.1)\n",
        "        self.pool4 = nn.MaxPool2d(2)\n",
        "        conv_layers += [self.conv4, self.relu4, self.pool4]\n",
        "        \n",
        "        self.flatten = nn.Flatten()\n",
        "        self.linear1 = nn.Linear(256*2*5, 50)\n",
        "        self.relufc1 = nn.ReLU()\n",
        "        self.dropout = nn.Dropout(0.5)\n",
        "        self.linear2 = nn.Linear(50, 10)\n",
        "        self.relufc2 = nn.ReLU()\n",
        "        self.linear3 = nn.Linear(10, 6)\n",
        "        conv_layers += [self.flatten, self.linear1, self.relufc1, self.dropout,\n",
        "                        self.linear2, self.relufc2, self.linear3]\n",
        "        \n",
        "        self.network = nn.Sequential(*conv_layers)\n",
        "        print(conv_layers)\n",
        "\n",
        "    def forward(self, x):\n",
        "        return self.network(x)\n"
      ],
      "execution_count": null,
      "outputs": []
    },
    {
      "cell_type": "code",
      "metadata": {
        "id": "P8Z2E9Jvxi70"
      },
      "source": [
        "# Helper functions to have option of running with GPU or CPU\n",
        "def get_default_device():\n",
        "    \"\"\"Create device: Pick GPU if available, else CPU\"\"\"\n",
        "    if torch.cuda.is_available():\n",
        "        return torch.device('cuda')\n",
        "    else:\n",
        "        return torch.device('cpu')\n",
        "    \n",
        "def to_device(data, device):\n",
        "    \"\"\"Move tensor(s) of data to chosen device\"\"\"\n",
        "    # If list of tensors\n",
        "    if isinstance(data, (list,tuple)):\n",
        "        return [to_device(x, device) for x in data]\n",
        "    # else if single tensor\n",
        "    return data.to(device, non_blocking=True)\n",
        "\n",
        "class DeviceDataLoader():\n",
        "    \"\"\"Wrap a dataloader to yield data to device as\n",
        "    the batches are requested\"\"\"\n",
        "    def __init__(self, dl, device):\n",
        "        self.dl = dl\n",
        "        self.device = device\n",
        "        \n",
        "    def __iter__(self):\n",
        "        \"\"\"Yield a batch of data after moving it to device\"\"\"\n",
        "        for b in self.dl: \n",
        "            yield to_device(b, self.device)\n",
        "\n",
        "    def __len__(self):\n",
        "        \"\"\"Number of batches\"\"\"\n",
        "        return len(self.dl)"
      ],
      "execution_count": null,
      "outputs": []
    },
    {
      "cell_type": "code",
      "metadata": {
        "id": "4eDMbjkAxkql"
      },
      "source": [
        "# Helper functions to fit and evaluate model\n",
        "@torch.no_grad()\n",
        "def evaluate(model, val_loader):\n",
        "    model.eval()\n",
        "    outputs = [model.validation_step(batch) for batch in val_loader]\n",
        "    return model.validation_epoch_end(outputs)\n",
        "\n",
        "def fit(epochs, lr, model, train_loader, val_loader, opt_func=torch.optim.SGD):\n",
        "    history = []\n",
        "    optimizer = opt_func(model.parameters(), lr)\n",
        "    for epoch in range(epochs):\n",
        "        # Training Phase \n",
        "        model.train()\n",
        "        train_losses = []\n",
        "        train_accuracies = []\n",
        "        for batch in train_loader:\n",
        "            # Zero gradients\n",
        "            optimizer.zero_grad()\n",
        "            # Calculate loss\n",
        "            loss, acc = model.training_step(batch)\n",
        "            train_losses.append(loss)\n",
        "            train_accuracies.append(acc)\n",
        "            # Back-propogate loss\n",
        "            loss.backward()\n",
        "            # Update weights\n",
        "            optimizer.step()\n",
        "            \n",
        "        # Validation phase\n",
        "        result = evaluate(model, val_loader)\n",
        "        result['train_loss'] = torch.stack(train_losses).mean().item()\n",
        "        result['train_acc'] = torch.stack(train_accuracies).mean().item()\n",
        "        model.epoch_end(epoch, result)\n",
        "        history.append(result)\n",
        "    return history"
      ],
      "execution_count": null,
      "outputs": []
    },
    {
      "cell_type": "code",
      "metadata": {
        "colab": {
          "base_uri": "https://localhost:8080/"
        },
        "id": "hOa27DYRxkw7",
        "outputId": "5de43c50-842e-4696-bafd-812b32987f22"
      },
      "source": [
        "device = get_default_device()\n",
        "# print(device)\n",
        "model = to_device(BirdSongModel(), device)\n",
        "\n",
        "# Wrap training and test data loaders using `DeviceDataLoader` for automatically\n",
        "# transferring batches of data to the GPU (if available), and use `to_device` \n",
        "# to move our model to the GPU (if available).\n",
        "train_dl = DeviceDataLoader(train_dl, device)\n",
        "test_dl = DeviceDataLoader(test_dl, device)\n",
        "to_device(model, device);\n",
        "\n",
        "# evaluate(model, test_dl)\n",
        "\n",
        "num_epochs = 200\n",
        "opt_func = torch.optim.Adam\n",
        "lr = 0.00005"
      ],
      "execution_count": null,
      "outputs": [
        {
          "output_type": "stream",
          "text": [
            "[Conv2d(1, 32, kernel_size=(5, 5), stride=(2, 2), padding=(2, 2)), ReLU(), GroupNorm(2, 32, eps=1e-05, affine=True), MaxPool2d(kernel_size=2, stride=2, padding=0, dilation=1, ceil_mode=False), Conv2d(32, 64, kernel_size=(5, 5), stride=(2, 2), padding=(2, 2)), ReLU(), GroupNorm(4, 64, eps=1e-05, affine=True), MaxPool2d(kernel_size=2, stride=2, padding=0, dilation=1, ceil_mode=False), Conv2d(64, 128, kernel_size=(3, 3), stride=(1, 1), padding=(1, 1)), ReLU(), MaxPool2d(kernel_size=2, stride=2, padding=0, dilation=1, ceil_mode=False), Conv2d(128, 256, kernel_size=(3, 3), stride=(1, 1), padding=(1, 1)), ReLU(), MaxPool2d(kernel_size=2, stride=2, padding=0, dilation=1, ceil_mode=False), Flatten(start_dim=1, end_dim=-1), Linear(in_features=2560, out_features=50, bias=True), ReLU(), Dropout(p=0.5, inplace=False), Linear(in_features=50, out_features=10, bias=True), ReLU(), Linear(in_features=10, out_features=6, bias=True)]\n"
          ],
          "name": "stdout"
        }
      ]
    },
    {
      "cell_type": "code",
      "metadata": {
        "colab": {
          "base_uri": "https://localhost:8080/"
        },
        "id": "P6Lndeu5ZcBe",
        "outputId": "576d6524-6878-4363-cf39-7e85dd5e61d3"
      },
      "source": [
        "for layer in model.children():\n",
        "    if hasattr(layer, 'reset_parameters'):\n",
        "        print(f'Reset trainable parameters of layer = {layer}')\n",
        "        layer.reset_parameters()"
      ],
      "execution_count": null,
      "outputs": [
        {
          "output_type": "stream",
          "text": [
            "Reset trainable parameters of layer = Conv2d(1, 32, kernel_size=(5, 5), stride=(2, 2), padding=(2, 2))\n",
            "Reset trainable parameters of layer = GroupNorm(2, 32, eps=1e-05, affine=True)\n",
            "Reset trainable parameters of layer = Conv2d(32, 64, kernel_size=(5, 5), stride=(2, 2), padding=(2, 2))\n",
            "Reset trainable parameters of layer = GroupNorm(4, 64, eps=1e-05, affine=True)\n",
            "Reset trainable parameters of layer = Conv2d(64, 128, kernel_size=(3, 3), stride=(1, 1), padding=(1, 1))\n",
            "Reset trainable parameters of layer = Conv2d(128, 256, kernel_size=(3, 3), stride=(1, 1), padding=(1, 1))\n",
            "Reset trainable parameters of layer = Linear(in_features=2560, out_features=50, bias=True)\n",
            "Reset trainable parameters of layer = Linear(in_features=50, out_features=10, bias=True)\n",
            "Reset trainable parameters of layer = Linear(in_features=10, out_features=6, bias=True)\n"
          ],
          "name": "stdout"
        }
      ]
    },
    {
      "cell_type": "code",
      "metadata": {
        "colab": {
          "base_uri": "https://localhost:8080/"
        },
        "id": "le5h03Fl0LFA",
        "outputId": "b6422763-4f07-4193-b05f-518827d77251"
      },
      "source": [
        "history = fit(num_epochs, lr, model, train_dl, test_dl, opt_func)"
      ],
      "execution_count": null,
      "outputs": [
        {
          "output_type": "stream",
          "text": [
            "Epoch [0], train_loss: 1.8137, train_acc: 0.1625, val_loss: 1.7951, val_acc: 0.1720\n",
            "Epoch [1], train_loss: 1.7885, train_acc: 0.1935, val_loss: 1.7781, val_acc: 0.1760\n",
            "Epoch [2], train_loss: 1.7750, train_acc: 0.2065, val_loss: 1.7643, val_acc: 0.1920\n",
            "Epoch [3], train_loss: 1.7414, train_acc: 0.2265, val_loss: 1.7260, val_acc: 0.2300\n",
            "Epoch [4], train_loss: 1.7211, train_acc: 0.2570, val_loss: 1.6962, val_acc: 0.2780\n",
            "Epoch [5], train_loss: 1.6900, train_acc: 0.2785, val_loss: 1.6653, val_acc: 0.2900\n",
            "Epoch [6], train_loss: 1.6445, train_acc: 0.2975, val_loss: 1.6371, val_acc: 0.3020\n",
            "Epoch [7], train_loss: 1.6373, train_acc: 0.3055, val_loss: 1.6142, val_acc: 0.3480\n",
            "Epoch [8], train_loss: 1.5917, train_acc: 0.3285, val_loss: 1.5783, val_acc: 0.3300\n",
            "Epoch [9], train_loss: 1.5567, train_acc: 0.3550, val_loss: 1.5347, val_acc: 0.3920\n",
            "Epoch [10], train_loss: 1.4891, train_acc: 0.3970, val_loss: 1.4817, val_acc: 0.4060\n",
            "Epoch [11], train_loss: 1.4673, train_acc: 0.4170, val_loss: 1.4265, val_acc: 0.4320\n",
            "Epoch [12], train_loss: 1.4395, train_acc: 0.4245, val_loss: 1.3983, val_acc: 0.4640\n",
            "Epoch [13], train_loss: 1.3977, train_acc: 0.4470, val_loss: 1.3859, val_acc: 0.4640\n",
            "Epoch [14], train_loss: 1.3606, train_acc: 0.4715, val_loss: 1.3532, val_acc: 0.4900\n",
            "Epoch [15], train_loss: 1.3181, train_acc: 0.5065, val_loss: 1.3331, val_acc: 0.4820\n",
            "Epoch [16], train_loss: 1.2960, train_acc: 0.4960, val_loss: 1.2909, val_acc: 0.5240\n",
            "Epoch [17], train_loss: 1.2678, train_acc: 0.5190, val_loss: 1.2591, val_acc: 0.5020\n",
            "Epoch [18], train_loss: 1.2274, train_acc: 0.5375, val_loss: 1.2429, val_acc: 0.5140\n",
            "Epoch [19], train_loss: 1.2054, train_acc: 0.5470, val_loss: 1.2520, val_acc: 0.5400\n",
            "Epoch [20], train_loss: 1.1698, train_acc: 0.5680, val_loss: 1.2080, val_acc: 0.5380\n",
            "Epoch [21], train_loss: 1.1392, train_acc: 0.5780, val_loss: 1.1775, val_acc: 0.5580\n",
            "Epoch [22], train_loss: 1.1149, train_acc: 0.5690, val_loss: 1.1347, val_acc: 0.5640\n",
            "Epoch [23], train_loss: 1.0814, train_acc: 0.5995, val_loss: 1.1518, val_acc: 0.5800\n",
            "Epoch [24], train_loss: 1.0435, train_acc: 0.6140, val_loss: 1.1141, val_acc: 0.5820\n",
            "Epoch [25], train_loss: 1.0178, train_acc: 0.6365, val_loss: 1.1107, val_acc: 0.5840\n",
            "Epoch [26], train_loss: 1.0117, train_acc: 0.6290, val_loss: 1.0905, val_acc: 0.5980\n",
            "Epoch [27], train_loss: 0.9751, train_acc: 0.6530, val_loss: 1.0954, val_acc: 0.5940\n",
            "Epoch [28], train_loss: 0.9504, train_acc: 0.6570, val_loss: 1.0691, val_acc: 0.6100\n",
            "Epoch [29], train_loss: 0.9151, train_acc: 0.6785, val_loss: 1.0889, val_acc: 0.5780\n",
            "Epoch [30], train_loss: 0.9053, train_acc: 0.6725, val_loss: 1.0280, val_acc: 0.6160\n",
            "Epoch [31], train_loss: 0.8764, train_acc: 0.6865, val_loss: 1.0263, val_acc: 0.6180\n",
            "Epoch [32], train_loss: 0.8721, train_acc: 0.6910, val_loss: 1.0307, val_acc: 0.6300\n",
            "Epoch [33], train_loss: 0.8428, train_acc: 0.7005, val_loss: 1.0403, val_acc: 0.6180\n",
            "Epoch [34], train_loss: 0.8183, train_acc: 0.7070, val_loss: 0.9981, val_acc: 0.6360\n",
            "Epoch [35], train_loss: 0.7863, train_acc: 0.7160, val_loss: 0.9888, val_acc: 0.6400\n",
            "Epoch [36], train_loss: 0.7475, train_acc: 0.7415, val_loss: 0.9746, val_acc: 0.6540\n",
            "Epoch [37], train_loss: 0.7033, train_acc: 0.7640, val_loss: 0.9767, val_acc: 0.6480\n",
            "Epoch [38], train_loss: 0.7245, train_acc: 0.7530, val_loss: 0.9853, val_acc: 0.6300\n",
            "Epoch [39], train_loss: 0.7048, train_acc: 0.7460, val_loss: 0.9644, val_acc: 0.6620\n",
            "Epoch [40], train_loss: 0.6977, train_acc: 0.7555, val_loss: 0.9816, val_acc: 0.6400\n",
            "Epoch [41], train_loss: 0.6574, train_acc: 0.7815, val_loss: 0.9820, val_acc: 0.6340\n",
            "Epoch [42], train_loss: 0.6350, train_acc: 0.7775, val_loss: 0.9479, val_acc: 0.6400\n",
            "Epoch [43], train_loss: 0.6186, train_acc: 0.7875, val_loss: 0.9648, val_acc: 0.6500\n",
            "Epoch [44], train_loss: 0.6097, train_acc: 0.7920, val_loss: 0.9524, val_acc: 0.6420\n",
            "Epoch [45], train_loss: 0.5813, train_acc: 0.8070, val_loss: 0.9634, val_acc: 0.6380\n",
            "Epoch [46], train_loss: 0.5764, train_acc: 0.7990, val_loss: 0.9401, val_acc: 0.6520\n",
            "Epoch [47], train_loss: 0.5273, train_acc: 0.8190, val_loss: 0.9245, val_acc: 0.6440\n",
            "Epoch [48], train_loss: 0.5199, train_acc: 0.8315, val_loss: 0.9358, val_acc: 0.6680\n",
            "Epoch [49], train_loss: 0.5084, train_acc: 0.8425, val_loss: 0.9307, val_acc: 0.6720\n",
            "Epoch [50], train_loss: 0.4760, train_acc: 0.8420, val_loss: 0.9291, val_acc: 0.6560\n",
            "Epoch [51], train_loss: 0.4782, train_acc: 0.8465, val_loss: 0.9312, val_acc: 0.6680\n",
            "Epoch [52], train_loss: 0.4793, train_acc: 0.8495, val_loss: 0.9217, val_acc: 0.6700\n",
            "Epoch [53], train_loss: 0.4612, train_acc: 0.8545, val_loss: 0.9244, val_acc: 0.6660\n",
            "Epoch [54], train_loss: 0.4480, train_acc: 0.8600, val_loss: 0.9176, val_acc: 0.6720\n",
            "Epoch [55], train_loss: 0.4403, train_acc: 0.8640, val_loss: 0.9296, val_acc: 0.6540\n",
            "Epoch [56], train_loss: 0.4075, train_acc: 0.8740, val_loss: 0.9371, val_acc: 0.6560\n",
            "Epoch [57], train_loss: 0.3813, train_acc: 0.8840, val_loss: 0.9265, val_acc: 0.6700\n",
            "Epoch [58], train_loss: 0.3828, train_acc: 0.8790, val_loss: 0.9373, val_acc: 0.6600\n",
            "Epoch [59], train_loss: 0.3584, train_acc: 0.8920, val_loss: 0.9552, val_acc: 0.6720\n",
            "Epoch [60], train_loss: 0.3569, train_acc: 0.8930, val_loss: 0.9751, val_acc: 0.6620\n",
            "Epoch [61], train_loss: 0.3473, train_acc: 0.8980, val_loss: 0.9157, val_acc: 0.6660\n",
            "Epoch [62], train_loss: 0.3192, train_acc: 0.9125, val_loss: 0.9577, val_acc: 0.6560\n",
            "Epoch [63], train_loss: 0.3242, train_acc: 0.9065, val_loss: 0.9768, val_acc: 0.6620\n",
            "Epoch [64], train_loss: 0.3273, train_acc: 0.9060, val_loss: 0.9357, val_acc: 0.6720\n",
            "Epoch [65], train_loss: 0.3096, train_acc: 0.9090, val_loss: 0.9649, val_acc: 0.6720\n",
            "Epoch [66], train_loss: 0.2968, train_acc: 0.9180, val_loss: 0.9726, val_acc: 0.6760\n",
            "Epoch [67], train_loss: 0.2751, train_acc: 0.9245, val_loss: 0.9908, val_acc: 0.6720\n",
            "Epoch [68], train_loss: 0.2821, train_acc: 0.9255, val_loss: 0.9427, val_acc: 0.6800\n",
            "Epoch [69], train_loss: 0.2837, train_acc: 0.9160, val_loss: 0.9755, val_acc: 0.6800\n",
            "Epoch [70], train_loss: 0.2552, train_acc: 0.9285, val_loss: 0.9667, val_acc: 0.6820\n",
            "Epoch [71], train_loss: 0.2507, train_acc: 0.9255, val_loss: 0.9975, val_acc: 0.6820\n",
            "Epoch [72], train_loss: 0.2387, train_acc: 0.9290, val_loss: 0.9722, val_acc: 0.6920\n",
            "Epoch [73], train_loss: 0.2253, train_acc: 0.9360, val_loss: 0.9845, val_acc: 0.6800\n",
            "Epoch [74], train_loss: 0.2225, train_acc: 0.9385, val_loss: 1.0352, val_acc: 0.6700\n",
            "Epoch [75], train_loss: 0.2062, train_acc: 0.9435, val_loss: 1.0088, val_acc: 0.6820\n",
            "Epoch [76], train_loss: 0.2058, train_acc: 0.9420, val_loss: 1.0208, val_acc: 0.6780\n",
            "Epoch [77], train_loss: 0.2138, train_acc: 0.9375, val_loss: 0.9993, val_acc: 0.6760\n",
            "Epoch [78], train_loss: 0.2063, train_acc: 0.9390, val_loss: 1.0439, val_acc: 0.6820\n",
            "Epoch [79], train_loss: 0.1861, train_acc: 0.9540, val_loss: 1.0265, val_acc: 0.6880\n",
            "Epoch [80], train_loss: 0.1843, train_acc: 0.9495, val_loss: 1.0226, val_acc: 0.6700\n",
            "Epoch [81], train_loss: 0.1807, train_acc: 0.9540, val_loss: 1.0847, val_acc: 0.6820\n",
            "Epoch [82], train_loss: 0.1787, train_acc: 0.9500, val_loss: 1.0173, val_acc: 0.6840\n",
            "Epoch [83], train_loss: 0.1639, train_acc: 0.9565, val_loss: 1.0364, val_acc: 0.6720\n",
            "Epoch [84], train_loss: 0.1597, train_acc: 0.9575, val_loss: 1.1082, val_acc: 0.6760\n",
            "Epoch [85], train_loss: 0.1608, train_acc: 0.9585, val_loss: 1.0645, val_acc: 0.6720\n",
            "Epoch [86], train_loss: 0.1563, train_acc: 0.9600, val_loss: 1.1254, val_acc: 0.6760\n",
            "Epoch [87], train_loss: 0.1517, train_acc: 0.9620, val_loss: 1.1002, val_acc: 0.6760\n",
            "Epoch [88], train_loss: 0.1571, train_acc: 0.9625, val_loss: 1.1980, val_acc: 0.6520\n",
            "Epoch [89], train_loss: 0.1283, train_acc: 0.9700, val_loss: 1.1147, val_acc: 0.6780\n",
            "Epoch [90], train_loss: 0.1347, train_acc: 0.9630, val_loss: 1.0985, val_acc: 0.6740\n",
            "Epoch [91], train_loss: 0.1325, train_acc: 0.9675, val_loss: 1.1292, val_acc: 0.6760\n",
            "Epoch [92], train_loss: 0.1278, train_acc: 0.9690, val_loss: 1.1193, val_acc: 0.6720\n",
            "Epoch [93], train_loss: 0.1222, train_acc: 0.9690, val_loss: 1.1118, val_acc: 0.6720\n",
            "Epoch [94], train_loss: 0.1231, train_acc: 0.9700, val_loss: 1.1502, val_acc: 0.6700\n",
            "Epoch [95], train_loss: 0.1167, train_acc: 0.9670, val_loss: 1.1366, val_acc: 0.6780\n",
            "Epoch [96], train_loss: 0.1242, train_acc: 0.9710, val_loss: 1.1209, val_acc: 0.6740\n",
            "Epoch [97], train_loss: 0.1063, train_acc: 0.9770, val_loss: 1.1497, val_acc: 0.6620\n",
            "Epoch [98], train_loss: 0.1082, train_acc: 0.9740, val_loss: 1.1172, val_acc: 0.6780\n",
            "Epoch [99], train_loss: 0.1094, train_acc: 0.9705, val_loss: 1.1598, val_acc: 0.6800\n",
            "Epoch [100], train_loss: 0.1018, train_acc: 0.9745, val_loss: 1.1265, val_acc: 0.6860\n",
            "Epoch [101], train_loss: 0.0857, train_acc: 0.9825, val_loss: 1.1533, val_acc: 0.6820\n",
            "Epoch [102], train_loss: 0.0988, train_acc: 0.9780, val_loss: 1.1210, val_acc: 0.6920\n",
            "Epoch [103], train_loss: 0.1027, train_acc: 0.9725, val_loss: 1.2738, val_acc: 0.6640\n",
            "Epoch [104], train_loss: 0.0911, train_acc: 0.9795, val_loss: 1.1839, val_acc: 0.6820\n",
            "Epoch [105], train_loss: 0.1019, train_acc: 0.9735, val_loss: 1.2500, val_acc: 0.6760\n",
            "Epoch [106], train_loss: 0.0928, train_acc: 0.9765, val_loss: 1.2060, val_acc: 0.6760\n",
            "Epoch [107], train_loss: 0.0916, train_acc: 0.9790, val_loss: 1.2666, val_acc: 0.6720\n",
            "Epoch [108], train_loss: 0.0920, train_acc: 0.9760, val_loss: 1.2875, val_acc: 0.6700\n",
            "Epoch [109], train_loss: 0.0879, train_acc: 0.9755, val_loss: 1.2446, val_acc: 0.6720\n",
            "Epoch [110], train_loss: 0.0886, train_acc: 0.9760, val_loss: 1.2555, val_acc: 0.6700\n",
            "Epoch [111], train_loss: 0.0853, train_acc: 0.9815, val_loss: 1.2165, val_acc: 0.6840\n",
            "Epoch [112], train_loss: 0.0823, train_acc: 0.9800, val_loss: 1.2928, val_acc: 0.6780\n",
            "Epoch [113], train_loss: 0.0895, train_acc: 0.9790, val_loss: 1.2453, val_acc: 0.6780\n",
            "Epoch [114], train_loss: 0.0843, train_acc: 0.9750, val_loss: 1.2327, val_acc: 0.6740\n",
            "Epoch [115], train_loss: 0.0827, train_acc: 0.9775, val_loss: 1.2471, val_acc: 0.6780\n",
            "Epoch [116], train_loss: 0.0733, train_acc: 0.9825, val_loss: 1.2102, val_acc: 0.6840\n",
            "Epoch [117], train_loss: 0.0766, train_acc: 0.9800, val_loss: 1.2613, val_acc: 0.6740\n",
            "Epoch [118], train_loss: 0.0621, train_acc: 0.9860, val_loss: 1.3498, val_acc: 0.6680\n",
            "Epoch [119], train_loss: 0.0651, train_acc: 0.9855, val_loss: 1.3508, val_acc: 0.6780\n",
            "Epoch [120], train_loss: 0.0627, train_acc: 0.9840, val_loss: 1.2600, val_acc: 0.6980\n",
            "Epoch [121], train_loss: 0.0701, train_acc: 0.9815, val_loss: 1.3119, val_acc: 0.6800\n",
            "Epoch [122], train_loss: 0.0721, train_acc: 0.9820, val_loss: 1.3394, val_acc: 0.6800\n",
            "Epoch [123], train_loss: 0.0663, train_acc: 0.9845, val_loss: 1.2660, val_acc: 0.6820\n",
            "Epoch [124], train_loss: 0.0626, train_acc: 0.9845, val_loss: 1.2706, val_acc: 0.6820\n",
            "Epoch [125], train_loss: 0.0669, train_acc: 0.9825, val_loss: 1.2980, val_acc: 0.6780\n",
            "Epoch [126], train_loss: 0.0644, train_acc: 0.9820, val_loss: 1.2495, val_acc: 0.6880\n",
            "Epoch [127], train_loss: 0.0735, train_acc: 0.9815, val_loss: 1.2864, val_acc: 0.6840\n",
            "Epoch [128], train_loss: 0.0541, train_acc: 0.9885, val_loss: 1.3378, val_acc: 0.6780\n",
            "Epoch [129], train_loss: 0.0633, train_acc: 0.9865, val_loss: 1.4164, val_acc: 0.6700\n",
            "Epoch [130], train_loss: 0.0621, train_acc: 0.9820, val_loss: 1.3464, val_acc: 0.6620\n",
            "Epoch [131], train_loss: 0.0665, train_acc: 0.9845, val_loss: 1.3734, val_acc: 0.6840\n",
            "Epoch [132], train_loss: 0.0528, train_acc: 0.9910, val_loss: 1.3413, val_acc: 0.6940\n",
            "Epoch [133], train_loss: 0.0641, train_acc: 0.9810, val_loss: 1.4258, val_acc: 0.6740\n",
            "Epoch [134], train_loss: 0.0568, train_acc: 0.9860, val_loss: 1.4241, val_acc: 0.6700\n",
            "Epoch [135], train_loss: 0.0663, train_acc: 0.9800, val_loss: 1.3450, val_acc: 0.6780\n",
            "Epoch [136], train_loss: 0.0608, train_acc: 0.9850, val_loss: 1.3321, val_acc: 0.6900\n",
            "Epoch [137], train_loss: 0.0597, train_acc: 0.9855, val_loss: 1.4581, val_acc: 0.6740\n",
            "Epoch [138], train_loss: 0.0468, train_acc: 0.9895, val_loss: 1.3605, val_acc: 0.7100\n",
            "Epoch [139], train_loss: 0.0500, train_acc: 0.9870, val_loss: 1.3610, val_acc: 0.6720\n",
            "Epoch [140], train_loss: 0.0479, train_acc: 0.9885, val_loss: 1.3536, val_acc: 0.6860\n",
            "Epoch [141], train_loss: 0.0575, train_acc: 0.9865, val_loss: 1.3263, val_acc: 0.6980\n",
            "Epoch [142], train_loss: 0.0519, train_acc: 0.9865, val_loss: 1.3868, val_acc: 0.6820\n",
            "Epoch [143], train_loss: 0.0468, train_acc: 0.9895, val_loss: 1.4798, val_acc: 0.6820\n",
            "Epoch [144], train_loss: 0.0383, train_acc: 0.9915, val_loss: 1.5462, val_acc: 0.6720\n",
            "Epoch [145], train_loss: 0.0526, train_acc: 0.9860, val_loss: 1.4624, val_acc: 0.6620\n",
            "Epoch [146], train_loss: 0.0542, train_acc: 0.9810, val_loss: 1.4545, val_acc: 0.6780\n",
            "Epoch [147], train_loss: 0.0412, train_acc: 0.9920, val_loss: 1.4761, val_acc: 0.6860\n",
            "Epoch [148], train_loss: 0.0415, train_acc: 0.9890, val_loss: 1.4040, val_acc: 0.6880\n",
            "Epoch [149], train_loss: 0.0532, train_acc: 0.9840, val_loss: 1.4419, val_acc: 0.6800\n",
            "Epoch [150], train_loss: 0.0478, train_acc: 0.9875, val_loss: 1.5737, val_acc: 0.6740\n",
            "Epoch [151], train_loss: 0.0421, train_acc: 0.9890, val_loss: 1.5153, val_acc: 0.6800\n",
            "Epoch [152], train_loss: 0.0503, train_acc: 0.9870, val_loss: 1.4791, val_acc: 0.6740\n",
            "Epoch [153], train_loss: 0.0458, train_acc: 0.9885, val_loss: 1.5415, val_acc: 0.6820\n",
            "Epoch [154], train_loss: 0.0498, train_acc: 0.9855, val_loss: 1.5308, val_acc: 0.6740\n",
            "Epoch [155], train_loss: 0.0481, train_acc: 0.9880, val_loss: 1.4367, val_acc: 0.6760\n",
            "Epoch [156], train_loss: 0.0467, train_acc: 0.9875, val_loss: 1.4657, val_acc: 0.6840\n",
            "Epoch [157], train_loss: 0.0493, train_acc: 0.9880, val_loss: 1.4040, val_acc: 0.6720\n",
            "Epoch [158], train_loss: 0.0477, train_acc: 0.9890, val_loss: 1.4959, val_acc: 0.6660\n",
            "Epoch [159], train_loss: 0.0466, train_acc: 0.9865, val_loss: 1.5467, val_acc: 0.6800\n",
            "Epoch [160], train_loss: 0.0385, train_acc: 0.9895, val_loss: 1.5578, val_acc: 0.6820\n",
            "Epoch [161], train_loss: 0.0460, train_acc: 0.9900, val_loss: 1.4857, val_acc: 0.6860\n",
            "Epoch [162], train_loss: 0.0410, train_acc: 0.9910, val_loss: 1.5169, val_acc: 0.6740\n",
            "Epoch [163], train_loss: 0.0424, train_acc: 0.9895, val_loss: 1.5216, val_acc: 0.6860\n",
            "Epoch [164], train_loss: 0.0489, train_acc: 0.9850, val_loss: 1.6227, val_acc: 0.6760\n",
            "Epoch [165], train_loss: 0.0350, train_acc: 0.9910, val_loss: 1.6281, val_acc: 0.6660\n",
            "Epoch [166], train_loss: 0.0382, train_acc: 0.9900, val_loss: 1.5260, val_acc: 0.6780\n",
            "Epoch [167], train_loss: 0.0403, train_acc: 0.9865, val_loss: 1.5431, val_acc: 0.6880\n",
            "Epoch [168], train_loss: 0.0405, train_acc: 0.9890, val_loss: 1.5874, val_acc: 0.6720\n",
            "Epoch [169], train_loss: 0.0462, train_acc: 0.9875, val_loss: 1.6409, val_acc: 0.6640\n",
            "Epoch [170], train_loss: 0.0401, train_acc: 0.9840, val_loss: 1.5927, val_acc: 0.6760\n",
            "Epoch [171], train_loss: 0.0390, train_acc: 0.9885, val_loss: 1.5400, val_acc: 0.6820\n",
            "Epoch [172], train_loss: 0.0396, train_acc: 0.9900, val_loss: 1.5495, val_acc: 0.6680\n",
            "Epoch [173], train_loss: 0.0356, train_acc: 0.9910, val_loss: 1.6033, val_acc: 0.6820\n",
            "Epoch [174], train_loss: 0.0404, train_acc: 0.9895, val_loss: 1.6399, val_acc: 0.6780\n",
            "Epoch [175], train_loss: 0.0353, train_acc: 0.9885, val_loss: 1.5866, val_acc: 0.6840\n",
            "Epoch [176], train_loss: 0.0417, train_acc: 0.9885, val_loss: 1.5130, val_acc: 0.6960\n",
            "Epoch [177], train_loss: 0.0383, train_acc: 0.9885, val_loss: 1.7013, val_acc: 0.6700\n",
            "Epoch [178], train_loss: 0.0389, train_acc: 0.9875, val_loss: 1.6558, val_acc: 0.6940\n",
            "Epoch [179], train_loss: 0.0353, train_acc: 0.9900, val_loss: 1.5241, val_acc: 0.6620\n",
            "Epoch [180], train_loss: 0.0407, train_acc: 0.9870, val_loss: 1.6481, val_acc: 0.6800\n",
            "Epoch [181], train_loss: 0.0344, train_acc: 0.9915, val_loss: 1.5597, val_acc: 0.6860\n",
            "Epoch [182], train_loss: 0.0408, train_acc: 0.9860, val_loss: 1.4931, val_acc: 0.6880\n",
            "Epoch [183], train_loss: 0.0336, train_acc: 0.9890, val_loss: 1.6316, val_acc: 0.6820\n",
            "Epoch [184], train_loss: 0.0362, train_acc: 0.9890, val_loss: 1.7153, val_acc: 0.6760\n",
            "Epoch [185], train_loss: 0.0312, train_acc: 0.9900, val_loss: 1.6510, val_acc: 0.6840\n",
            "Epoch [186], train_loss: 0.0266, train_acc: 0.9930, val_loss: 1.7380, val_acc: 0.6720\n",
            "Epoch [187], train_loss: 0.0345, train_acc: 0.9905, val_loss: 1.6064, val_acc: 0.6800\n",
            "Epoch [188], train_loss: 0.0321, train_acc: 0.9915, val_loss: 1.7435, val_acc: 0.6780\n",
            "Epoch [189], train_loss: 0.0320, train_acc: 0.9895, val_loss: 1.7276, val_acc: 0.6820\n",
            "Epoch [190], train_loss: 0.0305, train_acc: 0.9905, val_loss: 1.5614, val_acc: 0.6900\n",
            "Epoch [191], train_loss: 0.0326, train_acc: 0.9895, val_loss: 1.7491, val_acc: 0.6780\n",
            "Epoch [192], train_loss: 0.0420, train_acc: 0.9875, val_loss: 1.5393, val_acc: 0.6840\n",
            "Epoch [193], train_loss: 0.0330, train_acc: 0.9920, val_loss: 1.7880, val_acc: 0.6760\n",
            "Epoch [194], train_loss: 0.0303, train_acc: 0.9910, val_loss: 1.6897, val_acc: 0.6700\n",
            "Epoch [195], train_loss: 0.0304, train_acc: 0.9920, val_loss: 1.5712, val_acc: 0.6940\n",
            "Epoch [196], train_loss: 0.0343, train_acc: 0.9910, val_loss: 1.6967, val_acc: 0.6860\n",
            "Epoch [197], train_loss: 0.0360, train_acc: 0.9870, val_loss: 1.8365, val_acc: 0.6620\n",
            "Epoch [198], train_loss: 0.0350, train_acc: 0.9890, val_loss: 1.6517, val_acc: 0.6620\n",
            "Epoch [199], train_loss: 0.0319, train_acc: 0.9910, val_loss: 1.6618, val_acc: 0.6900\n"
          ],
          "name": "stdout"
        }
      ]
    },
    {
      "cell_type": "code",
      "metadata": {
        "id": "wm8LrMMf0LMk"
      },
      "source": [
        "def plot_accuracies(history):\n",
        "\n",
        "    train_accuracies = [x['train_acc'] for x in history]\n",
        "    val_accuracies = [x['val_acc'] for x in history]\n",
        "    plt.figure(figsize=(12, 8))\n",
        "    plt.plot(train_accuracies, '-o', label='training accuracy')\n",
        "    plt.plot(val_accuracies, '-x', label='validation accuracy')\n",
        "    plt.xlabel('epoch')\n",
        "    plt.ylabel('accuracy')\n",
        "    plt.title('Accuracy vs. No. of epochs')\n",
        "    plt.legend();"
      ],
      "execution_count": null,
      "outputs": []
    },
    {
      "cell_type": "code",
      "metadata": {
        "colab": {
          "base_uri": "https://localhost:8080/",
          "height": 513
        },
        "id": "KIuhdAcS0u7S",
        "outputId": "4cc84137-2eb1-4ba3-bdc2-235bed7ea084"
      },
      "source": [
        "plot_accuracies(history)"
      ],
      "execution_count": null,
      "outputs": [
        {
          "output_type": "display_data",
          "data": {
            "image/png": "[encoded data removed]",
            "text/plain": [
              "<Figure size 864x576 with 1 Axes>"
            ]
          },
          "metadata": {
            "tags": [],
            "needs_background": "light"
          }
        }
      ]
    },
    {
      "cell_type": "code",
      "metadata": {
        "id": "f4Q6XXYQ00Wq"
      },
      "source": [
        "torch.save(model.state_dict(), \"filename.pth\")\n",
        "print(\"mdoel training and stored at filename.pth\")"
      ],
      "execution_count": null,
      "outputs": []
    },
    {
      "cell_type": "markdown",
      "metadata": {
        "id": "rQ0-ECEXL38r"
      },
      "source": [
        "# Scratch"
      ]
    },
    {
      "cell_type": "code",
      "metadata": {
        "id": "QPoOs-9coNvj"
      },
      "source": [
        "# dataiter = iter(train_dl)\n",
        "# images, labels = dataiter.next()\n",
        "# print (images[0].shape)"
      ],
      "execution_count": null,
      "outputs": []
    },
    {
      "cell_type": "code",
      "metadata": {
        "id": "rkklragaxGWm"
      },
      "source": [
        "# # Test the model on the first batch from the training dataloader\n",
        "# model=BirdSongModel()\n",
        "# for images, labels in train_dl:\n",
        "#     print('images.shape:', images.shape)\n",
        "#     out = model(images)\n",
        "#     print('out.shape:', out.shape)\n",
        "#     print('out[0]:', out[0])\n",
        "#     print('sum out[0]:', torch.sum(out[0]).item())\n",
        "\n",
        "#     break"
      ],
      "execution_count": null,
      "outputs": []
    }
  ]
}