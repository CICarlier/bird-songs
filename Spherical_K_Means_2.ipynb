{
 "cells": [
  {
   "cell_type": "markdown",
   "metadata": {
    "id": "ethical-stomach"
   },
   "source": [
    "# Spherical K-Means  "
   ]
  },
  {
   "cell_type": "markdown",
   "metadata": {
    "id": "VurayMKa2cjs"
   },
   "source": [
    "## Bird-song code"
   ]
  },
  {
   "cell_type": "code",
   "execution_count": 14,
   "metadata": {
    "id": "O-YMAdxU2sOI"
   },
   "outputs": [],
   "source": [
    "import numpy as np\n",
    "import pandas as pd\n",
    "\n",
    "import os\n",
    "import glob\n",
    "\n",
    "import librosa\n",
    "import librosa.display\n",
    "from skimage.io import imread\n",
    "import matplotlib.pyplot as plt\n",
    "%matplotlib inline\n",
    "\n",
    "import warnings\n",
    "warnings.filterwarnings(\"ignore\")\n",
    "\n",
    "from tqdm.notebook import tqdm\n"
   ]
  },
  {
   "cell_type": "code",
   "execution_count": 11,
   "metadata": {},
   "outputs": [
    {
     "data": {
      "text/html": [
       "<div>\n",
       "<style scoped>\n",
       "    .dataframe tbody tr th:only-of-type {\n",
       "        vertical-align: middle;\n",
       "    }\n",
       "\n",
       "    .dataframe tbody tr th {\n",
       "        vertical-align: top;\n",
       "    }\n",
       "\n",
       "    .dataframe thead th {\n",
       "        text-align: right;\n",
       "    }\n",
       "</style>\n",
       "<table border=\"1\" class=\"dataframe\">\n",
       "  <thead>\n",
       "    <tr style=\"text-align: right;\">\n",
       "      <th></th>\n",
       "      <th>id</th>\n",
       "      <th>gen</th>\n",
       "      <th>sp</th>\n",
       "      <th>ssp</th>\n",
       "      <th>en</th>\n",
       "      <th>cnt</th>\n",
       "      <th>loc</th>\n",
       "      <th>type</th>\n",
       "      <th>q</th>\n",
       "      <th>length</th>\n",
       "      <th>bird-seen</th>\n",
       "      <th>file</th>\n",
       "    </tr>\n",
       "  </thead>\n",
       "  <tbody>\n",
       "    <tr>\n",
       "      <th>0</th>\n",
       "      <td>564895</td>\n",
       "      <td>Thryothorus</td>\n",
       "      <td>ludovicianus</td>\n",
       "      <td>NaN</td>\n",
       "      <td>Carolina Wren</td>\n",
       "      <td>United States</td>\n",
       "      <td>Lyons Township (near  Willow Springs), Cook Co...</td>\n",
       "      <td>adult, sex uncertain, song</td>\n",
       "      <td>no score</td>\n",
       "      <td>0:16</td>\n",
       "      <td>no</td>\n",
       "      <td>//www.xeno-canto.org/564895/download</td>\n",
       "    </tr>\n",
       "    <tr>\n",
       "      <th>1</th>\n",
       "      <td>545775</td>\n",
       "      <td>Thryothorus</td>\n",
       "      <td>ludovicianus</td>\n",
       "      <td>NaN</td>\n",
       "      <td>Carolina Wren</td>\n",
       "      <td>United States</td>\n",
       "      <td>Valley Forge National Historical Park, Montgom...</td>\n",
       "      <td>call</td>\n",
       "      <td>no score</td>\n",
       "      <td>0:17</td>\n",
       "      <td>yes</td>\n",
       "      <td>//www.xeno-canto.org/545775/download</td>\n",
       "    </tr>\n",
       "    <tr>\n",
       "      <th>2</th>\n",
       "      <td>540857</td>\n",
       "      <td>Thryothorus</td>\n",
       "      <td>ludovicianus</td>\n",
       "      <td>NaN</td>\n",
       "      <td>Carolina Wren</td>\n",
       "      <td>United States</td>\n",
       "      <td>Slaterville Rd @ Honness (near  Ithaca), Tompk...</td>\n",
       "      <td>song</td>\n",
       "      <td>no score</td>\n",
       "      <td>0:32</td>\n",
       "      <td>unknown</td>\n",
       "      <td>//www.xeno-canto.org/540857/download</td>\n",
       "    </tr>\n",
       "    <tr>\n",
       "      <th>3</th>\n",
       "      <td>540855</td>\n",
       "      <td>Thryothorus</td>\n",
       "      <td>ludovicianus</td>\n",
       "      <td>NaN</td>\n",
       "      <td>Carolina Wren</td>\n",
       "      <td>United States</td>\n",
       "      <td>Slaterville Rd @ Honness (near  Ithaca), Tompk...</td>\n",
       "      <td>song</td>\n",
       "      <td>no score</td>\n",
       "      <td>0:52</td>\n",
       "      <td>unknown</td>\n",
       "      <td>//www.xeno-canto.org/540855/download</td>\n",
       "    </tr>\n",
       "    <tr>\n",
       "      <th>4</th>\n",
       "      <td>539275</td>\n",
       "      <td>Thryothorus</td>\n",
       "      <td>ludovicianus</td>\n",
       "      <td>NaN</td>\n",
       "      <td>Carolina Wren</td>\n",
       "      <td>United States</td>\n",
       "      <td>Upper St. Clair Township (near  Upper Saint Cl...</td>\n",
       "      <td>call, song</td>\n",
       "      <td>no score</td>\n",
       "      <td>1:12</td>\n",
       "      <td>yes</td>\n",
       "      <td>//www.xeno-canto.org/539275/download</td>\n",
       "    </tr>\n",
       "  </tbody>\n",
       "</table>\n",
       "</div>"
      ],
      "text/plain": [
       "       id          gen            sp  ssp             en            cnt  \\\n",
       "0  564895  Thryothorus  ludovicianus  NaN  Carolina Wren  United States   \n",
       "1  545775  Thryothorus  ludovicianus  NaN  Carolina Wren  United States   \n",
       "2  540857  Thryothorus  ludovicianus  NaN  Carolina Wren  United States   \n",
       "3  540855  Thryothorus  ludovicianus  NaN  Carolina Wren  United States   \n",
       "4  539275  Thryothorus  ludovicianus  NaN  Carolina Wren  United States   \n",
       "\n",
       "                                                 loc  \\\n",
       "0  Lyons Township (near  Willow Springs), Cook Co...   \n",
       "1  Valley Forge National Historical Park, Montgom...   \n",
       "2  Slaterville Rd @ Honness (near  Ithaca), Tompk...   \n",
       "3  Slaterville Rd @ Honness (near  Ithaca), Tompk...   \n",
       "4  Upper St. Clair Township (near  Upper Saint Cl...   \n",
       "\n",
       "                         type         q length bird-seen  \\\n",
       "0  adult, sex uncertain, song  no score   0:16        no   \n",
       "1                        call  no score   0:17       yes   \n",
       "2                        song  no score   0:32   unknown   \n",
       "3                        song  no score   0:52   unknown   \n",
       "4                  call, song  no score   1:12       yes   \n",
       "\n",
       "                                   file  \n",
       "0  //www.xeno-canto.org/564895/download  \n",
       "1  //www.xeno-canto.org/545775/download  \n",
       "2  //www.xeno-canto.org/540857/download  \n",
       "3  //www.xeno-canto.org/540855/download  \n",
       "4  //www.xeno-canto.org/539275/download  "
      ]
     },
     "execution_count": 11,
     "metadata": {},
     "output_type": "execute_result"
    }
   ],
   "source": [
    "features = pd.read_csv('features_filtered.csv', encoding='latin')\n",
    "features.head()"
   ]
  },
  {
   "cell_type": "code",
   "execution_count": 77,
   "metadata": {},
   "outputs": [],
   "source": [
    "# We only need the id and the labels.\n",
    "dataset = features[features.en.isin(selected_species)][['id', 'en']]"
   ]
  },
  {
   "cell_type": "code",
   "execution_count": 78,
   "metadata": {},
   "outputs": [],
   "source": [
    "def load_images(dataset, gray=True):\n",
    "    img_df = []\n",
    "    for img_name in tqdm(dataset['id']):\n",
    "        # defining the image path\n",
    "        image_path = 'images/mel_spectrograms_8sec/' + str(img_name) + '.jpg'\n",
    "        # reading the image\n",
    "        img = imread(image_path)\n",
    "#         # normalizing the pixel values\n",
    "#         img /= 255.0\n",
    "        # converting the type of pixel to float 32\n",
    "        img = img.astype('float32')\n",
    "        # appending the image into the list\n",
    "        img_df.append(img.flatten())\n",
    "    \n",
    "    # converting the list to numpy array\n",
    "    return np.array(img_df)"
   ]
  },
  {
   "cell_type": "code",
   "execution_count": 79,
   "metadata": {},
   "outputs": [
    {
     "data": {
      "application/vnd.jupyter.widget-view+json": {
       "model_id": "27838a660d2d4ea0a11e12be50e9eba2",
       "version_major": 2,
       "version_minor": 0
      },
      "text/plain": [
       "HBox(children=(HTML(value=''), FloatProgress(value=0.0, max=2516.0), HTML(value='')))"
      ]
     },
     "metadata": {},
     "output_type": "display_data"
    },
    {
     "name": "stdout",
     "output_type": "stream",
     "text": [
      "\n"
     ]
    },
    {
     "data": {
      "text/plain": [
       "((2516, 132480), (2516,))"
      ]
     },
     "execution_count": 79,
     "metadata": {},
     "output_type": "execute_result"
    }
   ],
   "source": [
    "X, y = load_images(dataset, gray=True), dataset['en'].values\n",
    "X.shape, y.shape"
   ]
  },
  {
   "cell_type": "markdown",
   "metadata": {
    "id": "VgVAE5mv5_J6"
   },
   "source": [
    "# Using coclustering library and scikit-learn's PCA"
   ]
  },
  {
   "cell_type": "code",
   "execution_count": null,
   "metadata": {},
   "outputs": [],
   "source": [
    "from coclust.clustering.spherical_kmeans import SphericalKmeans\n",
    "from scipy import sparse\n",
    "from sklearn.decomposition import PCA"
   ]
  },
  {
   "cell_type": "code",
   "execution_count": 138,
   "metadata": {},
   "outputs": [],
   "source": [
    "# PCA functions\n",
    "def pca_reduction(parameter):\n",
    "    '''Parameter should be percentage variance retained (e.g. 0.95) or number of components (e.g. 2)''' \n",
    "    pca_model = PCA(parameter)\n",
    "    X_proj = pca_model.fit_transform(X)\n",
    "    return pca_model, X_proj\n",
    "\n",
    "def inv_transform(pca_model, reduced_X):\n",
    "    '''Reconstructs the images using the reduced dataset using inverse transform to convert images back to their\n",
    "    original dimension. Note that we are not reverting back to the original data, we're going back to the actual dimension\n",
    "    of the original images so that we can visualize them. \n",
    "    ''' \n",
    "    X_inv_proj = pca_model.inverse_transform(reduced_X) \n",
    "    #reshaping as 2516 images of 128*1035 dimension \n",
    "    X_proj_img = np.reshape(X_inv_proj,(2516 , 128, 1035))\n",
    "    return X_proj_img\n",
    "\n",
    "def images_plot(images, n_dim, cmap):\n",
    "    '''Dimensions are of shape (128*345*3) or (128*1035)'''\n",
    "    if n_dim == 3:\n",
    "        fig, axes = plt.subplots(5, 4, figsize=(15, 8),\n",
    "                             subplot_kw={'xticks':[], 'yticks':[]},\n",
    "                             gridspec_kw=dict(hspace=0.1, wspace=0.1))\n",
    "        for i, ax in enumerate(axes.flat):\n",
    "            ax.imshow(images[i].reshape(128, 345, 3), cmap=cmap)\n",
    "    elif n_dim == 2:\n",
    "        fig, axes = plt.subplots(5, 2, figsize=(20, 8),\n",
    "                             subplot_kw={'xticks':[], 'yticks':[]},\n",
    "                             gridspec_kw=dict(hspace=0.1, wspace=0.1))\n",
    "        for i, ax in enumerate(axes.flat):\n",
    "            ax.imshow(images[i].reshape(128, 1035), cmap=cmap)\n",
    "    else:\n",
    "        print('not enough or too many dimensions')"
   ]
  },
  {
   "cell_type": "code",
   "execution_count": 139,
   "metadata": {},
   "outputs": [
    {
     "data": {
      "text/plain": [
       "(2516, 1873)"
      ]
     },
     "execution_count": 139,
     "metadata": {},
     "output_type": "execute_result"
    }
   ],
   "source": [
    "pca_model, X_proj = pca_reduction(0.98)\n",
    "X_proj.shape"
   ]
  },
  {
   "cell_type": "code",
   "execution_count": 140,
   "metadata": {},
   "outputs": [],
   "source": [
    "X_transform = pca_model.inverse_transform(X_proj)"
   ]
  },
  {
   "cell_type": "code",
   "execution_count": 154,
   "metadata": {},
   "outputs": [],
   "source": [
    "skm = SphericalKmeans(n_clusters=3, weighting=False) #weighting parameter is used for text documents and will apply TFIDF transform to matrix if set to True"
   ]
  },
  {
   "cell_type": "code",
   "execution_count": 155,
   "metadata": {},
   "outputs": [
    {
     "name": "stdout",
     "output_type": "stream",
     "text": [
      " == New init == \n",
      "iteration: 0\n",
      "2348.6596117826434\n",
      "iteration: 1\n",
      "2356.15912384467\n",
      "iteration: 2\n",
      "2358.5629991068417\n",
      "iteration: 3\n",
      "2359.1307430684633\n",
      "iteration: 4\n",
      "2359.355673620574\n",
      "iteration: 5\n",
      "2359.50280336586\n",
      "iteration: 6\n",
      "2359.6041268306076\n",
      "iteration: 7\n",
      "2359.704380136085\n",
      "iteration: 8\n",
      "2359.839511669731\n",
      "iteration: 9\n",
      "2359.920745143813\n",
      "iteration: 10\n",
      "2359.9728849370986\n",
      "iteration: 11\n",
      "2360.0129349106064\n",
      "iteration: 12\n",
      "2360.036333159087\n",
      "iteration: 13\n",
      "2360.0530135910417\n",
      "iteration: 14\n",
      "2360.0663372917807\n",
      "iteration: 15\n",
      "2360.070698419968\n",
      "iteration: 16\n",
      "2360.0724062592963\n",
      "iteration: 17\n",
      "2360.075476574593\n",
      "iteration: 18\n",
      "2360.0769030886486\n",
      "iteration: 19\n",
      "2360.080898182018\n"
     ]
    }
   ],
   "source": [
    "skm.fit(sparse.csr_matrix(X))"
   ]
  },
  {
   "cell_type": "code",
   "execution_count": 149,
   "metadata": {},
   "outputs": [],
   "source": [
    "def cluster_distribution(model):\n",
    "    return set([(label, model.labels_.count(label)) for label in model.labels_])\n",
    "\n",
    "def cluster_birds_distribution(model, cluster):\n",
    "    cluster = [elem[0] for elem in enumerate(skm.labels_) if elem[1] == cluster]\n",
    "    birds_in_c = [elem[1] for elem in enumerate(y) if elem[0] in cluster]\n",
    "    o_birds = sorted(list(set([(bird, birds_in_c.count(bird)) for bird in birds_in_c])), key=lambda x: x[1], reverse=True)\n",
    "    for label in range(6):\n",
    "        print(f'{label+1}. {o_birds[label][0]} - {o_birds[label][1]}')"
   ]
  },
  {
   "cell_type": "code",
   "execution_count": 156,
   "metadata": {},
   "outputs": [
    {
     "data": {
      "text/plain": [
       "song           279\n",
       "call           136\n",
       "call, song      53\n",
       "male, song      34\n",
       "flight call     30\n",
       "Name: type, dtype: int64"
      ]
     },
     "execution_count": 156,
     "metadata": {},
     "output_type": "execute_result"
    }
   ],
   "source": [
    "indexes = [elem[0] for elem in enumerate(skm.labels_) if elem[1] == 0]\n",
    "features.iloc[indexes].type.value_counts()[:5]"
   ]
  },
  {
   "cell_type": "code",
   "execution_count": 158,
   "metadata": {},
   "outputs": [
    {
     "data": {
      "text/plain": [
       "song                 63\n",
       "call                 54\n",
       "flight call          26\n",
       "call, song           17\n",
       "call, flight call    16\n",
       "Name: type, dtype: int64"
      ]
     },
     "execution_count": 158,
     "metadata": {},
     "output_type": "execute_result"
    }
   ],
   "source": [
    "indexes = [elem[0] for elem in enumerate(skm.labels_) if elem[1] == 1]\n",
    "features.iloc[indexes].type.value_counts()[:5]"
   ]
  },
  {
   "cell_type": "code",
   "execution_count": 159,
   "metadata": {},
   "outputs": [
    {
     "name": "stdout",
     "output_type": "stream",
     "text": [
      "Cluster 0: 1391 records\n",
      "1. Northern Cardinal - 211\n",
      "2. Carolina Wren - 195\n",
      "3. Red Crossbill - 127\n",
      "4. Red-winged Blackbird - 124\n",
      "5. Common Yellowthroat - 89\n",
      "6. Spotted Towhee - 85\n",
      "None\n",
      "Cluster 1: 294 records\n",
      "1. Red Crossbill - 74\n",
      "2. Red-winged Blackbird - 58\n",
      "3. Spotted Towhee - 53\n",
      "4. Northern Cardinal - 37\n",
      "5. Common Yellowthroat - 37\n",
      "6. Carolina Wren - 35\n",
      "None\n",
      "Cluster 2: 831 records\n",
      "1. Spotted Towhee - 368\n",
      "2. Red-winged Blackbird - 254\n",
      "3. Common Yellowthroat - 228\n",
      "4. Northern Cardinal - 186\n",
      "5. Red Crossbill - 183\n",
      "6. Carolina Wren - 172\n",
      "None\n"
     ]
    }
   ],
   "source": [
    "for cluster in range(3):\n",
    "    print(f'Cluster {cluster}: {list(cluster_distribution(skm))[cluster][1]} records')\n",
    "    print(cluster_birds_distribution(skm, cluster))\n",
    "    "
   ]
  },
  {
   "cell_type": "code",
   "execution_count": 162,
   "metadata": {},
   "outputs": [
    {
     "data": {
      "text/plain": [
       "{(0, 831), (1, 294), (2, 1391)}"
      ]
     },
     "execution_count": 162,
     "metadata": {},
     "output_type": "execute_result"
    }
   ],
   "source": [
    "set([(label, skm.labels_.count(label)) for label in skm.labels_])"
   ]
  },
  {
   "cell_type": "code",
   "execution_count": 163,
   "metadata": {},
   "outputs": [
    {
     "data": {
      "text/plain": [
       "<coclust.clustering.spherical_kmeans.SphericalKmeans at 0x2022594d748>"
      ]
     },
     "execution_count": 163,
     "metadata": {},
     "output_type": "execute_result"
    }
   ],
   "source": []
  }
 ],
 "metadata": {
  "colab": {
   "collapsed_sections": [],
   "name": "Spherical K-Means.ipynb",
   "provenance": []
  },
  "kernelspec": {
   "display_name": "Python 3",
   "language": "python",
   "name": "python3"
  },
  "language_info": {
   "codemirror_mode": {
    "name": "ipython",
    "version": 3
   },
   "file_extension": ".py",
   "mimetype": "text/x-python",
   "name": "python",
   "nbconvert_exporter": "python",
   "pygments_lexer": "ipython3",
   "version": "3.7.9"
  },
  "widgets": {
   "application/vnd.jupyter.widget-state+json": {
    "2af9251e1d3c4460b6ae2fda13ae4724": {
     "model_module": "@jupyter-widgets/controls",
     "model_name": "ProgressStyleModel",
     "state": {
      "_model_module": "@jupyter-widgets/controls",
      "_model_module_version": "1.5.0",
      "_model_name": "ProgressStyleModel",
      "_view_count": null,
      "_view_module": "@jupyter-widgets/base",
      "_view_module_version": "1.2.0",
      "_view_name": "StyleView",
      "bar_color": null,
      "description_width": "initial"
     }
    },
    "2d0e50308adf42da8f5f65963a1af50a": {
     "model_module": "@jupyter-widgets/base",
     "model_name": "LayoutModel",
     "state": {
      "_model_module": "@jupyter-widgets/base",
      "_model_module_version": "1.2.0",
      "_model_name": "LayoutModel",
      "_view_count": null,
      "_view_module": "@jupyter-widgets/base",
      "_view_module_version": "1.2.0",
      "_view_name": "LayoutView",
      "align_content": null,
      "align_items": null,
      "align_self": null,
      "border": null,
      "bottom": null,
      "display": null,
      "flex": null,
      "flex_flow": null,
      "grid_area": null,
      "grid_auto_columns": null,
      "grid_auto_flow": null,
      "grid_auto_rows": null,
      "grid_column": null,
      "grid_gap": null,
      "grid_row": null,
      "grid_template_areas": null,
      "grid_template_columns": null,
      "grid_template_rows": null,
      "height": null,
      "justify_content": null,
      "justify_items": null,
      "left": null,
      "margin": null,
      "max_height": null,
      "max_width": null,
      "min_height": null,
      "min_width": null,
      "object_fit": null,
      "object_position": null,
      "order": null,
      "overflow": null,
      "overflow_x": null,
      "overflow_y": null,
      "padding": null,
      "right": null,
      "top": null,
      "visibility": null,
      "width": null
     }
    },
    "3059921ee908434382c0b9748dc6a767": {
     "model_module": "@jupyter-widgets/controls",
     "model_name": "FloatProgressModel",
     "state": {
      "_dom_classes": [],
      "_model_module": "@jupyter-widgets/controls",
      "_model_module_version": "1.5.0",
      "_model_name": "FloatProgressModel",
      "_view_count": null,
      "_view_module": "@jupyter-widgets/controls",
      "_view_module_version": "1.5.0",
      "_view_name": "ProgressView",
      "bar_style": "success",
      "description": "100%",
      "description_tooltip": null,
      "layout": "IPY_MODEL_ed94f88f9ece40b795b9e7a33e8c4033",
      "max": 1,
      "min": 0,
      "orientation": "horizontal",
      "style": "IPY_MODEL_2af9251e1d3c4460b6ae2fda13ae4724",
      "value": 1
     }
    },
    "61dade7ba51a49a9b1e88180ccdc120a": {
     "model_module": "@jupyter-widgets/controls",
     "model_name": "DescriptionStyleModel",
     "state": {
      "_model_module": "@jupyter-widgets/controls",
      "_model_module_version": "1.5.0",
      "_model_name": "DescriptionStyleModel",
      "_view_count": null,
      "_view_module": "@jupyter-widgets/base",
      "_view_module_version": "1.2.0",
      "_view_name": "StyleView",
      "description_width": ""
     }
    },
    "a65b35a1d95f4fadb81979a94bf32aed": {
     "model_module": "@jupyter-widgets/base",
     "model_name": "LayoutModel",
     "state": {
      "_model_module": "@jupyter-widgets/base",
      "_model_module_version": "1.2.0",
      "_model_name": "LayoutModel",
      "_view_count": null,
      "_view_module": "@jupyter-widgets/base",
      "_view_module_version": "1.2.0",
      "_view_name": "LayoutView",
      "align_content": null,
      "align_items": null,
      "align_self": null,
      "border": null,
      "bottom": null,
      "display": null,
      "flex": null,
      "flex_flow": null,
      "grid_area": null,
      "grid_auto_columns": null,
      "grid_auto_flow": null,
      "grid_auto_rows": null,
      "grid_column": null,
      "grid_gap": null,
      "grid_row": null,
      "grid_template_areas": null,
      "grid_template_columns": null,
      "grid_template_rows": null,
      "height": null,
      "justify_content": null,
      "justify_items": null,
      "left": null,
      "margin": null,
      "max_height": null,
      "max_width": null,
      "min_height": null,
      "min_width": null,
      "object_fit": null,
      "object_position": null,
      "order": null,
      "overflow": null,
      "overflow_x": null,
      "overflow_y": null,
      "padding": null,
      "right": null,
      "top": null,
      "visibility": null,
      "width": null
     }
    },
    "bcf7aa0066dc45f7b6341b18fed44a88": {
     "model_module": "@jupyter-widgets/controls",
     "model_name": "HTMLModel",
     "state": {
      "_dom_classes": [],
      "_model_module": "@jupyter-widgets/controls",
      "_model_module_version": "1.5.0",
      "_model_name": "HTMLModel",
      "_view_count": null,
      "_view_module": "@jupyter-widgets/controls",
      "_view_module_version": "1.5.0",
      "_view_name": "HTMLView",
      "description": "",
      "description_tooltip": null,
      "layout": "IPY_MODEL_a65b35a1d95f4fadb81979a94bf32aed",
      "placeholder": "​",
      "style": "IPY_MODEL_61dade7ba51a49a9b1e88180ccdc120a",
      "value": " 1/1 [00:01&lt;00:00,  1.00s/it]"
     }
    },
    "e987300ade6d4c4d9b6d4d09228a4d9b": {
     "model_module": "@jupyter-widgets/controls",
     "model_name": "HBoxModel",
     "state": {
      "_dom_classes": [],
      "_model_module": "@jupyter-widgets/controls",
      "_model_module_version": "1.5.0",
      "_model_name": "HBoxModel",
      "_view_count": null,
      "_view_module": "@jupyter-widgets/controls",
      "_view_module_version": "1.5.0",
      "_view_name": "HBoxView",
      "box_style": "",
      "children": [
       "IPY_MODEL_3059921ee908434382c0b9748dc6a767",
       "IPY_MODEL_bcf7aa0066dc45f7b6341b18fed44a88"
      ],
      "layout": "IPY_MODEL_2d0e50308adf42da8f5f65963a1af50a"
     }
    },
    "ed94f88f9ece40b795b9e7a33e8c4033": {
     "model_module": "@jupyter-widgets/base",
     "model_name": "LayoutModel",
     "state": {
      "_model_module": "@jupyter-widgets/base",
      "_model_module_version": "1.2.0",
      "_model_name": "LayoutModel",
      "_view_count": null,
      "_view_module": "@jupyter-widgets/base",
      "_view_module_version": "1.2.0",
      "_view_name": "LayoutView",
      "align_content": null,
      "align_items": null,
      "align_self": null,
      "border": null,
      "bottom": null,
      "display": null,
      "flex": null,
      "flex_flow": null,
      "grid_area": null,
      "grid_auto_columns": null,
      "grid_auto_flow": null,
      "grid_auto_rows": null,
      "grid_column": null,
      "grid_gap": null,
      "grid_row": null,
      "grid_template_areas": null,
      "grid_template_columns": null,
      "grid_template_rows": null,
      "height": null,
      "justify_content": null,
      "justify_items": null,
      "left": null,
      "margin": null,
      "max_height": null,
      "max_width": null,
      "min_height": null,
      "min_width": null,
      "object_fit": null,
      "object_position": null,
      "order": null,
      "overflow": null,
      "overflow_x": null,
      "overflow_y": null,
      "padding": null,
      "right": null,
      "top": null,
      "visibility": null,
      "width": null
     }
    }
   }
  }
 },
 "nbformat": 4,
 "nbformat_minor": 5
}
