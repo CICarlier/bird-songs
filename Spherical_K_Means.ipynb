{
  "nbformat": 4,
  "nbformat_minor": 5,
  "metadata": {
    "kernelspec": {
      "display_name": "Python 3",
      "language": "python",
      "name": "python3"
    },
    "language_info": {
      "codemirror_mode": {
        "name": "ipython",
        "version": 3
      },
      "file_extension": ".py",
      "mimetype": "text/x-python",
      "name": "python",
      "nbconvert_exporter": "python",
      "pygments_lexer": "ipython3",
      "version": "3.8.8"
    },
    "colab": {
      "name": "Spherical_K_Means.ipynb",
      "provenance": [],
      "collapsed_sections": [],
      "toc_visible": true
    },
    "widgets": {
      "application/vnd.jupyter.widget-state+json": {
        "51f7fbe2b3b04ac3929cdcde58f9b805": {
          "model_module": "@jupyter-widgets/controls",
          "model_name": "HBoxModel",
          "state": {
            "_view_name": "HBoxView",
            "_dom_classes": [],
            "_model_name": "HBoxModel",
            "_view_module": "@jupyter-widgets/controls",
            "_model_module_version": "1.5.0",
            "_view_count": null,
            "_view_module_version": "1.5.0",
            "box_style": "",
            "layout": "IPY_MODEL_1e56aa66aa4c425b97e105791dc49242",
            "_model_module": "@jupyter-widgets/controls",
            "children": [
              "IPY_MODEL_460f0d8a54894fe884657533235b60cf",
              "IPY_MODEL_40f5c4ef6d294f208468eab508ed68f3"
            ]
          }
        },
        "1e56aa66aa4c425b97e105791dc49242": {
          "model_module": "@jupyter-widgets/base",
          "model_name": "LayoutModel",
          "state": {
            "_view_name": "LayoutView",
            "grid_template_rows": null,
            "right": null,
            "justify_content": null,
            "_view_module": "@jupyter-widgets/base",
            "overflow": null,
            "_model_module_version": "1.2.0",
            "_view_count": null,
            "flex_flow": null,
            "width": null,
            "min_width": null,
            "border": null,
            "align_items": null,
            "bottom": null,
            "_model_module": "@jupyter-widgets/base",
            "top": null,
            "grid_column": null,
            "overflow_y": null,
            "overflow_x": null,
            "grid_auto_flow": null,
            "grid_area": null,
            "grid_template_columns": null,
            "flex": null,
            "_model_name": "LayoutModel",
            "justify_items": null,
            "grid_row": null,
            "max_height": null,
            "align_content": null,
            "visibility": null,
            "align_self": null,
            "height": null,
            "min_height": null,
            "padding": null,
            "grid_auto_rows": null,
            "grid_gap": null,
            "max_width": null,
            "order": null,
            "_view_module_version": "1.2.0",
            "grid_template_areas": null,
            "object_position": null,
            "object_fit": null,
            "grid_auto_columns": null,
            "margin": null,
            "display": null,
            "left": null
          }
        },
        "460f0d8a54894fe884657533235b60cf": {
          "model_module": "@jupyter-widgets/controls",
          "model_name": "FloatProgressModel",
          "state": {
            "_view_name": "ProgressView",
            "style": "IPY_MODEL_cded87ef36234f508aa9aa6ea227ee6b",
            "_dom_classes": [],
            "description": "100%",
            "_model_name": "FloatProgressModel",
            "bar_style": "success",
            "max": 2516,
            "_view_module": "@jupyter-widgets/controls",
            "_model_module_version": "1.5.0",
            "value": 2516,
            "_view_count": null,
            "_view_module_version": "1.5.0",
            "orientation": "horizontal",
            "min": 0,
            "description_tooltip": null,
            "_model_module": "@jupyter-widgets/controls",
            "layout": "IPY_MODEL_5ab9a1b4b0c74a49a71941aa5f5b3258"
          }
        },
        "40f5c4ef6d294f208468eab508ed68f3": {
          "model_module": "@jupyter-widgets/controls",
          "model_name": "HTMLModel",
          "state": {
            "_view_name": "HTMLView",
            "style": "IPY_MODEL_e0debe6f8bea440aa0a18caaff9ca606",
            "_dom_classes": [],
            "description": "",
            "_model_name": "HTMLModel",
            "placeholder": "​",
            "_view_module": "@jupyter-widgets/controls",
            "_model_module_version": "1.5.0",
            "value": " 2516/2516 [02:02&lt;00:00, 20.50it/s]",
            "_view_count": null,
            "_view_module_version": "1.5.0",
            "description_tooltip": null,
            "_model_module": "@jupyter-widgets/controls",
            "layout": "IPY_MODEL_9d33378bfc174030973c9f7c7bb6444a"
          }
        },
        "cded87ef36234f508aa9aa6ea227ee6b": {
          "model_module": "@jupyter-widgets/controls",
          "model_name": "ProgressStyleModel",
          "state": {
            "_view_name": "StyleView",
            "_model_name": "ProgressStyleModel",
            "description_width": "initial",
            "_view_module": "@jupyter-widgets/base",
            "_model_module_version": "1.5.0",
            "_view_count": null,
            "_view_module_version": "1.2.0",
            "bar_color": null,
            "_model_module": "@jupyter-widgets/controls"
          }
        },
        "5ab9a1b4b0c74a49a71941aa5f5b3258": {
          "model_module": "@jupyter-widgets/base",
          "model_name": "LayoutModel",
          "state": {
            "_view_name": "LayoutView",
            "grid_template_rows": null,
            "right": null,
            "justify_content": null,
            "_view_module": "@jupyter-widgets/base",
            "overflow": null,
            "_model_module_version": "1.2.0",
            "_view_count": null,
            "flex_flow": null,
            "width": null,
            "min_width": null,
            "border": null,
            "align_items": null,
            "bottom": null,
            "_model_module": "@jupyter-widgets/base",
            "top": null,
            "grid_column": null,
            "overflow_y": null,
            "overflow_x": null,
            "grid_auto_flow": null,
            "grid_area": null,
            "grid_template_columns": null,
            "flex": null,
            "_model_name": "LayoutModel",
            "justify_items": null,
            "grid_row": null,
            "max_height": null,
            "align_content": null,
            "visibility": null,
            "align_self": null,
            "height": null,
            "min_height": null,
            "padding": null,
            "grid_auto_rows": null,
            "grid_gap": null,
            "max_width": null,
            "order": null,
            "_view_module_version": "1.2.0",
            "grid_template_areas": null,
            "object_position": null,
            "object_fit": null,
            "grid_auto_columns": null,
            "margin": null,
            "display": null,
            "left": null
          }
        },
        "e0debe6f8bea440aa0a18caaff9ca606": {
          "model_module": "@jupyter-widgets/controls",
          "model_name": "DescriptionStyleModel",
          "state": {
            "_view_name": "StyleView",
            "_model_name": "DescriptionStyleModel",
            "description_width": "",
            "_view_module": "@jupyter-widgets/base",
            "_model_module_version": "1.5.0",
            "_view_count": null,
            "_view_module_version": "1.2.0",
            "_model_module": "@jupyter-widgets/controls"
          }
        },
        "9d33378bfc174030973c9f7c7bb6444a": {
          "model_module": "@jupyter-widgets/base",
          "model_name": "LayoutModel",
          "state": {
            "_view_name": "LayoutView",
            "grid_template_rows": null,
            "right": null,
            "justify_content": null,
            "_view_module": "@jupyter-widgets/base",
            "overflow": null,
            "_model_module_version": "1.2.0",
            "_view_count": null,
            "flex_flow": null,
            "width": null,
            "min_width": null,
            "border": null,
            "align_items": null,
            "bottom": null,
            "_model_module": "@jupyter-widgets/base",
            "top": null,
            "grid_column": null,
            "overflow_y": null,
            "overflow_x": null,
            "grid_auto_flow": null,
            "grid_area": null,
            "grid_template_columns": null,
            "flex": null,
            "_model_name": "LayoutModel",
            "justify_items": null,
            "grid_row": null,
            "max_height": null,
            "align_content": null,
            "visibility": null,
            "align_self": null,
            "height": null,
            "min_height": null,
            "padding": null,
            "grid_auto_rows": null,
            "grid_gap": null,
            "max_width": null,
            "order": null,
            "_view_module_version": "1.2.0",
            "grid_template_areas": null,
            "object_position": null,
            "object_fit": null,
            "grid_auto_columns": null,
            "margin": null,
            "display": null,
            "left": null
          }
        }
      }
    }
  },
  "cells": [
    {
      "cell_type": "markdown",
      "metadata": {
        "id": "ethical-stomach"
      },
      "source": [
        "# Spherical K-Means  \n",
        "\n",
        "Code taken from:  \n",
        "Dan Stowell and Mark Plumbley (2014), Automatic large-scale classification of bird sounds is strongly improved by unsupervised feature learning  \n",
        "https://www.ncbi.nlm.nih.gov/pmc/articles/PMC4106198/ \n"
      ],
      "id": "ethical-stomach"
    },
    {
      "cell_type": "code",
      "metadata": {
        "id": "visible-performer"
      },
      "source": [
        "#!/usr/bin/env python\n",
        "\n",
        "# Online spherical Hartigan k-means\n",
        "# Dan Stowell, Jan 2014\n",
        "\n",
        "# This file in particular is published under the following open licence:\n",
        "#######################################################################################\n",
        "# Copyright (c) 2014, Dan Stowell and Queen Mary University of London\n",
        "# All rights reserved.\n",
        "#\n",
        "# Redistribution and use in source and binary forms, with or without modification, are permitted provided\n",
        "# that the following conditions are met:\n",
        "#\n",
        "# 1. Redistributions of source code must retain the above copyright notice, this list of conditions\n",
        "# and the following disclaimer.\n",
        "#\n",
        "# 2. Redistributions in binary form must reproduce the above copyright notice, this list of conditions\n",
        "#    and the following disclaimer in the documentation and/or other materials provided with the distribution.\n",
        "#\n",
        "# THIS SOFTWARE IS PROVIDED BY THE COPYRIGHT HOLDERS AND CONTRIBUTORS \"AS IS\" AND ANY EXPRESS OR IMPLIED \n",
        "# WARRANTIES, INCLUDING, BUT NOT LIMITED TO, THE IMPLIED WARRANTIES OF MERCHANTABILITY AND FITNESS FOR A\n",
        "# PARTICULAR PURPOSE ARE DISCLAIMED. IN NO EVENT SHALL THE COPYRIGHT HOLDER OR CONTRIBUTORS BE LIABLE FOR\n",
        "# ANY DIRECT, INDIRECT, INCIDENTAL, SPECIAL, EXEMPLARY, OR CONSEQUENTIAL DAMAGES (INCLUDING, BUT NOT LIMITED\n",
        "# TO, PROCUREMENT OF SUBSTITUTE GOODS OR SERVICES; LOSS OF USE, DATA, OR PROFITS; OR BUSINESS INTERRUPTION)\n",
        "# HOWEVER CAUSED AND ON ANY THEORY OF LIABILITY, WHETHER IN CONTRACT, STRICT LIABILITY, OR TORT (INCLUDING\n",
        "# NEGLIGENCE OR OTHERWISE) ARISING IN ANY WAY OUT OF THE USE OF THIS SOFTWARE, EVEN IF ADVISED OF THE\n",
        "# POSSIBILITY OF SUCH DAMAGE.\n",
        "#######################################################################################\n",
        "\n",
        "import numpy as np\n",
        "\n",
        "class OSKmeans:\n",
        "    \"\"\"\n",
        "    This class implements online Hartigan k-means, except:\n",
        "     - spherical k-means, i.e. the centroids are constrained to L2-norm of 1\n",
        "     - centroids are initialised randomly on the sphere\n",
        "     - a weight-offset is used to ensure that the random inits aren't simply blown away as soon as the first data-point comes in\n",
        "\n",
        "    Further reading:\n",
        "     - Appendix B of         http://cseweb.ucsd.edu/~bmcfee/papers/bmcfee_dissertation.pdf\n",
        "     - Coates et al 2012, Learning feature representations with k-means\n",
        "    \"\"\"\n",
        "\n",
        "    def __init__(self, k, d, weightoffset=2):\n",
        "        \"\"\"\n",
        "        k = num centroids\n",
        "        d = num dimensions\n",
        "        weightoffset: how \"reluctant\" the centroids are to move at first. set to 0 for traditional initialisation of centroids as random data.\n",
        "        \"\"\"\n",
        "        self.hitcounts =          [weightoffset               for _ in range(k)]     # shape (k)\n",
        "        self.centroids = np.array([spherical_random_sample(d) for _ in range(k)])    # shape (k, d)\n",
        "        self.k = k\n",
        "        self.d = d\n",
        "\n",
        "    def weightednearest(self, datum):\n",
        "        \"Find the index of the best-matching centroid, using the Hartigan count-weighting scheme in combination with cosine similarity\"\n",
        "        # find the best-matching centroid (note that it's not pure distance, but count-weighted)\n",
        "        bestindex = 0\n",
        "        bestval   = np.inf\n",
        "        bestcosinesim   = 0\n",
        "        datum = unit_normalise(datum)\n",
        "\n",
        "        try:\n",
        "            cosinesims = np.dot(self.centroids, datum.T)  # cosine similarity, shape (k)\n",
        "            cosinedists = 1. - cosinesims  # converted to a distance for the benefit of the count-weighting\n",
        "            cosinedists *= [self.hitcounts[which]/float(self.hitcounts[which]+1) for which in range(self.k)]  # Hartigan count-weighting\n",
        "        except:\n",
        "            print(\"Matrix shapes were: centroids %s, datum %s\" % (np.shape(self.centroids), np.shape(datum)))\n",
        "            raise\n",
        "\n",
        "        bestindex = np.argmin(cosinedists)\n",
        "        bestcosinesim = float(cosinesims[bestindex])\n",
        "        return (bestindex, bestcosinesim)  # NOTE: the dot product returned here is with the normalised input, i.e. with its unit vector.\n",
        "\n",
        "    def update(self, datum):\n",
        "        \"Feed individual data into this to perform learning\"\n",
        "        datum = np.array(datum)\n",
        "        bestindex, dotprod = self.weightednearest(datum)\n",
        "\n",
        "        # update the centroid, including the renormalisation for sphericalness\n",
        "        centroid = self.centroids[bestindex]\n",
        "        hitcount = self.hitcounts[bestindex]\n",
        "        newcentroid = unit_normalise(centroid * hitcount + datum * dotprod)\n",
        "        self.centroids[bestindex] = newcentroid\n",
        "\n",
        "        # update the hit count\n",
        "        self.hitcounts[bestindex] = hitcount + 1\n",
        "        # return the index, and the amount by which the centroid has changed (useful for monitoring)\n",
        "        return (bestindex, np.sqrt(((centroid-newcentroid)**2).sum()))\n",
        "\n",
        "    def train_batch(self, whitedata, niters=10, verbose=True):\n",
        "        \"If you have a batch of data, rather than streamed, this method is a convenience to train using 'niters' iterations of the shuffled data.\"\n",
        "        shuffle_indices = np.arange(len(whitedata))\n",
        "        for whichiter in range(niters):\n",
        "            if verbose:\n",
        "                print (f\"Iteration {whichiter}\")\n",
        "            np.random.shuffle(shuffle_indices)\n",
        "            for upindex, index in enumerate(shuffle_indices):\n",
        "                self.update(whitedata[index])\n",
        "\n",
        "    def sort_centroids(self):\n",
        "        \"\"\"Not needed! Purely cosmetic, for comprehensibility of certain plots. Reorders the centroids by an arbitrary spectral-centroid-like measure.\n",
        "        Note that for 2D features such as chrmfull, the ordering may not have obvious sense since it operates on the vectorised data.\"\"\"\n",
        "        if False:\n",
        "            binlist = np.arange(len(self.centroids[0]))\n",
        "            sortifier = np.argsort([np.sum(centroid * binlist)/np.sum(centroid) for centroid in self.centroids])\n",
        "        else:\n",
        "            # new sorting method, using a simple approximation to TSP to organise the centroids so that close ones are close.\n",
        "            similarities = np.dot(self.centroids, self.centroids.T)\n",
        "            #print \"sort_centroids() -- similarities is of shape %s\" % str(similarities.shape)\n",
        "\n",
        "            # Now, starting arbitrarily from index 0, we \"grow each end\" iteratively\n",
        "            pathends = [[0], [0]]\n",
        "            worstarcpos = None\n",
        "            worstarcdot = 1\n",
        "            availablenodes = range(1, len(similarities))\n",
        "            whichend = 0\n",
        "            #print(\"---------------------------------------------------\")\n",
        "            while len(availablenodes) != 0:\n",
        "                #print(\"availablenodes (length %i): %s\" % (len(availablenodes), str(availablenodes)))\n",
        "                whichend = 1 - whichend  # alternate between one and zero\n",
        "                frm = pathends[whichend][-1]\n",
        "                # iterate over the nodes that are so-far unused, finding the best one to join on\n",
        "                bestpos = availablenodes[0]\n",
        "                bestdot = -1\n",
        "                for too in availablenodes:\n",
        "                    curdot = similarities[frm, too]\n",
        "                    if curdot > bestdot:\n",
        "                        bestpos = too\n",
        "                        bestdot = curdot\n",
        "                # check if this is the worst arc so far made\n",
        "                if bestdot < worstarcdot:\n",
        "                    worstarcdot = bestdot\n",
        "                    worstarcpos = (whichend, len(pathends[whichend]))\n",
        "                # append this arc\n",
        "                pathends[whichend].append(bestpos)\n",
        "                # remove the chosen one from availablenodes\n",
        "                #print(\" bestpos: %i, dot %g\" % (bestpos, bestdot))\n",
        "                availablenodes.remove(bestpos)\n",
        "\n",
        "            # finally, we need to check the join-the-two-ends arc to see if it's the worst\n",
        "            curdot = similarities[pathends[0][-1], pathends[1][-1]]\n",
        "            # we can choose the worst arc found as the place to split the circuit; and create the sortifier\n",
        "            if curdot < worstarcdot:\n",
        "                # we will snip the way the paths themselves snipped\n",
        "                sortifier = pathends[0][::-1] + pathends[1][1:]\n",
        "            else:\n",
        "                # we will snip at some location inside one of the lists, and rejoin\n",
        "                (snipwhich, snipwhere) = worstarcpos\n",
        "                sortifier = pathends[snipwhich][snipwhere::-1] + pathends[1-snipwhich][1:] + pathends[snipwhich][:snipwhere:-1]\n",
        "            if sorted(sortifier) != range(len(similarities)):\n",
        "                print(\"pathends: %s\" % str(pathends))\n",
        "                raise RuntimeError(\"sorted(sortifier) != range(len(similarities)): sorted(%s) != range(%s)\") % (sortifier, len(similarities))\n",
        "            #print(\"Simple TSP method: decided on the following sortifier: %s\" % str(sortifier))\n",
        "\n",
        "        self.centroids = np.array([self.centroids[index] for index in sortifier])\n",
        "        self.hitcounts =          [self.hitcounts[index] for index in sortifier]\n",
        "\n",
        "\n",
        "    def relative_entropy_hitcounts(self):\n",
        "        \"The entropy over the centroid hitcounts is a useful measure of how well they are used. Here we normalise it against the ideal uniform entropy\"\n",
        "        h = 0.\n",
        "        tot = float(np.sum(self.hitcounts))\n",
        "        for hitcount in self.hitcounts:\n",
        "            p = hitcount / tot\n",
        "            h -= p * np.log(p)\n",
        "        h_unif = np.log(len(self.hitcounts))\n",
        "        return h / h_unif\n",
        "\n",
        "    def reconstruct1(self, datum, whichcentroid):\n",
        "        \"Reconstruct an input datum using a single indexed centroid\"\n",
        "        return self.centroids[whichcentroid] * np.dot(self.centroids[whichcentroid], datum)\n",
        "\n",
        "    def dotproducts(self, data):\n",
        "        'Used by thresholded_dotproducts(); subclasses may overwrite'\n",
        "        return np.dot(data, self.centroids.T)\n",
        "\n",
        "    def thresholded_dotproducts(self, data, threshold=0.0):\n",
        "        \"One possible 'feature' set based on centroids is this, the thresholded dot products. Supply a matrix as one row per datum.\"\n",
        "        try:\n",
        "            return np.maximum(0, self.dotproducts(data) - threshold)\n",
        "        except:\n",
        "            print(\"Matrix shapes were: centroids %s, data %s\" % (np.shape(self.centroids), np.shape(data)))\n",
        "            raise\n",
        "\n",
        "###############################################\n",
        "def spherical_random_sample(d):\n",
        "    vec = np.random.normal(size=d)\n",
        "    return unit_normalise(vec)\n",
        "\n",
        "def unit_normalise(vec):\n",
        "    return vec / np.sqrt((vec ** 2).sum())\n",
        "\n",
        "###############################################\n",
        "# useful functions for whitening a dataset\n",
        "\n",
        "def normalise_and_whiten(data, retain=0.99, bias=1e-8, use_selfnormn=True, min_ndims=1):\n",
        "    \"Use this to prepare a training set before running through OSKMeans\"\n",
        "    mean = np.mean(data, 0)\n",
        "    normdata = data - mean\n",
        "\n",
        "    if use_selfnormn:\n",
        "        for i in range(normdata.shape[0]):\n",
        "            normdata[i] -= np.mean(normdata[i])\n",
        "\n",
        "    # this snippet is based on an example by Sander Dieleman\n",
        "    cov = np.dot(normdata.T, normdata) / normdata.shape[0]\n",
        "    eigs, eigv = np.linalg.eigh(cov) # docs say the eigenvalues are NOT NECESSARILY ORDERED, but this seems to be the case in practice...\n",
        "    print (f\"computing number of components to retain {retain:.2f} of the variance...\")\n",
        "    normed_eigs = eigs[::-1] / np.sum(eigs) # maximal value first\n",
        "    eigs_sum = np.cumsum(normed_eigs)\n",
        "    num_components = max(min_ndims, np.argmax(eigs_sum > retain)) # argmax selects the first index where eigs_sum > retain is true\n",
        "    print(f\"number of components to retain: {num_components} of {len(eigs)}\")\n",
        "    P = eigv.astype('float32') * np.sqrt(1.0/(eigs + bias)) # PCA whitening\n",
        "    P = P[:, -num_components:] # truncate transformation matrix\n",
        "\n",
        "    whitedata = np.dot(normdata, P)\n",
        "    invproj = np.linalg.pinv(P)\n",
        "    return ({'centre': mean, 'proj': P, 'ncomponents': num_components, 'invproj': invproj, 'use_selfnormn': use_selfnormn}, whitedata)\n",
        "\n",
        "def prepare_data(data, norminfo):\n",
        "    \"Typically used for new data; you use normalise_and_whiten() on your training data, then this method projects a new set of data rows in the same way\"\n",
        "    normdata = data - norminfo['centre']\n",
        "    try:\n",
        "        if norminfo['use_selfnormn']:\n",
        "            normdata -= np.mean(normdata, 1).reshape(-1,1)\n",
        "        return np.dot(normdata, norminfo['proj'])\n",
        "    except:\n",
        "        print(\"Matrix shapes were: data %s, norminfo['proj'] %s, np.mean(normdata, 1) %s\" % (np.shape(normdata), np.shape(norminfo['proj']), np.shape(np.mean(normdata, 1))))\n",
        "        raise\n",
        "\n",
        "def prepare_a_datum(datum, norminfo):\n",
        "    \"Typically used for new data; you use normalise_and_whiten() on your training data, then this method projects a single test datum in the same way\"\n",
        "    return prepare_data(datum.reshape(1, -1), norminfo).flatten()\n",
        "\n",
        "def unprepare_a_datum(datum, norminfo, uncentre=True):\n",
        "    \"The opposite of prepare_a_datum(). It can't fix selfnormn but otherwise.\"\n",
        "    datum = np.dot(datum, norminfo['invproj'])\n",
        "    if uncentre:\n",
        "        datum += norminfo['centre']\n",
        "    return datum\n",
        "\n",
        "###############################################\n",
        "\n",
        "        \n",
        "\n"
      ],
      "id": "visible-performer",
      "execution_count": 97,
      "outputs": []
    },
    {
      "cell_type": "markdown",
      "metadata": {
        "id": "ZdRHEdon2XE-"
      },
      "source": [
        "## Examples from Dan Stowell"
      ],
      "id": "ZdRHEdon2XE-"
    },
    {
      "cell_type": "code",
      "metadata": {
        "id": "EjcnOtWR2VrW",
        "colab": {
          "base_uri": "https://localhost:8080/",
          "height": 615
        },
        "collapsed": true,
        "cellView": "form",
        "outputId": "5989bcfa-9089-4a0e-ab6a-2c068dab3edb"
      },
      "source": [
        "#@title\n",
        "if __name__ == \"__main__\":\n",
        "    import matplotlib\n",
        "    # matplotlib.use('PDF') # http://www.astrobetter.com/plotting-to-a-file-in-python/\n",
        "    import matplotlib.pyplot as plt\n",
        "    %matplotlib inline\n",
        "\n",
        "    km = OSKmeans(3, 2)\n",
        "    print(\"Centroids:\")\n",
        "    print(km.centroids)\n",
        "    for _ in range(20):\n",
        "        km.update([1,0])\n",
        "        km.update([0,1])\n",
        "        km.update([-1,0])\n",
        "    print(\"Centroids:\")\n",
        "    print(km.centroids)\n",
        "\n",
        "    ######################################\n",
        "    # Synthetic example: just for illustration purposes, we will create 3 2D clumps sampled\n",
        "    # from gaussians on angle and log-magnitude, and learn 10 means\n",
        "\n",
        "    truecentroids = [ # anglemean, anglesd, logmagmean, logmagsd\n",
        "        [1.0, 0.1, 1.0, 0.35],\n",
        "        [2.0, 0.3, 1.0, 0.2],\n",
        "        [4.0, 0.5, 0.7, 0.2],\n",
        "    ]\n",
        "    samples = [[] for _ in truecentroids]\n",
        "    np.random.seed(12345)\n",
        "    km = OSKmeans(10, 2)\n",
        "    for index in range(10000):\n",
        "        # sample from cluster index % 3\n",
        "        whichclust = index % len(truecentroids)\n",
        "        angle = np.random.normal(truecentroids[whichclust][0], truecentroids[whichclust][1])\n",
        "        magnitude = np.exp(np.random.normal(truecentroids[whichclust][2], truecentroids[whichclust][3]))\n",
        "        datum = [np.sin(angle) * magnitude, np.cos(angle) * magnitude]\n",
        "        # store that to the data list, along with its true identity\n",
        "        if index < 500:\n",
        "            samples[whichclust].append(datum)\n",
        "        # run it through kmeans\n",
        "        km.update(datum)\n",
        "\n",
        "    for plotlbl, showcentroids in [['datacent', True], ['data', False]]:\n",
        "        ucircle = plt.Circle((0,0),1, color=[0.9]*3, fill=False)\n",
        "        ax = plt.gca()\n",
        "        ax.cla() # clear things for fresh plot\n",
        "        ax.set_xlim((-4,4))\n",
        "        ax.set_ylim((-4,4))\n",
        "        ax.set_aspect('equal', 'box')\n",
        "        ax.axis('off')\n",
        "        fig = plt.gcf()\n",
        "        fig.gca().add_artist(ucircle)\n",
        "        \n",
        "        for sampleset in samples:\n",
        "            plt.plot([datum[0] for datum in sampleset], [datum[1] for datum in sampleset], '.')\n",
        "        if showcentroids:\n",
        "            plt.plot([datum[0] for datum in km.centroids], [datum[1] for datum in km.centroids], 'kx')\n",
        "        plt.xticks([])\n",
        "        plt.yticks([])\n",
        "        plt.axvline(0, color=[0.7] * 3)\n",
        "        plt.axhline(0, color=[0.7] * 3)\n",
        "        # plt.savefig(\"%s/oskmeansexample-%s.pdf\" % ('.', plotlbl))\n",
        "        # plt.clf()\n",
        "        plt.show()"
      ],
      "id": "EjcnOtWR2VrW",
      "execution_count": null,
      "outputs": [
        {
          "output_type": "stream",
          "text": [
            "Centroids:\n",
            "[[ 0.94838364  0.31712533]\n",
            " [-0.94043724 -0.33996735]\n",
            " [-0.77395344 -0.63324251]]\n",
            "Centroids:\n",
            "[[ 0.96645028  0.25685378]\n",
            " [-0.99946043 -0.03284583]\n",
            " [-0.77395344 -0.63324251]]\n"
          ],
          "name": "stdout"
        },
        {
          "output_type": "display_data",
          "data": {
            "image/png": "[encoded data removed]",
            "text/plain": [
              "<Figure size 432x288 with 1 Axes>"
            ]
          },
          "metadata": {
            "tags": []
          }
        },
        {
          "output_type": "display_data",
          "data": {
            "image/png": "[encoded data removed]",
            "text/plain": [
              "<Figure size 432x288 with 1 Axes>"
            ]
          },
          "metadata": {
            "tags": []
          }
        }
      ]
    },
    {
      "cell_type": "markdown",
      "metadata": {
        "id": "VurayMKa2cjs"
      },
      "source": [
        "## Bird-song code"
      ],
      "id": "VurayMKa2cjs"
    },
    {
      "cell_type": "code",
      "metadata": {
        "id": "O-YMAdxU2sOI"
      },
      "source": [
        "import numpy as np\n",
        "import pandas as pd\n",
        "\n",
        "import os\n",
        "import glob\n",
        "\n",
        "import librosa\n",
        "import librosa.display\n",
        "\n",
        "import warnings\n",
        "warnings.filterwarnings(\"ignore\")\n",
        "\n",
        "from tqdm.notebook import tqdm\n"
      ],
      "id": "O-YMAdxU2sOI",
      "execution_count": 98,
      "outputs": []
    },
    {
      "cell_type": "code",
      "metadata": {
        "colab": {
          "base_uri": "https://localhost:8080/"
        },
        "id": "weighted-ebony",
        "outputId": "0423730b-64f6-4005-a30f-c5939b5af666"
      },
      "source": [
        "# For Colab only\n",
        "# 4/1AY0e-g6CTocvBK45PWlJu2ycBuOMTgu36b-VZgpnCXitW_Vy3ckpGGBzur8\n",
        "from google.colab import drive\n",
        "drive.mount('content')\n",
        "# /content/content/MyDrive/bird-songs/audio"
      ],
      "id": "weighted-ebony",
      "execution_count": 99,
      "outputs": [
        {
          "output_type": "stream",
          "text": [
            "Drive already mounted at content; to attempt to forcibly remount, call drive.mount(\"content\", force_remount=True).\n"
          ],
          "name": "stdout"
        }
      ]
    },
    {
      "cell_type": "code",
      "metadata": {
        "colab": {
          "base_uri": "https://localhost:8080/"
        },
        "id": "qG3U_ZmA2hlm",
        "outputId": "c13ce032-a060-476c-fee3-51af5f6bfe8a"
      },
      "source": [
        "# Check whether google drive mounted\n",
        "path = '/content/content/MyDrive/bird-songs/'\n",
        "if os.path.isdir(path) == True:\n",
        "    print('Google Drive Mounted')\n",
        "    run_on_colab = True\n",
        "else:\n",
        "    print('Using local drive')\n",
        "    run_on_colab = False\n",
        "    "
      ],
      "id": "qG3U_ZmA2hlm",
      "execution_count": 100,
      "outputs": [
        {
          "output_type": "stream",
          "text": [
            "Google Drive Mounted\n"
          ],
          "name": "stdout"
        }
      ]
    },
    {
      "cell_type": "code",
      "metadata": {
        "colab": {
          "base_uri": "https://localhost:8080/",
          "height": 510
        },
        "id": "KcobrOqwb5iF",
        "outputId": "a6b15949-b838-4e76-c7b2-f1252ae74850"
      },
      "source": [
        "if run_on_colab == True:\n",
        "    features = pd.read_csv('/content/content/MyDrive/bird-songs/features_filtered.csv', encoding='latin')\n",
        "else:\n",
        "    features = pd.read_csv('features_filtered.csv', encoding='latin')\n",
        "display (features.head())\n",
        "\n",
        "# These are the top species we selected for our analysis\n",
        "selected_species = ['Red-winged Blackbird', \n",
        "                    'Common Yellowthroat', \n",
        "                    'Northern Cardinal', \n",
        "                    'Carolina Wren', \n",
        "                    'Red Crossbill', \n",
        "                    'Spotted Towhee']\n",
        "# We only need the id and the labels for our CNN.\n",
        "dataset = features[features.en.isin(selected_species)][['id', 'en']]\n",
        "# Now we need to change our labels into integers as torch does not support string format for labels.\n",
        "labels = {\"Red-winged Blackbird\": 0, 'Common Yellowthroat': 1, 'Northern Cardinal': 2, 'Carolina Wren': 3,\n",
        "          'Red Crossbill': 4, 'Spotted Towhee': 5}\n",
        "dataset['label'] = dataset.apply(lambda row: labels[row.en], axis=1)\n",
        "dataset.drop('en', axis=1, inplace=True)\n",
        "\n",
        "display (dataset.head())"
      ],
      "id": "KcobrOqwb5iF",
      "execution_count": 110,
      "outputs": [
        {
          "output_type": "display_data",
          "data": {
            "text/html": [
              "<div>\n",
              "<style scoped>\n",
              "    .dataframe tbody tr th:only-of-type {\n",
              "        vertical-align: middle;\n",
              "    }\n",
              "\n",
              "    .dataframe tbody tr th {\n",
              "        vertical-align: top;\n",
              "    }\n",
              "\n",
              "    .dataframe thead th {\n",
              "        text-align: right;\n",
              "    }\n",
              "</style>\n",
              "<table border=\"1\" class=\"dataframe\">\n",
              "  <thead>\n",
              "    <tr style=\"text-align: right;\">\n",
              "      <th></th>\n",
              "      <th>id</th>\n",
              "      <th>gen</th>\n",
              "      <th>sp</th>\n",
              "      <th>ssp</th>\n",
              "      <th>en</th>\n",
              "      <th>cnt</th>\n",
              "      <th>loc</th>\n",
              "      <th>type</th>\n",
              "      <th>q</th>\n",
              "      <th>length</th>\n",
              "      <th>bird-seen</th>\n",
              "      <th>file</th>\n",
              "    </tr>\n",
              "  </thead>\n",
              "  <tbody>\n",
              "    <tr>\n",
              "      <th>0</th>\n",
              "      <td>564895</td>\n",
              "      <td>Thryothorus</td>\n",
              "      <td>ludovicianus</td>\n",
              "      <td>NaN</td>\n",
              "      <td>Carolina Wren</td>\n",
              "      <td>United States</td>\n",
              "      <td>Lyons Township (near  Willow Springs), Cook Co...</td>\n",
              "      <td>adult, sex uncertain, song</td>\n",
              "      <td>no score</td>\n",
              "      <td>0:16</td>\n",
              "      <td>no</td>\n",
              "      <td>//www.xeno-canto.org/564895/download</td>\n",
              "    </tr>\n",
              "    <tr>\n",
              "      <th>1</th>\n",
              "      <td>545775</td>\n",
              "      <td>Thryothorus</td>\n",
              "      <td>ludovicianus</td>\n",
              "      <td>NaN</td>\n",
              "      <td>Carolina Wren</td>\n",
              "      <td>United States</td>\n",
              "      <td>Valley Forge National Historical Park, Montgom...</td>\n",
              "      <td>call</td>\n",
              "      <td>no score</td>\n",
              "      <td>0:17</td>\n",
              "      <td>yes</td>\n",
              "      <td>//www.xeno-canto.org/545775/download</td>\n",
              "    </tr>\n",
              "    <tr>\n",
              "      <th>2</th>\n",
              "      <td>540857</td>\n",
              "      <td>Thryothorus</td>\n",
              "      <td>ludovicianus</td>\n",
              "      <td>NaN</td>\n",
              "      <td>Carolina Wren</td>\n",
              "      <td>United States</td>\n",
              "      <td>Slaterville Rd @ Honness (near  Ithaca), Tompk...</td>\n",
              "      <td>song</td>\n",
              "      <td>no score</td>\n",
              "      <td>0:32</td>\n",
              "      <td>unknown</td>\n",
              "      <td>//www.xeno-canto.org/540857/download</td>\n",
              "    </tr>\n",
              "    <tr>\n",
              "      <th>3</th>\n",
              "      <td>540855</td>\n",
              "      <td>Thryothorus</td>\n",
              "      <td>ludovicianus</td>\n",
              "      <td>NaN</td>\n",
              "      <td>Carolina Wren</td>\n",
              "      <td>United States</td>\n",
              "      <td>Slaterville Rd @ Honness (near  Ithaca), Tompk...</td>\n",
              "      <td>song</td>\n",
              "      <td>no score</td>\n",
              "      <td>0:52</td>\n",
              "      <td>unknown</td>\n",
              "      <td>//www.xeno-canto.org/540855/download</td>\n",
              "    </tr>\n",
              "    <tr>\n",
              "      <th>4</th>\n",
              "      <td>539275</td>\n",
              "      <td>Thryothorus</td>\n",
              "      <td>ludovicianus</td>\n",
              "      <td>NaN</td>\n",
              "      <td>Carolina Wren</td>\n",
              "      <td>United States</td>\n",
              "      <td>Upper St. Clair Township (near  Upper Saint Cl...</td>\n",
              "      <td>call, song</td>\n",
              "      <td>no score</td>\n",
              "      <td>1:12</td>\n",
              "      <td>yes</td>\n",
              "      <td>//www.xeno-canto.org/539275/download</td>\n",
              "    </tr>\n",
              "  </tbody>\n",
              "</table>\n",
              "</div>"
            ],
            "text/plain": [
              "       id          gen  ... bird-seen                                  file\n",
              "0  564895  Thryothorus  ...        no  //www.xeno-canto.org/564895/download\n",
              "1  545775  Thryothorus  ...       yes  //www.xeno-canto.org/545775/download\n",
              "2  540857  Thryothorus  ...   unknown  //www.xeno-canto.org/540857/download\n",
              "3  540855  Thryothorus  ...   unknown  //www.xeno-canto.org/540855/download\n",
              "4  539275  Thryothorus  ...       yes  //www.xeno-canto.org/539275/download\n",
              "\n",
              "[5 rows x 12 columns]"
            ]
          },
          "metadata": {
            "tags": []
          }
        },
        {
          "output_type": "display_data",
          "data": {
            "text/html": [
              "<div>\n",
              "<style scoped>\n",
              "    .dataframe tbody tr th:only-of-type {\n",
              "        vertical-align: middle;\n",
              "    }\n",
              "\n",
              "    .dataframe tbody tr th {\n",
              "        vertical-align: top;\n",
              "    }\n",
              "\n",
              "    .dataframe thead th {\n",
              "        text-align: right;\n",
              "    }\n",
              "</style>\n",
              "<table border=\"1\" class=\"dataframe\">\n",
              "  <thead>\n",
              "    <tr style=\"text-align: right;\">\n",
              "      <th></th>\n",
              "      <th>id</th>\n",
              "      <th>label</th>\n",
              "    </tr>\n",
              "  </thead>\n",
              "  <tbody>\n",
              "    <tr>\n",
              "      <th>0</th>\n",
              "      <td>564895</td>\n",
              "      <td>3</td>\n",
              "    </tr>\n",
              "    <tr>\n",
              "      <th>1</th>\n",
              "      <td>545775</td>\n",
              "      <td>3</td>\n",
              "    </tr>\n",
              "    <tr>\n",
              "      <th>2</th>\n",
              "      <td>540857</td>\n",
              "      <td>3</td>\n",
              "    </tr>\n",
              "    <tr>\n",
              "      <th>3</th>\n",
              "      <td>540855</td>\n",
              "      <td>3</td>\n",
              "    </tr>\n",
              "    <tr>\n",
              "      <th>4</th>\n",
              "      <td>539275</td>\n",
              "      <td>3</td>\n",
              "    </tr>\n",
              "  </tbody>\n",
              "</table>\n",
              "</div>"
            ],
            "text/plain": [
              "       id  label\n",
              "0  564895      3\n",
              "1  545775      3\n",
              "2  540857      3\n",
              "3  540855      3\n",
              "4  539275      3"
            ]
          },
          "metadata": {
            "tags": []
          }
        }
      ]
    },
    {
      "cell_type": "code",
      "metadata": {
        "colab": {
          "base_uri": "https://localhost:8080/",
          "height": 83,
          "referenced_widgets": [
            "51f7fbe2b3b04ac3929cdcde58f9b805",
            "1e56aa66aa4c425b97e105791dc49242",
            "460f0d8a54894fe884657533235b60cf",
            "40f5c4ef6d294f208468eab508ed68f3",
            "cded87ef36234f508aa9aa6ea227ee6b",
            "5ab9a1b4b0c74a49a71941aa5f5b3258",
            "e0debe6f8bea440aa0a18caaff9ca606",
            "9d33378bfc174030973c9f7c7bb6444a"
          ]
        },
        "id": "scZtFoSy3AR4",
        "outputId": "5683c95f-6a87-4320-9c3e-ebac53bc40ad"
      },
      "source": [
        "def create_mel_spectral_features(sample_rate=22050):\n",
        "    ''' '''\n",
        "\n",
        "    mels = []\n",
        "    audio_filenames = dataset['id'].tolist()\n",
        "\n",
        "    if run_on_colab == True:\n",
        "        audio_filenames = list(map(lambda x: '/content/content/MyDrive/bird-songs/audio_8sec/' + str(x) + '.wav',\n",
        "                              audio_filenames))\n",
        "    else:\n",
        "        audio_filenames = list(map(lambda x: '/audio_8sec/' + str(x) + '.wav', audio_filenames))\n",
        "\n",
        "\n",
        "    for audio_filename in tqdm(audio_filenames[:]): \n",
        "\n",
        "        y, sr = librosa.load(audio_filename, sr=sample_rate, mono=True)\n",
        "        mel = librosa.feature.melspectrogram(y=y, sr=sample_rate, n_mels=20, n_fft=2048, hop_length=1024, fmin=500)\n",
        "        # print(f\"Shape mel spectrogram is {mel.shape}\")\n",
        "        mels.append(mel)\n",
        "    \n",
        "    mels = np.array(mels)\n",
        "    \n",
        "    if run_on_colab == True:\n",
        "        outfile = '/content/content/MyDrive/bird-songs/mels_8s_arrays.npy'\n",
        "    else:\n",
        "        outfile = './mels_8s_arrays.npy'\n",
        "    \n",
        "    with open(outfile, 'wb') as f:\n",
        "        np.save(f, mels)\n",
        "    print(mels.shape)\n",
        "  \n",
        "    return  None\n",
        "\n",
        "\n",
        "\n",
        "create_mel_spectral_features()\n"
      ],
      "id": "scZtFoSy3AR4",
      "execution_count": 123,
      "outputs": [
        {
          "output_type": "display_data",
          "data": {
            "application/vnd.jupyter.widget-view+json": {
              "model_id": "51f7fbe2b3b04ac3929cdcde58f9b805",
              "version_minor": 0,
              "version_major": 2
            },
            "text/plain": [
              "HBox(children=(FloatProgress(value=0.0, max=2516.0), HTML(value='')))"
            ]
          },
          "metadata": {
            "tags": []
          }
        },
        {
          "output_type": "stream",
          "text": [
            "\n",
            "(2516, 20, 173)\n"
          ],
          "name": "stdout"
        }
      ]
    },
    {
      "cell_type": "code",
      "metadata": {
        "colab": {
          "base_uri": "https://localhost:8080/"
        },
        "id": "5Fvvlx9B7Bg0",
        "outputId": "9442e572-cc39-4561-e9a8-0252d42a9d30"
      },
      "source": [
        "if run_on_colab == True:\n",
        "    infile = '/content/content/MyDrive/bird-songs/mels_8s_arrays.npy'\n",
        "else:\n",
        "    infile = './mels_8s_arrays.npy'\n",
        "\n",
        "with open(infile, 'rb') as f:\n",
        "    mels = np.load(f, allow_pickle=False)\n",
        "\n",
        "print(mels.shape)\n",
        "\n",
        "mels = mels.reshape(mels.shape[0], -1)\n",
        "print(mels.shape)\n",
        "norminfo, whitedata = normalise_and_whiten(mels, retain=0.98, min_ndims=1, use_selfnormn=True)\n",
        "print (f\"Shape normalized and whitened output is {whitedata.shape}\")"
      ],
      "id": "5Fvvlx9B7Bg0",
      "execution_count": 125,
      "outputs": [
        {
          "output_type": "stream",
          "text": [
            "(2516, 20, 173)\n",
            "(2516, 3460)\n",
            "computing number of components to retain 0.98 of the variance...\n",
            "number of components to retain: 460 of 3460\n",
            "Shape normalized and whitened output is (2516, 460)\n"
          ],
          "name": "stdout"
        }
      ]
    },
    {
      "cell_type": "code",
      "metadata": {
        "colab": {
          "base_uri": "https://localhost:8080/"
        },
        "id": "suoJznDhOY0R",
        "outputId": "7bf77f1c-085e-43f3-d621-56335f56af08"
      },
      "source": [
        "\n",
        "    \n",
        "print(len(whitedata))\n",
        "sphericalkm = OSKmeans(500, whitedata.shape[1])\n",
        "sphericalkm.train_batch(whitedata.tolist(), verbose=True)\n",
        "    \n",
        "\n",
        "\n",
        "\n",
        "# print(kmeansobj.centroids)\n",
        "\n",
        "# print(km_centroids[0].keys(), \"\\n\")\n",
        "# print(km_centroids[0]['use_selfnormn'])"
      ],
      "id": "suoJznDhOY0R",
      "execution_count": 127,
      "outputs": [
        {
          "output_type": "stream",
          "text": [
            "2516\n",
            "Iteration 0\n",
            "Iteration 1\n",
            "Iteration 2\n",
            "Iteration 3\n",
            "Iteration 4\n",
            "Iteration 5\n",
            "Iteration 6\n",
            "Iteration 7\n",
            "Iteration 8\n",
            "Iteration 9\n"
          ],
          "name": "stdout"
        }
      ]
    },
    {
      "cell_type": "code",
      "metadata": {
        "colab": {
          "base_uri": "https://localhost:8080/"
        },
        "id": "jKdLkIZoGKo9",
        "outputId": "80c329f6-6c6f-4d81-dcfd-bc9741a23282"
      },
      "source": [
        "print(sphericalkm.centroids.shape)"
      ],
      "id": "jKdLkIZoGKo9",
      "execution_count": 128,
      "outputs": [
        {
          "output_type": "stream",
          "text": [
            "(500, 460)\n"
          ],
          "name": "stdout"
        }
      ]
    },
    {
      "cell_type": "code",
      "metadata": {
        "colab": {
          "base_uri": "https://localhost:8080/"
        },
        "id": "4w3Dxnh9GyRD",
        "outputId": "f154a125-7b99-405f-9d54-b080d4306d8f"
      },
      "source": [
        "def transform_newdata(data, norminfo, kmeansobj):\n",
        "   \"\"\"This takes input data, whitens it, and projects it into the new\n",
        "    'feature space' given by proximity to kmeans centroids\"\"\"\n",
        "\n",
        "   whitedata = prepare_data(data, norminfo)\n",
        "   transformeddata = kmeansobj.thresholded_dotproducts(whitedata)\n",
        "   del whitedata\n",
        "   return transformeddata\n",
        "\n",
        "data = mels\n",
        "kmeansobj = sphericalkm\n",
        "newdata = transform_newdata(data, norminfo, kmeansobj)\n",
        "\n",
        "print(type(newdata))\n",
        "\n",
        "if run_on_colab == True:\n",
        "    outfile = '/content/content/MyDrive/bird-songs/spherical_kmeans_features.npy'\n",
        "else:\n",
        "    outfile = './spherical_kmeans_features.npy'\n",
        "\n",
        "with open(outfile, 'wb') as f:\n",
        "    np.save(f, newdata)\n",
        "print(newdata.shape)"
      ],
      "id": "4w3Dxnh9GyRD",
      "execution_count": 130,
      "outputs": [
        {
          "output_type": "stream",
          "text": [
            "<class 'numpy.ndarray'>\n",
            "(2516, 500)\n"
          ],
          "name": "stdout"
        }
      ]
    },
    {
      "cell_type": "code",
      "metadata": {
        "id": "WfRrThnEGybO"
      },
      "source": [
        ""
      ],
      "id": "WfRrThnEGybO",
      "execution_count": null,
      "outputs": []
    },
    {
      "cell_type": "code",
      "metadata": {
        "id": "AA9tMRqicwFS"
      },
      "source": [
        ""
      ],
      "id": "AA9tMRqicwFS",
      "execution_count": null,
      "outputs": []
    },
    {
      "cell_type": "code",
      "metadata": {
        "id": "YuEXuhjmcwJu"
      },
      "source": [
        ""
      ],
      "id": "YuEXuhjmcwJu",
      "execution_count": null,
      "outputs": []
    },
    {
      "cell_type": "markdown",
      "metadata": {
        "id": "Yqoog__lctxb"
      },
      "source": [
        "## Scratch Area"
      ],
      "id": "Yqoog__lctxb"
    },
    {
      "cell_type": "code",
      "metadata": {
        "colab": {
          "base_uri": "https://localhost:8080/"
        },
        "id": "kTDMCgv8Lnbx",
        "outputId": "0d7b66b7-fc97-4f9e-dd73-fd532cd7dfa3"
      },
      "source": [
        "((8*22050)/1024) + 1"
      ],
      "id": "kTDMCgv8Lnbx",
      "execution_count": 38,
      "outputs": [
        {
          "output_type": "execute_result",
          "data": {
            "text/plain": [
              "173.265625"
            ]
          },
          "metadata": {
            "tags": []
          },
          "execution_count": 38
        }
      ]
    },
    {
      "cell_type": "code",
      "metadata": {
        "id": "VgVAE5mv5_J6",
        "colab": {
          "base_uri": "https://localhost:8080/"
        },
        "outputId": "d3f0228e-8726-4198-cf47-180507c67ee4"
      },
      "source": [
        "a = np.array([[1,2,3,4], [4,5,6,7]])\n",
        "np.mean(a, 0)"
      ],
      "id": "VgVAE5mv5_J6",
      "execution_count": null,
      "outputs": [
        {
          "output_type": "execute_result",
          "data": {
            "text/plain": [
              "array([2.5, 3.5, 4.5, 5.5])"
            ]
          },
          "metadata": {
            "tags": []
          },
          "execution_count": 16
        }
      ]
    }
  ]
}