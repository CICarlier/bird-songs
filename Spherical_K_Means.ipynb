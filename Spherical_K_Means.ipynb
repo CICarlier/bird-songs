{
  "nbformat": 4,
  "nbformat_minor": 5,
  "metadata": {
    "colab": {
      "name": "Spherical_K_Means.ipynb",
      "provenance": [],
      "collapsed_sections": [],
      "toc_visible": true
    },
    "kernelspec": {
      "display_name": "Python 3",
      "language": "python",
      "name": "python3"
    },
    "language_info": {
      "codemirror_mode": {
        "name": "ipython",
        "version": 3
      },
      "file_extension": ".py",
      "mimetype": "text/x-python",
      "name": "python",
      "nbconvert_exporter": "python",
      "pygments_lexer": "ipython3",
      "version": "3.7.9"
    },
    "widgets": {
      "application/vnd.jupyter.widget-state+json": {
        "b289439602ba426ea5830465f62b666f": {
          "model_module": "@jupyter-widgets/controls",
          "model_name": "HBoxModel",
          "state": {
            "_view_name": "HBoxView",
            "_dom_classes": [],
            "_model_name": "HBoxModel",
            "_view_module": "@jupyter-widgets/controls",
            "_model_module_version": "1.5.0",
            "_view_count": null,
            "_view_module_version": "1.5.0",
            "box_style": "",
            "layout": "IPY_MODEL_1d866bf490484a1aa0c3c0f40bc0e36b",
            "_model_module": "@jupyter-widgets/controls",
            "children": [
              "IPY_MODEL_0c29e5673acb42e0ac51a7ebb1e9c4e5",
              "IPY_MODEL_fcee60ef05144925988dda697dc28259"
            ]
          }
        },
        "1d866bf490484a1aa0c3c0f40bc0e36b": {
          "model_module": "@jupyter-widgets/base",
          "model_name": "LayoutModel",
          "state": {
            "_view_name": "LayoutView",
            "grid_template_rows": null,
            "right": null,
            "justify_content": null,
            "_view_module": "@jupyter-widgets/base",
            "overflow": null,
            "_model_module_version": "1.2.0",
            "_view_count": null,
            "flex_flow": null,
            "width": null,
            "min_width": null,
            "border": null,
            "align_items": null,
            "bottom": null,
            "_model_module": "@jupyter-widgets/base",
            "top": null,
            "grid_column": null,
            "overflow_y": null,
            "overflow_x": null,
            "grid_auto_flow": null,
            "grid_area": null,
            "grid_template_columns": null,
            "flex": null,
            "_model_name": "LayoutModel",
            "justify_items": null,
            "grid_row": null,
            "max_height": null,
            "align_content": null,
            "visibility": null,
            "align_self": null,
            "height": null,
            "min_height": null,
            "padding": null,
            "grid_auto_rows": null,
            "grid_gap": null,
            "max_width": null,
            "order": null,
            "_view_module_version": "1.2.0",
            "grid_template_areas": null,
            "object_position": null,
            "object_fit": null,
            "grid_auto_columns": null,
            "margin": null,
            "display": null,
            "left": null
          }
        },
        "0c29e5673acb42e0ac51a7ebb1e9c4e5": {
          "model_module": "@jupyter-widgets/controls",
          "model_name": "FloatProgressModel",
          "state": {
            "_view_name": "ProgressView",
            "style": "IPY_MODEL_e5719672fb6d4b4995cb01adb6cd9b87",
            "_dom_classes": [],
            "description": "100%",
            "_model_name": "FloatProgressModel",
            "bar_style": "success",
            "max": 2516,
            "_view_module": "@jupyter-widgets/controls",
            "_model_module_version": "1.5.0",
            "value": 2516,
            "_view_count": null,
            "_view_module_version": "1.5.0",
            "orientation": "horizontal",
            "min": 0,
            "description_tooltip": null,
            "_model_module": "@jupyter-widgets/controls",
            "layout": "IPY_MODEL_ed0cdba88b7a4668919c1546368b6b0f"
          }
        },
        "fcee60ef05144925988dda697dc28259": {
          "model_module": "@jupyter-widgets/controls",
          "model_name": "HTMLModel",
          "state": {
            "_view_name": "HTMLView",
            "style": "IPY_MODEL_a2456f6897394b8cbe96331d1dd1ef1f",
            "_dom_classes": [],
            "description": "",
            "_model_name": "HTMLModel",
            "placeholder": "​",
            "_view_module": "@jupyter-widgets/controls",
            "_model_module_version": "1.5.0",
            "value": " 2516/2516 [00:16&lt;00:00, 149.56it/s]",
            "_view_count": null,
            "_view_module_version": "1.5.0",
            "description_tooltip": null,
            "_model_module": "@jupyter-widgets/controls",
            "layout": "IPY_MODEL_dd7762ebb26f406aa703f3bb84ce964c"
          }
        },
        "e5719672fb6d4b4995cb01adb6cd9b87": {
          "model_module": "@jupyter-widgets/controls",
          "model_name": "ProgressStyleModel",
          "state": {
            "_view_name": "StyleView",
            "_model_name": "ProgressStyleModel",
            "description_width": "initial",
            "_view_module": "@jupyter-widgets/base",
            "_model_module_version": "1.5.0",
            "_view_count": null,
            "_view_module_version": "1.2.0",
            "bar_color": null,
            "_model_module": "@jupyter-widgets/controls"
          }
        },
        "ed0cdba88b7a4668919c1546368b6b0f": {
          "model_module": "@jupyter-widgets/base",
          "model_name": "LayoutModel",
          "state": {
            "_view_name": "LayoutView",
            "grid_template_rows": null,
            "right": null,
            "justify_content": null,
            "_view_module": "@jupyter-widgets/base",
            "overflow": null,
            "_model_module_version": "1.2.0",
            "_view_count": null,
            "flex_flow": null,
            "width": null,
            "min_width": null,
            "border": null,
            "align_items": null,
            "bottom": null,
            "_model_module": "@jupyter-widgets/base",
            "top": null,
            "grid_column": null,
            "overflow_y": null,
            "overflow_x": null,
            "grid_auto_flow": null,
            "grid_area": null,
            "grid_template_columns": null,
            "flex": null,
            "_model_name": "LayoutModel",
            "justify_items": null,
            "grid_row": null,
            "max_height": null,
            "align_content": null,
            "visibility": null,
            "align_self": null,
            "height": null,
            "min_height": null,
            "padding": null,
            "grid_auto_rows": null,
            "grid_gap": null,
            "max_width": null,
            "order": null,
            "_view_module_version": "1.2.0",
            "grid_template_areas": null,
            "object_position": null,
            "object_fit": null,
            "grid_auto_columns": null,
            "margin": null,
            "display": null,
            "left": null
          }
        },
        "a2456f6897394b8cbe96331d1dd1ef1f": {
          "model_module": "@jupyter-widgets/controls",
          "model_name": "DescriptionStyleModel",
          "state": {
            "_view_name": "StyleView",
            "_model_name": "DescriptionStyleModel",
            "description_width": "",
            "_view_module": "@jupyter-widgets/base",
            "_model_module_version": "1.5.0",
            "_view_count": null,
            "_view_module_version": "1.2.0",
            "_model_module": "@jupyter-widgets/controls"
          }
        },
        "dd7762ebb26f406aa703f3bb84ce964c": {
          "model_module": "@jupyter-widgets/base",
          "model_name": "LayoutModel",
          "state": {
            "_view_name": "LayoutView",
            "grid_template_rows": null,
            "right": null,
            "justify_content": null,
            "_view_module": "@jupyter-widgets/base",
            "overflow": null,
            "_model_module_version": "1.2.0",
            "_view_count": null,
            "flex_flow": null,
            "width": null,
            "min_width": null,
            "border": null,
            "align_items": null,
            "bottom": null,
            "_model_module": "@jupyter-widgets/base",
            "top": null,
            "grid_column": null,
            "overflow_y": null,
            "overflow_x": null,
            "grid_auto_flow": null,
            "grid_area": null,
            "grid_template_columns": null,
            "flex": null,
            "_model_name": "LayoutModel",
            "justify_items": null,
            "grid_row": null,
            "max_height": null,
            "align_content": null,
            "visibility": null,
            "align_self": null,
            "height": null,
            "min_height": null,
            "padding": null,
            "grid_auto_rows": null,
            "grid_gap": null,
            "max_width": null,
            "order": null,
            "_view_module_version": "1.2.0",
            "grid_template_areas": null,
            "object_position": null,
            "object_fit": null,
            "grid_auto_columns": null,
            "margin": null,
            "display": null,
            "left": null
          }
        },
        "4d52e0c57cf14dce8328d1ed84d9b185": {
          "model_module": "@jupyter-widgets/controls",
          "model_name": "HBoxModel",
          "state": {
            "_view_name": "HBoxView",
            "_dom_classes": [],
            "_model_name": "HBoxModel",
            "_view_module": "@jupyter-widgets/controls",
            "_model_module_version": "1.5.0",
            "_view_count": null,
            "_view_module_version": "1.5.0",
            "box_style": "",
            "layout": "IPY_MODEL_c4c8caab7c9a42bcb6e3477afdf4f319",
            "_model_module": "@jupyter-widgets/controls",
            "children": [
              "IPY_MODEL_61b7b92d18444810a275e5f878f8817c",
              "IPY_MODEL_17149f3d8d3046a59685638f37bad0dc"
            ]
          }
        },
        "c4c8caab7c9a42bcb6e3477afdf4f319": {
          "model_module": "@jupyter-widgets/base",
          "model_name": "LayoutModel",
          "state": {
            "_view_name": "LayoutView",
            "grid_template_rows": null,
            "right": null,
            "justify_content": null,
            "_view_module": "@jupyter-widgets/base",
            "overflow": null,
            "_model_module_version": "1.2.0",
            "_view_count": null,
            "flex_flow": null,
            "width": null,
            "min_width": null,
            "border": null,
            "align_items": null,
            "bottom": null,
            "_model_module": "@jupyter-widgets/base",
            "top": null,
            "grid_column": null,
            "overflow_y": null,
            "overflow_x": null,
            "grid_auto_flow": null,
            "grid_area": null,
            "grid_template_columns": null,
            "flex": null,
            "_model_name": "LayoutModel",
            "justify_items": null,
            "grid_row": null,
            "max_height": null,
            "align_content": null,
            "visibility": null,
            "align_self": null,
            "height": null,
            "min_height": null,
            "padding": null,
            "grid_auto_rows": null,
            "grid_gap": null,
            "max_width": null,
            "order": null,
            "_view_module_version": "1.2.0",
            "grid_template_areas": null,
            "object_position": null,
            "object_fit": null,
            "grid_auto_columns": null,
            "margin": null,
            "display": null,
            "left": null
          }
        },
        "61b7b92d18444810a275e5f878f8817c": {
          "model_module": "@jupyter-widgets/controls",
          "model_name": "FloatProgressModel",
          "state": {
            "_view_name": "ProgressView",
            "style": "IPY_MODEL_a015714f3b3f40deb0812ae53437cb4a",
            "_dom_classes": [],
            "description": "100%",
            "_model_name": "FloatProgressModel",
            "bar_style": "success",
            "max": 2516,
            "_view_module": "@jupyter-widgets/controls",
            "_model_module_version": "1.5.0",
            "value": 2516,
            "_view_count": null,
            "_view_module_version": "1.5.0",
            "orientation": "horizontal",
            "min": 0,
            "description_tooltip": null,
            "_model_module": "@jupyter-widgets/controls",
            "layout": "IPY_MODEL_df00f598da134b05854e385d15014ef7"
          }
        },
        "17149f3d8d3046a59685638f37bad0dc": {
          "model_module": "@jupyter-widgets/controls",
          "model_name": "HTMLModel",
          "state": {
            "_view_name": "HTMLView",
            "style": "IPY_MODEL_9d51d643bb3f4ebfba9feaeceefecc10",
            "_dom_classes": [],
            "description": "",
            "_model_name": "HTMLModel",
            "placeholder": "​",
            "_view_module": "@jupyter-widgets/controls",
            "_model_module_version": "1.5.0",
            "value": " 2516/2516 [00:10&lt;00:00, 235.62it/s]",
            "_view_count": null,
            "_view_module_version": "1.5.0",
            "description_tooltip": null,
            "_model_module": "@jupyter-widgets/controls",
            "layout": "IPY_MODEL_93bcae1caa8a42298242f6fc74d86fa7"
          }
        },
        "a015714f3b3f40deb0812ae53437cb4a": {
          "model_module": "@jupyter-widgets/controls",
          "model_name": "ProgressStyleModel",
          "state": {
            "_view_name": "StyleView",
            "_model_name": "ProgressStyleModel",
            "description_width": "initial",
            "_view_module": "@jupyter-widgets/base",
            "_model_module_version": "1.5.0",
            "_view_count": null,
            "_view_module_version": "1.2.0",
            "bar_color": null,
            "_model_module": "@jupyter-widgets/controls"
          }
        },
        "df00f598da134b05854e385d15014ef7": {
          "model_module": "@jupyter-widgets/base",
          "model_name": "LayoutModel",
          "state": {
            "_view_name": "LayoutView",
            "grid_template_rows": null,
            "right": null,
            "justify_content": null,
            "_view_module": "@jupyter-widgets/base",
            "overflow": null,
            "_model_module_version": "1.2.0",
            "_view_count": null,
            "flex_flow": null,
            "width": null,
            "min_width": null,
            "border": null,
            "align_items": null,
            "bottom": null,
            "_model_module": "@jupyter-widgets/base",
            "top": null,
            "grid_column": null,
            "overflow_y": null,
            "overflow_x": null,
            "grid_auto_flow": null,
            "grid_area": null,
            "grid_template_columns": null,
            "flex": null,
            "_model_name": "LayoutModel",
            "justify_items": null,
            "grid_row": null,
            "max_height": null,
            "align_content": null,
            "visibility": null,
            "align_self": null,
            "height": null,
            "min_height": null,
            "padding": null,
            "grid_auto_rows": null,
            "grid_gap": null,
            "max_width": null,
            "order": null,
            "_view_module_version": "1.2.0",
            "grid_template_areas": null,
            "object_position": null,
            "object_fit": null,
            "grid_auto_columns": null,
            "margin": null,
            "display": null,
            "left": null
          }
        },
        "9d51d643bb3f4ebfba9feaeceefecc10": {
          "model_module": "@jupyter-widgets/controls",
          "model_name": "DescriptionStyleModel",
          "state": {
            "_view_name": "StyleView",
            "_model_name": "DescriptionStyleModel",
            "description_width": "",
            "_view_module": "@jupyter-widgets/base",
            "_model_module_version": "1.5.0",
            "_view_count": null,
            "_view_module_version": "1.2.0",
            "_model_module": "@jupyter-widgets/controls"
          }
        },
        "93bcae1caa8a42298242f6fc74d86fa7": {
          "model_module": "@jupyter-widgets/base",
          "model_name": "LayoutModel",
          "state": {
            "_view_name": "LayoutView",
            "grid_template_rows": null,
            "right": null,
            "justify_content": null,
            "_view_module": "@jupyter-widgets/base",
            "overflow": null,
            "_model_module_version": "1.2.0",
            "_view_count": null,
            "flex_flow": null,
            "width": null,
            "min_width": null,
            "border": null,
            "align_items": null,
            "bottom": null,
            "_model_module": "@jupyter-widgets/base",
            "top": null,
            "grid_column": null,
            "overflow_y": null,
            "overflow_x": null,
            "grid_auto_flow": null,
            "grid_area": null,
            "grid_template_columns": null,
            "flex": null,
            "_model_name": "LayoutModel",
            "justify_items": null,
            "grid_row": null,
            "max_height": null,
            "align_content": null,
            "visibility": null,
            "align_self": null,
            "height": null,
            "min_height": null,
            "padding": null,
            "grid_auto_rows": null,
            "grid_gap": null,
            "max_width": null,
            "order": null,
            "_view_module_version": "1.2.0",
            "grid_template_areas": null,
            "object_position": null,
            "object_fit": null,
            "grid_auto_columns": null,
            "margin": null,
            "display": null,
            "left": null
          }
        }
      }
    }
  },
  "cells": [
    {
      "cell_type": "markdown",
      "metadata": {
        "id": "ethical-stomach"
      },
      "source": [
        "# Spherical K-Means  \n",
        "\n",
        "Code taken from:  \n",
        "Dan Stowell and Mark Plumbley (2014), Automatic large-scale classification of bird sounds is strongly improved by unsupervised feature learning  \n",
        "https://www.ncbi.nlm.nih.gov/pmc/articles/PMC4106198/ \n"
      ],
      "id": "ethical-stomach"
    },
    {
      "cell_type": "code",
      "metadata": {
        "id": "visible-performer"
      },
      "source": [
        "#!/usr/bin/env python\n",
        "\n",
        "# Online spherical Hartigan k-means\n",
        "# Dan Stowell, Jan 2014\n",
        "\n",
        "# This file in particular is published under the following open licence:\n",
        "#######################################################################################\n",
        "# Copyright (c) 2014, Dan Stowell and Queen Mary University of London\n",
        "# All rights reserved.\n",
        "#\n",
        "# Redistribution and use in source and binary forms, with or without modification, are permitted provided\n",
        "# that the following conditions are met:\n",
        "#\n",
        "# 1. Redistributions of source code must retain the above copyright notice, this list of conditions\n",
        "# and the following disclaimer.\n",
        "#\n",
        "# 2. Redistributions in binary form must reproduce the above copyright notice, this list of conditions\n",
        "#    and the following disclaimer in the documentation and/or other materials provided with the distribution.\n",
        "#\n",
        "# THIS SOFTWARE IS PROVIDED BY THE COPYRIGHT HOLDERS AND CONTRIBUTORS \"AS IS\" AND ANY EXPRESS OR IMPLIED \n",
        "# WARRANTIES, INCLUDING, BUT NOT LIMITED TO, THE IMPLIED WARRANTIES OF MERCHANTABILITY AND FITNESS FOR A\n",
        "# PARTICULAR PURPOSE ARE DISCLAIMED. IN NO EVENT SHALL THE COPYRIGHT HOLDER OR CONTRIBUTORS BE LIABLE FOR\n",
        "# ANY DIRECT, INDIRECT, INCIDENTAL, SPECIAL, EXEMPLARY, OR CONSEQUENTIAL DAMAGES (INCLUDING, BUT NOT LIMITED\n",
        "# TO, PROCUREMENT OF SUBSTITUTE GOODS OR SERVICES; LOSS OF USE, DATA, OR PROFITS; OR BUSINESS INTERRUPTION)\n",
        "# HOWEVER CAUSED AND ON ANY THEORY OF LIABILITY, WHETHER IN CONTRACT, STRICT LIABILITY, OR TORT (INCLUDING\n",
        "# NEGLIGENCE OR OTHERWISE) ARISING IN ANY WAY OUT OF THE USE OF THIS SOFTWARE, EVEN IF ADVISED OF THE\n",
        "# POSSIBILITY OF SUCH DAMAGE.\n",
        "#######################################################################################\n",
        "\n",
        "import numpy as np\n",
        "\n",
        "class OSKmeans:\n",
        "    \"\"\"\n",
        "    This class implements online Hartigan k-means, except:\n",
        "     - spherical k-means, i.e. the centroids are constrained to L2-norm of 1\n",
        "     - centroids are initialised randomly on the sphere\n",
        "     - a weight-offset is used to ensure that the random inits aren't simply blown away as soon as the first data-point comes in\n",
        "\n",
        "    Further reading:\n",
        "     - Appendix B of         http://cseweb.ucsd.edu/~bmcfee/papers/bmcfee_dissertation.pdf\n",
        "     - Coates et al 2012, Learning feature representations with k-means\n",
        "    \"\"\"\n",
        "\n",
        "    def __init__(self, k, d, weightoffset=2):\n",
        "        \"\"\"\n",
        "        k = num centroids\n",
        "        d = num dimensions\n",
        "        weightoffset: how \"reluctant\" the centroids are to move at first. set to 0 for traditional initialisation of centroids as random data.\n",
        "        \"\"\"\n",
        "        self.hitcounts =          [weightoffset               for _ in range(k)]     # shape (k)\n",
        "        self.centroids = np.array([spherical_random_sample(d) for _ in range(k)])    # shape (k, d)\n",
        "        self.k = k\n",
        "        self.d = d\n",
        "\n",
        "    def weightednearest(self, datum):\n",
        "        \"Find the index of the best-matching centroid, using the Hartigan count-weighting scheme in combination with cosine similarity\"\n",
        "        # find the best-matching centroid (note that it's not pure distance, but count-weighted)\n",
        "        bestindex = 0\n",
        "        bestval   = np.inf\n",
        "        bestcosinesim   = 0\n",
        "        datum = unit_normalise(datum)\n",
        "\n",
        "        try:\n",
        "            cosinesims = np.dot(self.centroids, datum.T)  # cosine similarity, shape (k)\n",
        "            cosinedists = 1. - cosinesims  # converted to a distance for the benefit of the count-weighting\n",
        "            cosinedists *= [self.hitcounts[which]/float(self.hitcounts[which]+1) for which in range(self.k)]  # Hartigan count-weighting\n",
        "        except:\n",
        "            print(\"Matrix shapes were: centroids %s, datum %s\" % (np.shape(self.centroids), np.shape(datum)))\n",
        "            raise\n",
        "\n",
        "        bestindex = np.argmin(cosinedists)\n",
        "        bestcosinesim = float(cosinesims[bestindex])\n",
        "        return (bestindex, bestcosinesim)  # NOTE: the dot product returned here is with the normalised input, i.e. with its unit vector.\n",
        "\n",
        "    def update(self, datum):\n",
        "        \"Feed individual data into this to perform learning\"\n",
        "        datum = np.array(datum)\n",
        "        bestindex, dotprod = self.weightednearest(datum)\n",
        "\n",
        "        # update the centroid, including the renormalisation for sphericalness\n",
        "        centroid = self.centroids[bestindex]\n",
        "        hitcount = self.hitcounts[bestindex]\n",
        "        newcentroid = unit_normalise(centroid * hitcount + datum * dotprod)\n",
        "        self.centroids[bestindex] = newcentroid\n",
        "\n",
        "        # update the hit count\n",
        "        self.hitcounts[bestindex] = hitcount + 1\n",
        "        # return the index, and the amount by which the centroid has changed (useful for monitoring)\n",
        "        return (bestindex, np.sqrt(((centroid-newcentroid)**2).sum()))\n",
        "\n",
        "    def train_batch(self, whitedata, niters=10, verbose=True):\n",
        "        \"If you have a batch of data, rather than streamed, this method is a convenience to train using 'niters' iterations of the shuffled data.\"\n",
        "        shuffle_indices = np.arange(len(whitedata))\n",
        "        for whichiter in range(niters):\n",
        "            if verbose:\n",
        "                print (f\"Iteration {whichiter}\")\n",
        "            np.random.shuffle(shuffle_indices)\n",
        "            for upindex, index in enumerate(shuffle_indices):\n",
        "                self.update(whitedata[index])\n",
        "\n",
        "    def sort_centroids(self):\n",
        "        \"\"\"Not needed! Purely cosmetic, for comprehensibility of certain plots. Reorders the centroids by an arbitrary spectral-centroid-like measure.\n",
        "        Note that for 2D features such as chrmfull, the ordering may not have obvious sense since it operates on the vectorised data.\"\"\"\n",
        "        if False:\n",
        "            binlist = np.arange(len(self.centroids[0]))\n",
        "            sortifier = np.argsort([np.sum(centroid * binlist)/np.sum(centroid) for centroid in self.centroids])\n",
        "        else:\n",
        "            # new sorting method, using a simple approximation to TSP to organise the centroids so that close ones are close.\n",
        "            similarities = np.dot(self.centroids, self.centroids.T)\n",
        "            #print \"sort_centroids() -- similarities is of shape %s\" % str(similarities.shape)\n",
        "\n",
        "            # Now, starting arbitrarily from index 0, we \"grow each end\" iteratively\n",
        "            pathends = [[0], [0]]\n",
        "            worstarcpos = None\n",
        "            worstarcdot = 1\n",
        "            availablenodes = range(1, len(similarities))\n",
        "            whichend = 0\n",
        "            #print(\"---------------------------------------------------\")\n",
        "            while len(availablenodes) != 0:\n",
        "                #print(\"availablenodes (length %i): %s\" % (len(availablenodes), str(availablenodes)))\n",
        "                whichend = 1 - whichend  # alternate between one and zero\n",
        "                frm = pathends[whichend][-1]\n",
        "                # iterate over the nodes that are so-far unused, finding the best one to join on\n",
        "                bestpos = availablenodes[0]\n",
        "                bestdot = -1\n",
        "                for too in availablenodes:\n",
        "                    curdot = similarities[frm, too]\n",
        "                    if curdot > bestdot:\n",
        "                        bestpos = too\n",
        "                        bestdot = curdot\n",
        "                # check if this is the worst arc so far made\n",
        "                if bestdot < worstarcdot:\n",
        "                    worstarcdot = bestdot\n",
        "                    worstarcpos = (whichend, len(pathends[whichend]))\n",
        "                # append this arc\n",
        "                pathends[whichend].append(bestpos)\n",
        "                # remove the chosen one from availablenodes\n",
        "                #print(\" bestpos: %i, dot %g\" % (bestpos, bestdot))\n",
        "                availablenodes.remove(bestpos)\n",
        "\n",
        "            # finally, we need to check the join-the-two-ends arc to see if it's the worst\n",
        "            curdot = similarities[pathends[0][-1], pathends[1][-1]]\n",
        "            # we can choose the worst arc found as the place to split the circuit; and create the sortifier\n",
        "            if curdot < worstarcdot:\n",
        "                # we will snip the way the paths themselves snipped\n",
        "                sortifier = pathends[0][::-1] + pathends[1][1:]\n",
        "            else:\n",
        "                # we will snip at some location inside one of the lists, and rejoin\n",
        "                (snipwhich, snipwhere) = worstarcpos\n",
        "                sortifier = pathends[snipwhich][snipwhere::-1] + pathends[1-snipwhich][1:] + pathends[snipwhich][:snipwhere:-1]\n",
        "            if sorted(sortifier) != range(len(similarities)):\n",
        "                print(\"pathends: %s\" % str(pathends))\n",
        "                raise RuntimeError(\"sorted(sortifier) != range(len(similarities)): sorted(%s) != range(%s)\") % (sortifier, len(similarities))\n",
        "            #print(\"Simple TSP method: decided on the following sortifier: %s\" % str(sortifier))\n",
        "\n",
        "        self.centroids = np.array([self.centroids[index] for index in sortifier])\n",
        "        self.hitcounts =          [self.hitcounts[index] for index in sortifier]\n",
        "\n",
        "\n",
        "    def relative_entropy_hitcounts(self):\n",
        "        \"The entropy over the centroid hitcounts is a useful measure of how well they are used. Here we normalise it against the ideal uniform entropy\"\n",
        "        h = 0.\n",
        "        tot = float(np.sum(self.hitcounts))\n",
        "        for hitcount in self.hitcounts:\n",
        "            p = hitcount / tot\n",
        "            h -= p * np.log(p)\n",
        "        h_unif = np.log(len(self.hitcounts))\n",
        "        return h / h_unif\n",
        "\n",
        "    def reconstruct1(self, datum, whichcentroid):\n",
        "        \"Reconstruct an input datum using a single indexed centroid\"\n",
        "        return self.centroids[whichcentroid] * np.dot(self.centroids[whichcentroid], datum)\n",
        "\n",
        "    def dotproducts(self, data):\n",
        "        'Used by thresholded_dotproducts(); subclasses may overwrite'\n",
        "        return np.dot(data, self.centroids.T)\n",
        "\n",
        "    def thresholded_dotproducts(self, data, threshold=0.0):\n",
        "        \"One possible 'feature' set based on centroids is this, the thresholded dot products. Supply a matrix as one row per datum.\"\n",
        "        try:\n",
        "            return np.maximum(0, self.dotproducts(data) - threshold)\n",
        "        except:\n",
        "            print(\"Matrix shapes were: centroids %s, data %s\" % (np.shape(self.centroids), np.shape(data)))\n",
        "            raise\n",
        "\n",
        "###############################################\n",
        "def spherical_random_sample(d):\n",
        "    vec = np.random.normal(size=d)\n",
        "    return unit_normalise(vec)\n",
        "\n",
        "def unit_normalise(vec):\n",
        "    return vec / np.sqrt((vec ** 2).sum())\n",
        "\n",
        "###############################################\n",
        "# useful functions for whitening a dataset\n",
        "\n",
        "def normalise_and_whiten(data, retain=0.99, bias=1e-8, use_selfnormn=True, min_ndims=1):\n",
        "    \"Use this to prepare a training set before running through OSKMeans\"\n",
        "    mean = np.mean(data, 0)\n",
        "    normdata = data - mean\n",
        "\n",
        "    if use_selfnormn:\n",
        "        for i in range(normdata.shape[0]):\n",
        "            normdata[i] -= np.mean(normdata[i])\n",
        "\n",
        "    # this snippet is based on an example by Sander Dieleman\n",
        "    cov = np.dot(normdata.T, normdata) / normdata.shape[0]\n",
        "    eigs, eigv = np.linalg.eigh(cov) # docs say the eigenvalues are NOT NECESSARILY ORDERED, but this seems to be the case in practice...\n",
        "    print (f\"computing number of components to retain {retain:.2f} of the variance...\")\n",
        "    normed_eigs = eigs[::-1] / np.sum(eigs) # maximal value first\n",
        "    eigs_sum = np.cumsum(normed_eigs)\n",
        "    num_components = max(min_ndims, np.argmax(eigs_sum > retain)) # argmax selects the first index where eigs_sum > retain is true\n",
        "    print(f\"number of components to retain: {num_components} of {len(eigs)}\")\n",
        "    P = eigv.astype('float32') * np.sqrt(1.0/(eigs + bias)) # PCA whitening\n",
        "    P = P[:, -num_components:] # truncate transformation matrix\n",
        "\n",
        "    whitedata = np.dot(normdata, P)\n",
        "    invproj = np.linalg.pinv(P)\n",
        "    return ({'centre': mean, 'proj': P, 'ncomponents': num_components, 'invproj': invproj, 'use_selfnormn': use_selfnormn}, whitedata)\n",
        "\n",
        "def prepare_data(data, norminfo):\n",
        "    \"Typically used for new data; you use normalise_and_whiten() on your training data, then this method projects a new set of data rows in the same way\"\n",
        "    normdata = data - norminfo['centre']\n",
        "    try:\n",
        "        if norminfo['use_selfnormn']:\n",
        "            normdata -= np.mean(normdata, 1).reshape(-1,1)\n",
        "        return np.dot(normdata, norminfo['proj'])\n",
        "    except:\n",
        "        print(\"Matrix shapes were: data %s, norminfo['proj'] %s, np.mean(normdata, 1) %s\" % (np.shape(normdata), np.shape(norminfo['proj']), np.shape(np.mean(normdata, 1))))\n",
        "        raise\n",
        "\n",
        "def prepare_a_datum(datum, norminfo):\n",
        "    \"Typically used for new data; you use normalise_and_whiten() on your training data, then this method projects a single test datum in the same way\"\n",
        "    return prepare_data(datum.reshape(1, -1), norminfo).flatten()\n",
        "\n",
        "def unprepare_a_datum(datum, norminfo, uncentre=True):\n",
        "    \"The opposite of prepare_a_datum(). It can't fix selfnormn but otherwise.\"\n",
        "    datum = np.dot(datum, norminfo['invproj'])\n",
        "    if uncentre:\n",
        "        datum += norminfo['centre']\n",
        "    return datum\n",
        "\n",
        "###############################################\n",
        "\n",
        "        \n",
        "\n"
      ],
      "id": "visible-performer",
      "execution_count": 1,
      "outputs": []
    },
    {
      "cell_type": "markdown",
      "metadata": {
        "id": "ZdRHEdon2XE-"
      },
      "source": [
        "## Examples from Dan Stowell"
      ],
      "id": "ZdRHEdon2XE-"
    },
    {
      "cell_type": "code",
      "metadata": {
        "cellView": "form",
        "colab": {
          "base_uri": "https://localhost:8080/",
          "height": 615
        },
        "collapsed": true,
        "id": "EjcnOtWR2VrW",
        "outputId": "5989bcfa-9089-4a0e-ab6a-2c068dab3edb"
      },
      "source": [
        "#@title\n",
        "if __name__ == \"__main__\":\n",
        "    import matplotlib\n",
        "    # matplotlib.use('PDF') # http://www.astrobetter.com/plotting-to-a-file-in-python/\n",
        "    import matplotlib.pyplot as plt\n",
        "    %matplotlib inline\n",
        "\n",
        "    km = OSKmeans(3, 2)\n",
        "    print(\"Centroids:\")\n",
        "    print(km.centroids)\n",
        "    for _ in range(20):\n",
        "        km.update([1,0])\n",
        "        km.update([0,1])\n",
        "        km.update([-1,0])\n",
        "    print(\"Centroids:\")\n",
        "    print(km.centroids)\n",
        "\n",
        "    ######################################\n",
        "    # Synthetic example: just for illustration purposes, we will create 3 2D clumps sampled\n",
        "    # from gaussians on angle and log-magnitude, and learn 10 means\n",
        "\n",
        "    truecentroids = [ # anglemean, anglesd, logmagmean, logmagsd\n",
        "        [1.0, 0.1, 1.0, 0.35],\n",
        "        [2.0, 0.3, 1.0, 0.2],\n",
        "        [4.0, 0.5, 0.7, 0.2],\n",
        "    ]\n",
        "    samples = [[] for _ in truecentroids]\n",
        "    np.random.seed(12345)\n",
        "    km = OSKmeans(10, 2)\n",
        "    for index in range(10000):\n",
        "        # sample from cluster index % 3\n",
        "        whichclust = index % len(truecentroids)\n",
        "        angle = np.random.normal(truecentroids[whichclust][0], truecentroids[whichclust][1])\n",
        "        magnitude = np.exp(np.random.normal(truecentroids[whichclust][2], truecentroids[whichclust][3]))\n",
        "        datum = [np.sin(angle) * magnitude, np.cos(angle) * magnitude]\n",
        "        # store that to the data list, along with its true identity\n",
        "        if index < 500:\n",
        "            samples[whichclust].append(datum)\n",
        "        # run it through kmeans\n",
        "        km.update(datum)\n",
        "\n",
        "    for plotlbl, showcentroids in [['datacent', True], ['data', False]]:\n",
        "        ucircle = plt.Circle((0,0),1, color=[0.9]*3, fill=False)\n",
        "        ax = plt.gca()\n",
        "        ax.cla() # clear things for fresh plot\n",
        "        ax.set_xlim((-4,4))\n",
        "        ax.set_ylim((-4,4))\n",
        "        ax.set_aspect('equal', 'box')\n",
        "        ax.axis('off')\n",
        "        fig = plt.gcf()\n",
        "        fig.gca().add_artist(ucircle)\n",
        "        \n",
        "        for sampleset in samples:\n",
        "            plt.plot([datum[0] for datum in sampleset], [datum[1] for datum in sampleset], '.')\n",
        "        if showcentroids:\n",
        "            plt.plot([datum[0] for datum in km.centroids], [datum[1] for datum in km.centroids], 'kx')\n",
        "        plt.xticks([])\n",
        "        plt.yticks([])\n",
        "        plt.axvline(0, color=[0.7] * 3)\n",
        "        plt.axhline(0, color=[0.7] * 3)\n",
        "        # plt.savefig(\"%s/oskmeansexample-%s.pdf\" % ('.', plotlbl))\n",
        "        # plt.clf()\n",
        "        plt.show()"
      ],
      "id": "EjcnOtWR2VrW",
      "execution_count": null,
      "outputs": [
        {
          "output_type": "stream",
          "text": [
            "Centroids:\n",
            "[[ 0.94838364  0.31712533]\n",
            " [-0.94043724 -0.33996735]\n",
            " [-0.77395344 -0.63324251]]\n",
            "Centroids:\n",
            "[[ 0.96645028  0.25685378]\n",
            " [-0.99946043 -0.03284583]\n",
            " [-0.77395344 -0.63324251]]\n"
          ],
          "name": "stdout"
        },
        {
          "output_type": "display_data",
          "data": {
            "image/png": "[encoded data removed]",
            "text/plain": [
              "<Figure size 432x288 with 1 Axes>"
            ]
          },
          "metadata": {
            "tags": []
          }
        },
        {
          "output_type": "display_data",
          "data": {
            "image/png": "[encoded data removed]",
            "text/plain": [
              "<Figure size 432x288 with 1 Axes>"
            ]
          },
          "metadata": {
            "tags": []
          }
        }
      ]
    },
    {
      "cell_type": "markdown",
      "metadata": {
        "id": "VurayMKa2cjs"
      },
      "source": [
        "## Bird-song code"
      ],
      "id": "VurayMKa2cjs"
    },
    {
      "cell_type": "code",
      "metadata": {
        "id": "O-YMAdxU2sOI"
      },
      "source": [
        "import numpy as np\n",
        "import pandas as pd\n",
        "import os\n",
        "from tqdm.notebook import tqdm\n",
        "import warnings\n",
        "warnings.filterwarnings(\"ignore\")\n",
        "\n",
        "# Libraries for librosa\n",
        "import librosa\n",
        "import librosa.display"
      ],
      "id": "O-YMAdxU2sOI",
      "execution_count": 2,
      "outputs": []
    },
    {
      "cell_type": "code",
      "metadata": {
        "colab": {
          "base_uri": "https://localhost:8080/"
        },
        "id": "weighted-ebony",
        "outputId": "b64fafb3-c79e-4154-cfb7-6b137a99d060"
      },
      "source": [
        "# For Colab only\n",
        "# 4/1AY0e-g6CTocvBK45PWlJu2ycBuOMTgu36b-VZgpnCXitW_Vy3ckpGGBzur8\n",
        "from google.colab import drive\n",
        "drive.mount('content')\n",
        "# /content/content/MyDrive/bird-songs/audio"
      ],
      "id": "weighted-ebony",
      "execution_count": 3,
      "outputs": [
        {
          "output_type": "stream",
          "text": [
            "Drive already mounted at content; to attempt to forcibly remount, call drive.mount(\"content\", force_remount=True).\n"
          ],
          "name": "stdout"
        }
      ]
    },
    {
      "cell_type": "code",
      "metadata": {
        "colab": {
          "base_uri": "https://localhost:8080/"
        },
        "id": "qG3U_ZmA2hlm",
        "outputId": "b8f02940-f1b0-42f8-822a-1246c7500801"
      },
      "source": [
        "# Check whether google drive mounted\n",
        "path = '/content/content/MyDrive/bird-songs/'\n",
        "if os.path.isdir(path) == True:\n",
        "    print('Google Drive Mounted')\n",
        "    run_on_colab = True\n",
        "else:\n",
        "    print('Using local drive')\n",
        "    run_on_colab = False"
      ],
      "id": "qG3U_ZmA2hlm",
      "execution_count": 4,
      "outputs": [
        {
          "output_type": "stream",
          "text": [
            "Google Drive Mounted\n"
          ],
          "name": "stdout"
        }
      ]
    },
    {
      "cell_type": "code",
      "metadata": {
        "id": "M7D4xlfLm2p4"
      },
      "source": [
        "# Define Global Varibles for analysis\n",
        "\n",
        "SAMPLE_RATE = 22050 # Hz\n",
        "NUM_DIVISIONS = 4 # 1, 2, 4, 8\n",
        "NUMBER_MEL = 32\n",
        "F_MIN = 4000 # Minimum Hz\n",
        "N_FFT = 256 # Choose 2^n where n is integer\n",
        "HOP_LENGTH = 128 # Choose equal, half, or quarter of N_FFT\n"
      ],
      "id": "M7D4xlfLm2p4",
      "execution_count": 15,
      "outputs": []
    },
    {
      "cell_type": "code",
      "metadata": {
        "colab": {
          "base_uri": "https://localhost:8080/",
          "height": 252
        },
        "id": "KcobrOqwb5iF",
        "outputId": "8116ef22-bfe8-4246-d8d2-65db70f72288"
      },
      "source": [
        "def audio_path_filename(fileid):\n",
        "    \n",
        "    if run_on_colab == True:\n",
        "        path_filename = '/content/content/MyDrive/bird-songs/audio_8sec/' + str(fileid) + '.wav'\n",
        "                                \n",
        "    else:\n",
        "        path_filename = 'audio_8sec/' + str(fileid) + '.wav'\n",
        "    \n",
        "    return path_filename\n",
        "\n",
        "\n",
        "def load_xeno_canto_data():\n",
        "    '''\n",
        "    '''\n",
        "\n",
        "    if run_on_colab == True:\n",
        "        df = pd.read_csv('/content/content/MyDrive/bird-songs/features_filtered.csv', encoding='latin')\n",
        "    else:\n",
        "        df = pd.read_csv('features_filtered.csv', encoding='latin')\n",
        "    \n",
        "    df.rename(columns={\"id\": \"fileid\"}, inplace=True)\n",
        "\n",
        "#     test = df.groupby(['en', 'type']).count().reset_index()\n",
        "#     display(test[test['type'].str.contains(\"call\")])\n",
        "#     df = df[df['type'].str.contains(\"song\") | df['type'].str.contains(\"Song\")]\n",
        "#     df = df[~df['type'].str.contains(\"call\")]\n",
        "#     df = df[~df['type'].str.contains(\"Call\")]\n",
        "    \n",
        "    # These are the top species we selected for our analysis\n",
        "    selected_species = ['Red-winged Blackbird', 'Common Yellowthroat', 'Northern Cardinal', \n",
        "                        'Carolina Wren', 'Red Crossbill', 'Spotted Towhee']\n",
        "\n",
        "    # We only need the fileid, labels, and type\n",
        "    df = df[df.en.isin(selected_species)][['fileid', 'en', 'type']]\n",
        "    \n",
        "    # Now we need to change our labels into integers as torch does not support string format for labels.\n",
        "    labels = {\"Red-winged Blackbird\": 0, 'Common Yellowthroat': 1, 'Northern Cardinal': 2,\n",
        "              'Carolina Wren': 3,'Red Crossbill': 4, 'Spotted Towhee': 5}\n",
        "    df['label'] = df.apply(lambda row: labels[row.en], axis=1)\n",
        "    # Add filename and path\n",
        "    df['filename'] = df['fileid'].apply(lambda x: audio_path_filename(x))\n",
        "    \n",
        "    df.set_index('fileid', inplace=True)\n",
        "    \n",
        "    return df\n",
        "\n",
        "\n",
        "df_xeno_canto_import = load_xeno_canto_data()\n",
        "display(df_xeno_canto_import.head(5))\n",
        "print(len(df_xeno_canto_import))"
      ],
      "id": "KcobrOqwb5iF",
      "execution_count": 13,
      "outputs": [
        {
          "output_type": "display_data",
          "data": {
            "text/html": [
              "<div>\n",
              "<style scoped>\n",
              "    .dataframe tbody tr th:only-of-type {\n",
              "        vertical-align: middle;\n",
              "    }\n",
              "\n",
              "    .dataframe tbody tr th {\n",
              "        vertical-align: top;\n",
              "    }\n",
              "\n",
              "    .dataframe thead th {\n",
              "        text-align: right;\n",
              "    }\n",
              "</style>\n",
              "<table border=\"1\" class=\"dataframe\">\n",
              "  <thead>\n",
              "    <tr style=\"text-align: right;\">\n",
              "      <th></th>\n",
              "      <th>en</th>\n",
              "      <th>type</th>\n",
              "      <th>label</th>\n",
              "      <th>filename</th>\n",
              "    </tr>\n",
              "    <tr>\n",
              "      <th>fileid</th>\n",
              "      <th></th>\n",
              "      <th></th>\n",
              "      <th></th>\n",
              "      <th></th>\n",
              "    </tr>\n",
              "  </thead>\n",
              "  <tbody>\n",
              "    <tr>\n",
              "      <th>564895</th>\n",
              "      <td>Carolina Wren</td>\n",
              "      <td>adult, sex uncertain, song</td>\n",
              "      <td>3</td>\n",
              "      <td>/content/content/MyDrive/bird-songs/audio_8sec...</td>\n",
              "    </tr>\n",
              "    <tr>\n",
              "      <th>545775</th>\n",
              "      <td>Carolina Wren</td>\n",
              "      <td>call</td>\n",
              "      <td>3</td>\n",
              "      <td>/content/content/MyDrive/bird-songs/audio_8sec...</td>\n",
              "    </tr>\n",
              "    <tr>\n",
              "      <th>540857</th>\n",
              "      <td>Carolina Wren</td>\n",
              "      <td>song</td>\n",
              "      <td>3</td>\n",
              "      <td>/content/content/MyDrive/bird-songs/audio_8sec...</td>\n",
              "    </tr>\n",
              "    <tr>\n",
              "      <th>540855</th>\n",
              "      <td>Carolina Wren</td>\n",
              "      <td>song</td>\n",
              "      <td>3</td>\n",
              "      <td>/content/content/MyDrive/bird-songs/audio_8sec...</td>\n",
              "    </tr>\n",
              "    <tr>\n",
              "      <th>539275</th>\n",
              "      <td>Carolina Wren</td>\n",
              "      <td>call, song</td>\n",
              "      <td>3</td>\n",
              "      <td>/content/content/MyDrive/bird-songs/audio_8sec...</td>\n",
              "    </tr>\n",
              "  </tbody>\n",
              "</table>\n",
              "</div>"
            ],
            "text/plain": [
              "                   en  ...                                           filename\n",
              "fileid                 ...                                                   \n",
              "564895  Carolina Wren  ...  /content/content/MyDrive/bird-songs/audio_8sec...\n",
              "545775  Carolina Wren  ...  /content/content/MyDrive/bird-songs/audio_8sec...\n",
              "540857  Carolina Wren  ...  /content/content/MyDrive/bird-songs/audio_8sec...\n",
              "540855  Carolina Wren  ...  /content/content/MyDrive/bird-songs/audio_8sec...\n",
              "539275  Carolina Wren  ...  /content/content/MyDrive/bird-songs/audio_8sec...\n",
              "\n",
              "[5 rows x 4 columns]"
            ]
          },
          "metadata": {
            "tags": []
          }
        },
        {
          "output_type": "stream",
          "text": [
            "2516\n"
          ],
          "name": "stdout"
        }
      ]
    },
    {
      "cell_type": "code",
      "metadata": {
        "colab": {
          "base_uri": "https://localhost:8080/",
          "height": 284,
          "referenced_widgets": [
            "b289439602ba426ea5830465f62b666f",
            "1d866bf490484a1aa0c3c0f40bc0e36b",
            "0c29e5673acb42e0ac51a7ebb1e9c4e5",
            "fcee60ef05144925988dda697dc28259",
            "e5719672fb6d4b4995cb01adb6cd9b87",
            "ed0cdba88b7a4668919c1546368b6b0f",
            "a2456f6897394b8cbe96331d1dd1ef1f",
            "dd7762ebb26f406aa703f3bb84ce964c"
          ]
        },
        "id": "tpDzgFmXthuq",
        "outputId": "39756df4-888c-4b0e-c752-82a79d5ebd63"
      },
      "source": [
        "def find_best_subclip(df, num_div=1, sample_rate=22050):\n",
        "    ''' '''\n",
        "     \n",
        "    if num_div not in [1,2,4,8]:\n",
        "        print(\"Error: You must only select 1, 2, 4, or 8 divisions\")\n",
        "        return pd.DataFrame()\n",
        "    \n",
        "    for fileid in tqdm(list(df.index)[:]):\n",
        "        \n",
        "        y, sr = librosa.load(df.loc[fileid,'filename'], sr=sample_rate, mono=True)\n",
        "        \n",
        "        # linear rms level and scaling factor\n",
        "        # https://www.youtube.com/watch?v=zyqb06g51jw\n",
        "        rms_level_db = 0\n",
        "        sig = y\n",
        "        r = 10**(rms_level_db / 20.0)\n",
        "        a = np.sqrt( (len(sig) * r**2) / np.sum(sig**2) )\n",
        "        # Normalized amplitude signal\n",
        "        y_norm = y * a\n",
        "        \n",
        "        # fig, ax = plt.subplots(figsize=(8, 3.5))\n",
        "        # librosa.display.waveplot(y_norm, sr, x_axis='s')\n",
        "        # plt.ylabel('Amplitude')\n",
        "       \n",
        "        # Clip negative amplitude values for area calculation\n",
        "        y_norm_positive = y_norm.clip(min=0)\n",
        "        \n",
        "        # Calculate areas for each window\n",
        "        length_audio_clip = int(len(y_norm_positive)/sample_rate) # seconds\n",
        "        duration_per_window = int(length_audio_clip/num_div) # seconds\n",
        "        hop_length = duration_per_window / 10 # seconds\n",
        "        total_hops = int(length_audio_clip / hop_length)\n",
        "        # print(f\"Audio clip is {length_audio_clip} sec, duration per window is {duration_per_window} sec\")\n",
        "        # print(f\"Window hop length is {hop_length} sec, total window hops is {int(total_hops)}\\n\")\n",
        "        \n",
        "        area = []\n",
        "        for hop in range(total_hops):\n",
        "            start_window = int(hop*hop_length*sample_rate)\n",
        "            end_window = int((hop+1)*hop_length*sample_rate) + 1\n",
        "            # print(f\"window {hop} goes from {start_window/sample_rate} to {(end_window-1)/sample_rate}\")\n",
        "            y_window = y_norm_positive[start_window:end_window]\n",
        "            area_window = np.trapz(y_window, dx = 1/sample_rate, axis=0)\n",
        "            # print(f\"window {hop} positive area under curve is {area_window}\")\n",
        "            area.append(area_window)\n",
        "            \n",
        "        \n",
        "        max_window = np.argmax(area)\n",
        "        # print(f\"Hop window with max area is {max_window}\")\n",
        "        max_start_window = int(max_window*hop_length*sample_rate)\n",
        "        max_start_window_seconds = max_start_window / sample_rate\n",
        "        max_end_window = int((max_window+1)*hop_length*sample_rate) + 1\n",
        "        max_end_window_seconds = (max_end_window-1) / sample_rate\n",
        "        max_y_window = y_norm_positive[max_start_window:max_end_window]\n",
        "        # print(f\"Max hop window starting time is {max_start_window_seconds}\")\n",
        "        # print(f\"Max hop window ending time is {max_end_window_seconds}\")\n",
        "        max_area_window = np.trapz(max_y_window, dx = 1/sample_rate, axis=0)\n",
        "        # print(f\"Max area of window is {max_area_window:.4f}\")\n",
        "        \n",
        "        \n",
        "        S, phase = librosa.magphase(librosa.stft(max_y_window))\n",
        "        rms = librosa.feature.rms(S=S)\n",
        "        rms_sum = np.sum(rms)\n",
        "        # print(f\"RMS area is {rms_sum:.4f}\\n\")\n",
        "        \n",
        "        # fig, ax = plt.subplots(figsize=(8, 3.5))\n",
        "        # original_x_ticks =  list(np.arange(0, len(max_y_window) / sample_rate,\n",
        "        #                        (length_audio_clip / num_div)))\n",
        "        # librosa.display.waveplot(max_y_window, sr, offset = max_start_window_seconds, x_axis='s')\n",
        "        # plt.ylabel('Amplitude')\n",
        "        # plt.show()\n",
        "        \n",
        "        df.loc[fileid,'start'] = max_start_window\n",
        "        df.loc[fileid,'end'] = max_end_window\n",
        "    \n",
        "    df = df.astype({'start': 'int32', 'end': 'int32'})\n",
        "  \n",
        "    return df\n",
        "\n",
        "df_xeno_canto = find_best_subclip(df=df_xeno_canto_import, num_div=NUM_DIVISIONS, sample_rate=SAMPLE_RATE)\n",
        "df_xeno_canto.head(5)"
      ],
      "id": "tpDzgFmXthuq",
      "execution_count": 14,
      "outputs": [
        {
          "output_type": "display_data",
          "data": {
            "application/vnd.jupyter.widget-view+json": {
              "model_id": "b289439602ba426ea5830465f62b666f",
              "version_minor": 0,
              "version_major": 2
            },
            "text/plain": [
              "HBox(children=(FloatProgress(value=0.0, max=2516.0), HTML(value='')))"
            ]
          },
          "metadata": {
            "tags": []
          }
        },
        {
          "output_type": "stream",
          "text": [
            "\n"
          ],
          "name": "stdout"
        },
        {
          "output_type": "execute_result",
          "data": {
            "text/html": [
              "<div>\n",
              "<style scoped>\n",
              "    .dataframe tbody tr th:only-of-type {\n",
              "        vertical-align: middle;\n",
              "    }\n",
              "\n",
              "    .dataframe tbody tr th {\n",
              "        vertical-align: top;\n",
              "    }\n",
              "\n",
              "    .dataframe thead th {\n",
              "        text-align: right;\n",
              "    }\n",
              "</style>\n",
              "<table border=\"1\" class=\"dataframe\">\n",
              "  <thead>\n",
              "    <tr style=\"text-align: right;\">\n",
              "      <th></th>\n",
              "      <th>en</th>\n",
              "      <th>type</th>\n",
              "      <th>label</th>\n",
              "      <th>filename</th>\n",
              "      <th>start</th>\n",
              "      <th>end</th>\n",
              "    </tr>\n",
              "    <tr>\n",
              "      <th>fileid</th>\n",
              "      <th></th>\n",
              "      <th></th>\n",
              "      <th></th>\n",
              "      <th></th>\n",
              "      <th></th>\n",
              "      <th></th>\n",
              "    </tr>\n",
              "  </thead>\n",
              "  <tbody>\n",
              "    <tr>\n",
              "      <th>564895</th>\n",
              "      <td>Carolina Wren</td>\n",
              "      <td>adult, sex uncertain, song</td>\n",
              "      <td>3</td>\n",
              "      <td>/content/content/MyDrive/bird-songs/audio_8sec...</td>\n",
              "      <td>88200</td>\n",
              "      <td>92611</td>\n",
              "    </tr>\n",
              "    <tr>\n",
              "      <th>545775</th>\n",
              "      <td>Carolina Wren</td>\n",
              "      <td>call</td>\n",
              "      <td>3</td>\n",
              "      <td>/content/content/MyDrive/bird-songs/audio_8sec...</td>\n",
              "      <td>79380</td>\n",
              "      <td>83791</td>\n",
              "    </tr>\n",
              "    <tr>\n",
              "      <th>540857</th>\n",
              "      <td>Carolina Wren</td>\n",
              "      <td>song</td>\n",
              "      <td>3</td>\n",
              "      <td>/content/content/MyDrive/bird-songs/audio_8sec...</td>\n",
              "      <td>132300</td>\n",
              "      <td>136711</td>\n",
              "    </tr>\n",
              "    <tr>\n",
              "      <th>540855</th>\n",
              "      <td>Carolina Wren</td>\n",
              "      <td>song</td>\n",
              "      <td>3</td>\n",
              "      <td>/content/content/MyDrive/bird-songs/audio_8sec...</td>\n",
              "      <td>158760</td>\n",
              "      <td>163171</td>\n",
              "    </tr>\n",
              "    <tr>\n",
              "      <th>539275</th>\n",
              "      <td>Carolina Wren</td>\n",
              "      <td>call, song</td>\n",
              "      <td>3</td>\n",
              "      <td>/content/content/MyDrive/bird-songs/audio_8sec...</td>\n",
              "      <td>136710</td>\n",
              "      <td>141121</td>\n",
              "    </tr>\n",
              "  </tbody>\n",
              "</table>\n",
              "</div>"
            ],
            "text/plain": [
              "                   en                        type  ...   start     end\n",
              "fileid                                             ...                \n",
              "564895  Carolina Wren  adult, sex uncertain, song  ...   88200   92611\n",
              "545775  Carolina Wren                        call  ...   79380   83791\n",
              "540857  Carolina Wren                        song  ...  132300  136711\n",
              "540855  Carolina Wren                        song  ...  158760  163171\n",
              "539275  Carolina Wren                  call, song  ...  136710  141121\n",
              "\n",
              "[5 rows x 6 columns]"
            ]
          },
          "metadata": {
            "tags": []
          },
          "execution_count": 14
        }
      ]
    },
    {
      "cell_type": "code",
      "metadata": {
        "colab": {
          "base_uri": "https://localhost:8080/",
          "height": 83,
          "referenced_widgets": [
            "4d52e0c57cf14dce8328d1ed84d9b185",
            "c4c8caab7c9a42bcb6e3477afdf4f319",
            "61b7b92d18444810a275e5f878f8817c",
            "17149f3d8d3046a59685638f37bad0dc",
            "a015714f3b3f40deb0812ae53437cb4a",
            "df00f598da134b05854e385d15014ef7",
            "9d51d643bb3f4ebfba9feaeceefecc10",
            "93bcae1caa8a42298242f6fc74d86fa7"
          ]
        },
        "id": "scZtFoSy3AR4",
        "outputId": "0fff2095-17aa-4f10-fcad-7209ffa3815b"
      },
      "source": [
        "def create_mel_features_skmeans(df, n_mels=128, sample_rate=22050, best_subclip=False, save=False,\n",
        "                             n_fft=1012, hop_length=512, fmin=500):\n",
        "    ''' '''\n",
        "\n",
        "    mels_list = []\n",
        "\n",
        "    for fileid in tqdm(list(df.index)[:]): \n",
        "\n",
        "        # Load audio file into librosa\n",
        "        y, sr = librosa.load(df.loc[fileid, 'filename'], sr=sample_rate, mono=True)\n",
        "        \n",
        "        # Normalize audio file with linear rms level and scaling factor\n",
        "        # https://www.youtube.com/watch?v=zyqb06g51jw\n",
        "        rms_level_db = 0\n",
        "        sig = y\n",
        "        r = 10**(rms_level_db / 20.0)\n",
        "        a = np.sqrt( (len(sig) * r**2) / np.sum(sig**2) )\n",
        "        # Normalized amplitude signal\n",
        "        y_norm = y * a\n",
        "        # Clip file to best subclip, if requested\n",
        "        if best_subclip==True:\n",
        "            start = df.loc[fileid, 'start']\n",
        "            end = df.loc[fileid, 'end']\n",
        "            y_norm = y_norm[start:end]\n",
        "    \n",
        "        # Create mel spectrogram\n",
        "        mels = librosa.feature.melspectrogram(y=y_norm, sr=sample_rate, n_mels=n_mels, \n",
        "                                              n_fft=n_fft, hop_length=hop_length, fmin=fmin)\n",
        "        \n",
        "        mels_list.append(mels)\n",
        "    \n",
        "    mels_array = np.array(mels_list)\n",
        "    \n",
        "    if run_on_colab == True:\n",
        "        outfile = '/content/content/MyDrive/bird-songs/mels_8s_arrays.npy'\n",
        "    else:\n",
        "        outfile = './mels_8s_arrays.npy'\n",
        "    \n",
        "    with open(outfile, 'wb') as f:\n",
        "        np.save(f, mels_array)\n",
        "    print(f\"Saved mel arrays have shape {mels_array.shape}\")\n",
        "  \n",
        "    return  mels_array\n",
        "\n",
        "\n",
        "mels_array = create_mel_features_skmeans(df_xeno_canto, n_mels=NUMBER_MEL, sample_rate=SAMPLE_RATE, \n",
        "                             best_subclip=True, n_fft=N_FFT, hop_length=HOP_LENGTH, \n",
        "                             fmin=F_MIN)"
      ],
      "id": "scZtFoSy3AR4",
      "execution_count": 16,
      "outputs": [
        {
          "output_type": "display_data",
          "data": {
            "application/vnd.jupyter.widget-view+json": {
              "model_id": "4d52e0c57cf14dce8328d1ed84d9b185",
              "version_minor": 0,
              "version_major": 2
            },
            "text/plain": [
              "HBox(children=(FloatProgress(value=0.0, max=2516.0), HTML(value='')))"
            ]
          },
          "metadata": {
            "tags": []
          }
        },
        {
          "output_type": "stream",
          "text": [
            "\n",
            "Saved mel arrays have shape (2516, 32, 35)\n"
          ],
          "name": "stdout"
        }
      ]
    },
    {
      "cell_type": "code",
      "metadata": {
        "colab": {
          "base_uri": "https://localhost:8080/"
        },
        "id": "5Fvvlx9B7Bg0",
        "outputId": "7b79eede-d75f-4551-fe3e-2edbfc97b85e"
      },
      "source": [
        "def run_batch_norm_whiten(retain=0.95, min_ndims=1, use_selfnormn=True):\n",
        "\n",
        "    # Load mel arrays\n",
        "    if run_on_colab == True:\n",
        "        infile = '/content/content/MyDrive/bird-songs/mels_8s_arrays.npy'\n",
        "    else:\n",
        "        infile = './mels_8s_arrays.npy'\n",
        "\n",
        "    with open(infile, 'rb') as f:\n",
        "        mels_array = np.load(f, allow_pickle=False)\n",
        "    \n",
        "    print(f\"Loaded mel arrays have shape {mels_array.shape}\")\n",
        "    # Flatten each mel array for each audio file\n",
        "    mels_flattened = mels_array.reshape(mels_array.shape[0], -1)\n",
        "    print(f\"Flattened mel arrays have shape {mels_flattened.shape}\")\n",
        "\n",
        "    # Normalize and PCA whiten flattened mel arrays\n",
        "    norminfo, whitedata = normalise_and_whiten(mels_flattened, retain=retain, min_ndims=min_ndims, \n",
        "                                               use_selfnormn=use_selfnormn)\n",
        "    print (f\"norminfo has keys {norminfo.keys()}\")\n",
        "    print (f\"whitedata has shape {whitedata.shape}\")\n",
        "    \n",
        "    return norminfo, whitedata\n",
        "\n",
        "norminfo, whitedata = run_batch_norm_whiten(retain=0.9, min_ndims=1, use_selfnormn=True)"
      ],
      "id": "5Fvvlx9B7Bg0",
      "execution_count": 17,
      "outputs": [
        {
          "output_type": "stream",
          "text": [
            "Loaded mel arrays have shape (2516, 32, 35)\n",
            "Flattened mel arrays have shape (2516, 1120)\n",
            "computing number of components to retain 0.90 of the variance...\n",
            "number of components to retain: 172 of 1120\n",
            "norminfo has keys dict_keys(['centre', 'proj', 'ncomponents', 'invproj', 'use_selfnormn'])\n",
            "whitedata has shape (2516, 172)\n"
          ],
          "name": "stdout"
        }
      ]
    },
    {
      "cell_type": "code",
      "metadata": {
        "colab": {
          "base_uri": "https://localhost:8080/"
        },
        "id": "suoJznDhOY0R",
        "outputId": "7ab7de34-4413-47f5-d019-e62b978a8d96"
      },
      "source": [
        "def run_batch_skmeans(k, whitedata, niters):\n",
        "\n",
        "    sphericalkm = OSKmeans(k, whitedata.shape[1])\n",
        "    sphericalkm.train_batch(whitedata.tolist(), niters=niters, verbose=True)\n",
        "    print (f\"Shape of spherical k-means is {sphericalkm.centroids.shape}\")\n",
        "    return sphericalkm\n",
        "\n",
        "skmeans = run_batch_skmeans(k=150, whitedata=whitedata, niters=10)\n",
        "\n",
        "# print(km_centroids[0].keys(), \"\\n\")\n",
        "# print(km_centroids[0]['use_selfnormn'])"
      ],
      "id": "suoJznDhOY0R",
      "execution_count": 18,
      "outputs": [
        {
          "output_type": "stream",
          "text": [
            "Iteration 0\n",
            "Iteration 1\n",
            "Iteration 2\n",
            "Iteration 3\n",
            "Iteration 4\n",
            "Iteration 5\n",
            "Iteration 6\n",
            "Iteration 7\n",
            "Iteration 8\n",
            "Iteration 9\n",
            "Shape of spherical k-means is (150, 172)\n"
          ],
          "name": "stdout"
        }
      ]
    },
    {
      "cell_type": "code",
      "metadata": {
        "colab": {
          "base_uri": "https://localhost:8080/"
        },
        "id": "4w3Dxnh9GyRD",
        "outputId": "f170b582-fbed-47aa-9bae-3ab00f6d202f"
      },
      "source": [
        "def transform_newdata(data, norminfo, skm):\n",
        "   \"\"\"This takes input data, whitens it, and projects it into the new\n",
        "      'feature space' given by proximity to kmeans centroids\"\"\"\n",
        "   \n",
        "   # Flatten input\n",
        "   data = data.reshape(data.shape[0], -1) \n",
        "   # Whiten data\n",
        "   whitedata = prepare_data(data, norminfo) \n",
        "   # Project data to new feature space defined by spherical k means vectors\n",
        "   transformeddata = skm.thresholded_dotproducts(whitedata)\n",
        "   del whitedata\n",
        "   return transformeddata\n",
        "\n",
        "# Create features using mel spectra transformed into new feature space\n",
        "# defined by spherical k-means vectors\n",
        "mel_skmeans = transform_newdata(data=mels_array, norminfo=norminfo, skm=skmeans)\n",
        "print (f\"Shape of mel features in spherical k-means vectors is {mel_skmeans.shape}\")\n",
        "\n",
        "# Save mel_skemans to numpy output file\n",
        "if run_on_colab == True:\n",
        "    outfile = '/content/content/MyDrive/bird-songs/s_k_means_mel_features.npy'\n",
        "else:\n",
        "    outfile = './s_k_means_mel_features.npy.npy'\n",
        "\n",
        "with open(outfile, 'wb') as f:\n",
        "    np.save(f, mel_skmeans)\n"
      ],
      "id": "4w3Dxnh9GyRD",
      "execution_count": 20,
      "outputs": [
        {
          "output_type": "stream",
          "text": [
            "Shape of mel features in spherical k-means vectors is (2516, 150)\n"
          ],
          "name": "stdout"
        }
      ]
    },
    {
      "cell_type": "code",
      "metadata": {
        "id": "WfRrThnEGybO"
      },
      "source": [
        ""
      ],
      "id": "WfRrThnEGybO",
      "execution_count": null,
      "outputs": []
    },
    {
      "cell_type": "code",
      "metadata": {
        "id": "YuEXuhjmcwJu"
      },
      "source": [
        ""
      ],
      "id": "YuEXuhjmcwJu",
      "execution_count": null,
      "outputs": []
    },
    {
      "cell_type": "markdown",
      "metadata": {
        "id": "Yqoog__lctxb"
      },
      "source": [
        "## Scratch Area"
      ],
      "id": "Yqoog__lctxb"
    },
    {
      "cell_type": "code",
      "metadata": {
        "colab": {
          "base_uri": "https://localhost:8080/"
        },
        "id": "kTDMCgv8Lnbx",
        "outputId": "0d7b66b7-fc97-4f9e-dd73-fd532cd7dfa3"
      },
      "source": [
        "((8*22050)/1024) + 1"
      ],
      "id": "kTDMCgv8Lnbx",
      "execution_count": null,
      "outputs": [
        {
          "output_type": "execute_result",
          "data": {
            "text/plain": [
              "173.265625"
            ]
          },
          "metadata": {
            "tags": []
          },
          "execution_count": 38
        }
      ]
    },
    {
      "cell_type": "code",
      "metadata": {
        "colab": {
          "base_uri": "https://localhost:8080/"
        },
        "id": "VgVAE5mv5_J6",
        "outputId": "d3f0228e-8726-4198-cf47-180507c67ee4"
      },
      "source": [
        "a = np.array([[1,2,3,4], [4,5,6,7]])\n",
        "np.mean(a, 0)"
      ],
      "id": "VgVAE5mv5_J6",
      "execution_count": null,
      "outputs": [
        {
          "output_type": "execute_result",
          "data": {
            "text/plain": [
              "array([2.5, 3.5, 4.5, 5.5])"
            ]
          },
          "metadata": {
            "tags": []
          },
          "execution_count": 16
        }
      ]
    }
  ]
}