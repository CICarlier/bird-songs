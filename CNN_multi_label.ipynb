{
 "cells": [
  {
   "cell_type": "markdown",
   "metadata": {
    "id": "cxIFJRqdcgKp"
   },
   "source": [
    "# CNN Classification of Mel Spectrograms\n",
    "\n",
    "Tried and follow\n",
    "https://www.analyticsvidhya.com/blog/2019/10/building-image-classification-models-cnn-pytorch/"
   ]
  },
  {
   "cell_type": "code",
   "execution_count": 1,
   "metadata": {
    "colab": {
     "base_uri": "https://localhost:8080/"
    },
    "id": "j82LYP7cchTT",
    "outputId": "4fe7b719-ea35-4e74-cfa4-c485679a7077"
   },
   "outputs": [
    {
     "name": "stdout",
     "output_type": "stream",
     "text": [
      "Mounted at content/\n"
     ]
    }
   ],
   "source": [
    "# For Colab only\n",
    "from google.colab import drive\n",
    "drive.mount('content/') # /content/drive/MyDrive/bird-songs"
   ]
  },
  {
   "cell_type": "markdown",
   "metadata": {
    "id": "M5mJj0D7cgKr"
   },
   "source": [
    "## Training a model"
   ]
  },
  {
   "cell_type": "code",
   "execution_count": 2,
   "metadata": {
    "id": "-q2q6CHhcgKr"
   },
   "outputs": [],
   "source": [
    "# importing the libraries\n",
    "import pandas as pd\n",
    "import numpy as np\n",
    "from tqdm import tqdm\n",
    "\n",
    "# for reading and displaying images\n",
    "from skimage.io import imread\n",
    "import os.path\n",
    "import matplotlib.pyplot as plt\n",
    "%matplotlib inline\n",
    "\n",
    "# for creating validation set\n",
    "from sklearn.model_selection import train_test_split\n",
    "\n",
    "# for evaluating the model\n",
    "from sklearn.metrics import precision_score, recall_score, f1_score\n",
    "\n",
    "# PyTorch libraries and modules\n",
    "import torch\n",
    "import torch.nn as nn\n",
    "import torch.nn.functional as F\n",
    "from torch.autograd import Variable\n",
    "from torch.optim import Adam\n",
    "from torch.utils.data.dataloader import DataLoader, Dataset\n"
   ]
  },
  {
   "cell_type": "code",
   "execution_count": 3,
   "metadata": {
    "colab": {
     "base_uri": "https://localhost:8080/",
     "height": 306
    },
    "id": "lwnNAY8_cgKs",
    "outputId": "29699acb-3b3a-4723-b0a1-b50b29a11f5e"
   },
   "outputs": [
    {
     "data": {
      "text/html": [
       "<div>\n",
       "<style scoped>\n",
       "    .dataframe tbody tr th:only-of-type {\n",
       "        vertical-align: middle;\n",
       "    }\n",
       "\n",
       "    .dataframe tbody tr th {\n",
       "        vertical-align: top;\n",
       "    }\n",
       "\n",
       "    .dataframe thead th {\n",
       "        text-align: right;\n",
       "    }\n",
       "</style>\n",
       "<table border=\"1\" class=\"dataframe\">\n",
       "  <thead>\n",
       "    <tr style=\"text-align: right;\">\n",
       "      <th></th>\n",
       "      <th>id</th>\n",
       "      <th>gen</th>\n",
       "      <th>sp</th>\n",
       "      <th>ssp</th>\n",
       "      <th>en</th>\n",
       "      <th>cnt</th>\n",
       "      <th>loc</th>\n",
       "      <th>type</th>\n",
       "      <th>q</th>\n",
       "      <th>length</th>\n",
       "      <th>bird-seen</th>\n",
       "      <th>file</th>\n",
       "      <th>category</th>\n",
       "    </tr>\n",
       "  </thead>\n",
       "  <tbody>\n",
       "    <tr>\n",
       "      <th>0</th>\n",
       "      <td>564895</td>\n",
       "      <td>Thryothorus</td>\n",
       "      <td>ludovicianus</td>\n",
       "      <td>NaN</td>\n",
       "      <td>Carolina Wren</td>\n",
       "      <td>United States</td>\n",
       "      <td>Lyons Township (near  Willow Springs), Cook Co...</td>\n",
       "      <td>adult, sex uncertain, song</td>\n",
       "      <td>no score</td>\n",
       "      <td>0:16</td>\n",
       "      <td>no</td>\n",
       "      <td>//www.xeno-canto.org/564895/download</td>\n",
       "      <td>song</td>\n",
       "    </tr>\n",
       "    <tr>\n",
       "      <th>1</th>\n",
       "      <td>545775</td>\n",
       "      <td>Thryothorus</td>\n",
       "      <td>ludovicianus</td>\n",
       "      <td>NaN</td>\n",
       "      <td>Carolina Wren</td>\n",
       "      <td>United States</td>\n",
       "      <td>Valley Forge National Historical Park, Montgom...</td>\n",
       "      <td>call</td>\n",
       "      <td>no score</td>\n",
       "      <td>0:17</td>\n",
       "      <td>yes</td>\n",
       "      <td>//www.xeno-canto.org/545775/download</td>\n",
       "      <td>call</td>\n",
       "    </tr>\n",
       "    <tr>\n",
       "      <th>2</th>\n",
       "      <td>540857</td>\n",
       "      <td>Thryothorus</td>\n",
       "      <td>ludovicianus</td>\n",
       "      <td>NaN</td>\n",
       "      <td>Carolina Wren</td>\n",
       "      <td>United States</td>\n",
       "      <td>Slaterville Rd @ Honness (near  Ithaca), Tompk...</td>\n",
       "      <td>song</td>\n",
       "      <td>no score</td>\n",
       "      <td>0:32</td>\n",
       "      <td>unknown</td>\n",
       "      <td>//www.xeno-canto.org/540857/download</td>\n",
       "      <td>song</td>\n",
       "    </tr>\n",
       "    <tr>\n",
       "      <th>3</th>\n",
       "      <td>540855</td>\n",
       "      <td>Thryothorus</td>\n",
       "      <td>ludovicianus</td>\n",
       "      <td>NaN</td>\n",
       "      <td>Carolina Wren</td>\n",
       "      <td>United States</td>\n",
       "      <td>Slaterville Rd @ Honness (near  Ithaca), Tompk...</td>\n",
       "      <td>song</td>\n",
       "      <td>no score</td>\n",
       "      <td>0:52</td>\n",
       "      <td>unknown</td>\n",
       "      <td>//www.xeno-canto.org/540855/download</td>\n",
       "      <td>song</td>\n",
       "    </tr>\n",
       "    <tr>\n",
       "      <th>4</th>\n",
       "      <td>487506</td>\n",
       "      <td>Thryothorus</td>\n",
       "      <td>ludovicianus</td>\n",
       "      <td>NaN</td>\n",
       "      <td>Carolina Wren</td>\n",
       "      <td>United States</td>\n",
       "      <td>Lake Artemesia Natural Area, Prince George's C...</td>\n",
       "      <td>song</td>\n",
       "      <td>no score</td>\n",
       "      <td>0:25</td>\n",
       "      <td>yes</td>\n",
       "      <td>//www.xeno-canto.org/487506/download</td>\n",
       "      <td>song</td>\n",
       "    </tr>\n",
       "  </tbody>\n",
       "</table>\n",
       "</div>"
      ],
      "text/plain": [
       "       id          gen            sp  ssp             en            cnt  \\\n",
       "0  564895  Thryothorus  ludovicianus  NaN  Carolina Wren  United States   \n",
       "1  545775  Thryothorus  ludovicianus  NaN  Carolina Wren  United States   \n",
       "2  540857  Thryothorus  ludovicianus  NaN  Carolina Wren  United States   \n",
       "3  540855  Thryothorus  ludovicianus  NaN  Carolina Wren  United States   \n",
       "4  487506  Thryothorus  ludovicianus  NaN  Carolina Wren  United States   \n",
       "\n",
       "                                                 loc  \\\n",
       "0  Lyons Township (near  Willow Springs), Cook Co...   \n",
       "1  Valley Forge National Historical Park, Montgom...   \n",
       "2  Slaterville Rd @ Honness (near  Ithaca), Tompk...   \n",
       "3  Slaterville Rd @ Honness (near  Ithaca), Tompk...   \n",
       "4  Lake Artemesia Natural Area, Prince George's C...   \n",
       "\n",
       "                         type         q length bird-seen  \\\n",
       "0  adult, sex uncertain, song  no score   0:16        no   \n",
       "1                        call  no score   0:17       yes   \n",
       "2                        song  no score   0:32   unknown   \n",
       "3                        song  no score   0:52   unknown   \n",
       "4                        song  no score   0:25       yes   \n",
       "\n",
       "                                   file category  \n",
       "0  //www.xeno-canto.org/564895/download     song  \n",
       "1  //www.xeno-canto.org/545775/download     call  \n",
       "2  //www.xeno-canto.org/540857/download     song  \n",
       "3  //www.xeno-canto.org/540855/download     song  \n",
       "4  //www.xeno-canto.org/487506/download     song  "
      ]
     },
     "execution_count": 3,
     "metadata": {},
     "output_type": "execute_result"
    }
   ],
   "source": [
    "# Check whether google drive mounted\n",
    "path = '/content/content/MyDrive/bird-songs'\n",
    "if os.path.isdir(path) == True:\n",
    "    run_on_colab = True\n",
    "else:\n",
    "    run_on_colab = False\n",
    "\n",
    "\n",
    "\n",
    "if run_on_colab ==True:\n",
    "    features = pd.read_csv('/content/content/MyDrive/bird-songs/features_filtered.csv', header=None, encoding='latin')\n",
    "else:\n",
    "    features = pd.read_csv('features_filtered.csv', encoding='latin')\n",
    "features.head()"
   ]
  },
  {
   "cell_type": "code",
   "execution_count": 4,
   "metadata": {},
   "outputs": [
    {
     "data": {
      "text/html": [
       "<div>\n",
       "<style scoped>\n",
       "    .dataframe tbody tr th:only-of-type {\n",
       "        vertical-align: middle;\n",
       "    }\n",
       "\n",
       "    .dataframe tbody tr th {\n",
       "        vertical-align: top;\n",
       "    }\n",
       "\n",
       "    .dataframe thead th {\n",
       "        text-align: right;\n",
       "    }\n",
       "</style>\n",
       "<table border=\"1\" class=\"dataframe\">\n",
       "  <thead>\n",
       "    <tr style=\"text-align: right;\">\n",
       "      <th></th>\n",
       "      <th>id</th>\n",
       "      <th>gen</th>\n",
       "      <th>sp</th>\n",
       "      <th>ssp</th>\n",
       "      <th>en</th>\n",
       "      <th>cnt</th>\n",
       "      <th>loc</th>\n",
       "      <th>type</th>\n",
       "      <th>q</th>\n",
       "      <th>length</th>\n",
       "      <th>bird-seen</th>\n",
       "      <th>file</th>\n",
       "      <th>category</th>\n",
       "      <th>path</th>\n",
       "    </tr>\n",
       "  </thead>\n",
       "  <tbody>\n",
       "    <tr>\n",
       "      <th>0</th>\n",
       "      <td>564895</td>\n",
       "      <td>Thryothorus</td>\n",
       "      <td>ludovicianus</td>\n",
       "      <td>NaN</td>\n",
       "      <td>Carolina Wren</td>\n",
       "      <td>United States</td>\n",
       "      <td>Lyons Township (near  Willow Springs), Cook Co...</td>\n",
       "      <td>adult, sex uncertain, song</td>\n",
       "      <td>no score</td>\n",
       "      <td>0:16</td>\n",
       "      <td>no</td>\n",
       "      <td>//www.xeno-canto.org/564895/download</td>\n",
       "      <td>song</td>\n",
       "      <td>images/mel_spectrograms_8sec/564895.jpg</td>\n",
       "    </tr>\n",
       "    <tr>\n",
       "      <th>1</th>\n",
       "      <td>545775</td>\n",
       "      <td>Thryothorus</td>\n",
       "      <td>ludovicianus</td>\n",
       "      <td>NaN</td>\n",
       "      <td>Carolina Wren</td>\n",
       "      <td>United States</td>\n",
       "      <td>Valley Forge National Historical Park, Montgom...</td>\n",
       "      <td>call</td>\n",
       "      <td>no score</td>\n",
       "      <td>0:17</td>\n",
       "      <td>yes</td>\n",
       "      <td>//www.xeno-canto.org/545775/download</td>\n",
       "      <td>call</td>\n",
       "      <td>images/mel_spectrograms_8sec/545775.jpg</td>\n",
       "    </tr>\n",
       "    <tr>\n",
       "      <th>2</th>\n",
       "      <td>540857</td>\n",
       "      <td>Thryothorus</td>\n",
       "      <td>ludovicianus</td>\n",
       "      <td>NaN</td>\n",
       "      <td>Carolina Wren</td>\n",
       "      <td>United States</td>\n",
       "      <td>Slaterville Rd @ Honness (near  Ithaca), Tompk...</td>\n",
       "      <td>song</td>\n",
       "      <td>no score</td>\n",
       "      <td>0:32</td>\n",
       "      <td>unknown</td>\n",
       "      <td>//www.xeno-canto.org/540857/download</td>\n",
       "      <td>song</td>\n",
       "      <td>images/mel_spectrograms_8sec/540857.jpg</td>\n",
       "    </tr>\n",
       "    <tr>\n",
       "      <th>3</th>\n",
       "      <td>540855</td>\n",
       "      <td>Thryothorus</td>\n",
       "      <td>ludovicianus</td>\n",
       "      <td>NaN</td>\n",
       "      <td>Carolina Wren</td>\n",
       "      <td>United States</td>\n",
       "      <td>Slaterville Rd @ Honness (near  Ithaca), Tompk...</td>\n",
       "      <td>song</td>\n",
       "      <td>no score</td>\n",
       "      <td>0:52</td>\n",
       "      <td>unknown</td>\n",
       "      <td>//www.xeno-canto.org/540855/download</td>\n",
       "      <td>song</td>\n",
       "      <td>images/mel_spectrograms_8sec/540855.jpg</td>\n",
       "    </tr>\n",
       "    <tr>\n",
       "      <th>4</th>\n",
       "      <td>487506</td>\n",
       "      <td>Thryothorus</td>\n",
       "      <td>ludovicianus</td>\n",
       "      <td>NaN</td>\n",
       "      <td>Carolina Wren</td>\n",
       "      <td>United States</td>\n",
       "      <td>Lake Artemesia Natural Area, Prince George's C...</td>\n",
       "      <td>song</td>\n",
       "      <td>no score</td>\n",
       "      <td>0:25</td>\n",
       "      <td>yes</td>\n",
       "      <td>//www.xeno-canto.org/487506/download</td>\n",
       "      <td>song</td>\n",
       "      <td>images/mel_spectrograms_8sec/487506.jpg</td>\n",
       "    </tr>\n",
       "  </tbody>\n",
       "</table>\n",
       "</div>"
      ],
      "text/plain": [
       "       id          gen            sp  ssp             en            cnt  \\\n",
       "0  564895  Thryothorus  ludovicianus  NaN  Carolina Wren  United States   \n",
       "1  545775  Thryothorus  ludovicianus  NaN  Carolina Wren  United States   \n",
       "2  540857  Thryothorus  ludovicianus  NaN  Carolina Wren  United States   \n",
       "3  540855  Thryothorus  ludovicianus  NaN  Carolina Wren  United States   \n",
       "4  487506  Thryothorus  ludovicianus  NaN  Carolina Wren  United States   \n",
       "\n",
       "                                                 loc  \\\n",
       "0  Lyons Township (near  Willow Springs), Cook Co...   \n",
       "1  Valley Forge National Historical Park, Montgom...   \n",
       "2  Slaterville Rd @ Honness (near  Ithaca), Tompk...   \n",
       "3  Slaterville Rd @ Honness (near  Ithaca), Tompk...   \n",
       "4  Lake Artemesia Natural Area, Prince George's C...   \n",
       "\n",
       "                         type         q length bird-seen  \\\n",
       "0  adult, sex uncertain, song  no score   0:16        no   \n",
       "1                        call  no score   0:17       yes   \n",
       "2                        song  no score   0:32   unknown   \n",
       "3                        song  no score   0:52   unknown   \n",
       "4                        song  no score   0:25       yes   \n",
       "\n",
       "                                   file category  \\\n",
       "0  //www.xeno-canto.org/564895/download     song   \n",
       "1  //www.xeno-canto.org/545775/download     call   \n",
       "2  //www.xeno-canto.org/540857/download     song   \n",
       "3  //www.xeno-canto.org/540855/download     song   \n",
       "4  //www.xeno-canto.org/487506/download     song   \n",
       "\n",
       "                                      path  \n",
       "0  images/mel_spectrograms_8sec/564895.jpg  \n",
       "1  images/mel_spectrograms_8sec/545775.jpg  \n",
       "2  images/mel_spectrograms_8sec/540857.jpg  \n",
       "3  images/mel_spectrograms_8sec/540855.jpg  \n",
       "4  images/mel_spectrograms_8sec/487506.jpg  "
      ]
     },
     "execution_count": 4,
     "metadata": {},
     "output_type": "execute_result"
    }
   ],
   "source": [
    "features['path'] = features.apply(lambda row: f'images/mel_spectrograms_8sec/{str(row.id)}.jpg', axis=1)\n",
    "features.head()"
   ]
  },
  {
   "cell_type": "code",
   "execution_count": 6,
   "metadata": {
    "id": "giCNt5XlcgKs"
   },
   "outputs": [],
   "source": [
    "def label_vectors(row):\n",
    "    name_category = [specie_labels[row.en], category_labels[row.category]]\n",
    "    label_vector = np.zeros(8)\n",
    "    for idx in name_category:\n",
    "        label_vector[idx] = 1\n",
    "    return label_vector\n",
    "\n",
    "# These are the top species we selected for our analysis\n",
    "selected_species = ['Red-winged Blackbird', \n",
    "                    'Common Yellowthroat', \n",
    "                    'Northern Cardinal', \n",
    "                    'Carolina Wren', \n",
    "                    'Red Crossbill', \n",
    "                    'Spotted Towhee']\n",
    "# We only need the id and the labels for our CNN.\n",
    "dataset = features[features.en.isin(selected_species)][['id', 'en', 'category']]\n",
    "# Now we need to change our labels into integers as torch does not support string format for labels.\n",
    "specie_labels = {\"Red-winged Blackbird\": 0, 'Common Yellowthroat': 1, 'Northern Cardinal': 2, 'Carolina Wren': 3,\n",
    "          'Red Crossbill': 4, 'Spotted Towhee': 5}\n",
    "category_labels = {\"song\": 6, \"call\": 7}\n",
    "dataset['label'] = dataset.apply(lambda row: label_vectors(row), axis=1)\n",
    "dataset.drop(['en', 'category'], axis=1, inplace=True)"
   ]
  },
  {
   "cell_type": "code",
   "execution_count": 28,
   "metadata": {
    "id": "2-4TZV1iyX8k"
   },
   "outputs": [],
   "source": [
    "def load_images(dataset, path):\n",
    "    img_df = []\n",
    "    for img_name in tqdm(dataset['id']):\n",
    "        # defining the image path\n",
    "        if run_on_colab == True:\n",
    "            image_path = f'/content/content/MyDrive/bird-songs/images/{path}/' + str(img_name) + '.jpg' \n",
    "        else:\n",
    "            image_path = f'images/{path}/' + str(img_name) + '.jpg'\n",
    "        # reading the image\n",
    "        img = imread(image_path, as_gray=True)\n",
    "         # normalizing the pixel values\n",
    "        img = 2 * img - 1\n",
    "        # converting the type of pixel to float 32\n",
    "        img = img.astype('float32')\n",
    "        # appending the image into the list\n",
    "        img_df.append(img)\n",
    "    \n",
    "    # converting the list to numpy array\n",
    "    return np.array(img_df)"
   ]
  },
  {
   "cell_type": "markdown",
   "metadata": {
    "id": "PgYLkum8mtkc"
   },
   "source": [
    "## CNN - 8-second clips\n",
    "\n",
    "If you have compatible GPU technology on your computer, you can run the CNN on it instead of CPU. \n",
    "If you are using anaconda, either create a new environment or uninstall pytorch in your current environment (if already installed) then install PyTorch with cuda:\n",
    "\n",
    "`conda install pytorch torchvision cudatoolkit=10.2 -c pytorch`\n",
    "\n",
    "Running this CNN on CPU takes about 17 minutes on a Dell XPS 15 9500 with 1TB SSD and 32GB RAM (2x16GB) with Windows 10. Switching to using the NVIDIA GeForce GTX 1650 it takes less than 5minutes. "
   ]
  },
  {
   "cell_type": "code",
   "execution_count": 8,
   "metadata": {
    "colab": {
     "base_uri": "https://localhost:8080/"
    },
    "id": "4QwsogdqyX8l",
    "outputId": "e863131a-b54e-494d-be63-2daf29ac5090"
   },
   "outputs": [
    {
     "name": "stderr",
     "output_type": "stream",
     "text": [
      "100%|█████████████████████████████████████████████████████████████████████████████| 2371/2371 [00:03<00:00, 644.62it/s]\n"
     ]
    },
    {
     "data": {
      "text/plain": [
       "((2371, 128, 345), (2371,))"
      ]
     },
     "execution_count": 8,
     "metadata": {},
     "output_type": "execute_result"
    }
   ],
   "source": [
    "X, y = load_images(dataset, path='mel_spectrograms_8sec'), dataset['label'].to_numpy()\n",
    "X.shape, y.shape"
   ]
  },
  {
   "cell_type": "code",
   "execution_count": 9,
   "metadata": {
    "colab": {
     "base_uri": "https://localhost:8080/"
    },
    "id": "xEUUmhZPOIur",
    "outputId": "ca02df2b-8c3e-4195-cf90-1d91bb8c10da"
   },
   "outputs": [
    {
     "name": "stdout",
     "output_type": "stream",
     "text": [
      "(1896, 128, 345)\n",
      "(475, 128, 345)\n"
     ]
    }
   ],
   "source": [
    "X_train, X_test, y_train, y_test = train_test_split(X, y, test_size=0.20, random_state=42)\n",
    "\n",
    "print(X_train.shape)\n",
    "print(X_test.shape)\n"
   ]
  },
  {
   "cell_type": "code",
   "execution_count": 529,
   "metadata": {
    "id": "F6q4bNfqMd0o"
   },
   "outputs": [],
   "source": [
    "class BirdSongDataset(Dataset):\n",
    "    def __init__(self):\n",
    "       pass "
   ]
  },
  {
   "cell_type": "code",
   "execution_count": 10,
   "metadata": {
    "id": "zqtJ_AXNcgKv"
   },
   "outputs": [],
   "source": [
    "train_data = []\n",
    "# Note: Conv2d layers expect input with the shape (n_samples, channels, height, width)\n",
    "for i in range(len(X_train)):\n",
    "    train_data.append([np.expand_dims(X_train[i], axis=0), y_train[i]]) \n",
    "test_data = []\n",
    "for i in range(len(X_test)):\n",
    "    test_data.append([np.expand_dims(X_test[i], axis=0), y_test[i]])"
   ]
  },
  {
   "cell_type": "code",
   "execution_count": 11,
   "metadata": {
    "id": "IqJguy_gcgKv"
   },
   "outputs": [],
   "source": [
    "batch_size=50\n",
    "train_dl = DataLoader(train_data, batch_size=batch_size, shuffle=True, drop_last=True)\n",
    "test_dl = DataLoader(test_data, batch_size=batch_size, shuffle=True, drop_last=True)\n",
    "# i = 0\n",
    "# for x, y in test_dl:\n",
    "#     print (x.size())\n",
    "#     i+=1\n",
    "# print(i)"
   ]
  },
  {
   "cell_type": "code",
   "execution_count": 12,
   "metadata": {
    "id": "SchJyIMpzlvy"
   },
   "outputs": [],
   "source": [
    "class ImageClassifierBase(nn.Module):\n",
    "    def training_step(self, batch):\n",
    "        images, labels = batch \n",
    "        out = self(images)                  # Generate predictions\n",
    "        # print('out:', out)\n",
    "        # print('labels:', labels)\n",
    "        # print('Start loss calc')\n",
    "        # criterion=nn.BCELoss()\n",
    "        # loss = criterion(out, labels.type(torch.float))  # Calculate loss\n",
    "        loss = F.binary_cross_entropy(out, labels.type(torch.float))\n",
    "        acc = accuracy(out, labels)         # Calculate accuracy\n",
    "        return loss, acc\n",
    "    \n",
    "    def validation_step(self, batch):\n",
    "        images, labels = batch \n",
    "        out = self(images)                    # Generate predictions\n",
    "        # criterion=nn.BCELoss()\n",
    "        # loss = criterion(out, labels.type(torch.float))   # Calculate loss\n",
    "        loss = F.binary_cross_entropy(out, labels.type(torch.float))\n",
    "        acc = accuracy(out, labels)           # Calculate accuracy\n",
    "        return {'val_loss': loss.detach(), 'val_acc': acc}\n",
    "        \n",
    "    def validation_epoch_end(self, outputs):\n",
    "        batch_losses = [x['val_loss'] for x in outputs]\n",
    "        epoch_loss = torch.stack(batch_losses).mean()   # Combine losses\n",
    "        batch_accs = [x['val_acc'] for x in outputs]\n",
    "        epoch_acc = torch.stack(batch_accs).mean()      # Combine accuracies\n",
    "        return {'val_loss': epoch_loss.item(), 'val_acc': epoch_acc.item()}\n",
    "    \n",
    "    def epoch_end(self, epoch, result):\n",
    "        print(\"Epoch [{}], train_loss: {:.4f}, train_acc: {:.4f}, val_loss: {:.4f}, val_acc: {:.4f}\".format(\n",
    "            epoch, result['train_loss'], result['train_acc'], result['val_loss'], result['val_acc']))\n",
    "        \n",
    "def accuracy(outputs, labels, threshold=0.5):\n",
    "    \n",
    "    preds = np.array(outputs.cpu().detach().numpy() >= threshold, dtype=float)\n",
    "    score = precision_score(labels.cpu().detach().numpy(), preds, average='micro')\n",
    "\n",
    "    return torch.tensor(score)\n"
   ]
  },
  {
   "cell_type": "code",
   "execution_count": 533,
   "metadata": {
    "id": "afJOePivaAqZ"
   },
   "outputs": [],
   "source": [
    "# Scratch\n",
    "# outputs = torch.tensor([0.2, 0.5, 0.6, 0.1, 0.4, 0.7])\n",
    "# outputs.numpy()\n",
    "\n",
    "# outputs = torch.tensor([0.2, 0.5, 0.6, 0.1, 0.4, 0.7])\n",
    "# preds = outputs >= 0.5\n",
    "# labels = torch.tensor([0,0,1,0,0,0])\n",
    "# torch.sum(preds == labels)\n",
    "# np.array(preds >= 0.5, dtype=float)"
   ]
  },
  {
   "cell_type": "code",
   "execution_count": 19,
   "metadata": {
    "id": "1SQYTVAvcgKw"
   },
   "outputs": [],
   "source": [
    "class BirdSongModel(ImageClassifierBase):\n",
    "    def __init__(self):\n",
    "        super().__init__()\n",
    "        \n",
    "        conv_layers = []\n",
    "\n",
    "        self.conv1 = nn.Conv2d(1, 32, kernel_size=(5, 5), stride=(2, 2), padding=(2, 2))\n",
    "        self.relu1 = nn.ReLU()\n",
    "        self.bn1 = nn.GroupNorm(2, 32)\n",
    "        nn.init.kaiming_normal_(self.conv1.weight, a=0.1)\n",
    "        self.pool1 = nn.MaxPool2d(2)\n",
    "        conv_layers += [self.conv1, self.relu1, self.bn1, self.pool1]\n",
    "\n",
    "        self.conv2 = nn.Conv2d(32, 64, kernel_size=(5, 5), stride=(2, 2), padding=(2, 2))\n",
    "        self.relu2 = nn.ReLU()\n",
    "        self.bn2 = nn.GroupNorm(4, 64)\n",
    "        nn.init.kaiming_normal_(self.conv2.weight, a=0.1)\n",
    "        self.pool2 = nn.MaxPool2d(2)\n",
    "        conv_layers += [self.conv2, self.relu2, self.bn2, self.pool2]\n",
    "        \n",
    "        self.conv3 = nn.Conv2d(64, 128, kernel_size=(3, 3), stride=(1, 1), padding=(1, 1))\n",
    "        self.relu3 = nn.ReLU()\n",
    "        nn.init.kaiming_normal_(self.conv3.weight, a=0.1)\n",
    "        self.pool3 = nn.MaxPool2d(2)\n",
    "        conv_layers += [self.conv3, self.relu3, self.pool3]\n",
    "\n",
    "        self.conv4 = nn.Conv2d(128, 256, kernel_size=(3, 3), stride=(1, 1), padding=(1, 1))\n",
    "        self.relu4 = nn.ReLU()\n",
    "        nn.init.kaiming_normal_(self.conv4.weight, a=0.1)\n",
    "        self.pool4 = nn.MaxPool2d(2)\n",
    "        conv_layers += [self.conv4, self.relu4, self.pool4]\n",
    "        \n",
    "        self.flatten = nn.Flatten()\n",
    "        self.linear1 = nn.Linear(256*2*5, 50)\n",
    "        self.relufc1 = nn.ReLU()\n",
    "        self.dropout = nn.Dropout(0.5)\n",
    "        self.linear2 = nn.Linear(50, 10)\n",
    "        self.relufc2 = nn.ReLU()\n",
    "        self.linear3 = nn.Linear(10, 8)\n",
    "        self.sigmoid = nn.Sigmoid()\n",
    "        conv_layers += [self.flatten, self.linear1, self.relufc1, self.dropout,\n",
    "                        self.linear2, self.relufc2, self.linear3, self.sigmoid]\n",
    "        \n",
    "        self.network = nn.Sequential(*conv_layers)\n",
    "        \n",
    "\n",
    "    def forward(self, x):\n",
    "\n",
    "        return self.network(x)\n",
    "        \n"
   ]
  },
  {
   "cell_type": "code",
   "execution_count": 20,
   "metadata": {
    "id": "P8Z2E9Jvxi70"
   },
   "outputs": [],
   "source": [
    "# Helper functions to have option of running with GPU or CPU\n",
    "def get_default_device():\n",
    "    \"\"\"Create device: Pick GPU if available, else CPU\"\"\"\n",
    "    if torch.cuda.is_available():\n",
    "        return torch.device('cuda')\n",
    "    else:\n",
    "        return torch.device('cpu')\n",
    "    \n",
    "def to_device(data, device):\n",
    "    \"\"\"Move tensor(s) of data to chosen device\"\"\"\n",
    "    # If list of tensors\n",
    "    if isinstance(data, (list,tuple)):\n",
    "        return [to_device(x, device) for x in data]\n",
    "    # else if single tensor\n",
    "    return data.to(device, non_blocking=True)\n",
    "\n",
    "class DeviceDataLoader():\n",
    "    \"\"\"Wrap a dataloader to yield data to device as\n",
    "    the batches are requested\"\"\"\n",
    "    def __init__(self, dl, device):\n",
    "        self.dl = dl\n",
    "        self.device = device\n",
    "        \n",
    "    def __iter__(self):\n",
    "        \"\"\"Yield a batch of data after moving it to device\"\"\"\n",
    "        for b in self.dl: \n",
    "            yield to_device(b, self.device)\n",
    "\n",
    "    def __len__(self):\n",
    "        \"\"\"Number of batches\"\"\"\n",
    "        return len(self.dl)"
   ]
  },
  {
   "cell_type": "code",
   "execution_count": 21,
   "metadata": {
    "id": "4eDMbjkAxkql"
   },
   "outputs": [],
   "source": [
    "# Helper functions to fit and evaluate model\n",
    "@torch.no_grad()\n",
    "def evaluate(model, val_loader):\n",
    "    model.eval()\n",
    "    outputs = [model.validation_step(batch) for batch in val_loader]\n",
    "    return model.validation_epoch_end(outputs)\n",
    "\n",
    "def fit(epochs, lr, model, train_loader, val_loader, opt_func=torch.optim.SGD):\n",
    "    history = []\n",
    "    optimizer = opt_func(model.parameters(), lr)\n",
    "    for epoch in range(epochs):\n",
    "        # Training Phase \n",
    "        model.train()\n",
    "        train_losses = []\n",
    "        train_accuracies = []\n",
    "        for batch in train_loader:\n",
    "            # Zero gradients\n",
    "            optimizer.zero_grad()\n",
    "            # Calculate loss\n",
    "            loss, acc = model.training_step(batch)\n",
    "            train_losses.append(loss)\n",
    "            train_accuracies.append(acc)\n",
    "            # Back-propogate loss\n",
    "            loss.backward()\n",
    "            # Update weights\n",
    "            optimizer.step()\n",
    "            \n",
    "        # Validation phase\n",
    "        result = evaluate(model, val_loader)\n",
    "        result['train_loss'] = torch.stack(train_losses).mean().item()\n",
    "        result['train_acc'] = torch.stack(train_accuracies).mean().item()\n",
    "        model.epoch_end(epoch, result)\n",
    "        history.append(result)\n",
    "    return history"
   ]
  },
  {
   "cell_type": "code",
   "execution_count": 22,
   "metadata": {
    "id": "hOa27DYRxkw7"
   },
   "outputs": [],
   "source": [
    "device = get_default_device()\n",
    "# print(device)\n",
    "model = to_device(BirdSongModel(), device)\n",
    "\n",
    "# Wrap training and test data loaders using `DeviceDataLoader` for automatically\n",
    "# transferring batches of data to the GPU (if available), and use `to_device` \n",
    "# to move our model to the GPU (if available).\n",
    "train_dl = DeviceDataLoader(train_dl, device)\n",
    "test_dl = DeviceDataLoader(test_dl, device)\n",
    "to_device(model, device);\n",
    "\n",
    "# evaluate(model, test_dl)\n",
    "\n",
    "num_epochs = 100\n",
    "opt_func = torch.optim.Adam\n",
    "lr = 0.00004"
   ]
  },
  {
   "cell_type": "code",
   "execution_count": 538,
   "metadata": {
    "id": "P6Lndeu5ZcBe"
   },
   "outputs": [],
   "source": [
    "# for layer in model.children():\n",
    "#     if hasattr(layer, 'reset_parameters'):\n",
    "#         print(f'Reset trainable parameters of layer = {layer}')\n",
    "#         layer.reset_parameters()"
   ]
  },
  {
   "cell_type": "code",
   "execution_count": 23,
   "metadata": {
    "colab": {
     "base_uri": "https://localhost:8080/"
    },
    "id": "le5h03Fl0LFA",
    "outputId": "9402c00c-2e34-47bd-df08-21925ab77bcb"
   },
   "outputs": [
    {
     "name": "stdout",
     "output_type": "stream",
     "text": [
      "Epoch [0], train_loss: 0.6720, train_acc: 0.2820, val_loss: 0.6547, val_acc: 0.2416\n",
      "Epoch [1], train_loss: 0.6591, train_acc: 0.2937, val_loss: 0.6501, val_acc: 0.3185\n",
      "Epoch [2], train_loss: 0.6542, train_acc: 0.2849, val_loss: 0.6472, val_acc: 0.2811\n",
      "Epoch [3], train_loss: 0.6471, train_acc: 0.3027, val_loss: 0.6372, val_acc: 0.3344\n",
      "Epoch [4], train_loss: 0.6391, train_acc: 0.3184, val_loss: 0.6310, val_acc: 0.3259\n",
      "Epoch [5], train_loss: 0.6328, train_acc: 0.3393, val_loss: 0.6218, val_acc: 0.3384\n",
      "Epoch [6], train_loss: 0.6255, train_acc: 0.3446, val_loss: 0.6168, val_acc: 0.3585\n",
      "Epoch [7], train_loss: 0.6178, train_acc: 0.3514, val_loss: 0.6104, val_acc: 0.3942\n",
      "Epoch [8], train_loss: 0.6111, train_acc: 0.3508, val_loss: 0.6034, val_acc: 0.3922\n",
      "Epoch [9], train_loss: 0.6003, train_acc: 0.3751, val_loss: 0.5901, val_acc: 0.3940\n",
      "Epoch [10], train_loss: 0.5961, train_acc: 0.3798, val_loss: 0.5842, val_acc: 0.4282\n",
      "Epoch [11], train_loss: 0.5883, train_acc: 0.3895, val_loss: 0.5776, val_acc: 0.4269\n",
      "Epoch [12], train_loss: 0.5834, train_acc: 0.4035, val_loss: 0.5708, val_acc: 0.4659\n",
      "Epoch [13], train_loss: 0.5744, train_acc: 0.4087, val_loss: 0.5647, val_acc: 0.4384\n",
      "Epoch [14], train_loss: 0.5665, train_acc: 0.4251, val_loss: 0.5600, val_acc: 0.4492\n",
      "Epoch [15], train_loss: 0.5625, train_acc: 0.4153, val_loss: 0.5561, val_acc: 0.4770\n",
      "Epoch [16], train_loss: 0.5577, train_acc: 0.4441, val_loss: 0.5479, val_acc: 0.4905\n",
      "Epoch [17], train_loss: 0.5517, train_acc: 0.4430, val_loss: 0.5380, val_acc: 0.4906\n",
      "Epoch [18], train_loss: 0.5428, train_acc: 0.4521, val_loss: 0.5393, val_acc: 0.4892\n",
      "Epoch [19], train_loss: 0.5374, train_acc: 0.4536, val_loss: 0.5321, val_acc: 0.5401\n",
      "Epoch [20], train_loss: 0.5360, train_acc: 0.4596, val_loss: 0.5268, val_acc: 0.5062\n",
      "Epoch [21], train_loss: 0.5287, train_acc: 0.4704, val_loss: 0.5216, val_acc: 0.5303\n",
      "Epoch [22], train_loss: 0.5198, train_acc: 0.4822, val_loss: 0.5170, val_acc: 0.5316\n",
      "Epoch [23], train_loss: 0.5150, train_acc: 0.4981, val_loss: 0.5127, val_acc: 0.5130\n",
      "Epoch [24], train_loss: 0.5102, train_acc: 0.5071, val_loss: 0.5077, val_acc: 0.5336\n",
      "Epoch [25], train_loss: 0.5046, train_acc: 0.5105, val_loss: 0.5014, val_acc: 0.5456\n",
      "Epoch [26], train_loss: 0.5014, train_acc: 0.5131, val_loss: 0.4945, val_acc: 0.5480\n",
      "Epoch [27], train_loss: 0.4898, train_acc: 0.5237, val_loss: 0.4984, val_acc: 0.5396\n",
      "Epoch [28], train_loss: 0.4897, train_acc: 0.5343, val_loss: 0.4904, val_acc: 0.5667\n",
      "Epoch [29], train_loss: 0.4863, train_acc: 0.5367, val_loss: 0.4875, val_acc: 0.6156\n",
      "Epoch [30], train_loss: 0.4820, train_acc: 0.5512, val_loss: 0.4854, val_acc: 0.5769\n",
      "Epoch [31], train_loss: 0.4714, train_acc: 0.5622, val_loss: 0.4751, val_acc: 0.5618\n",
      "Epoch [32], train_loss: 0.4708, train_acc: 0.5545, val_loss: 0.4731, val_acc: 0.5926\n",
      "Epoch [33], train_loss: 0.4650, train_acc: 0.5713, val_loss: 0.4737, val_acc: 0.5871\n",
      "Epoch [34], train_loss: 0.4611, train_acc: 0.5780, val_loss: 0.4661, val_acc: 0.6040\n",
      "Epoch [35], train_loss: 0.4545, train_acc: 0.5815, val_loss: 0.4647, val_acc: 0.5696\n",
      "Epoch [36], train_loss: 0.4511, train_acc: 0.6067, val_loss: 0.4651, val_acc: 0.6236\n",
      "Epoch [37], train_loss: 0.4447, train_acc: 0.6011, val_loss: 0.4538, val_acc: 0.6222\n",
      "Epoch [38], train_loss: 0.4406, train_acc: 0.6087, val_loss: 0.4538, val_acc: 0.6296\n",
      "Epoch [39], train_loss: 0.4365, train_acc: 0.6206, val_loss: 0.4464, val_acc: 0.6358\n",
      "Epoch [40], train_loss: 0.4316, train_acc: 0.6263, val_loss: 0.4474, val_acc: 0.6659\n",
      "Epoch [41], train_loss: 0.4270, train_acc: 0.6304, val_loss: 0.4412, val_acc: 0.6387\n",
      "Epoch [42], train_loss: 0.4218, train_acc: 0.6335, val_loss: 0.4422, val_acc: 0.6713\n",
      "Epoch [43], train_loss: 0.4146, train_acc: 0.6492, val_loss: 0.4375, val_acc: 0.7145\n",
      "Epoch [44], train_loss: 0.4148, train_acc: 0.6490, val_loss: 0.4304, val_acc: 0.6718\n",
      "Epoch [45], train_loss: 0.4046, train_acc: 0.6573, val_loss: 0.4307, val_acc: 0.6701\n",
      "Epoch [46], train_loss: 0.3995, train_acc: 0.6700, val_loss: 0.4310, val_acc: 0.7166\n",
      "Epoch [47], train_loss: 0.3988, train_acc: 0.6766, val_loss: 0.4286, val_acc: 0.7108\n",
      "Epoch [48], train_loss: 0.3938, train_acc: 0.6801, val_loss: 0.4224, val_acc: 0.7071\n",
      "Epoch [49], train_loss: 0.3914, train_acc: 0.6826, val_loss: 0.4274, val_acc: 0.6781\n",
      "Epoch [50], train_loss: 0.3877, train_acc: 0.7085, val_loss: 0.4194, val_acc: 0.7676\n",
      "Epoch [51], train_loss: 0.3812, train_acc: 0.7012, val_loss: 0.4202, val_acc: 0.7149\n",
      "Epoch [52], train_loss: 0.3781, train_acc: 0.7053, val_loss: 0.4189, val_acc: 0.7881\n",
      "Epoch [53], train_loss: 0.3734, train_acc: 0.7196, val_loss: 0.4124, val_acc: 0.7664\n",
      "Epoch [54], train_loss: 0.3673, train_acc: 0.7248, val_loss: 0.4148, val_acc: 0.7214\n",
      "Epoch [55], train_loss: 0.3704, train_acc: 0.7222, val_loss: 0.4167, val_acc: 0.7937\n",
      "Epoch [56], train_loss: 0.3591, train_acc: 0.7419, val_loss: 0.4122, val_acc: 0.7350\n",
      "Epoch [57], train_loss: 0.3569, train_acc: 0.7422, val_loss: 0.4071, val_acc: 0.8024\n",
      "Epoch [58], train_loss: 0.3536, train_acc: 0.7419, val_loss: 0.4074, val_acc: 0.8133\n",
      "Epoch [59], train_loss: 0.3493, train_acc: 0.7631, val_loss: 0.4011, val_acc: 0.8065\n",
      "Epoch [60], train_loss: 0.3486, train_acc: 0.7685, val_loss: 0.4026, val_acc: 0.8115\n",
      "Epoch [61], train_loss: 0.3443, train_acc: 0.7708, val_loss: 0.4162, val_acc: 0.7952\n",
      "Epoch [62], train_loss: 0.3434, train_acc: 0.7729, val_loss: 0.4040, val_acc: 0.8078\n",
      "Epoch [63], train_loss: 0.3394, train_acc: 0.7903, val_loss: 0.4078, val_acc: 0.8110\n",
      "Epoch [64], train_loss: 0.3316, train_acc: 0.7893, val_loss: 0.4054, val_acc: 0.8027\n",
      "Epoch [65], train_loss: 0.3283, train_acc: 0.7952, val_loss: 0.3974, val_acc: 0.8244\n",
      "Epoch [66], train_loss: 0.3269, train_acc: 0.8067, val_loss: 0.3940, val_acc: 0.8025\n",
      "Epoch [67], train_loss: 0.3237, train_acc: 0.7942, val_loss: 0.3959, val_acc: 0.8197\n",
      "Epoch [68], train_loss: 0.3250, train_acc: 0.8051, val_loss: 0.3914, val_acc: 0.8155\n",
      "Epoch [69], train_loss: 0.3187, train_acc: 0.8084, val_loss: 0.3931, val_acc: 0.8016\n",
      "Epoch [70], train_loss: 0.3158, train_acc: 0.8143, val_loss: 0.3912, val_acc: 0.8210\n",
      "Epoch [71], train_loss: 0.3066, train_acc: 0.8281, val_loss: 0.3864, val_acc: 0.7909\n",
      "Epoch [72], train_loss: 0.3107, train_acc: 0.8181, val_loss: 0.3928, val_acc: 0.8024\n",
      "Epoch [73], train_loss: 0.3056, train_acc: 0.8246, val_loss: 0.3904, val_acc: 0.8184\n",
      "Epoch [74], train_loss: 0.3036, train_acc: 0.8321, val_loss: 0.3884, val_acc: 0.8190\n",
      "Epoch [75], train_loss: 0.2969, train_acc: 0.8403, val_loss: 0.3874, val_acc: 0.8160\n",
      "Epoch [76], train_loss: 0.2950, train_acc: 0.8301, val_loss: 0.3866, val_acc: 0.8157\n",
      "Epoch [77], train_loss: 0.2919, train_acc: 0.8327, val_loss: 0.3899, val_acc: 0.8112\n",
      "Epoch [78], train_loss: 0.2930, train_acc: 0.8290, val_loss: 0.3904, val_acc: 0.8173\n",
      "Epoch [79], train_loss: 0.2854, train_acc: 0.8507, val_loss: 0.3846, val_acc: 0.8234\n",
      "Epoch [80], train_loss: 0.2861, train_acc: 0.8396, val_loss: 0.3827, val_acc: 0.8277\n",
      "Epoch [81], train_loss: 0.2837, train_acc: 0.8401, val_loss: 0.3831, val_acc: 0.8097\n",
      "Epoch [82], train_loss: 0.2792, train_acc: 0.8456, val_loss: 0.3821, val_acc: 0.8322\n",
      "Epoch [83], train_loss: 0.2771, train_acc: 0.8503, val_loss: 0.3842, val_acc: 0.8311\n",
      "Epoch [84], train_loss: 0.2743, train_acc: 0.8521, val_loss: 0.3971, val_acc: 0.8014\n",
      "Epoch [85], train_loss: 0.2731, train_acc: 0.8417, val_loss: 0.3824, val_acc: 0.8090\n",
      "Epoch [86], train_loss: 0.2705, train_acc: 0.8469, val_loss: 0.3861, val_acc: 0.8252\n",
      "Epoch [87], train_loss: 0.2675, train_acc: 0.8419, val_loss: 0.3837, val_acc: 0.8146\n",
      "Epoch [88], train_loss: 0.2648, train_acc: 0.8598, val_loss: 0.3864, val_acc: 0.8171\n",
      "Epoch [89], train_loss: 0.2594, train_acc: 0.8619, val_loss: 0.3779, val_acc: 0.8262\n",
      "Epoch [90], train_loss: 0.2589, train_acc: 0.8631, val_loss: 0.3824, val_acc: 0.8366\n",
      "Epoch [91], train_loss: 0.2580, train_acc: 0.8545, val_loss: 0.3853, val_acc: 0.8026\n",
      "Epoch [92], train_loss: 0.2586, train_acc: 0.8528, val_loss: 0.3828, val_acc: 0.8214\n",
      "Epoch [93], train_loss: 0.2552, train_acc: 0.8567, val_loss: 0.3992, val_acc: 0.8257\n",
      "Epoch [94], train_loss: 0.2536, train_acc: 0.8638, val_loss: 0.3801, val_acc: 0.8311\n",
      "Epoch [95], train_loss: 0.2516, train_acc: 0.8590, val_loss: 0.3735, val_acc: 0.8254\n",
      "Epoch [96], train_loss: 0.2461, train_acc: 0.8593, val_loss: 0.3778, val_acc: 0.8151\n"
     ]
    },
    {
     "name": "stdout",
     "output_type": "stream",
     "text": [
      "Epoch [97], train_loss: 0.2476, train_acc: 0.8658, val_loss: 0.3699, val_acc: 0.8216\n",
      "Epoch [98], train_loss: 0.2423, train_acc: 0.8636, val_loss: 0.3851, val_acc: 0.8090\n",
      "Epoch [99], train_loss: 0.2447, train_acc: 0.8589, val_loss: 0.3731, val_acc: 0.8238\n"
     ]
    }
   ],
   "source": [
    "history = fit(num_epochs, lr, model, train_dl, test_dl, opt_func)"
   ]
  },
  {
   "cell_type": "code",
   "execution_count": 24,
   "metadata": {
    "colab": {
     "base_uri": "https://localhost:8080/",
     "height": 513
    },
    "id": "wm8LrMMf0LMk",
    "outputId": "b8438b04-3312-4697-bb9d-b11faf969d46"
   },
   "outputs": [
    {
     "data": {
      "image/png": "[encoded data removed]",
      "text/plain": [
       "<Figure size 864x576 with 1 Axes>"
      ]
     },
     "metadata": {
      "needs_background": "light"
     },
     "output_type": "display_data"
    }
   ],
   "source": [
    "def plot_accuracies(history):\n",
    "\n",
    "    train_accuracies = [x['train_acc'] for x in history]\n",
    "    val_accuracies = [x['val_acc'] for x in history]\n",
    "    plt.figure(figsize=(12, 8))\n",
    "    plt.plot(train_accuracies, '-o', label='training accuracy')\n",
    "    plt.plot(val_accuracies, '-x', label='validation accuracy')\n",
    "    plt.xlabel('epoch')\n",
    "    plt.ylabel('accuray')\n",
    "    plt.title('Accuracy vs. No. of epochs')\n",
    "    plt.legend()\n",
    "\n",
    "plot_accuracies(history);"
   ]
  },
  {
   "cell_type": "code",
   "execution_count": 25,
   "metadata": {},
   "outputs": [
    {
     "data": {
      "image/png": "[encoded data removed]",
      "text/plain": [
       "<Figure size 864x576 with 1 Axes>"
      ]
     },
     "metadata": {
      "needs_background": "light"
     },
     "output_type": "display_data"
    }
   ],
   "source": [
    "def plot_loss(history):\n",
    "\n",
    "    train_accuracies = [x['train_loss'] for x in history]\n",
    "    val_accuracies = [x['val_loss'] for x in history]\n",
    "    plt.figure(figsize=(12, 8))\n",
    "    plt.plot(train_accuracies, '-o', label='training loss')\n",
    "    plt.plot(val_accuracies, '-x', label='validation loss')\n",
    "    plt.xlabel('epoch')\n",
    "    plt.ylabel('loss')\n",
    "    plt.title('Loss vs. No. of epochs')\n",
    "    plt.legend()\n",
    "\n",
    "plot_loss(history);"
   ]
  },
  {
   "cell_type": "code",
   "execution_count": 330,
   "metadata": {
    "colab": {
     "base_uri": "https://localhost:8080/"
    },
    "id": "f4Q6XXYQ00Wq",
    "outputId": "5b55a937-bd7c-4d53-b2ed-9e8cddf5b74e"
   },
   "outputs": [
    {
     "name": "stdout",
     "output_type": "stream",
     "text": [
      "mdoel training and stored at filename.pth\n"
     ]
    }
   ],
   "source": [
    "torch.save(model.state_dict(), \"filename.pth\")\n",
    "print(\"mdoel training and stored at filename.pth\")"
   ]
  },
  {
   "cell_type": "markdown",
   "metadata": {
    "id": "rQ0-ECEXL38r"
   },
   "source": [
    "# Scratch"
   ]
  },
  {
   "cell_type": "code",
   "execution_count": 54,
   "metadata": {
    "id": "QPoOs-9coNvj"
   },
   "outputs": [],
   "source": [
    "# dataiter = iter(train_dl)\n",
    "# images, labels = dataiter.next()\n",
    "# print (images[0].shape)"
   ]
  },
  {
   "cell_type": "code",
   "execution_count": 351,
   "metadata": {
    "id": "rkklragaxGWm"
   },
   "outputs": [],
   "source": [
    "# # Test the model on the first batch from the training dataloader\n",
    "# model=BirdSongModel()\n",
    "# for images, labels in train_dl:\n",
    "#     print(labels)\n",
    "#     print('images.shape:', images.shape)\n",
    "#     out = model(images)\n",
    "#     print('out.shape:', out.shape)\n",
    "#     print('out[0]:', out[0])\n",
    "#     print('sum out[0]:', torch.sum(out[0]).item())\n",
    "\n",
    "#     break"
   ]
  },
  {
   "cell_type": "markdown",
   "metadata": {
    "id": "aFJyYNcoMcs8"
   },
   "source": [
    "# CNN - Best Clips 2 seconds"
   ]
  },
  {
   "cell_type": "code",
   "execution_count": 29,
   "metadata": {},
   "outputs": [
    {
     "name": "stderr",
     "output_type": "stream",
     "text": [
      "100%|████████████████████████████████████████████████████████████████████████████| 2371/2371 [00:02<00:00, 1043.90it/s]\n"
     ]
    },
    {
     "data": {
      "text/plain": [
       "((2371, 128, 87), (2371,))"
      ]
     },
     "execution_count": 29,
     "metadata": {},
     "output_type": "execute_result"
    }
   ],
   "source": [
    "X, y = load_images(dataset, path='mel_spectrograms_best_clip'), dataset['label'].to_numpy()\n",
    "X.shape, y.shape"
   ]
  },
  {
   "cell_type": "code",
   "execution_count": 30,
   "metadata": {},
   "outputs": [
    {
     "name": "stdout",
     "output_type": "stream",
     "text": [
      "(1896, 128, 87)\n",
      "(475, 128, 87)\n"
     ]
    }
   ],
   "source": [
    "X_train, X_test, y_train, y_test = train_test_split(X, y, test_size=0.20, random_state=42)\n",
    "\n",
    "print(X_train.shape)\n",
    "print(X_test.shape)"
   ]
  },
  {
   "cell_type": "code",
   "execution_count": 88,
   "metadata": {},
   "outputs": [],
   "source": [
    "train_data = []\n",
    "# Note: Conv2d layers expect input with the shape (n_samples, channels, height, width)\n",
    "for i in range(len(X_train)):\n",
    "    train_data.append([np.expand_dims(X_train[i], axis=0), y_train[i]]) \n",
    "test_data = []\n",
    "for i in range(len(X_test)):\n",
    "    test_data.append([np.expand_dims(X_test[i], axis=0), y_test[i]])"
   ]
  },
  {
   "cell_type": "code",
   "execution_count": 89,
   "metadata": {},
   "outputs": [],
   "source": [
    "batch_size=50\n",
    "train_dl = DataLoader(train_data, batch_size=batch_size, shuffle=True, drop_last=True)\n",
    "test_dl = DataLoader(test_data, batch_size=batch_size, shuffle=True, drop_last=True)"
   ]
  },
  {
   "cell_type": "code",
   "execution_count": 62,
   "metadata": {},
   "outputs": [],
   "source": [
    "class ImageClassifierBase(nn.Module):\n",
    "    def training_step(self, batch):\n",
    "        images, labels = batch \n",
    "        out = self(images)                  # Generate predictions\n",
    "        # print('out:', out)\n",
    "        # print('labels:', labels)\n",
    "        # print('Start loss calc')\n",
    "        # criterion=nn.BCELoss()\n",
    "        # loss = criterion(out, labels.type(torch.float))  # Calculate loss\n",
    "        loss = F.binary_cross_entropy(out, labels.type(torch.float))\n",
    "        acc = accuracy(out, labels)         # Calculate accuracy\n",
    "        return loss, acc\n",
    "    \n",
    "    def validation_step(self, batch):\n",
    "        images, labels = batch \n",
    "        out = self(images)                    # Generate predictions\n",
    "        # criterion=nn.BCELoss()\n",
    "        # loss = criterion(out, labels.type(torch.float))   # Calculate loss\n",
    "        loss = F.binary_cross_entropy(out, labels.type(torch.float))\n",
    "        acc = accuracy(out, labels)           # Calculate accuracy\n",
    "        return {'val_loss': loss.detach(), 'val_acc': acc}\n",
    "        \n",
    "    def validation_epoch_end(self, outputs):\n",
    "        batch_losses = [x['val_loss'] for x in outputs]\n",
    "        epoch_loss = torch.stack(batch_losses).mean()   # Combine losses\n",
    "        batch_accs = [x['val_acc'] for x in outputs]\n",
    "        epoch_acc = torch.stack(batch_accs).mean()      # Combine accuracies\n",
    "        return {'val_loss': epoch_loss.item(), 'val_acc': epoch_acc.item()}\n",
    "    \n",
    "    def epoch_end(self, epoch, result):\n",
    "        print(\"Epoch [{}], train_loss: {:.4f}, train_acc: {:.4f}, val_loss: {:.4f}, val_acc: {:.4f}\".format(\n",
    "            epoch, result['train_loss'], result['train_acc'], result['val_loss'], result['val_acc']))\n",
    "        \n",
    "def accuracy(outputs, labels, threshold=0.5):\n",
    "    \n",
    "    preds = np.array(outputs.cpu().detach().numpy() >= threshold, dtype=float)\n",
    "    score = precision_score(labels.cpu().detach().numpy(), preds, average='micro')\n",
    "\n",
    "    return torch.tensor(score)"
   ]
  },
  {
   "cell_type": "code",
   "execution_count": 86,
   "metadata": {},
   "outputs": [
    {
     "name": "stdout",
     "output_type": "stream",
     "text": [
      "images.shape: torch.Size([50, 1, 128, 87])\n",
      "out.shape: torch.Size([50, 64, 7, 5])\n"
     ]
    }
   ],
   "source": [
    "# # Test image size\n",
    "# simple_model = nn.Sequential(\n",
    "#     nn.Conv2d(1, 8, kernel_size=2, stride=1, padding=0),\n",
    "#     nn.ReLU(),\n",
    "#     nn.MaxPool2d(2),\n",
    "#     nn.Conv2d(8, 16, kernel_size=2, stride=1, padding=0),\n",
    "#     nn.ReLU(),\n",
    "#     nn.MaxPool2d(2),\n",
    "\n",
    "#     nn.Conv2d(16, 32, kernel_size=1, stride=1, padding=0),\n",
    "#     nn.ReLU(),\n",
    "#     nn.MaxPool2d(2),\n",
    "#     nn.Conv2d(32, 64, kernel_size=1, stride=1, padding=0),\n",
    "#     nn.ReLU(),\n",
    "#     nn.MaxPool2d(2),\n",
    "\n",
    "# #     nn.Flatten(), \n",
    "# #     nn.Linear(256*3*7, 1024),\n",
    "# #     nn.ReLU(),\n",
    "# #     nn.Linear(1024, 5)\n",
    "# )\n",
    "# for images, labels in train_dl:\n",
    "#     print('images.shape:', images.shape)\n",
    "#     out = simple_model(images)\n",
    "#     print('out.shape:', out.shape)\n",
    "#     break"
   ]
  },
  {
   "cell_type": "code",
   "execution_count": 90,
   "metadata": {},
   "outputs": [],
   "source": [
    "class BirdSongModel(ImageClassifierBase):\n",
    "    def __init__(self):\n",
    "        super().__init__()\n",
    "        \n",
    "        conv_layers = []\n",
    "\n",
    "        self.conv1 = nn.Conv2d(1, 8, kernel_size=(2, 2), stride=(1, 1), padding=(0, 0))\n",
    "        self.relu1 = nn.ReLU()\n",
    "        self.bn1 = nn.GroupNorm(2, 8)\n",
    "        nn.init.kaiming_normal_(self.conv1.weight, a=0.1)\n",
    "        self.pool1 = nn.MaxPool2d(2)\n",
    "        conv_layers += [self.conv1, self.relu1, self.bn1, self.pool1]\n",
    "\n",
    "        self.conv2 = nn.Conv2d(8, 16, kernel_size=(2, 2), stride=(1, 1), padding=(0, 0))\n",
    "        self.relu2 = nn.ReLU()\n",
    "        self.bn2 = nn.GroupNorm(4, 16)\n",
    "        nn.init.kaiming_normal_(self.conv2.weight, a=0.1)\n",
    "        self.pool2 = nn.MaxPool2d(2)\n",
    "        conv_layers += [self.conv2, self.relu2, self.bn2, self.pool2]\n",
    "        \n",
    "        self.conv3 = nn.Conv2d(16, 32, kernel_size=(1, 1), stride=(1, 1), padding=(0, 0))\n",
    "        self.relu3 = nn.ReLU()\n",
    "        nn.init.kaiming_normal_(self.conv3.weight, a=0.1)\n",
    "        self.pool3 = nn.MaxPool2d(2)\n",
    "        conv_layers += [self.conv3, self.relu3, self.pool3]\n",
    "\n",
    "        self.conv4 = nn.Conv2d(32, 64, kernel_size=(1, 1), stride=(1, 1), padding=(0, 0))\n",
    "        self.relu4 = nn.ReLU()\n",
    "        nn.init.kaiming_normal_(self.conv4.weight, a=0.1)\n",
    "        self.pool4 = nn.MaxPool2d(2)\n",
    "        conv_layers += [self.conv4, self.relu4, self.pool4]\n",
    "        \n",
    "        self.flatten = nn.Flatten()\n",
    "        self.linear1 = nn.Linear(64*7*5, 50)\n",
    "        self.relufc1 = nn.ReLU()\n",
    "        self.dropout = nn.Dropout(0.5)\n",
    "        self.linear2 = nn.Linear(50, 10)\n",
    "        self.relufc2 = nn.ReLU()\n",
    "        self.linear3 = nn.Linear(10, 8)\n",
    "        self.sigmoid = nn.Sigmoid()\n",
    "        conv_layers += [self.flatten, self.linear1, self.relufc1, self.dropout,\n",
    "                        self.linear2, self.relufc2, self.linear3, self.sigmoid]\n",
    "        \n",
    "        self.network = nn.Sequential(*conv_layers)\n",
    "        \n",
    "\n",
    "    def forward(self, x):\n",
    "\n",
    "        return self.network(x)"
   ]
  },
  {
   "cell_type": "code",
   "execution_count": 68,
   "metadata": {},
   "outputs": [],
   "source": [
    "# Helper functions to have option of running with GPU or CPU\n",
    "def get_default_device():\n",
    "    \"\"\"Create device: Pick GPU if available, else CPU\"\"\"\n",
    "    if torch.cuda.is_available():\n",
    "        return torch.device('cuda')\n",
    "    else:\n",
    "        return torch.device('cpu')\n",
    "    \n",
    "def to_device(data, device):\n",
    "    \"\"\"Move tensor(s) of data to chosen device\"\"\"\n",
    "    # If list of tensors\n",
    "    if isinstance(data, (list,tuple)):\n",
    "        return [to_device(x, device) for x in data]\n",
    "    # else if single tensor\n",
    "    return data.to(device, non_blocking=True)\n",
    "\n",
    "class DeviceDataLoader():\n",
    "    \"\"\"Wrap a dataloader to yield data to device as\n",
    "    the batches are requested\"\"\"\n",
    "    def __init__(self, dl, device):\n",
    "        self.dl = dl\n",
    "        self.device = device\n",
    "        \n",
    "    def __iter__(self):\n",
    "        \"\"\"Yield a batch of data after moving it to device\"\"\"\n",
    "        for b in self.dl: \n",
    "            yield to_device(b, self.device)\n",
    "\n",
    "    def __len__(self):\n",
    "        \"\"\"Number of batches\"\"\"\n",
    "        return len(self.dl)"
   ]
  },
  {
   "cell_type": "code",
   "execution_count": 69,
   "metadata": {},
   "outputs": [],
   "source": [
    "# Helper functions to fit and evaluate model\n",
    "@torch.no_grad()\n",
    "def evaluate(model, val_loader):\n",
    "    model.eval()\n",
    "    outputs = [model.validation_step(batch) for batch in val_loader]\n",
    "    return model.validation_epoch_end(outputs)\n",
    "\n",
    "def fit(epochs, lr, model, train_loader, val_loader, opt_func=torch.optim.SGD):\n",
    "    history = []\n",
    "    optimizer = opt_func(model.parameters(), lr)\n",
    "    for epoch in range(epochs):\n",
    "        # Training Phase \n",
    "        model.train()\n",
    "        train_losses = []\n",
    "        train_accuracies = []\n",
    "        for batch in train_loader:\n",
    "            # Zero gradients\n",
    "            optimizer.zero_grad()\n",
    "            # Calculate loss\n",
    "            loss, acc = model.training_step(batch)\n",
    "            train_losses.append(loss)\n",
    "            train_accuracies.append(acc)\n",
    "            # Back-propogate loss\n",
    "            loss.backward()\n",
    "            # Update weights\n",
    "            optimizer.step()\n",
    "            \n",
    "        # Validation phase\n",
    "        result = evaluate(model, val_loader)\n",
    "        result['train_loss'] = torch.stack(train_losses).mean().item()\n",
    "        result['train_acc'] = torch.stack(train_accuracies).mean().item()\n",
    "        model.epoch_end(epoch, result)\n",
    "        history.append(result)\n",
    "    return history"
   ]
  },
  {
   "cell_type": "code",
   "execution_count": 91,
   "metadata": {},
   "outputs": [],
   "source": [
    "device = get_default_device()\n",
    "# print(device)\n",
    "model = to_device(BirdSongModel(), device)\n",
    "\n",
    "# Wrap training and test data loaders using `DeviceDataLoader` for automatically\n",
    "# transferring batches of data to the GPU (if available), and use `to_device` \n",
    "# to move our model to the GPU (if available).\n",
    "train_dl = DeviceDataLoader(train_dl, device)\n",
    "test_dl = DeviceDataLoader(test_dl, device)\n",
    "to_device(model, device);\n",
    "\n",
    "# evaluate(model, test_dl)\n",
    "\n",
    "num_epochs = 100\n",
    "opt_func = torch.optim.Adam\n",
    "lr = 0.00004"
   ]
  },
  {
   "cell_type": "code",
   "execution_count": 92,
   "metadata": {},
   "outputs": [
    {
     "name": "stdout",
     "output_type": "stream",
     "text": [
      "Epoch [0], train_loss: 0.6830, train_acc: 0.2624, val_loss: 0.6504, val_acc: 0.2796\n",
      "Epoch [1], train_loss: 0.6556, train_acc: 0.2724, val_loss: 0.6310, val_acc: 0.2747\n",
      "Epoch [2], train_loss: 0.6483, train_acc: 0.2650, val_loss: 0.6226, val_acc: 0.2722\n",
      "Epoch [3], train_loss: 0.6380, train_acc: 0.2868, val_loss: 0.6151, val_acc: 0.2920\n",
      "Epoch [4], train_loss: 0.6318, train_acc: 0.2972, val_loss: 0.6108, val_acc: 0.2921\n",
      "Epoch [5], train_loss: 0.6277, train_acc: 0.2982, val_loss: 0.6048, val_acc: 0.2987\n",
      "Epoch [6], train_loss: 0.6192, train_acc: 0.3123, val_loss: 0.5981, val_acc: 0.3051\n",
      "Epoch [7], train_loss: 0.6151, train_acc: 0.3132, val_loss: 0.5955, val_acc: 0.3044\n",
      "Epoch [8], train_loss: 0.6091, train_acc: 0.3283, val_loss: 0.5905, val_acc: 0.3178\n",
      "Epoch [9], train_loss: 0.6055, train_acc: 0.3364, val_loss: 0.5853, val_acc: 0.3239\n",
      "Epoch [10], train_loss: 0.5975, train_acc: 0.3443, val_loss: 0.5807, val_acc: 0.3435\n",
      "Epoch [11], train_loss: 0.5937, train_acc: 0.3598, val_loss: 0.5757, val_acc: 0.3678\n",
      "Epoch [12], train_loss: 0.5883, train_acc: 0.3682, val_loss: 0.5700, val_acc: 0.3909\n",
      "Epoch [13], train_loss: 0.5853, train_acc: 0.3734, val_loss: 0.5666, val_acc: 0.3958\n",
      "Epoch [14], train_loss: 0.5791, train_acc: 0.3747, val_loss: 0.5599, val_acc: 0.4298\n",
      "Epoch [15], train_loss: 0.5745, train_acc: 0.3886, val_loss: 0.5568, val_acc: 0.4470\n",
      "Epoch [16], train_loss: 0.5682, train_acc: 0.4093, val_loss: 0.5492, val_acc: 0.4581\n",
      "Epoch [17], train_loss: 0.5642, train_acc: 0.4161, val_loss: 0.5494, val_acc: 0.4674\n",
      "Epoch [18], train_loss: 0.5589, train_acc: 0.4282, val_loss: 0.5432, val_acc: 0.4850\n",
      "Epoch [19], train_loss: 0.5536, train_acc: 0.4446, val_loss: 0.5373, val_acc: 0.4957\n",
      "Epoch [20], train_loss: 0.5537, train_acc: 0.4477, val_loss: 0.5336, val_acc: 0.5219\n",
      "Epoch [21], train_loss: 0.5455, train_acc: 0.4616, val_loss: 0.5284, val_acc: 0.5258\n",
      "Epoch [22], train_loss: 0.5434, train_acc: 0.4759, val_loss: 0.5283, val_acc: 0.5294\n",
      "Epoch [23], train_loss: 0.5375, train_acc: 0.4838, val_loss: 0.5243, val_acc: 0.5218\n",
      "Epoch [24], train_loss: 0.5362, train_acc: 0.4865, val_loss: 0.5213, val_acc: 0.5514\n",
      "Epoch [25], train_loss: 0.5320, train_acc: 0.4992, val_loss: 0.5144, val_acc: 0.5584\n",
      "Epoch [26], train_loss: 0.5250, train_acc: 0.5154, val_loss: 0.5154, val_acc: 0.5515\n",
      "Epoch [27], train_loss: 0.5237, train_acc: 0.5213, val_loss: 0.5150, val_acc: 0.5407\n",
      "Epoch [28], train_loss: 0.5186, train_acc: 0.5300, val_loss: 0.5088, val_acc: 0.5532\n",
      "Epoch [29], train_loss: 0.5152, train_acc: 0.5377, val_loss: 0.5096, val_acc: 0.5512\n",
      "Epoch [30], train_loss: 0.5088, train_acc: 0.5578, val_loss: 0.5070, val_acc: 0.5609\n",
      "Epoch [31], train_loss: 0.5088, train_acc: 0.5526, val_loss: 0.4994, val_acc: 0.5845\n",
      "Epoch [32], train_loss: 0.5070, train_acc: 0.5677, val_loss: 0.5006, val_acc: 0.5775\n",
      "Epoch [33], train_loss: 0.5052, train_acc: 0.5739, val_loss: 0.4975, val_acc: 0.5856\n",
      "Epoch [34], train_loss: 0.4973, train_acc: 0.5773, val_loss: 0.4935, val_acc: 0.5910\n",
      "Epoch [35], train_loss: 0.4967, train_acc: 0.5843, val_loss: 0.4949, val_acc: 0.5795\n",
      "Epoch [36], train_loss: 0.4949, train_acc: 0.5859, val_loss: 0.4903, val_acc: 0.6037\n",
      "Epoch [37], train_loss: 0.4893, train_acc: 0.6046, val_loss: 0.4895, val_acc: 0.6002\n",
      "Epoch [38], train_loss: 0.4897, train_acc: 0.6008, val_loss: 0.4901, val_acc: 0.6236\n",
      "Epoch [39], train_loss: 0.4865, train_acc: 0.6018, val_loss: 0.4846, val_acc: 0.6264\n",
      "Epoch [40], train_loss: 0.4848, train_acc: 0.6088, val_loss: 0.4825, val_acc: 0.6143\n",
      "Epoch [41], train_loss: 0.4842, train_acc: 0.6187, val_loss: 0.4801, val_acc: 0.6291\n",
      "Epoch [42], train_loss: 0.4817, train_acc: 0.6162, val_loss: 0.4771, val_acc: 0.6494\n",
      "Epoch [43], train_loss: 0.4780, train_acc: 0.6198, val_loss: 0.4790, val_acc: 0.6490\n",
      "Epoch [44], train_loss: 0.4748, train_acc: 0.6258, val_loss: 0.4753, val_acc: 0.6490\n",
      "Epoch [45], train_loss: 0.4696, train_acc: 0.6478, val_loss: 0.4688, val_acc: 0.6640\n",
      "Epoch [46], train_loss: 0.4720, train_acc: 0.6330, val_loss: 0.4699, val_acc: 0.6570\n",
      "Epoch [47], train_loss: 0.4697, train_acc: 0.6581, val_loss: 0.4693, val_acc: 0.6581\n",
      "Epoch [48], train_loss: 0.4648, train_acc: 0.6619, val_loss: 0.4688, val_acc: 0.6514\n",
      "Epoch [49], train_loss: 0.4660, train_acc: 0.6539, val_loss: 0.4694, val_acc: 0.6585\n",
      "Epoch [50], train_loss: 0.4667, train_acc: 0.6610, val_loss: 0.4647, val_acc: 0.6630\n",
      "Epoch [51], train_loss: 0.4649, train_acc: 0.6565, val_loss: 0.4644, val_acc: 0.6788\n",
      "Epoch [52], train_loss: 0.4593, train_acc: 0.6601, val_loss: 0.4643, val_acc: 0.6685\n",
      "Epoch [53], train_loss: 0.4607, train_acc: 0.6575, val_loss: 0.4614, val_acc: 0.6770\n",
      "Epoch [54], train_loss: 0.4576, train_acc: 0.6688, val_loss: 0.4614, val_acc: 0.6898\n",
      "Epoch [55], train_loss: 0.4587, train_acc: 0.6582, val_loss: 0.4638, val_acc: 0.6587\n",
      "Epoch [56], train_loss: 0.4562, train_acc: 0.6708, val_loss: 0.4600, val_acc: 0.6641\n",
      "Epoch [57], train_loss: 0.4520, train_acc: 0.6694, val_loss: 0.4582, val_acc: 0.6709\n",
      "Epoch [58], train_loss: 0.4538, train_acc: 0.6624, val_loss: 0.4593, val_acc: 0.6625\n",
      "Epoch [59], train_loss: 0.4528, train_acc: 0.6781, val_loss: 0.4605, val_acc: 0.6736\n",
      "Epoch [60], train_loss: 0.4489, train_acc: 0.6744, val_loss: 0.4575, val_acc: 0.6874\n",
      "Epoch [61], train_loss: 0.4487, train_acc: 0.6846, val_loss: 0.4556, val_acc: 0.6861\n",
      "Epoch [62], train_loss: 0.4455, train_acc: 0.6944, val_loss: 0.4551, val_acc: 0.6859\n",
      "Epoch [63], train_loss: 0.4471, train_acc: 0.6734, val_loss: 0.4566, val_acc: 0.6798\n",
      "Epoch [64], train_loss: 0.4409, train_acc: 0.7055, val_loss: 0.4546, val_acc: 0.6762\n",
      "Epoch [65], train_loss: 0.4445, train_acc: 0.6804, val_loss: 0.4515, val_acc: 0.6884\n",
      "Epoch [66], train_loss: 0.4404, train_acc: 0.6972, val_loss: 0.4547, val_acc: 0.6873\n",
      "Epoch [67], train_loss: 0.4385, train_acc: 0.7124, val_loss: 0.4532, val_acc: 0.6695\n",
      "Epoch [68], train_loss: 0.4398, train_acc: 0.6892, val_loss: 0.4523, val_acc: 0.6692\n",
      "Epoch [69], train_loss: 0.4383, train_acc: 0.7084, val_loss: 0.4505, val_acc: 0.6943\n",
      "Epoch [70], train_loss: 0.4374, train_acc: 0.6977, val_loss: 0.4519, val_acc: 0.6918\n",
      "Epoch [71], train_loss: 0.4335, train_acc: 0.7016, val_loss: 0.4514, val_acc: 0.6799\n",
      "Epoch [72], train_loss: 0.4374, train_acc: 0.6960, val_loss: 0.4523, val_acc: 0.6832\n",
      "Epoch [73], train_loss: 0.4343, train_acc: 0.7119, val_loss: 0.4503, val_acc: 0.6881\n",
      "Epoch [74], train_loss: 0.4319, train_acc: 0.7069, val_loss: 0.4490, val_acc: 0.6999\n",
      "Epoch [75], train_loss: 0.4325, train_acc: 0.7105, val_loss: 0.4465, val_acc: 0.6954\n",
      "Epoch [76], train_loss: 0.4311, train_acc: 0.7093, val_loss: 0.4440, val_acc: 0.7164\n",
      "Epoch [77], train_loss: 0.4295, train_acc: 0.7027, val_loss: 0.4439, val_acc: 0.7034\n",
      "Epoch [78], train_loss: 0.4253, train_acc: 0.7207, val_loss: 0.4439, val_acc: 0.7161\n",
      "Epoch [79], train_loss: 0.4293, train_acc: 0.7074, val_loss: 0.4467, val_acc: 0.6897\n",
      "Epoch [80], train_loss: 0.4247, train_acc: 0.7193, val_loss: 0.4458, val_acc: 0.6853\n",
      "Epoch [81], train_loss: 0.4245, train_acc: 0.7179, val_loss: 0.4421, val_acc: 0.7120\n",
      "Epoch [82], train_loss: 0.4195, train_acc: 0.7390, val_loss: 0.4391, val_acc: 0.7155\n",
      "Epoch [83], train_loss: 0.4204, train_acc: 0.7308, val_loss: 0.4410, val_acc: 0.7064\n",
      "Epoch [84], train_loss: 0.4166, train_acc: 0.7271, val_loss: 0.4430, val_acc: 0.6967\n",
      "Epoch [85], train_loss: 0.4166, train_acc: 0.7278, val_loss: 0.4410, val_acc: 0.7019\n",
      "Epoch [86], train_loss: 0.4182, train_acc: 0.7155, val_loss: 0.4399, val_acc: 0.6993\n",
      "Epoch [87], train_loss: 0.4180, train_acc: 0.7236, val_loss: 0.4380, val_acc: 0.7244\n",
      "Epoch [88], train_loss: 0.4110, train_acc: 0.7355, val_loss: 0.4388, val_acc: 0.7045\n",
      "Epoch [89], train_loss: 0.4128, train_acc: 0.7381, val_loss: 0.4372, val_acc: 0.7144\n",
      "Epoch [90], train_loss: 0.4103, train_acc: 0.7292, val_loss: 0.4423, val_acc: 0.7009\n",
      "Epoch [91], train_loss: 0.4102, train_acc: 0.7346, val_loss: 0.4399, val_acc: 0.7055\n",
      "Epoch [92], train_loss: 0.4088, train_acc: 0.7374, val_loss: 0.4392, val_acc: 0.7053\n",
      "Epoch [93], train_loss: 0.4075, train_acc: 0.7430, val_loss: 0.4398, val_acc: 0.7057\n",
      "Epoch [94], train_loss: 0.4087, train_acc: 0.7422, val_loss: 0.4363, val_acc: 0.7089\n",
      "Epoch [95], train_loss: 0.4049, train_acc: 0.7396, val_loss: 0.4327, val_acc: 0.7370\n",
      "Epoch [96], train_loss: 0.4058, train_acc: 0.7439, val_loss: 0.4386, val_acc: 0.7108\n"
     ]
    },
    {
     "name": "stdout",
     "output_type": "stream",
     "text": [
      "Epoch [97], train_loss: 0.4034, train_acc: 0.7381, val_loss: 0.4353, val_acc: 0.7086\n",
      "Epoch [98], train_loss: 0.4041, train_acc: 0.7409, val_loss: 0.4340, val_acc: 0.7108\n",
      "Epoch [99], train_loss: 0.4038, train_acc: 0.7428, val_loss: 0.4352, val_acc: 0.7138\n"
     ]
    }
   ],
   "source": [
    "history = fit(num_epochs, lr, model, train_dl, test_dl, opt_func)"
   ]
  },
  {
   "cell_type": "code",
   "execution_count": 93,
   "metadata": {},
   "outputs": [
    {
     "data": {
      "image/png": "[encoded data removed]",
      "text/plain": [
       "<Figure size 864x576 with 1 Axes>"
      ]
     },
     "metadata": {
      "needs_background": "light"
     },
     "output_type": "display_data"
    }
   ],
   "source": [
    "plot_accuracies(history);"
   ]
  },
  {
   "cell_type": "code",
   "execution_count": 94,
   "metadata": {},
   "outputs": [
    {
     "data": {
      "image/png": "[encoded data removed]",
      "text/plain": [
       "<Figure size 864x576 with 1 Axes>"
      ]
     },
     "metadata": {
      "needs_background": "light"
     },
     "output_type": "display_data"
    }
   ],
   "source": [
    "plot_loss(history);"
   ]
  }
 ],
 "metadata": {
  "accelerator": "GPU",
  "colab": {
   "collapsed_sections": [],
   "name": "CNN-multi_label.ipynb",
   "provenance": [],
   "toc_visible": true
  },
  "kernelspec": {
   "display_name": "Python 3",
   "language": "python",
   "name": "python3"
  },
  "language_info": {
   "codemirror_mode": {
    "name": "ipython",
    "version": 3
   },
   "file_extension": ".py",
   "mimetype": "text/x-python",
   "name": "python",
   "nbconvert_exporter": "python",
   "pygments_lexer": "ipython3",
   "version": "3.8.8"
  }
 },
 "nbformat": 4,
 "nbformat_minor": 1
}
