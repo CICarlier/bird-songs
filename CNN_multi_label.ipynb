{
  "nbformat": 4,
  "nbformat_minor": 0,
  "metadata": {
    "accelerator": "GPU",
    "colab": {
      "name": "CNN-multi_label.ipynb",
      "provenance": [],
      "collapsed_sections": [],
      "toc_visible": true
    },
    "kernelspec": {
      "display_name": "Python 3",
      "language": "python",
      "name": "python3"
    },
    "language_info": {
      "codemirror_mode": {
        "name": "ipython",
        "version": 3
      },
      "file_extension": ".py",
      "mimetype": "text/x-python",
      "name": "python",
      "nbconvert_exporter": "python",
      "pygments_lexer": "ipython3",
      "version": "3.8.8"
    }
  },
  "cells": [
    {
      "cell_type": "markdown",
      "metadata": {
        "id": "cxIFJRqdcgKp"
      },
      "source": [
        "# CNN Classification of Mel Spectrograms\n",
        "\n",
        "Tried and follow\n",
        "https://www.analyticsvidhya.com/blog/2019/10/building-image-classification-models-cnn-pytorch/"
      ]
    },
    {
      "cell_type": "code",
      "metadata": {
        "colab": {
          "base_uri": "https://localhost:8080/"
        },
        "id": "j82LYP7cchTT",
        "outputId": "4fe7b719-ea35-4e74-cfa4-c485679a7077"
      },
      "source": [
        "# For Colab only\n",
        "from google.colab import drive\n",
        "drive.mount('content/') # /content/drive/MyDrive/bird-songs"
      ],
      "execution_count": 1,
      "outputs": [
        {
          "output_type": "stream",
          "text": [
            "Mounted at content/\n"
          ],
          "name": "stdout"
        }
      ]
    },
    {
      "cell_type": "markdown",
      "metadata": {
        "id": "M5mJj0D7cgKr"
      },
      "source": [
        "## Training a model"
      ]
    },
    {
      "cell_type": "code",
      "metadata": {
        "id": "-q2q6CHhcgKr"
      },
      "source": [
        "# importing the libraries\n",
        "import pandas as pd\n",
        "import numpy as np\n",
        "from tqdm import tqdm\n",
        "\n",
        "# for reading and displaying images\n",
        "from skimage.io import imread\n",
        "import os.path\n",
        "import matplotlib.pyplot as plt\n",
        "%matplotlib inline\n",
        "\n",
        "# for creating validation set\n",
        "from sklearn.model_selection import train_test_split\n",
        "\n",
        "# for evaluating the model\n",
        "from sklearn.metrics import precision_score, recall_score, f1_score\n",
        "\n",
        "# PyTorch libraries and modules\n",
        "import torch\n",
        "import torch.nn as nn\n",
        "import torch.nn.functional as F\n",
        "from torch.autograd import Variable\n",
        "from torch.optim import Adam\n",
        "from torch.utils.data.dataloader import DataLoader, Dataset\n"
      ],
      "execution_count": 353,
      "outputs": []
    },
    {
      "cell_type": "code",
      "metadata": {
        "colab": {
          "base_uri": "https://localhost:8080/",
          "height": 306
        },
        "id": "lwnNAY8_cgKs",
        "outputId": "29699acb-3b3a-4723-b0a1-b50b29a11f5e"
      },
      "source": [
        "# Check whether google drive mounted\n",
        "path = '/content/content/MyDrive/bird-songs'\n",
        "if os.path.isdir(path) == True:\n",
        "    run_on_colab = True\n",
        "else:\n",
        "    run_on_colab = False\n",
        "\n",
        "\n",
        "\n",
        "if run_on_colab ==True:\n",
        "    features = pd.read_csv('/content/content/MyDrive/bird-songs/features.csv', header=None, encoding='latin')\n",
        "else:\n",
        "    features = pd.read_csv('features.csv', encoding='latin')\n",
        "features.columns= ['id', 'gen', 'sp', 'ssp', 'en', 'cnt', 'loc','type', 'q', 'length', 'bird-seen', 'link']\n",
        "features.head()"
      ],
      "execution_count": 3,
      "outputs": [
        {
          "output_type": "execute_result",
          "data": {
            "text/html": [
              "<div>\n",
              "<style scoped>\n",
              "    .dataframe tbody tr th:only-of-type {\n",
              "        vertical-align: middle;\n",
              "    }\n",
              "\n",
              "    .dataframe tbody tr th {\n",
              "        vertical-align: top;\n",
              "    }\n",
              "\n",
              "    .dataframe thead th {\n",
              "        text-align: right;\n",
              "    }\n",
              "</style>\n",
              "<table border=\"1\" class=\"dataframe\">\n",
              "  <thead>\n",
              "    <tr style=\"text-align: right;\">\n",
              "      <th></th>\n",
              "      <th>id</th>\n",
              "      <th>gen</th>\n",
              "      <th>sp</th>\n",
              "      <th>ssp</th>\n",
              "      <th>en</th>\n",
              "      <th>cnt</th>\n",
              "      <th>loc</th>\n",
              "      <th>type</th>\n",
              "      <th>q</th>\n",
              "      <th>length</th>\n",
              "      <th>bird-seen</th>\n",
              "      <th>link</th>\n",
              "    </tr>\n",
              "  </thead>\n",
              "  <tbody>\n",
              "    <tr>\n",
              "      <th>0</th>\n",
              "      <td>527379</td>\n",
              "      <td>Dendrocygna</td>\n",
              "      <td>autumnalis</td>\n",
              "      <td>NaN</td>\n",
              "      <td>Black-bellied Whistling Duck</td>\n",
              "      <td>United States</td>\n",
              "      <td>Circle B Bar Reserve, Lakeland, Polk County, F...</td>\n",
              "      <td>call</td>\n",
              "      <td>no score</td>\n",
              "      <td>0:35</td>\n",
              "      <td>yes</td>\n",
              "      <td>//www.xeno-canto.org/527379/download</td>\n",
              "    </tr>\n",
              "    <tr>\n",
              "      <th>1</th>\n",
              "      <td>480387</td>\n",
              "      <td>Dendrocygna</td>\n",
              "      <td>autumnalis</td>\n",
              "      <td>NaN</td>\n",
              "      <td>Black-bellied Whistling Duck</td>\n",
              "      <td>United States</td>\n",
              "      <td>Savannah, Chatham County, Georgia</td>\n",
              "      <td>call</td>\n",
              "      <td>A</td>\n",
              "      <td>0:35</td>\n",
              "      <td>yes</td>\n",
              "      <td>//www.xeno-canto.org/480387/download</td>\n",
              "    </tr>\n",
              "    <tr>\n",
              "      <th>2</th>\n",
              "      <td>316537</td>\n",
              "      <td>Dendrocygna</td>\n",
              "      <td>autumnalis</td>\n",
              "      <td>NaN</td>\n",
              "      <td>Black-bellied Whistling Duck</td>\n",
              "      <td>United States</td>\n",
              "      <td>Chalkley Road, Cameron Parish, Louisiana</td>\n",
              "      <td>call</td>\n",
              "      <td>A</td>\n",
              "      <td>0:07</td>\n",
              "      <td>yes</td>\n",
              "      <td>//www.xeno-canto.org/316537/download</td>\n",
              "    </tr>\n",
              "    <tr>\n",
              "      <th>3</th>\n",
              "      <td>192058</td>\n",
              "      <td>Dendrocygna</td>\n",
              "      <td>autumnalis</td>\n",
              "      <td>NaN</td>\n",
              "      <td>Black-bellied Whistling Duck</td>\n",
              "      <td>United States</td>\n",
              "      <td>Orlando Wetlands, Christmas, Orange County, Fl...</td>\n",
              "      <td>flight call</td>\n",
              "      <td>A</td>\n",
              "      <td>0:19</td>\n",
              "      <td>yes</td>\n",
              "      <td>//www.xeno-canto.org/192058/download</td>\n",
              "    </tr>\n",
              "    <tr>\n",
              "      <th>4</th>\n",
              "      <td>172910</td>\n",
              "      <td>Dendrocygna</td>\n",
              "      <td>autumnalis</td>\n",
              "      <td>NaN</td>\n",
              "      <td>Black-bellied Whistling Duck</td>\n",
              "      <td>United States</td>\n",
              "      <td>Orlando Wetlands, Christmas, Orange County, Fl...</td>\n",
              "      <td>call</td>\n",
              "      <td>A</td>\n",
              "      <td>1:18</td>\n",
              "      <td>yes</td>\n",
              "      <td>//www.xeno-canto.org/172910/download</td>\n",
              "    </tr>\n",
              "  </tbody>\n",
              "</table>\n",
              "</div>"
            ],
            "text/plain": [
              "       id          gen  ... bird-seen                                  link\n",
              "0  527379  Dendrocygna  ...       yes  //www.xeno-canto.org/527379/download\n",
              "1  480387  Dendrocygna  ...       yes  //www.xeno-canto.org/480387/download\n",
              "2  316537  Dendrocygna  ...       yes  //www.xeno-canto.org/316537/download\n",
              "3  192058  Dendrocygna  ...       yes  //www.xeno-canto.org/192058/download\n",
              "4  172910  Dendrocygna  ...       yes  //www.xeno-canto.org/172910/download\n",
              "\n",
              "[5 rows x 12 columns]"
            ]
          },
          "metadata": {
            "tags": []
          },
          "execution_count": 3
        }
      ]
    },
    {
      "cell_type": "code",
      "metadata": {
        "id": "giCNt5XlcgKs"
      },
      "source": [
        "# These are the top species we selected for our analysis\n",
        "selected_species = ['Red-winged Blackbird', \n",
        "                    'Common Yellowthroat', \n",
        "                    'Northern Cardinal', \n",
        "                    'Carolina Wren', \n",
        "                    'Red Crossbill', \n",
        "                    'Spotted Towhee']\n",
        "# We only need the id and the labels for our CNN.\n",
        "dataset = features[features.en.isin(selected_species)][['id', 'en']]\n",
        "# Now we need to change our labels into integers as torch does not support string format for labels.\n",
        "labels = {\"Red-winged Blackbird\": np.array([1, 0, 0, 0, 0, 0]),\n",
        "          'Common Yellowthroat': np.array([0, 1, 0, 0, 0, 0]),\n",
        "          'Northern Cardinal': np.array([0, 0, 1, 0, 0, 0]),\n",
        "          'Carolina Wren': np.array([0, 0, 0, 1, 0, 0]),\n",
        "          'Red Crossbill': np.array([0, 0, 0, 0, 1, 0]),\n",
        "          'Spotted Towhee': np.array([0, 0, 0, 0, 0, 1])}\n",
        "dataset['label'] = dataset.apply(lambda row: labels[row.en], axis=1)\n",
        "dataset.drop('en', axis=1, inplace=True)"
      ],
      "execution_count": 164,
      "outputs": []
    },
    {
      "cell_type": "code",
      "metadata": {
        "id": "2-4TZV1iyX8k"
      },
      "source": [
        "def load_images(dataset):\n",
        "    img_df = []\n",
        "    for img_name in tqdm(dataset['id']):\n",
        "        # defining the image path\n",
        "        if run_on_colab == True:\n",
        "            image_path = '/content/content/MyDrive/bird-songs/images/mel_spectrograms_8sec/' + str(img_name) + '.jpg' \n",
        "        else:\n",
        "            image_path = 'images/mel_spectrograms_8sec/' + str(img_name) + '.jpg'\n",
        "        # reading the image\n",
        "        img = imread(image_path, as_gray=True)\n",
        "         # normalizing the pixel values\n",
        "        img = 2 * img - 1\n",
        "        # converting the type of pixel to float 32\n",
        "        img = img.astype('float32')\n",
        "        # appending the image into the list\n",
        "        img_df.append(img)\n",
        "    \n",
        "    # converting the list to numpy array\n",
        "    return np.array(img_df)"
      ],
      "execution_count": 166,
      "outputs": []
    },
    {
      "cell_type": "code",
      "metadata": {
        "colab": {
          "base_uri": "https://localhost:8080/"
        },
        "id": "4QwsogdqyX8l",
        "outputId": "e863131a-b54e-494d-be63-2daf29ac5090"
      },
      "source": [
        "X, y = load_images(dataset), dataset['label'].to_numpy()\n",
        "X.shape, y.shape"
      ],
      "execution_count": 507,
      "outputs": [
        {
          "output_type": "stream",
          "text": [
            "100%|██████████| 2516/2516 [00:07<00:00, 326.63it/s]\n"
          ],
          "name": "stderr"
        },
        {
          "output_type": "execute_result",
          "data": {
            "text/plain": [
              "((2516, 128, 345), (2516,))"
            ]
          },
          "metadata": {
            "tags": []
          },
          "execution_count": 507
        }
      ]
    },
    {
      "cell_type": "code",
      "metadata": {
        "id": "xEUUmhZPOIur",
        "colab": {
          "base_uri": "https://localhost:8080/"
        },
        "outputId": "ca02df2b-8c3e-4195-cf90-1d91bb8c10da"
      },
      "source": [
        "X_train, X_test, y_train, y_test = train_test_split(X, y, test_size=0.20, random_state=42)\n",
        "\n",
        "print(X_train.shape)\n",
        "print(X_test.shape)\n"
      ],
      "execution_count": 528,
      "outputs": [
        {
          "output_type": "stream",
          "text": [
            "(2012, 128, 345)\n",
            "(504, 128, 345)\n"
          ],
          "name": "stdout"
        }
      ]
    },
    {
      "cell_type": "markdown",
      "metadata": {
        "id": "PgYLkum8mtkc"
      },
      "source": [
        "## CNN\n",
        "\n",
        "If you have compatible GPU technology on your computer, you can run the CNN on it instead of CPU. \n",
        "If you are using anaconda, either create a new environment or uninstall pytorch in your current environment (if already installed) then install PyTorch with cuda:\n",
        "\n",
        "`conda install pytorch torchvision cudatoolkit=10.2 -c pytorch`\n",
        "\n",
        "Running this CNN on CPU takes about 17 minutes on a Dell XPS 15 9500 with 1TB SSD and 32GB RAM (2x16GB) with Windows 10. Switching to using the NVIDIA GeForce GTX 1650 it takes less than 5minutes. "
      ]
    },
    {
      "cell_type": "code",
      "metadata": {
        "id": "F6q4bNfqMd0o"
      },
      "source": [
        "class BirdSongDataset(Dataset):\n",
        "    def __init__(self):\n",
        "       pass "
      ],
      "execution_count": 529,
      "outputs": []
    },
    {
      "cell_type": "code",
      "metadata": {
        "id": "zqtJ_AXNcgKv"
      },
      "source": [
        "train_data = []\n",
        "# Note: Conv2d layers expect input with the shape (n_samples, channels, height, width)\n",
        "for i in range(len(X_train)):\n",
        "    train_data.append([np.expand_dims(X_train[i], axis=0), y_train[i]]) \n",
        "test_data = []\n",
        "for i in range(len(X_test)):\n",
        "    test_data.append([np.expand_dims(X_test[i], axis=0), y_test[i]])"
      ],
      "execution_count": 530,
      "outputs": []
    },
    {
      "cell_type": "code",
      "metadata": {
        "id": "IqJguy_gcgKv"
      },
      "source": [
        "batch_size=50\n",
        "train_dl = DataLoader(train_data, batch_size=batch_size, shuffle=True, drop_last=True)\n",
        "test_dl = DataLoader(test_data, batch_size=batch_size, shuffle=True, drop_last=True)\n",
        "# i = 0\n",
        "# for x, y in test_dl:\n",
        "#     print (x.size())\n",
        "#     i+=1\n",
        "# print(i)"
      ],
      "execution_count": 531,
      "outputs": []
    },
    {
      "cell_type": "code",
      "metadata": {
        "id": "SchJyIMpzlvy"
      },
      "source": [
        "class ImageClassifierBase(nn.Module):\n",
        "    def training_step(self, batch):\n",
        "        images, labels = batch \n",
        "        out = self(images)                  # Generate predictions\n",
        "        # print('out:', out)\n",
        "        # print('labels:', labels)\n",
        "        # print('Start loss calc')\n",
        "        # criterion=nn.BCELoss()\n",
        "        # loss = criterion(out, labels.type(torch.float))  # Calculate loss\n",
        "        loss = F.binary_cross_entropy(out, labels.type(torch.float))\n",
        "        acc = accuracy(out, labels)         # Calculate accuracy\n",
        "        return loss, acc\n",
        "    \n",
        "    def validation_step(self, batch):\n",
        "        images, labels = batch \n",
        "        out = self(images)                    # Generate predictions\n",
        "        # criterion=nn.BCELoss()\n",
        "        # loss = criterion(out, labels.type(torch.float))   # Calculate loss\n",
        "        loss = F.binary_cross_entropy(out, labels.type(torch.float))\n",
        "        acc = accuracy(out, labels)           # Calculate accuracy\n",
        "        return {'val_loss': loss.detach(), 'val_acc': acc}\n",
        "        \n",
        "    def validation_epoch_end(self, outputs):\n",
        "        batch_losses = [x['val_loss'] for x in outputs]\n",
        "        epoch_loss = torch.stack(batch_losses).mean()   # Combine losses\n",
        "        batch_accs = [x['val_acc'] for x in outputs]\n",
        "        epoch_acc = torch.stack(batch_accs).mean()      # Combine accuracies\n",
        "        return {'val_loss': epoch_loss.item(), 'val_acc': epoch_acc.item()}\n",
        "    \n",
        "    def epoch_end(self, epoch, result):\n",
        "        print(\"Epoch [{}], train_loss: {:.4f}, train_acc: {:.4f}, val_loss: {:.4f}, val_acc: {:.4f}\".format(\n",
        "            epoch, result['train_loss'], result['train_acc'], result['val_loss'], result['val_acc']))\n",
        "        \n",
        "def accuracy(outputs, labels, threshold=0.5):\n",
        "    \n",
        "    preds = np.array(outputs.cpu().detach().numpy() >= threshold, dtype=float)\n",
        "    score = precision_score(labels.cpu().detach().numpy(), preds, average='micro')\n",
        "\n",
        "    return torch.tensor(score)\n"
      ],
      "execution_count": 532,
      "outputs": []
    },
    {
      "cell_type": "code",
      "metadata": {
        "id": "afJOePivaAqZ"
      },
      "source": [
        "# Scratch\n",
        "# outputs = torch.tensor([0.2, 0.5, 0.6, 0.1, 0.4, 0.7])\n",
        "# outputs.numpy()\n",
        "\n",
        "# outputs = torch.tensor([0.2, 0.5, 0.6, 0.1, 0.4, 0.7])\n",
        "# preds = outputs >= 0.5\n",
        "# labels = torch.tensor([0,0,1,0,0,0])\n",
        "# torch.sum(preds == labels)\n",
        "# np.array(preds >= 0.5, dtype=float)"
      ],
      "execution_count": 533,
      "outputs": []
    },
    {
      "cell_type": "code",
      "metadata": {
        "id": "1SQYTVAvcgKw"
      },
      "source": [
        "class BirdSongModel(ImageClassifierBase):\n",
        "    def __init__(self):\n",
        "        super().__init__()\n",
        "        \n",
        "        conv_layers = []\n",
        "\n",
        "        self.conv1 = nn.Conv2d(1, 32, kernel_size=(5, 5), stride=(2, 2), padding=(2, 2))\n",
        "        self.relu1 = nn.ReLU()\n",
        "        self.bn1 = nn.GroupNorm(2, 32)\n",
        "        nn.init.kaiming_normal_(self.conv1.weight, a=0.1)\n",
        "        self.pool1 = nn.MaxPool2d(2)\n",
        "        conv_layers += [self.conv1, self.relu1, self.bn1, self.pool1]\n",
        "\n",
        "        self.conv2 = nn.Conv2d(32, 64, kernel_size=(5, 5), stride=(2, 2), padding=(2, 2))\n",
        "        self.relu2 = nn.ReLU()\n",
        "        self.bn2 = nn.GroupNorm(4, 64)\n",
        "        nn.init.kaiming_normal_(self.conv2.weight, a=0.1)\n",
        "        self.pool2 = nn.MaxPool2d(2)\n",
        "        conv_layers += [self.conv2, self.relu2, self.bn2, self.pool2]\n",
        "        \n",
        "        self.conv3 = nn.Conv2d(64, 128, kernel_size=(3, 3), stride=(1, 1), padding=(1, 1))\n",
        "        self.relu3 = nn.ReLU()\n",
        "        nn.init.kaiming_normal_(self.conv3.weight, a=0.1)\n",
        "        self.pool3 = nn.MaxPool2d(2)\n",
        "        conv_layers += [self.conv3, self.relu3, self.pool3]\n",
        "\n",
        "        self.conv4 = nn.Conv2d(128, 256, kernel_size=(3, 3), stride=(1, 1), padding=(1, 1))\n",
        "        self.relu4 = nn.ReLU()\n",
        "        nn.init.kaiming_normal_(self.conv4.weight, a=0.1)\n",
        "        self.pool4 = nn.MaxPool2d(2)\n",
        "        conv_layers += [self.conv4, self.relu4, self.pool4]\n",
        "        \n",
        "        self.flatten = nn.Flatten()\n",
        "        self.linear1 = nn.Linear(256*2*5, 50)\n",
        "        self.relufc1 = nn.ReLU()\n",
        "        self.dropout = nn.Dropout(0.5)\n",
        "        self.linear2 = nn.Linear(50, 10)\n",
        "        self.relufc2 = nn.ReLU()\n",
        "        self.linear3 = nn.Linear(10, 6)\n",
        "        self.sigmoid = nn.Sigmoid()\n",
        "        conv_layers += [self.flatten, self.linear1, self.relufc1, self.dropout,\n",
        "                        self.linear2, self.relufc2, self.linear3, self.sigmoid]\n",
        "        \n",
        "        self.network = nn.Sequential(*conv_layers)\n",
        "        \n",
        "\n",
        "    def forward(self, x):\n",
        "\n",
        "        return self.network(x)\n",
        "        \n"
      ],
      "execution_count": 534,
      "outputs": []
    },
    {
      "cell_type": "code",
      "metadata": {
        "id": "P8Z2E9Jvxi70"
      },
      "source": [
        "# Helper functions to have option of running with GPU or CPU\n",
        "def get_default_device():\n",
        "    \"\"\"Create device: Pick GPU if available, else CPU\"\"\"\n",
        "    if torch.cuda.is_available():\n",
        "        return torch.device('cuda')\n",
        "    else:\n",
        "        return torch.device('cpu')\n",
        "    \n",
        "def to_device(data, device):\n",
        "    \"\"\"Move tensor(s) of data to chosen device\"\"\"\n",
        "    # If list of tensors\n",
        "    if isinstance(data, (list,tuple)):\n",
        "        return [to_device(x, device) for x in data]\n",
        "    # else if single tensor\n",
        "    return data.to(device, non_blocking=True)\n",
        "\n",
        "class DeviceDataLoader():\n",
        "    \"\"\"Wrap a dataloader to yield data to device as\n",
        "    the batches are requested\"\"\"\n",
        "    def __init__(self, dl, device):\n",
        "        self.dl = dl\n",
        "        self.device = device\n",
        "        \n",
        "    def __iter__(self):\n",
        "        \"\"\"Yield a batch of data after moving it to device\"\"\"\n",
        "        for b in self.dl: \n",
        "            yield to_device(b, self.device)\n",
        "\n",
        "    def __len__(self):\n",
        "        \"\"\"Number of batches\"\"\"\n",
        "        return len(self.dl)"
      ],
      "execution_count": 535,
      "outputs": []
    },
    {
      "cell_type": "code",
      "metadata": {
        "id": "4eDMbjkAxkql"
      },
      "source": [
        "# Helper functions to fit and evaluate model\n",
        "@torch.no_grad()\n",
        "def evaluate(model, val_loader):\n",
        "    model.eval()\n",
        "    outputs = [model.validation_step(batch) for batch in val_loader]\n",
        "    return model.validation_epoch_end(outputs)\n",
        "\n",
        "def fit(epochs, lr, model, train_loader, val_loader, opt_func=torch.optim.SGD):\n",
        "    history = []\n",
        "    optimizer = opt_func(model.parameters(), lr)\n",
        "    for epoch in range(epochs):\n",
        "        # Training Phase \n",
        "        model.train()\n",
        "        train_losses = []\n",
        "        train_accuracies = []\n",
        "        for batch in train_loader:\n",
        "            # Zero gradients\n",
        "            optimizer.zero_grad()\n",
        "            # Calculate loss\n",
        "            loss, acc = model.training_step(batch)\n",
        "            train_losses.append(loss)\n",
        "            train_accuracies.append(acc)\n",
        "            # Back-propogate loss\n",
        "            loss.backward()\n",
        "            # Update weights\n",
        "            optimizer.step()\n",
        "            \n",
        "        # Validation phase\n",
        "        result = evaluate(model, val_loader)\n",
        "        result['train_loss'] = torch.stack(train_losses).mean().item()\n",
        "        result['train_acc'] = torch.stack(train_accuracies).mean().item()\n",
        "        model.epoch_end(epoch, result)\n",
        "        history.append(result)\n",
        "    return history"
      ],
      "execution_count": 536,
      "outputs": []
    },
    {
      "cell_type": "code",
      "metadata": {
        "id": "hOa27DYRxkw7"
      },
      "source": [
        "device = get_default_device()\n",
        "# print(device)\n",
        "model = to_device(BirdSongModel(), device)\n",
        "\n",
        "# Wrap training and test data loaders using `DeviceDataLoader` for automatically\n",
        "# transferring batches of data to the GPU (if available), and use `to_device` \n",
        "# to move our model to the GPU (if available).\n",
        "train_dl = DeviceDataLoader(train_dl, device)\n",
        "test_dl = DeviceDataLoader(test_dl, device)\n",
        "to_device(model, device);\n",
        "\n",
        "# evaluate(model, test_dl)\n",
        "\n",
        "num_epochs = 100\n",
        "opt_func = torch.optim.Adam\n",
        "lr = 0.00004"
      ],
      "execution_count": 537,
      "outputs": []
    },
    {
      "cell_type": "code",
      "metadata": {
        "id": "P6Lndeu5ZcBe"
      },
      "source": [
        "# for layer in model.children():\n",
        "#     if hasattr(layer, 'reset_parameters'):\n",
        "#         print(f'Reset trainable parameters of layer = {layer}')\n",
        "#         layer.reset_parameters()"
      ],
      "execution_count": 538,
      "outputs": []
    },
    {
      "cell_type": "code",
      "metadata": {
        "colab": {
          "base_uri": "https://localhost:8080/"
        },
        "id": "le5h03Fl0LFA",
        "outputId": "9402c00c-2e34-47bd-df08-21925ab77bcb"
      },
      "source": [
        "history = fit(num_epochs, lr, model, train_dl, test_dl, opt_func)"
      ],
      "execution_count": 539,
      "outputs": [
        {
          "output_type": "stream",
          "text": [
            "Epoch [0], train_loss: 0.6500, train_acc: 0.1644, val_loss: 0.5945, val_acc: 0.1642\n",
            "Epoch [1], train_loss: 0.6051, train_acc: 0.1836, val_loss: 0.5627, val_acc: 0.1712\n",
            "Epoch [2], train_loss: 0.5987, train_acc: 0.1776, val_loss: 0.5569, val_acc: 0.1892\n",
            "Epoch [3], train_loss: 0.5846, train_acc: 0.1853, val_loss: 0.5449, val_acc: 0.1825\n",
            "Epoch [4], train_loss: 0.5797, train_acc: 0.1848, val_loss: 0.5401, val_acc: 0.1868\n",
            "Epoch [5], train_loss: 0.5695, train_acc: 0.1908, val_loss: 0.5296, val_acc: 0.1829\n",
            "Epoch [6], train_loss: 0.5597, train_acc: 0.1925, val_loss: 0.5160, val_acc: 0.1975\n",
            "Epoch [7], train_loss: 0.5481, train_acc: 0.1993, val_loss: 0.5090, val_acc: 0.1936\n",
            "Epoch [8], train_loss: 0.5373, train_acc: 0.2110, val_loss: 0.5004, val_acc: 0.2088\n",
            "Epoch [9], train_loss: 0.5256, train_acc: 0.2206, val_loss: 0.4877, val_acc: 0.2091\n",
            "Epoch [10], train_loss: 0.5178, train_acc: 0.2342, val_loss: 0.4824, val_acc: 0.2753\n",
            "Epoch [11], train_loss: 0.5119, train_acc: 0.2461, val_loss: 0.4709, val_acc: 0.3485\n",
            "Epoch [12], train_loss: 0.5003, train_acc: 0.2448, val_loss: 0.4615, val_acc: 0.3836\n",
            "Epoch [13], train_loss: 0.4920, train_acc: 0.2645, val_loss: 0.4527, val_acc: 0.3089\n",
            "Epoch [14], train_loss: 0.4821, train_acc: 0.2829, val_loss: 0.4520, val_acc: 0.3240\n",
            "Epoch [15], train_loss: 0.4739, train_acc: 0.3094, val_loss: 0.4389, val_acc: 0.3041\n",
            "Epoch [16], train_loss: 0.4655, train_acc: 0.3047, val_loss: 0.4340, val_acc: 0.4560\n",
            "Epoch [17], train_loss: 0.4584, train_acc: 0.3257, val_loss: 0.4271, val_acc: 0.4044\n",
            "Epoch [18], train_loss: 0.4452, train_acc: 0.3455, val_loss: 0.4192, val_acc: 0.3884\n",
            "Epoch [19], train_loss: 0.4407, train_acc: 0.3643, val_loss: 0.4139, val_acc: 0.4907\n",
            "Epoch [20], train_loss: 0.4349, train_acc: 0.3686, val_loss: 0.4080, val_acc: 0.4606\n",
            "Epoch [21], train_loss: 0.4271, train_acc: 0.3832, val_loss: 0.4014, val_acc: 0.4643\n",
            "Epoch [22], train_loss: 0.4194, train_acc: 0.3976, val_loss: 0.4001, val_acc: 0.5765\n",
            "Epoch [23], train_loss: 0.4126, train_acc: 0.4157, val_loss: 0.3931, val_acc: 0.5477\n",
            "Epoch [24], train_loss: 0.4007, train_acc: 0.4484, val_loss: 0.3876, val_acc: 0.5054\n",
            "Epoch [25], train_loss: 0.3971, train_acc: 0.4514, val_loss: 0.3787, val_acc: 0.5160\n",
            "Epoch [26], train_loss: 0.3895, train_acc: 0.4762, val_loss: 0.3761, val_acc: 0.6387\n",
            "Epoch [27], train_loss: 0.3836, train_acc: 0.4953, val_loss: 0.3689, val_acc: 0.6084\n",
            "Epoch [28], train_loss: 0.3761, train_acc: 0.5100, val_loss: 0.3653, val_acc: 0.6198\n",
            "Epoch [29], train_loss: 0.3682, train_acc: 0.5351, val_loss: 0.3648, val_acc: 0.7035\n",
            "Epoch [30], train_loss: 0.3592, train_acc: 0.5772, val_loss: 0.3582, val_acc: 0.6067\n",
            "Epoch [31], train_loss: 0.3585, train_acc: 0.5545, val_loss: 0.3538, val_acc: 0.6488\n",
            "Epoch [32], train_loss: 0.3504, train_acc: 0.5966, val_loss: 0.3492, val_acc: 0.6852\n",
            "Epoch [33], train_loss: 0.3456, train_acc: 0.6141, val_loss: 0.3495, val_acc: 0.7815\n",
            "Epoch [34], train_loss: 0.3384, train_acc: 0.6200, val_loss: 0.3437, val_acc: 0.7708\n",
            "Epoch [35], train_loss: 0.3302, train_acc: 0.6413, val_loss: 0.3416, val_acc: 0.7923\n",
            "Epoch [36], train_loss: 0.3283, train_acc: 0.6556, val_loss: 0.3390, val_acc: 0.8429\n",
            "Epoch [37], train_loss: 0.3220, train_acc: 0.6652, val_loss: 0.3318, val_acc: 0.8394\n",
            "Epoch [38], train_loss: 0.3186, train_acc: 0.6643, val_loss: 0.3299, val_acc: 0.8417\n",
            "Epoch [39], train_loss: 0.3087, train_acc: 0.6736, val_loss: 0.3270, val_acc: 0.7461\n",
            "Epoch [40], train_loss: 0.3049, train_acc: 0.6815, val_loss: 0.3310, val_acc: 0.8272\n",
            "Epoch [41], train_loss: 0.2987, train_acc: 0.6992, val_loss: 0.3198, val_acc: 0.7490\n",
            "Epoch [42], train_loss: 0.2942, train_acc: 0.7175, val_loss: 0.3196, val_acc: 0.8253\n",
            "Epoch [43], train_loss: 0.2880, train_acc: 0.7263, val_loss: 0.3181, val_acc: 0.8587\n",
            "Epoch [44], train_loss: 0.2835, train_acc: 0.7259, val_loss: 0.3144, val_acc: 0.8555\n",
            "Epoch [45], train_loss: 0.2789, train_acc: 0.7317, val_loss: 0.3145, val_acc: 0.7946\n",
            "Epoch [46], train_loss: 0.2754, train_acc: 0.7413, val_loss: 0.3181, val_acc: 0.8553\n",
            "Epoch [47], train_loss: 0.2736, train_acc: 0.7352, val_loss: 0.3088, val_acc: 0.8419\n",
            "Epoch [48], train_loss: 0.2664, train_acc: 0.7631, val_loss: 0.3047, val_acc: 0.8580\n",
            "Epoch [49], train_loss: 0.2628, train_acc: 0.7602, val_loss: 0.3053, val_acc: 0.8447\n",
            "Epoch [50], train_loss: 0.2599, train_acc: 0.7525, val_loss: 0.3064, val_acc: 0.8808\n",
            "Epoch [51], train_loss: 0.2570, train_acc: 0.7817, val_loss: 0.3007, val_acc: 0.8361\n",
            "Epoch [52], train_loss: 0.2505, train_acc: 0.7844, val_loss: 0.2988, val_acc: 0.8290\n",
            "Epoch [53], train_loss: 0.2472, train_acc: 0.7821, val_loss: 0.2955, val_acc: 0.8434\n",
            "Epoch [54], train_loss: 0.2477, train_acc: 0.7926, val_loss: 0.2947, val_acc: 0.8353\n",
            "Epoch [55], train_loss: 0.2399, train_acc: 0.7917, val_loss: 0.2985, val_acc: 0.8686\n",
            "Epoch [56], train_loss: 0.2324, train_acc: 0.8072, val_loss: 0.2948, val_acc: 0.8483\n",
            "Epoch [57], train_loss: 0.2317, train_acc: 0.8057, val_loss: 0.2873, val_acc: 0.8138\n",
            "Epoch [58], train_loss: 0.2310, train_acc: 0.8048, val_loss: 0.2899, val_acc: 0.8334\n",
            "Epoch [59], train_loss: 0.2253, train_acc: 0.8214, val_loss: 0.2900, val_acc: 0.8408\n",
            "Epoch [60], train_loss: 0.2199, train_acc: 0.8263, val_loss: 0.2874, val_acc: 0.8517\n",
            "Epoch [61], train_loss: 0.2169, train_acc: 0.8267, val_loss: 0.2936, val_acc: 0.8229\n",
            "Epoch [62], train_loss: 0.2112, train_acc: 0.8281, val_loss: 0.2858, val_acc: 0.8397\n",
            "Epoch [63], train_loss: 0.2113, train_acc: 0.8307, val_loss: 0.2864, val_acc: 0.8171\n",
            "Epoch [64], train_loss: 0.2066, train_acc: 0.8303, val_loss: 0.2845, val_acc: 0.8398\n",
            "Epoch [65], train_loss: 0.2045, train_acc: 0.8439, val_loss: 0.2815, val_acc: 0.7947\n",
            "Epoch [66], train_loss: 0.1976, train_acc: 0.8493, val_loss: 0.2861, val_acc: 0.8306\n",
            "Epoch [67], train_loss: 0.2009, train_acc: 0.8367, val_loss: 0.2798, val_acc: 0.8129\n",
            "Epoch [68], train_loss: 0.1966, train_acc: 0.8701, val_loss: 0.2829, val_acc: 0.8252\n",
            "Epoch [69], train_loss: 0.1861, train_acc: 0.8498, val_loss: 0.2883, val_acc: 0.8166\n",
            "Epoch [70], train_loss: 0.1924, train_acc: 0.8419, val_loss: 0.2826, val_acc: 0.8064\n",
            "Epoch [71], train_loss: 0.1840, train_acc: 0.8564, val_loss: 0.2818, val_acc: 0.7975\n",
            "Epoch [72], train_loss: 0.1824, train_acc: 0.8517, val_loss: 0.2821, val_acc: 0.8228\n",
            "Epoch [73], train_loss: 0.1795, train_acc: 0.8634, val_loss: 0.2803, val_acc: 0.8081\n",
            "Epoch [74], train_loss: 0.1737, train_acc: 0.8641, val_loss: 0.2839, val_acc: 0.8127\n",
            "Epoch [75], train_loss: 0.1733, train_acc: 0.8644, val_loss: 0.2788, val_acc: 0.8064\n",
            "Epoch [76], train_loss: 0.1664, train_acc: 0.8484, val_loss: 0.2789, val_acc: 0.8145\n",
            "Epoch [77], train_loss: 0.1678, train_acc: 0.8676, val_loss: 0.2944, val_acc: 0.7659\n",
            "Epoch [78], train_loss: 0.1608, train_acc: 0.8683, val_loss: 0.2837, val_acc: 0.8003\n",
            "Epoch [79], train_loss: 0.1621, train_acc: 0.8655, val_loss: 0.2865, val_acc: 0.8020\n",
            "Epoch [80], train_loss: 0.1607, train_acc: 0.8666, val_loss: 0.2813, val_acc: 0.8085\n",
            "Epoch [81], train_loss: 0.1553, train_acc: 0.8711, val_loss: 0.2814, val_acc: 0.8298\n",
            "Epoch [82], train_loss: 0.1509, train_acc: 0.8833, val_loss: 0.2825, val_acc: 0.8035\n",
            "Epoch [83], train_loss: 0.1477, train_acc: 0.8932, val_loss: 0.2843, val_acc: 0.7870\n",
            "Epoch [84], train_loss: 0.1472, train_acc: 0.8924, val_loss: 0.2872, val_acc: 0.7994\n",
            "Epoch [85], train_loss: 0.1446, train_acc: 0.8770, val_loss: 0.2829, val_acc: 0.8001\n",
            "Epoch [86], train_loss: 0.1399, train_acc: 0.8997, val_loss: 0.2827, val_acc: 0.8055\n",
            "Epoch [87], train_loss: 0.1352, train_acc: 0.8949, val_loss: 0.2930, val_acc: 0.8081\n",
            "Epoch [88], train_loss: 0.1356, train_acc: 0.8987, val_loss: 0.2938, val_acc: 0.8047\n",
            "Epoch [89], train_loss: 0.1338, train_acc: 0.8996, val_loss: 0.2867, val_acc: 0.8147\n",
            "Epoch [90], train_loss: 0.1317, train_acc: 0.9073, val_loss: 0.2810, val_acc: 0.8025\n",
            "Epoch [91], train_loss: 0.1301, train_acc: 0.8998, val_loss: 0.2820, val_acc: 0.8075\n",
            "Epoch [92], train_loss: 0.1281, train_acc: 0.8983, val_loss: 0.2901, val_acc: 0.8002\n",
            "Epoch [93], train_loss: 0.1216, train_acc: 0.9110, val_loss: 0.2859, val_acc: 0.8079\n",
            "Epoch [94], train_loss: 0.1216, train_acc: 0.9083, val_loss: 0.2870, val_acc: 0.7869\n",
            "Epoch [95], train_loss: 0.1191, train_acc: 0.9165, val_loss: 0.2908, val_acc: 0.8099\n",
            "Epoch [96], train_loss: 0.1220, train_acc: 0.9078, val_loss: 0.2817, val_acc: 0.7909\n",
            "Epoch [97], train_loss: 0.1196, train_acc: 0.9070, val_loss: 0.2826, val_acc: 0.7869\n",
            "Epoch [98], train_loss: 0.1133, train_acc: 0.9189, val_loss: 0.2862, val_acc: 0.7742\n",
            "Epoch [99], train_loss: 0.1117, train_acc: 0.9138, val_loss: 0.2945, val_acc: 0.7884\n"
          ],
          "name": "stdout"
        }
      ]
    },
    {
      "cell_type": "code",
      "metadata": {
        "id": "wm8LrMMf0LMk",
        "colab": {
          "base_uri": "https://localhost:8080/",
          "height": 513
        },
        "outputId": "b8438b04-3312-4697-bb9d-b11faf969d46"
      },
      "source": [
        "def plot_accuracies(history):\n",
        "\n",
        "    train_accuracies = [x['train_acc'] for x in history]\n",
        "    val_accuracies = [x['val_acc'] for x in history]\n",
        "    plt.figure(figsize=(12, 8))\n",
        "    plt.plot(train_accuracies, '-o', label='training accuracy')\n",
        "    plt.plot(val_accuracies, '-x', label='validation accuracy')\n",
        "    plt.xlabel('epoch')\n",
        "    plt.ylabel('accuray')\n",
        "    plt.title('Accuracy vs. No. of epochs')\n",
        "    plt.legend()\n",
        "\n",
        "plot_accuracies(history);"
      ],
      "execution_count": 540,
      "outputs": [
        {
          "output_type": "display_data",
          "data": {
            "image/png": "[encoded data removed]",
            "text/plain": [
              "<Figure size 864x576 with 1 Axes>"
            ]
          },
          "metadata": {
            "tags": [],
            "needs_background": "light"
          }
        }
      ]
    },
    {
      "cell_type": "code",
      "metadata": {
        "id": "f4Q6XXYQ00Wq",
        "colab": {
          "base_uri": "https://localhost:8080/"
        },
        "outputId": "5b55a937-bd7c-4d53-b2ed-9e8cddf5b74e"
      },
      "source": [
        "torch.save(model.state_dict(), \"filename.pth\")\n",
        "print(\"mdoel training and stored at filename.pth\")"
      ],
      "execution_count": 330,
      "outputs": [
        {
          "output_type": "stream",
          "text": [
            "mdoel training and stored at filename.pth\n"
          ],
          "name": "stdout"
        }
      ]
    },
    {
      "cell_type": "markdown",
      "metadata": {
        "id": "rQ0-ECEXL38r"
      },
      "source": [
        "# Scratch"
      ]
    },
    {
      "cell_type": "code",
      "metadata": {
        "id": "QPoOs-9coNvj"
      },
      "source": [
        "# dataiter = iter(train_dl)\n",
        "# images, labels = dataiter.next()\n",
        "# print (images[0].shape)"
      ],
      "execution_count": 54,
      "outputs": []
    },
    {
      "cell_type": "code",
      "metadata": {
        "id": "rkklragaxGWm"
      },
      "source": [
        "# # Test the model on the first batch from the training dataloader\n",
        "# model=BirdSongModel()\n",
        "# for images, labels in train_dl:\n",
        "#     print(labels)\n",
        "#     print('images.shape:', images.shape)\n",
        "#     out = model(images)\n",
        "#     print('out.shape:', out.shape)\n",
        "#     print('out[0]:', out[0])\n",
        "#     print('sum out[0]:', torch.sum(out[0]).item())\n",
        "\n",
        "#     break"
      ],
      "execution_count": 351,
      "outputs": []
    },
    {
      "cell_type": "code",
      "metadata": {
        "id": "aFJyYNcoMcs8"
      },
      "source": [
        ""
      ],
      "execution_count": null,
      "outputs": []
    }
  ]
}